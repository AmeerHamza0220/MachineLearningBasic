{
  "nbformat": 4,
  "nbformat_minor": 0,
  "metadata": {
    "colab": {
      "name": "Untitled27.ipynb",
      "private_outputs": true,
      "provenance": [],
      "authorship_tag": "ABX9TyPC224WkXx/KcF0Y5FkqwdK",
      "include_colab_link": true
    },
    "kernelspec": {
      "name": "ir",
      "display_name": "R"
    },
    "language_info": {
      "name": "R"
    }
  },
  "cells": [
    {
      "cell_type": "markdown",
      "metadata": {
        "id": "view-in-github",
        "colab_type": "text"
      },
      "source": [
        "<a href=\"https://colab.research.google.com/github/AmeerHamza0220/MachineLearningBasic/blob/main/ClassificationR.ipynb\" target=\"_parent\"><img src=\"https://colab.research.google.com/assets/colab-badge.svg\" alt=\"Open In Colab\"/></a>"
      ]
    },
    {
      "cell_type": "code",
      "source": [
        "install.packages('ISLR2')\n"
      ],
      "metadata": {
        "id": "jV72umXdVbhI"
      },
      "execution_count": null,
      "outputs": []
    },
    {
      "cell_type": "code",
      "execution_count": null,
      "metadata": {
        "id": "_IMxfK30VMpM"
      },
      "outputs": [],
      "source": [
        "library(ISLR2)\n",
        "names(Smarket)"
      ]
    },
    {
      "cell_type": "code",
      "source": [
        "Smarket"
      ],
      "metadata": {
        "id": "sSfF68SuaJVD"
      },
      "execution_count": null,
      "outputs": []
    },
    {
      "cell_type": "code",
      "source": [
        "dim(Smarket)"
      ],
      "metadata": {
        "id": "TA3m-zJ5VgHs"
      },
      "execution_count": null,
      "outputs": []
    },
    {
      "cell_type": "code",
      "source": [
        "summary(Smarket)"
      ],
      "metadata": {
        "id": "hpRAkXGdVljV"
      },
      "execution_count": null,
      "outputs": []
    },
    {
      "cell_type": "code",
      "source": [
        "pairs(Smarket) #show correlatoin matrix of pairs"
      ],
      "metadata": {
        "id": "aoH2cmS1VpCx"
      },
      "execution_count": null,
      "outputs": []
    },
    {
      "cell_type": "code",
      "source": [
        "cor(Smarket[,-9])"
      ],
      "metadata": {
        "id": "TtogqwrkW3o9"
      },
      "execution_count": null,
      "outputs": []
    },
    {
      "cell_type": "code",
      "source": [
        "attach(Smarket)\n",
        "plot(Volume)"
      ],
      "metadata": {
        "id": "JrtNbfqmXODo"
      },
      "execution_count": null,
      "outputs": []
    },
    {
      "cell_type": "code",
      "source": [
        "glm.fit=glm(Direction~Lag1+Lag2+Lag3+Lag4+Lag5+Volume,\n",
        "data=Smarket,family=binomial)\n",
        "summary(glm.fit)"
      ],
      "metadata": {
        "id": "R1B6t0GMXUcr"
      },
      "execution_count": null,
      "outputs": []
    },
    {
      "cell_type": "code",
      "source": [
        "coef(glm.fit)"
      ],
      "metadata": {
        "id": "wKMrVNswZGIe"
      },
      "execution_count": null,
      "outputs": []
    },
    {
      "cell_type": "code",
      "source": [
        "probs=predict(glm.fit,type='response')\n",
        "probs[1:10]"
      ],
      "metadata": {
        "id": "l43JiOHqZhyj"
      },
      "execution_count": null,
      "outputs": []
    },
    {
      "cell_type": "code",
      "source": [
        "contrasts(Direction)"
      ],
      "metadata": {
        "id": "2s8yT4wOaA9M"
      },
      "execution_count": null,
      "outputs": []
    },
    {
      "cell_type": "code",
      "source": [
        "pred=rep(\"Down\",1250)\n",
        "pred[probs>.5]=\"Up\""
      ],
      "metadata": {
        "id": "kCSV7sf9aSoh"
      },
      "execution_count": null,
      "outputs": []
    },
    {
      "cell_type": "code",
      "source": [
        "table(pred,Direction) #confusion matrix"
      ],
      "metadata": {
        "id": "jXrNhL7oao9C"
      },
      "execution_count": null,
      "outputs": []
    },
    {
      "cell_type": "code",
      "source": [
        "mean(pred==Direction)"
      ],
      "metadata": {
        "id": "-N44e4GmatqX"
      },
      "execution_count": null,
      "outputs": []
    },
    {
      "cell_type": "code",
      "source": [
        "#divide the data into training and test set\n",
        "# for accurate test error\n",
        "train=(Year<2005)\n",
        "Smarket.2005=Smarket[!train,]\n",
        "dim(Smarket.2005)"
      ],
      "metadata": {
        "id": "ikbxmTWobAzR"
      },
      "execution_count": null,
      "outputs": []
    },
    {
      "cell_type": "code",
      "source": [
        "direction.2005=Direction[!train]"
      ],
      "metadata": {
        "id": "9qAYDMdRbVEa"
      },
      "execution_count": null,
      "outputs": []
    },
    {
      "cell_type": "markdown",
      "source": [
        "We now fit a logistic regression model using only the subset of the observations that correspond to dates before 2005, using the subset argument."
      ],
      "metadata": {
        "id": "CiqO68WjbxdP"
      }
    },
    {
      "cell_type": "code",
      "source": [
        "glm.fit=glm(Direction~Lag1+Lag2+Lag3+Lag4+Lag5+Volume,\n",
        "data=Smarket,family=binomial,subset=train)\n",
        "probs=predict(glm.fit,Smarket.2005,type='response')\n"
      ],
      "metadata": {
        "id": "xwWOdbX1bcS-"
      },
      "execution_count": null,
      "outputs": []
    },
    {
      "cell_type": "code",
      "source": [
        "pred=rep(\"Down\",252)\n",
        "pred[probs>.5]=\"Up\"\n",
        "table(pred,direction.2005)"
      ],
      "metadata": {
        "id": "fqWaop4bcB8M"
      },
      "execution_count": null,
      "outputs": []
    },
    {
      "cell_type": "code",
      "source": [
        "mean(pred==direction.2005) #on test set"
      ],
      "metadata": {
        "id": "0wnRBeAQcFk4"
      },
      "execution_count": null,
      "outputs": []
    },
    {
      "cell_type": "code",
      "source": [
        "mean(pred!=direction.2005)"
      ],
      "metadata": {
        "id": "ufhrU-R6caUG"
      },
      "execution_count": null,
      "outputs": []
    },
    {
      "cell_type": "markdown",
      "source": [
        "We recall that the logistic regression model had very underwhelming pvalues associated with all of the predictors, and that the smallest p-value, though not very small, corresponded to Lag1. Perhaps by removing the variables that appear not to be helpful in predicting Direction, we can obtain a more effective model. After all, using predictors that have no relationship with the response tends to cause a deterioration in the test error rate (since such predictors cause an increase in variance without a corresponding decrease in bias), and so removing such predictors may in turn yield an improvement. Below we have refit the logistic regression using just Lag1 and Lag2, which seemed to have the highest predictive power in the original logistic regression model."
      ],
      "metadata": {
        "id": "QHxG5yctcscx"
      }
    },
    {
      "cell_type": "code",
      "source": [
        "glm.fit=glm(Direction~Lag1+Lag2,\n",
        "data=Smarket,family=binomial,subset=train)\n",
        "probs=predict(glm.fit,Smarket.2005,type='response')\n",
        "pred=rep(\"Down\",252)\n",
        "pred[probs>.5]=\"Up\"\n",
        "table(pred,direction.2005)"
      ],
      "metadata": {
        "id": "GVMUiv0Tcrmv"
      },
      "execution_count": null,
      "outputs": []
    },
    {
      "cell_type": "code",
      "source": [
        "mean(pred==direction.2005)"
      ],
      "metadata": {
        "id": "-x1jiH8jc8Gd"
      },
      "execution_count": null,
      "outputs": []
    },
    {
      "cell_type": "markdown",
      "source": [
        "Suppose that we want to predict the returns associated with particular\n",
        "values of Lag1 and Lag2. In particular, we want to predict Direction on a day when Lag1 and Lag2 equal 1.2 and 1.1, respectively, and on a day when they equal 1.5 and −0.8. We do this using the predict() function."
      ],
      "metadata": {
        "id": "WZo5zmZMdLrD"
      }
    },
    {
      "cell_type": "code",
      "source": [
        "predict(glm.fit,newdata=data.frame(Lag1=c(1.2,1.5),Lag2=c(1.1,1.8)),\n",
        "type='response')"
      ],
      "metadata": {
        "id": "IPlIarcVdLOh"
      },
      "execution_count": null,
      "outputs": []
    },
    {
      "cell_type": "markdown",
      "source": [
        "\n",
        "Poissan regression\n"
      ],
      "metadata": {
        "id": "3GD5KgqwxC6y"
      }
    },
    {
      "cell_type": "code",
      "source": [
        "attach(Bikeshare)"
      ],
      "metadata": {
        "id": "LjdkjahsxGVF"
      },
      "execution_count": null,
      "outputs": []
    },
    {
      "cell_type": "code",
      "source": [
        "names(Bikeshare)"
      ],
      "metadata": {
        "id": "b2bino8ZxXxS"
      },
      "execution_count": null,
      "outputs": []
    },
    {
      "cell_type": "code",
      "source": [
        "Bikeshare"
      ],
      "metadata": {
        "id": "nyz1w0a-xbuM"
      },
      "execution_count": null,
      "outputs": []
    },
    {
      "cell_type": "code",
      "source": [
        "model.lm=lm(bikers ~ mnth + hr + workingday + temp + weathersit , data = Bikeshare)\n",
        "summary(model.lm)"
      ],
      "metadata": {
        "id": "oCEelp1Kxf-t"
      },
      "execution_count": null,
      "outputs": []
    },
    {
      "cell_type": "code",
      "source": [
        "model.pois=glm(bikers ~ mnth + hr + workingday + temp + weathersit , data = Bikeshare , family = poisson)\n",
        "summary(model.pois)"
      ],
      "metadata": {
        "id": "Wks666KaxwB1"
      },
      "execution_count": null,
      "outputs": []
    },
    {
      "cell_type": "code",
      "source": [
        ""
      ],
      "metadata": {
        "id": "4CZcKb9oyTXz"
      },
      "execution_count": null,
      "outputs": []
    }
  ]
}