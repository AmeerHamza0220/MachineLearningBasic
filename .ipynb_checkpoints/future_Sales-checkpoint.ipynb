{
 "cells": [
  {
   "cell_type": "code",
   "execution_count": 1,
   "id": "b88541d3-7c0b-4246-b051-c00293de9492",
   "metadata": {},
   "outputs": [],
   "source": [
    "# !kaggle competitions download -c competitive-data-science-predict-future-sales"
   ]
  },
  {
   "cell_type": "code",
   "execution_count": 2,
   "id": "c9caf80f-d10a-4f58-a272-2bf879023d67",
   "metadata": {},
   "outputs": [],
   "source": [
    "# !unzip data/competitive-data-science-predict-future-sales.zip"
   ]
  },
  {
   "cell_type": "code",
   "execution_count": 1,
   "id": "5dd9919c-5dc4-4d8d-8bed-fcca7f1a86e5",
   "metadata": {},
   "outputs": [],
   "source": [
    "import pandas as pd\n",
    "import numpy as np\n",
    "import warnings\n",
    "warnings.filterwarnings(\"ignore\")"
   ]
  },
  {
   "cell_type": "code",
   "execution_count": 2,
   "id": "eb71969d-715f-425f-96ae-9d7569b37146",
   "metadata": {},
   "outputs": [],
   "source": [
    "sales=pd.read_csv('data/sales_train.csv')\n",
    "test=pd.read_csv('data/test.csv')"
   ]
  },
  {
   "cell_type": "code",
   "execution_count": 3,
   "id": "3b2c3a7a-e197-489d-911a-63e305305954",
   "metadata": {},
   "outputs": [],
   "source": [
    "sales['date']=pd.to_datetime(sales['date'],infer_datetime_format=True)"
   ]
  },
  {
   "cell_type": "code",
   "execution_count": 4,
   "id": "db100e8a-7f2d-4597-8e2b-ee69d1beda19",
   "metadata": {},
   "outputs": [],
   "source": [
    "sales.index=sales.date"
   ]
  },
  {
   "cell_type": "code",
   "execution_count": 5,
   "id": "0955768c-271c-4add-a48e-fadc0967923c",
   "metadata": {},
   "outputs": [
    {
     "name": "stdout",
     "output_type": "stream",
     "text": [
      "<class 'pandas.core.frame.DataFrame'>\n",
      "DatetimeIndex: 2935849 entries, 2013-02-01 to 2015-03-10\n",
      "Data columns (total 5 columns):\n",
      " #   Column          Dtype  \n",
      "---  ------          -----  \n",
      " 0   date_block_num  int64  \n",
      " 1   shop_id         int64  \n",
      " 2   item_id         int64  \n",
      " 3   item_price      float64\n",
      " 4   item_cnt_day    float64\n",
      "dtypes: float64(2), int64(3)\n",
      "memory usage: 134.4 MB\n"
     ]
    }
   ],
   "source": [
    "sales=sales.drop('date',axis=1)\n",
    "sales.info()"
   ]
  },
  {
   "cell_type": "code",
   "execution_count": 6,
   "id": "c9d2e96a-0876-45d2-9681-15638103e7e7",
   "metadata": {},
   "outputs": [
    {
     "data": {
      "text/html": [
       "<div>\n",
       "<style scoped>\n",
       "    .dataframe tbody tr th:only-of-type {\n",
       "        vertical-align: middle;\n",
       "    }\n",
       "\n",
       "    .dataframe tbody tr th {\n",
       "        vertical-align: top;\n",
       "    }\n",
       "\n",
       "    .dataframe thead th {\n",
       "        text-align: right;\n",
       "    }\n",
       "</style>\n",
       "<table border=\"1\" class=\"dataframe\">\n",
       "  <thead>\n",
       "    <tr style=\"text-align: right;\">\n",
       "      <th></th>\n",
       "      <th>date_block_num</th>\n",
       "      <th>shop_id</th>\n",
       "      <th>item_id</th>\n",
       "      <th>item_price</th>\n",
       "      <th>item_cnt_day</th>\n",
       "    </tr>\n",
       "    <tr>\n",
       "      <th>date</th>\n",
       "      <th></th>\n",
       "      <th></th>\n",
       "      <th></th>\n",
       "      <th></th>\n",
       "      <th></th>\n",
       "    </tr>\n",
       "  </thead>\n",
       "  <tbody>\n",
       "    <tr>\n",
       "      <th>2013-02-01</th>\n",
       "      <td>0</td>\n",
       "      <td>59</td>\n",
       "      <td>22154</td>\n",
       "      <td>999.00</td>\n",
       "      <td>1.0</td>\n",
       "    </tr>\n",
       "    <tr>\n",
       "      <th>2013-03-01</th>\n",
       "      <td>0</td>\n",
       "      <td>25</td>\n",
       "      <td>2552</td>\n",
       "      <td>899.00</td>\n",
       "      <td>1.0</td>\n",
       "    </tr>\n",
       "    <tr>\n",
       "      <th>2013-05-01</th>\n",
       "      <td>0</td>\n",
       "      <td>25</td>\n",
       "      <td>2552</td>\n",
       "      <td>899.00</td>\n",
       "      <td>-1.0</td>\n",
       "    </tr>\n",
       "    <tr>\n",
       "      <th>2013-06-01</th>\n",
       "      <td>0</td>\n",
       "      <td>25</td>\n",
       "      <td>2554</td>\n",
       "      <td>1709.05</td>\n",
       "      <td>1.0</td>\n",
       "    </tr>\n",
       "    <tr>\n",
       "      <th>2013-01-15</th>\n",
       "      <td>0</td>\n",
       "      <td>25</td>\n",
       "      <td>2555</td>\n",
       "      <td>1099.00</td>\n",
       "      <td>1.0</td>\n",
       "    </tr>\n",
       "    <tr>\n",
       "      <th>...</th>\n",
       "      <td>...</td>\n",
       "      <td>...</td>\n",
       "      <td>...</td>\n",
       "      <td>...</td>\n",
       "      <td>...</td>\n",
       "    </tr>\n",
       "    <tr>\n",
       "      <th>2015-10-10</th>\n",
       "      <td>33</td>\n",
       "      <td>25</td>\n",
       "      <td>7409</td>\n",
       "      <td>299.00</td>\n",
       "      <td>1.0</td>\n",
       "    </tr>\n",
       "    <tr>\n",
       "      <th>2015-09-10</th>\n",
       "      <td>33</td>\n",
       "      <td>25</td>\n",
       "      <td>7460</td>\n",
       "      <td>299.00</td>\n",
       "      <td>1.0</td>\n",
       "    </tr>\n",
       "    <tr>\n",
       "      <th>2015-10-14</th>\n",
       "      <td>33</td>\n",
       "      <td>25</td>\n",
       "      <td>7459</td>\n",
       "      <td>349.00</td>\n",
       "      <td>1.0</td>\n",
       "    </tr>\n",
       "    <tr>\n",
       "      <th>2015-10-22</th>\n",
       "      <td>33</td>\n",
       "      <td>25</td>\n",
       "      <td>7440</td>\n",
       "      <td>299.00</td>\n",
       "      <td>1.0</td>\n",
       "    </tr>\n",
       "    <tr>\n",
       "      <th>2015-03-10</th>\n",
       "      <td>33</td>\n",
       "      <td>25</td>\n",
       "      <td>7460</td>\n",
       "      <td>299.00</td>\n",
       "      <td>1.0</td>\n",
       "    </tr>\n",
       "  </tbody>\n",
       "</table>\n",
       "<p>2935849 rows × 5 columns</p>\n",
       "</div>"
      ],
      "text/plain": [
       "            date_block_num  shop_id  item_id  item_price  item_cnt_day\n",
       "date                                                                  \n",
       "2013-02-01               0       59    22154      999.00           1.0\n",
       "2013-03-01               0       25     2552      899.00           1.0\n",
       "2013-05-01               0       25     2552      899.00          -1.0\n",
       "2013-06-01               0       25     2554     1709.05           1.0\n",
       "2013-01-15               0       25     2555     1099.00           1.0\n",
       "...                    ...      ...      ...         ...           ...\n",
       "2015-10-10              33       25     7409      299.00           1.0\n",
       "2015-09-10              33       25     7460      299.00           1.0\n",
       "2015-10-14              33       25     7459      349.00           1.0\n",
       "2015-10-22              33       25     7440      299.00           1.0\n",
       "2015-03-10              33       25     7460      299.00           1.0\n",
       "\n",
       "[2935849 rows x 5 columns]"
      ]
     },
     "execution_count": 6,
     "metadata": {},
     "output_type": "execute_result"
    }
   ],
   "source": [
    "sales"
   ]
  },
  {
   "cell_type": "code",
   "execution_count": 9,
   "id": "fd29efab-bc60-4045-93a2-e4a944b139ef",
   "metadata": {},
   "outputs": [
    {
     "data": {
      "text/html": [
       "<div>\n",
       "<style scoped>\n",
       "    .dataframe tbody tr th:only-of-type {\n",
       "        vertical-align: middle;\n",
       "    }\n",
       "\n",
       "    .dataframe tbody tr th {\n",
       "        vertical-align: top;\n",
       "    }\n",
       "\n",
       "    .dataframe thead tr th {\n",
       "        text-align: left;\n",
       "    }\n",
       "\n",
       "    .dataframe thead tr:last-of-type th {\n",
       "        text-align: right;\n",
       "    }\n",
       "</style>\n",
       "<table border=\"1\" class=\"dataframe\">\n",
       "  <thead>\n",
       "    <tr>\n",
       "      <th></th>\n",
       "      <th></th>\n",
       "      <th></th>\n",
       "      <th>item_price</th>\n",
       "      <th>item_cnt_day</th>\n",
       "    </tr>\n",
       "    <tr>\n",
       "      <th></th>\n",
       "      <th></th>\n",
       "      <th></th>\n",
       "      <th>mean</th>\n",
       "      <th>sum</th>\n",
       "    </tr>\n",
       "    <tr>\n",
       "      <th>date_block_num</th>\n",
       "      <th>shop_id</th>\n",
       "      <th>item_id</th>\n",
       "      <th></th>\n",
       "      <th></th>\n",
       "    </tr>\n",
       "  </thead>\n",
       "  <tbody>\n",
       "    <tr>\n",
       "      <th rowspan=\"5\" valign=\"top\">0</th>\n",
       "      <th rowspan=\"5\" valign=\"top\">0</th>\n",
       "      <th>32</th>\n",
       "      <td>221.0</td>\n",
       "      <td>6.0</td>\n",
       "    </tr>\n",
       "    <tr>\n",
       "      <th>33</th>\n",
       "      <td>347.0</td>\n",
       "      <td>3.0</td>\n",
       "    </tr>\n",
       "    <tr>\n",
       "      <th>35</th>\n",
       "      <td>247.0</td>\n",
       "      <td>1.0</td>\n",
       "    </tr>\n",
       "    <tr>\n",
       "      <th>43</th>\n",
       "      <td>221.0</td>\n",
       "      <td>1.0</td>\n",
       "    </tr>\n",
       "    <tr>\n",
       "      <th>51</th>\n",
       "      <td>128.5</td>\n",
       "      <td>2.0</td>\n",
       "    </tr>\n",
       "    <tr>\n",
       "      <th>...</th>\n",
       "      <th>...</th>\n",
       "      <th>...</th>\n",
       "      <td>...</td>\n",
       "      <td>...</td>\n",
       "    </tr>\n",
       "    <tr>\n",
       "      <th rowspan=\"5\" valign=\"top\">33</th>\n",
       "      <th rowspan=\"5\" valign=\"top\">59</th>\n",
       "      <th>22087</th>\n",
       "      <td>119.0</td>\n",
       "      <td>6.0</td>\n",
       "    </tr>\n",
       "    <tr>\n",
       "      <th>22088</th>\n",
       "      <td>119.0</td>\n",
       "      <td>2.0</td>\n",
       "    </tr>\n",
       "    <tr>\n",
       "      <th>22091</th>\n",
       "      <td>179.0</td>\n",
       "      <td>1.0</td>\n",
       "    </tr>\n",
       "    <tr>\n",
       "      <th>22100</th>\n",
       "      <td>629.0</td>\n",
       "      <td>1.0</td>\n",
       "    </tr>\n",
       "    <tr>\n",
       "      <th>22102</th>\n",
       "      <td>1250.0</td>\n",
       "      <td>1.0</td>\n",
       "    </tr>\n",
       "  </tbody>\n",
       "</table>\n",
       "<p>1609124 rows × 2 columns</p>\n",
       "</div>"
      ],
      "text/plain": [
       "                               item_price item_cnt_day\n",
       "                                     mean          sum\n",
       "date_block_num shop_id item_id                        \n",
       "0              0       32           221.0          6.0\n",
       "                       33           347.0          3.0\n",
       "                       35           247.0          1.0\n",
       "                       43           221.0          1.0\n",
       "                       51           128.5          2.0\n",
       "...                                   ...          ...\n",
       "33             59      22087        119.0          6.0\n",
       "                       22088        119.0          2.0\n",
       "                       22091        179.0          1.0\n",
       "                       22100        629.0          1.0\n",
       "                       22102       1250.0          1.0\n",
       "\n",
       "[1609124 rows x 2 columns]"
      ]
     },
     "execution_count": 9,
     "metadata": {},
     "output_type": "execute_result"
    }
   ],
   "source": [
    "#monthly sales\n",
    "monthly=sales.groupby(['date_block_num','shop_id','item_id']).agg({'item_price':'mean','item_cnt_day':['sum']})\n",
    "monthly"
   ]
  },
  {
   "cell_type": "code",
   "execution_count": 10,
   "id": "eaf1a9ee-39d9-45e1-a438-bb8d86433d76",
   "metadata": {},
   "outputs": [
    {
     "data": {
      "text/plain": [
       "<AxesSubplot:xlabel='date_block_num'>"
      ]
     },
     "execution_count": 10,
     "metadata": {},
     "output_type": "execute_result"
    },
    {
     "data": {
      "image/png": "[encoded data removed]",
      "text/plain": [
       "<Figure size 432x288 with 1 Axes>"
      ]
     },
     "metadata": {
      "needs_background": "light"
     },
     "output_type": "display_data"
    }
   ],
   "source": [
    "ts=sales.groupby([\"date_block_num\"])[\"item_cnt_day\"].sum()\n",
    "ts.plot()\n"
   ]
  },
  {
   "cell_type": "code",
   "execution_count": 11,
   "id": "d097a373-56d0-40a5-b45b-123de63e24eb",
   "metadata": {},
   "outputs": [
    {
     "data": {
      "text/plain": [
       "<AxesSubplot:xlabel='date_block_num'>"
      ]
     },
     "execution_count": 11,
     "metadata": {},
     "output_type": "execute_result"
    },
    {
     "data": {
      "image/png": "[encoded data removed]",
      "text/plain": [
       "<Figure size 432x288 with 1 Axes>"
      ]
     },
     "metadata": {
      "needs_background": "light"
     },
     "output_type": "display_data"
    }
   ],
   "source": [
    "ts.rolling(window=12).mean().plot()"
   ]
  },
  {
   "cell_type": "code",
   "execution_count": 12,
   "id": "3ec2b1bc-7d7c-49aa-9e36-51607567bfe1",
   "metadata": {},
   "outputs": [
    {
     "data": {
      "image/png": "[encoded data removed]",
      "text/plain": [
       "<Figure size 432x288 with 4 Axes>"
      ]
     },
     "metadata": {
      "needs_background": "light"
     },
     "output_type": "display_data"
    }
   ],
   "source": [
    "#decomposition\n",
    "import matplotlib.pyplot as plt\n",
    "from statsmodels.tsa.seasonal import seasonal_decompose\n",
    "decomposition=seasonal_decompose(ts.values,period=12,model=\"multiplicative\")\n",
    "#plot\n",
    "decomposition.plot()\n",
    "plt.show()"
   ]
  },
  {
   "cell_type": "code",
   "execution_count": 13,
   "id": "f8bd5dc6-24f4-4d62-a806-4229895373e3",
   "metadata": {},
   "outputs": [
    {
     "data": {
      "image/png": "[encoded data removed]",
      "text/plain": [
       "<Figure size 432x288 with 1 Axes>"
      ]
     },
     "metadata": {
      "needs_background": "light"
     },
     "output_type": "display_data"
    },
    {
     "name": "stdout",
     "output_type": "stream",
     "text": [
      "Results of Dickey-Fuller Test:\n",
      "Test Statistic                 -2.395704\n",
      "p-value                         0.142953\n",
      "#Lags Used                      0.000000\n",
      "Number of Observations Used    33.000000\n",
      "Critical Value (1%)            -3.646135\n",
      "Critical Value (5%)            -2.954127\n",
      "Critical Value (10%)           -2.615968\n",
      "dtype: float64\n"
     ]
    }
   ],
   "source": [
    "#test stationarity\n",
    "from statsmodels.tsa.stattools import adfuller\n",
    "def test_stationarity(timeseries):\n",
    "    #Determing rolling statistics\n",
    "    rolmean = timeseries.rolling(window=12).mean()\n",
    "    rolstd = timeseries.rolling(window=12).std()\n",
    "    #Plot rolling statistics:\n",
    "    orig = plt.plot(timeseries, color='blue',label='Original')\n",
    "    mean = plt.plot(rolmean, color='red', label='Rolling Mean')\n",
    "    std = plt.plot(rolstd, color='black', label = 'Rolling Std')\n",
    "    plt.legend(loc='best')\n",
    "    plt.title('Rolling Mean & Standard Deviation')\n",
    "    plt.show(block=False)\n",
    "    #Perform Dickey-Fuller test:\n",
    "    print('Results of Dickey-Fuller Test:')\n",
    "    dftest = adfuller(timeseries, autolag='AIC')\n",
    "    dfoutput = pd.Series(dftest[0:4], index=['Test Statistic','p-value','#Lags Used','Number of Observations Used'])\n",
    "    for key,value in dftest[4].items():\n",
    "        dfoutput['Critical Value (%s)'%key] = value\n",
    "    print(dfoutput)\n",
    "\n",
    "test_stationarity(ts)"
   ]
  },
  {
   "cell_type": "code",
   "execution_count": 14,
   "id": "31b55cbb-893e-4e5a-bf05-c463ead28f6a",
   "metadata": {},
   "outputs": [
    {
     "data": {
      "image/png": "[encoded data removed]",
      "text/plain": [
       "<Figure size 432x288 with 1 Axes>"
      ]
     },
     "metadata": {
      "needs_background": "light"
     },
     "output_type": "display_data"
    },
    {
     "data": {
      "image/png": "[encoded data removed]",
      "text/plain": [
       "<Figure size 432x288 with 1 Axes>"
      ]
     },
     "metadata": {
      "needs_background": "light"
     },
     "output_type": "display_data"
    }
   ],
   "source": [
    "#plot acf and pacf\n",
    "from statsmodels.graphics.tsaplots import plot_acf, plot_pacf\n",
    "plot_acf(ts,alpha=0.5)\n",
    "plot_pacf(ts,alpha=0.5)\n",
    "plt.show()"
   ]
  },
  {
   "cell_type": "code",
   "execution_count": 15,
   "id": "7402b20e-7eed-4bab-b927-2ef475eb24d1",
   "metadata": {},
   "outputs": [
    {
     "name": "stdout",
     "output_type": "stream",
     "text": [
      "CPU times: user 241 ms, sys: 182 ms, total: 423 ms\n",
      "Wall time: 151 ms\n"
     ]
    },
    {
     "name": "stderr",
     "output_type": "stream",
     "text": [
      "/home/studio-lab-user/.conda/envs/stat/lib/python3.9/site-packages/statsmodels/base/model.py:604: ConvergenceWarning: Maximum Likelihood optimization failed to converge. Check mle_retvals\n",
      "  warnings.warn(\"Maximum Likelihood optimization failed to \"\n"
     ]
    },
    {
     "data": {
      "text/plain": [
       "[<matplotlib.lines.Line2D at 0x7fd8abcd18e0>]"
      ]
     },
     "execution_count": 15,
     "metadata": {},
     "output_type": "execute_result"
    },
    {
     "data": {
      "image/png": "[encoded data removed]",
      "text/plain": [
       "<Figure size 432x288 with 1 Axes>"
      ]
     },
     "metadata": {
      "needs_background": "light"
     },
     "output_type": "display_data"
    }
   ],
   "source": [
    "%%time\n",
    "#arima (p,d,q)=(2,1,2)\n",
    "from statsmodels.tsa.arima.model import ARIMA\n",
    "model=ARIMA(ts,order=(2,1,2))\n",
    "results_ARIMA=model.fit()\n",
    "plt.plot(ts)\n",
    "plt.plot(results_ARIMA.fittedvalues,color='red')\n",
    "\n"
   ]
  },
  {
   "cell_type": "code",
   "execution_count": 16,
   "id": "48d29045-657b-4a99-9ef6-dcfba09066c8",
   "metadata": {},
   "outputs": [
    {
     "data": {
      "text/plain": [
       "[<matplotlib.lines.Line2D at 0x7fd8abc5d250>]"
      ]
     },
     "execution_count": 16,
     "metadata": {},
     "output_type": "execute_result"
    },
    {
     "data": {
      "image/png": "[encoded data removed]",
      "text/plain": [
       "<Figure size 432x288 with 1 Axes>"
      ]
     },
     "metadata": {
      "needs_background": "light"
     },
     "output_type": "display_data"
    }
   ],
   "source": [
    "pred_uc=results_ARIMA.forecast(12)\n",
    "#plot the forecast with the original data\n",
    "plt.plot(ts)\n",
    "plt.plot(pred_uc,color='red')\n"
   ]
  },
  {
   "cell_type": "code",
   "execution_count": 17,
   "id": "eefd3dcb-7df6-4748-a47a-80adc8f48cdc",
   "metadata": {},
   "outputs": [],
   "source": [
    "# %%time\n",
    "# #prophet model\n",
    "# from prophet import Prophet\n",
    "# ts=sales.groupby([\"date_block_num\"])[\"item_cnt_day\"].sum()\n",
    "# ts.index=pd.date_range(start = '2013-01-01',end='2015-10-01', freq = 'MS')\n",
    "# ts=ts.reset_index()\n",
    "# ts.columns=['ds','y']\n",
    "# model=Prophet(yearly_seasonality=True)\n",
    "# model.fit(ts)\n",
    "# future=model.make_future_dataframe(periods = 5, freq = 'MS')\n",
    "# forecast=model.predict(future)\n",
    "# #plot\n",
    "# plt.plot(ts['y'])\n",
    "# plt.plot(forecast['yhat'],color='red')"
   ]
  },
  {
   "cell_type": "code",
   "execution_count": 18,
   "id": "519040c0-d612-47a2-88d5-c538d40f9b9e",
   "metadata": {},
   "outputs": [],
   "source": [
    "# s = sales.groupby(['date_block_num', 'shop_id', 'item_id']).agg({'item_cnt_day': ['sum']})"
   ]
  },
  {
   "cell_type": "code",
   "execution_count": 19,
   "id": "c2ffc935-18e7-4b12-bb1d-27dfcc670502",
   "metadata": {},
   "outputs": [],
   "source": [
    "# #select all three index as x\n",
    "# x = np.array(s.index.values.tolist())\n",
    "# y=np.array(s.values)\n",
    "# x"
   ]
  },
  {
   "cell_type": "code",
   "execution_count": 20,
   "id": "416e0eb4-3abd-4165-b745-bf0a9660c7cd",
   "metadata": {},
   "outputs": [],
   "source": [
    "# %%time\n",
    "# #random forest\n",
    "# import joblib\n",
    "# from sklearn.ensemble import RandomForestRegressor\n",
    "# rf=RandomForestRegressor(n_estimators=10000,n_jobs=-1)\n",
    "# rf.fit(x,y.ravel())\n",
    "# joblib.dump(rf, 'keept.pkl') \n"
   ]
  },
  {
   "cell_type": "code",
   "execution_count": 21,
   "id": "36cb25ed-0b5d-4abf-9b7b-b1665f490a90",
   "metadata": {},
   "outputs": [],
   "source": [
    "# test['date_block_num']=sales['date_block_num'].max()+1\n",
    "# X_test=test[['date_block_num','shop_id','item_id']].values\n",
    "# y_test=rf.predict(X_test)\n"
   ]
  },
  {
   "cell_type": "code",
   "execution_count": 22,
   "id": "c6b75adf-97d7-4d11-8f59-c832228b136c",
   "metadata": {},
   "outputs": [],
   "source": [
    "# submission=pd.DataFrame({'ID':test['ID'],'item_cnt_month':y_test})\n",
    "# submission.to_csv('submission.csv',index=False)"
   ]
  },
  {
   "cell_type": "code",
   "execution_count": 23,
   "id": "d5ca08f9-9f4e-4826-81ea-b38ae2f13da6",
   "metadata": {},
   "outputs": [],
   "source": [
    "# %%time\n",
    "# #xgboast\n",
    "# from xgboost import XGBRegressor\n",
    "# xgb=XGBRegressor(tree_method='gpu_hist',booster='gbtree',n_estimators=100,max_depth=10,learning_rate=0.1)\n",
    "# xgb.fit(x,y)\n",
    "\n",
    "# # took 5 second on gpu and won over random forest"
   ]
  },
  {
   "cell_type": "code",
   "execution_count": 24,
   "id": "e489c4c2-98fb-45ea-bd0b-1bb1ed511854",
   "metadata": {},
   "outputs": [],
   "source": [
    "# train_data=sales.drop('item_price',axis=1)"
   ]
  },
  {
   "cell_type": "code",
   "execution_count": 25,
   "id": "dcfea346-a1be-4430-9ad1-b62cbfa72c04",
   "metadata": {},
   "outputs": [],
   "source": [
    "# train_data=train_data.groupby(['date_block_num', 'shop_id', 'item_id'], as_index=False).agg({'item_cnt_day':['sum']})"
   ]
  },
  {
   "cell_type": "code",
   "execution_count": 26,
   "id": "ac9c675d-9343-41af-ac5b-d712e64a6fc5",
   "metadata": {},
   "outputs": [],
   "source": [
    "# train_data.columns=train_data.columns = ['date_block_num', 'shop_id', 'item_id', 'item_cnt']\n"
   ]
  },
  {
   "cell_type": "code",
   "execution_count": 27,
   "id": "6c1329b5-c1e3-4155-acd5-c48c9f226a19",
   "metadata": {},
   "outputs": [],
   "source": [
    "# train_data['item_cnt_month']=train_data.sort_values('date_block_num').groupby(['shop_id', 'item_id'])['item_cnt'].shift(-1)\n",
    "# train_data"
   ]
  },
  {
   "cell_type": "code",
   "execution_count": 28,
   "id": "cada240e-ecfd-457c-9c86-570790a8b7f6",
   "metadata": {},
   "outputs": [],
   "source": [
    "# train_series = train_data.pivot_table(index=['shop_id', 'item_id'], columns='date_block_num',values='item_cnt', fill_value=0).reset_index()\n",
    "# train_series"
   ]
  },
  {
   "cell_type": "code",
   "execution_count": 29,
   "id": "614dde3e-cfc5-480d-8696-8041996ba88b",
   "metadata": {},
   "outputs": [],
   "source": [
    "# s = train_series.drop(['item_id', 'shop_id'], axis=1)\n",
    "# s"
   ]
  },
  {
   "cell_type": "code",
   "execution_count": 30,
   "id": "5f8e44c1-262c-46a4-8465-a6286435a8c0",
   "metadata": {},
   "outputs": [],
   "source": [
    "# X=s.iloc[:,:-1]\n",
    "# y=s.iloc[:,-1]   \n",
    "# X=X.values.reshape(X.shape[0],X.shape[1],1)  "
   ]
  },
  {
   "cell_type": "code",
   "execution_count": 31,
   "id": "13bfd607-b021-4d83-ae86-3ea3daf592d8",
   "metadata": {},
   "outputs": [],
   "source": [
    "# import tensorflow as tf\n",
    "\n",
    "# resolver = tf.distribute.cluster_resolver.TPUClusterResolver(tpu='')\n",
    "# tf.config.experimental_connect_to_cluster(resolver)\n",
    "# # This is the TPU initialization code that has to be at the beginning.\n",
    "# tf.tpu.experimental.initialize_tpu_system(resolver)\n",
    "# print(\"All devices: \", tf.config.list_logical_devices('TPU'))\n",
    "# strategy = tf.distribute.TPUStrategy(resolver)\n"
   ]
  },
  {
   "cell_type": "code",
   "execution_count": 32,
   "id": "4679b59a-446e-40f0-a654-81412658a349",
   "metadata": {},
   "outputs": [],
   "source": [
    "# #lstm\n",
    "# def mymodel():\n",
    "#     model = tf.keras.models.Sequential()\n",
    "#     model.add(tf.keras.layers.LSTM(128, input_shape=(32, 1)))\n",
    "#     model.add(tf.keras.layers.Dense(1))\n",
    "#     return model\n",
    "# with strategy.scope():\n",
    "#     model= mymodel()\n",
    "#     model.compile(loss='mse', optimizer='adam')\n",
    "    \n",
    "# steps_per_epoch =64\n",
    "# model.fit(X,y.values, epochs=100\n",
    "#           ,steps_per_epoch=steps_per_epoch,batch_size=256, verbose=2)\n",
    "# #6 or 7 second per epoch GPU p100\n",
    "# #tpu simple takes 11 or 7 second \n",
    "# #with step_per_epoch=64 took 4 second for 1st epoch and 0 for other!\n",
    "# #"
   ]
  },
  {
   "cell_type": "code",
   "execution_count": 33,
   "id": "91084c1c-f525-45f8-ba4d-1ecb71a99908",
   "metadata": {},
   "outputs": [],
   "source": [
    "# latest_records = train_series.drop_duplicates(subset=['shop_id', 'item_id'])\n",
    "# X_test = pd.merge(test, latest_records, on=['shop_id', 'item_id'], how='left', suffixes=['', '_'])\n",
    "# X_test.fillna(0, inplace=True)\n",
    "# X_test.drop(['ID', 'item_id', 'shop_id'], axis=1, inplace=True)\n",
    "# X_test=X_test.values.reshape(X_test.shape[0],X_test.shape[1],1)"
   ]
  },
  {
   "cell_type": "code",
   "execution_count": 34,
   "id": "ab9cc85c-dde6-49a0-89c4-7167d429ff40",
   "metadata": {},
   "outputs": [],
   "source": [
    "# pred=model.predict(X_test)\n",
    "# pred=pred.reshape(pred.shape[0])\n",
    "# s=pd.DataFrame({'ID':test['ID'],'item_cnt_month':pred})\n",
    "# s.to_csv('submission.csv',index=False)"
   ]
  },
  {
   "cell_type": "markdown",
   "id": "027a199c-a3c2-4f51-92e9-f1b0d2c804b9",
   "metadata": {},
   "source": [
    "We are going to use xgboost but with some preprocessing and feature engineering"
   ]
  },
  {
   "cell_type": "markdown",
   "id": "a409e68c-cd84-480f-868a-0272ed308957",
   "metadata": {},
   "source": [
    "<b> Outlier </b>"
   ]
  },
  {
   "cell_type": "code",
   "execution_count": 35,
   "id": "608c8479-738f-4e8c-a892-7a758fca374d",
   "metadata": {},
   "outputs": [],
   "source": [
    "df=sales.groupby(['date_block_num', 'shop_id', 'item_id']).agg({'item_cnt_day': ['sum']})\n"
   ]
  },
  {
   "cell_type": "code",
   "execution_count": 36,
   "id": "679619f7-84d6-43c6-bd91-e11abef9b7ef",
   "metadata": {},
   "outputs": [],
   "source": [
    "x=df[['item_cnt_day']]\n",
    "y=x.values\n",
    "x=x.index\n"
   ]
  },
  {
   "cell_type": "code",
   "execution_count": 37,
   "id": "cee6205a-7371-4aac-9eba-40be58afcaac",
   "metadata": {},
   "outputs": [
    {
     "data": {
      "text/plain": [
       "True"
      ]
     },
     "execution_count": 37,
     "metadata": {},
     "output_type": "execute_result"
    }
   ],
   "source": [
    "# max(x-x_bar)/sd\n",
    "import scipy.stats as stats\n",
    "import numpy as np\n",
    "def grubb_test(x):\n",
    "    x_bar=np.mean(x)\n",
    "    sd=np.std(x)\n",
    "    n=len(x)\n",
    "    z=np.abs(x-x_bar)/sd\n",
    "    t_value=stats.t.ppf(1 - 0.05 / (2 * n), n - 2)\n",
    "    g_critical = ((n - 1) * np.sqrt(np.square(t_value))) / (np.sqrt(n) * np.sqrt(n - 2 + np.square(t_value)))\n",
    "    if np.max(z) > g_critical:\n",
    "        return True\n",
    "    else:\n",
    "        return False\n",
    "\n",
    "grubb_test(y)\n"
   ]
  },
  {
   "cell_type": "code",
   "execution_count": 38,
   "id": "134ed914-e59c-479a-9392-717819262d8c",
   "metadata": {},
   "outputs": [
    {
     "data": {
      "text/plain": [
       "6871"
      ]
     },
     "execution_count": 38,
     "metadata": {},
     "output_type": "execute_result"
    }
   ],
   "source": [
    "# z score\n",
    "# If the z score of a data point is more than 3 (because it cover 99.7% of area), it indicates that the data value is quite different from the other values. It is taken as outliers.\n",
    "def z_score(x):\n",
    "    x_bar=np.mean(x)\n",
    "    sd=np.std(x) \n",
    "    outliers=[]\n",
    "    for i in range(len(x)):\n",
    "        z=(x[i]-x_bar)/sd\n",
    "        if np.abs(z)>3:\n",
    "            outliers.append(i)\n",
    "    return outliers\n",
    "out=z_score(y)\n",
    "len(out)\n"
   ]
  },
  {
   "cell_type": "markdown",
   "id": "e533beb9-d121-4854-be8c-1e31eac4cb32",
   "metadata": {},
   "source": [
    " IQR test\n",
    " \n",
    " Q1 represents the 1st quartile/25th percentile of the data.\n",
    "* Q2 represents the 2nd quartile/median/50th percentile of the data.\n",
    "* Q3 represents the 3rd quartile/75th percentile of the data.\n",
    "* (Q1–1.5*IQR) represent the smallest value in the data set and (Q3+1.5*IQR) represnt the largest value in the data set."
   ]
  },
  {
   "cell_type": "code",
   "execution_count": 39,
   "id": "d3d486cd-5261-40d3-925b-3490d1cee69b",
   "metadata": {},
   "outputs": [
    {
     "data": {
      "text/plain": [
       "(1609124, 1)"
      ]
     },
     "execution_count": 39,
     "metadata": {},
     "output_type": "execute_result"
    }
   ],
   "source": [
    "def iqr_test(data):\n",
    "    q1 = data.quantile(0.25)\n",
    "    q3 = data.quantile(0.75)\n",
    "    iqr = q3 - q1\n",
    "    lower_bound = q1 - (iqr * 1.5)\n",
    "    upper_bound = q3 + (iqr * 1.5)\n",
    "    # return outliers\n",
    "    return data[(data < lower_bound) | (data > upper_bound)]\n",
    "\n",
    "out=iqr_test(df['item_cnt_day'])\n",
    "out.shape\n"
   ]
  },
  {
   "cell_type": "markdown",
   "id": "ec1c0b60-1e03-4860-8793-beb67f625ab1",
   "metadata": {},
   "source": [
    "WINSORIZATION METHOD(PERCENTILE CAPPING)\n",
    "This method is similar to IQR method. If a value exceeds the value of the 99th percentile and below the 1st percentile of given values are treated as outliers."
   ]
  },
  {
   "cell_type": "code",
   "execution_count": 40,
   "id": "30641a66-332f-41a9-90c0-5fd2c4e20460",
   "metadata": {},
   "outputs": [
    {
     "data": {
      "text/plain": [
       "306477"
      ]
     },
     "execution_count": 40,
     "metadata": {},
     "output_type": "execute_result"
    }
   ],
   "source": [
    "def Winsorization_outliers(df):\n",
    "    q1=df.quantile(0.25)\n",
    "    q3=df.quantile(0.75)\n",
    "    out=[]\n",
    "    for i in range(len(df)):\n",
    "        if df[i]>q3 or df[i]<q1:\n",
    "            out.append(i)\n",
    "    return out\n",
    "out=Winsorization_outliers(sales['item_cnt_day'])\n",
    "len(out)"
   ]
  },
  {
   "cell_type": "markdown",
   "id": "0d1295b2-72e8-4021-874c-4d00a57675d8",
   "metadata": {},
   "source": [
    "DBSCAN (DENSITY-BASED SPATIAL CLUSTERING OF APPLICATIONS WITH NOISE)\n",
    "DBSCAN is a density based clustering algorithm that divides a dataset into subgroups of high density regions and identifies high density regions cluster as outliers. Here cluster -1 indicates that the cluster contains outlier and rest of clusters have no outliers. This approch is similar to the K-mean clustering. There are two parameters required for DBSCAN. DBSCAN give best result for multivariate outlier detection.\n",
    "1. epsilon: a distance parameter that defines the radius to search for nearby neighbors.\n",
    "2. minimum amount of points required to form a cluster."
   ]
  },
  {
   "cell_type": "code",
   "execution_count": 41,
   "id": "ac867595-1467-406e-802a-96ede887a524",
   "metadata": {},
   "outputs": [],
   "source": [
    "# kernel dies from this\n",
    "# from sklearn.cluster import DBSCAN\n",
    "# def DBSCAN_outliers(df):\n",
    "#     db = DBSCAN(eps=2, min_samples=3).fit(df.values.reshape(-1,1))\n",
    "#     labels = db.labels_\n",
    "#     outliers = df[labels == -1]\n",
    "#     return outliers\n",
    "# out=DBSCAN_outliers(sales['item_cnt_day'])\n",
    "# out.shape"
   ]
  },
  {
   "cell_type": "markdown",
   "id": "dc5ca423-b00b-49d7-b512-ee0b368fbc2c",
   "metadata": {},
   "source": [
    "ISOLATION FOREST\n",
    "It is an clustering algorithm that belongs to the ensemble decision trees family and is similar in principle to Random Forest.\n",
    "It classify the data point to outlier and not outliers and works great with very high dimensional data.\n",
    "2. It works based on decision tree and it isolate the outliers."
   ]
  },
  {
   "cell_type": "code",
   "execution_count": 42,
   "id": "af7b16ea-37b5-459b-a610-b576b02479b1",
   "metadata": {},
   "outputs": [
    {
     "data": {
      "text/plain": [
       "(7252,)"
      ]
     },
     "execution_count": 42,
     "metadata": {},
     "output_type": "execute_result"
    }
   ],
   "source": [
    "from sklearn.ensemble import IsolationForest\n",
    "def IsolationForest_outliers(df):\n",
    "    clf = IsolationForest(max_samples=100, random_state=42)\n",
    "    clf.fit(df.values.reshape(-1, 1))\n",
    "    out = clf.predict(df[df.values == -1].values.reshape(-1,1))\n",
    "    return out\n",
    "out=IsolationForest_outliers(sales['item_cnt_day'])\n",
    "out.shape"
   ]
  },
  {
   "cell_type": "markdown",
   "id": "6666536b-20ed-4d89-8f7c-b9cfe9ada247",
   "metadata": {},
   "source": [
    "VISUALIZING THE DATA\n"
   ]
  },
  {
   "cell_type": "code",
   "execution_count": 43,
   "id": "35e19dc2-c8c7-409f-9156-1c18ff816e34",
   "metadata": {},
   "outputs": [
    {
     "data": {
      "image/png": "[encoded data removed]",
      "text/plain": [
       "<Figure size 504x216 with 1 Axes>"
      ]
     },
     "metadata": {
      "needs_background": "light"
     },
     "output_type": "display_data"
    },
    {
     "data": {
      "image/png": "[encoded data removed]",
      "text/plain": [
       "<Figure size 504x216 with 1 Axes>"
      ]
     },
     "metadata": {
      "needs_background": "light"
     },
     "output_type": "display_data"
    }
   ],
   "source": [
    "#Box and whisker plot (box plot).\n",
    "import matplotlib.pyplot as plt\n",
    "import seaborn as sns\n",
    "\n",
    "def Box_plots(df):\n",
    "    plt.figure(figsize=(7, 3))\n",
    "    plt.title(\"Box Plot\")\n",
    "    sns.boxplot(data=df)\n",
    "    plt.show()\n",
    "Box_plots(df['item_cnt_day'])\n",
    "def Hist_plot(df):\n",
    "    plt.figure(figsize=(7, 3))\n",
    "    plt.title(\"Hist Plot\")\n",
    "    sns.distplot(df)\n",
    "    plt.show()\n",
    "Hist_plot(df['item_cnt_day'])\n"
   ]
  },
  {
   "cell_type": "markdown",
   "id": "5b4db183-af9c-4ed3-9f5b-c363a34c3395",
   "metadata": {},
   "source": [
    "After detecting the outlier we should remove\\treat the outlier because it is a silent killer!! yes.\n",
    "* Outliers badly affect mean and standard deviation of the dataset. These may statistically give erroneous results.\n",
    "* It increases the error variance and reduces the power of statistical tests.\n",
    "* If the outliers are non-randomly distributed, they can decrease normality.\n",
    "* Most machine learning algorithms do not work well in the presence of outlier. So it is desirable to detect and remove outliers.\n",
    "* They can also impact the basic assumption of Regression, ANOVA and other statistical model assumptions."
   ]
  },
  {
   "cell_type": "code",
   "execution_count": 44,
   "id": "d97d5dcf-230a-4d1e-aa72-405f27ad0486",
   "metadata": {},
   "outputs": [
    {
     "data": {
      "image/png": "[encoded data removed]",
      "text/plain": [
       "<Figure size 504x216 with 1 Axes>"
      ]
     },
     "metadata": {
      "needs_background": "light"
     },
     "output_type": "display_data"
    }
   ],
   "source": [
    "data=df.copy()\n",
    "data.reset_index(inplace=True)\n",
    "data.columns=['date_block_num','shop_id','item_id','item_cnt_day']\n",
    "\n",
    "def drop_outliers(df):\n",
    "    data=df.copy()\n",
    "    # iqr_test\n",
    "    q1=data['item_cnt_day'].quantile(0.25)\n",
    "    q3=data['item_cnt_day'].quantile(0.75)\n",
    "    iqr=q3-q1\n",
    "    lower=q1-1.5*iqr\n",
    "    upper=q3+1.5*iqr\n",
    "    data=data[(data['item_cnt_day']>lower)&(data['item_cnt_day']<upper)]\n",
    "    return data\n",
    "data=drop_outliers(data)\n",
    "# box plot of filled data\n",
    "Box_plots(data['item_cnt_day'].values)"
   ]
  },
  {
   "cell_type": "code",
   "execution_count": 45,
   "id": "38976488-2ceb-4d4c-977c-6a8bd1b094d5",
   "metadata": {},
   "outputs": [
    {
     "data": {
      "text/plain": [
       "(1430137, 4)"
      ]
     },
     "execution_count": 45,
     "metadata": {},
     "output_type": "execute_result"
    }
   ],
   "source": [
    "data.shape"
   ]
  },
  {
   "cell_type": "markdown",
   "id": "385a7aae-0bc4-447e-82c2-dc672ff39774",
   "metadata": {},
   "source": [
    "Transforming variables can also eliminate outliers. These transformed values reduces the variation caused by extreme values.\n",
    "1. Scalling\n",
    "2. Log transformation\n",
    "3. Cube Root Normalization\n",
    "4. Box-Cox transformation\n",
    "* These techniques convert values in the dataset to smaller values.\n",
    "* If the data has to many extreme values or skewed, this method helps to make your data normal.\n",
    "* But These technique not always give you the best results.\n",
    "* There is no lose of data from these methods.\n",
    "* In all these method boxcox transformation gives the best result."
   ]
  },
  {
   "cell_type": "code",
   "execution_count": 46,
   "id": "5322f334-a168-4863-823f-1ced4a0b9b74",
   "metadata": {},
   "outputs": [
    {
     "data": {
      "image/png": "[encoded data removed]",
      "text/plain": [
       "<Figure size 504x216 with 1 Axes>"
      ]
     },
     "metadata": {
      "needs_background": "light"
     },
     "output_type": "display_data"
    }
   ],
   "source": [
    "data=df.copy()\n",
    "# log transformation\n",
    "data['item_cnt_day']=np.log1p(data['item_cnt_day'])\n",
    "# box\n",
    "Box_plots(data['item_cnt_day'])"
   ]
  },
  {
   "cell_type": "code",
   "execution_count": 47,
   "id": "70d68e2b-fa1e-4ab1-969d-7cf5c2be2d9e",
   "metadata": {},
   "outputs": [
    {
     "data": {
      "image/png": "[encoded data removed]",
      "text/plain": [
       "<Figure size 504x216 with 1 Axes>"
      ]
     },
     "metadata": {
      "needs_background": "light"
     },
     "output_type": "display_data"
    }
   ],
   "source": [
    "data=df.copy()\n",
    "data.reset_index(inplace=True)\n",
    "data.columns=['date_block_num','shop_id','item_id','item_cnt_day']# imputing outliers with median\n",
    "def impute_outliers(df):\n",
    "    data=df.copy()\n",
    "    # iqr_test\n",
    "    q1=data['item_cnt_day'].quantile(0.25)\n",
    "    q3=data['item_cnt_day'].quantile(0.75)\n",
    "    iqr=q3-q1\n",
    "    lower=q1-1.5*iqr\n",
    "    upper=q3+1.5*iqr\n",
    "    # impute outliers\n",
    "    median=data['item_cnt_day'].median()\n",
    "    mask=(data['item_cnt_day']<lower)|(data['item_cnt_day']>upper)\n",
    "    data.loc[mask,'item_cnt_day']=median\n",
    "    return data\n",
    "\n",
    "data = impute_outliers(data)\n",
    "# box plot of filled data\n",
    "Box_plots(data['item_cnt_day'])\n"
   ]
  },
  {
   "cell_type": "markdown",
   "id": "4a932741-1b9e-431c-a313-8fe48ef4e5a6",
   "metadata": {},
   "source": [
    "If there are significant number of outliers and dataset is small , we should treat them separately in the statistical model. One of the approach is to treat both groups as two different groups and build individual model for both groups and then combine the output. But this technique is tedious when the dataset is large."
   ]
  },
  {
   "cell_type": "code",
   "execution_count": 48,
   "id": "41ac9d23-ae33-4cc4-8ac4-28a3e20d724c",
   "metadata": {},
   "outputs": [],
   "source": [
    "# xgboost with imputation and 10000 estimators get 1.5 mse same as above! so we need some feature engineering."
   ]
  },
  {
   "cell_type": "code",
   "execution_count": 49,
   "id": "3f8f3713",
   "metadata": {},
   "outputs": [],
   "source": [
    "data= sales.groupby(['date_block_num', 'shop_id', 'item_id']).agg({'item_cnt_day': ['sum']}).reset_index()\n",
    "data.columns=['date_block_num','shop_id','item_id','item_cnt_day']\n",
    "# add year and month\n",
    "data['year']=data['date_block_num']//12\n",
    "data['month']=data['date_block_num']%12\n",
    "\n",
    "x=data.drop(['item_cnt_day'],axis=1)\n",
    "y=data['item_cnt_day']\n"
   ]
  },
  {
   "cell_type": "code",
   "execution_count": 50,
   "id": "a589fb49",
   "metadata": {},
   "outputs": [
    {
     "data": {
      "text/html": [
       "<style>#sk-container-id-1 {color: black;background-color: white;}#sk-container-id-1 pre{padding: 0;}#sk-container-id-1 div.sk-toggleable {background-color: white;}#sk-container-id-1 label.sk-toggleable__label {cursor: pointer;display: block;width: 100%;margin-bottom: 0;padding: 0.3em;box-sizing: border-box;text-align: center;}#sk-container-id-1 label.sk-toggleable__label-arrow:before {content: \"▸\";float: left;margin-right: 0.25em;color: #696969;}#sk-container-id-1 label.sk-toggleable__label-arrow:hover:before {color: black;}#sk-container-id-1 div.sk-estimator:hover label.sk-toggleable__label-arrow:before {color: black;}#sk-container-id-1 div.sk-toggleable__content {max-height: 0;max-width: 0;overflow: hidden;text-align: left;background-color: #f0f8ff;}#sk-container-id-1 div.sk-toggleable__content pre {margin: 0.2em;color: black;border-radius: 0.25em;background-color: #f0f8ff;}#sk-container-id-1 input.sk-toggleable__control:checked~div.sk-toggleable__content {max-height: 200px;max-width: 100%;overflow: auto;}#sk-container-id-1 input.sk-toggleable__control:checked~label.sk-toggleable__label-arrow:before {content: \"▾\";}#sk-container-id-1 div.sk-estimator input.sk-toggleable__control:checked~label.sk-toggleable__label {background-color: #d4ebff;}#sk-container-id-1 div.sk-label input.sk-toggleable__control:checked~label.sk-toggleable__label {background-color: #d4ebff;}#sk-container-id-1 input.sk-hidden--visually {border: 0;clip: rect(1px 1px 1px 1px);clip: rect(1px, 1px, 1px, 1px);height: 1px;margin: -1px;overflow: hidden;padding: 0;position: absolute;width: 1px;}#sk-container-id-1 div.sk-estimator {font-family: monospace;background-color: #f0f8ff;border: 1px dotted black;border-radius: 0.25em;box-sizing: border-box;margin-bottom: 0.5em;}#sk-container-id-1 div.sk-estimator:hover {background-color: #d4ebff;}#sk-container-id-1 div.sk-parallel-item::after {content: \"\";width: 100%;border-bottom: 1px solid gray;flex-grow: 1;}#sk-container-id-1 div.sk-label:hover label.sk-toggleable__label {background-color: #d4ebff;}#sk-container-id-1 div.sk-serial::before {content: \"\";position: absolute;border-left: 1px solid gray;box-sizing: border-box;top: 0;bottom: 0;left: 50%;z-index: 0;}#sk-container-id-1 div.sk-serial {display: flex;flex-direction: column;align-items: center;background-color: white;padding-right: 0.2em;padding-left: 0.2em;position: relative;}#sk-container-id-1 div.sk-item {position: relative;z-index: 1;}#sk-container-id-1 div.sk-parallel {display: flex;align-items: stretch;justify-content: center;background-color: white;position: relative;}#sk-container-id-1 div.sk-item::before, #sk-container-id-1 div.sk-parallel-item::before {content: \"\";position: absolute;border-left: 1px solid gray;box-sizing: border-box;top: 0;bottom: 0;left: 50%;z-index: -1;}#sk-container-id-1 div.sk-parallel-item {display: flex;flex-direction: column;z-index: 1;position: relative;background-color: white;}#sk-container-id-1 div.sk-parallel-item:first-child::after {align-self: flex-end;width: 50%;}#sk-container-id-1 div.sk-parallel-item:last-child::after {align-self: flex-start;width: 50%;}#sk-container-id-1 div.sk-parallel-item:only-child::after {width: 0;}#sk-container-id-1 div.sk-dashed-wrapped {border: 1px dashed gray;margin: 0 0.4em 0.5em 0.4em;box-sizing: border-box;padding-bottom: 0.4em;background-color: white;}#sk-container-id-1 div.sk-label label {font-family: monospace;font-weight: bold;display: inline-block;line-height: 1.2em;}#sk-container-id-1 div.sk-label-container {text-align: center;}#sk-container-id-1 div.sk-container {/* jupyter's `normalize.less` sets `[hidden] { display: none; }` but bootstrap.min.css set `[hidden] { display: none !important; }` so we also need the `!important` here to be able to override the default hidden behavior on the sphinx rendered scikit-learn.org. See: https://github.com/scikit-learn/scikit-learn/issues/21755 */display: inline-block !important;position: relative;}#sk-container-id-1 div.sk-text-repr-fallback {display: none;}</style><div id=\"sk-container-id-1\" class=\"sk-top-container\"><div class=\"sk-text-repr-fallback\"><pre>XGBRegressor(base_score=0.5, booster=&#x27;gbtree&#x27;, callbacks=None,\n",
       "             colsample_bylevel=1, colsample_bynode=1, colsample_bytree=1,\n",
       "             early_stopping_rounds=None, enable_categorical=False,\n",
       "             eval_metric=None, gamma=0, gpu_id=0, grow_policy=&#x27;depthwise&#x27;,\n",
       "             importance_type=None, interaction_constraints=&#x27;&#x27;,\n",
       "             learning_rate=0.05, max_bin=256, max_cat_to_onehot=4,\n",
       "             max_delta_step=0, max_depth=10, max_leaves=0, min_child_weight=1,\n",
       "             missing=nan, monotone_constraints=&#x27;()&#x27;, n_estimators=1000,\n",
       "             n_jobs=0, num_parallel_tree=1, predictor=&#x27;auto&#x27;, random_state=0,\n",
       "             reg_alpha=0, reg_lambda=1, ...)</pre><b>In a Jupyter environment, please rerun this cell to show the HTML representation or trust the notebook. <br />On GitHub, the HTML representation is unable to render, please try loading this page with nbviewer.org.</b></div><div class=\"sk-container\" hidden><div class=\"sk-item\"><div class=\"sk-estimator sk-toggleable\"><input class=\"sk-toggleable__control sk-hidden--visually\" id=\"sk-estimator-id-1\" type=\"checkbox\" checked><label for=\"sk-estimator-id-1\" class=\"sk-toggleable__label sk-toggleable__label-arrow\">XGBRegressor</label><div class=\"sk-toggleable__content\"><pre>XGBRegressor(base_score=0.5, booster=&#x27;gbtree&#x27;, callbacks=None,\n",
       "             colsample_bylevel=1, colsample_bynode=1, colsample_bytree=1,\n",
       "             early_stopping_rounds=None, enable_categorical=False,\n",
       "             eval_metric=None, gamma=0, gpu_id=0, grow_policy=&#x27;depthwise&#x27;,\n",
       "             importance_type=None, interaction_constraints=&#x27;&#x27;,\n",
       "             learning_rate=0.05, max_bin=256, max_cat_to_onehot=4,\n",
       "             max_delta_step=0, max_depth=10, max_leaves=0, min_child_weight=1,\n",
       "             missing=nan, monotone_constraints=&#x27;()&#x27;, n_estimators=1000,\n",
       "             n_jobs=0, num_parallel_tree=1, predictor=&#x27;auto&#x27;, random_state=0,\n",
       "             reg_alpha=0, reg_lambda=1, ...)</pre></div></div></div></div></div>"
      ],
      "text/plain": [
       "XGBRegressor(base_score=0.5, booster='gbtree', callbacks=None,\n",
       "             colsample_bylevel=1, colsample_bynode=1, colsample_bytree=1,\n",
       "             early_stopping_rounds=None, enable_categorical=False,\n",
       "             eval_metric=None, gamma=0, gpu_id=0, grow_policy='depthwise',\n",
       "             importance_type=None, interaction_constraints='',\n",
       "             learning_rate=0.05, max_bin=256, max_cat_to_onehot=4,\n",
       "             max_delta_step=0, max_depth=10, max_leaves=0, min_child_weight=1,\n",
       "             missing=nan, monotone_constraints='()', n_estimators=1000,\n",
       "             n_jobs=0, num_parallel_tree=1, predictor='auto', random_state=0,\n",
       "             reg_alpha=0, reg_lambda=1, ...)"
      ]
     },
     "execution_count": 50,
     "metadata": {},
     "output_type": "execute_result"
    }
   ],
   "source": [
    "# xgb\n",
    "from xgboost import XGBRegressor\n",
    "xgb=XGBRegressor(n_estimators=1000,learning_rate=0.05,max_depth=10,tree_method='gpu_hist')\n",
    "xgb.fit(x,y)\n"
   ]
  },
  {
   "cell_type": "code",
   "execution_count": 54,
   "id": "150f8cef-8864-469f-9c58-40025e271bf8",
   "metadata": {},
   "outputs": [],
   "source": [
    "test['date_block_num']=sales['date_block_num'].max()+1\n",
    "# add date to test using sales\n",
    "test['date_block_num']=sales['date_block_num'].max()+1\n",
    "test['year']=test['date_block_num']//12\n",
    "test['month']=test['date_block_num']%12"
   ]
  },
  {
   "cell_type": "code",
   "execution_count": 57,
   "id": "a556c500-d0f5-48be-ada6-3dca7530a390",
   "metadata": {},
   "outputs": [],
   "source": [
    "X_test=test[['date_block_num','shop_id','item_id','year','month']].values\n",
    "y_test=xgb.predict(X_test)\n"
   ]
  },
  {
   "cell_type": "code",
   "execution_count": 58,
   "id": "b3c86584-c3e9-47ad-a52c-3513287323ef",
   "metadata": {},
   "outputs": [],
   "source": [
    "submission=pd.DataFrame({'ID':test['ID'],'item_cnt_month':y_test})\n",
    "submission.to_csv('submission.csv',index=False)"
   ]
  },
  {
   "cell_type": "markdown",
   "id": "dbbf2b7a-0421-435d-b514-6c0466ffef54",
   "metadata": {},
   "source": [
    "<b>Combining more features</b>"
   ]
  },
  {
   "cell_type": "code",
   "execution_count": 11,
   "id": "c12b799b-2eff-4f3f-ae1c-e0209aea822e",
   "metadata": {},
   "outputs": [],
   "source": [
    "import pandas as pd\n",
    "import numpy as np\n",
    "import warnings\n",
    "warnings.filterwarnings(\"ignore\")\n",
    "sales=pd.read_csv('data/sales_train.csv',parse_dates=['date'])\n",
    "test=pd.read_csv('data/test.csv')\n",
    "items=pd.read_csv('data/items.csv')\n",
    "shops=pd.read_csv('data/shops.csv')\n",
    "items_cats=pd.read_csv('data/item_categories.csv')"
   ]
  },
  {
   "cell_type": "code",
   "execution_count": 12,
   "id": "044802eb-eff0-4d6f-9180-5d529403fa29",
   "metadata": {},
   "outputs": [],
   "source": [
    "# join \n",
    "\n",
    "sales=sales.merge(items,on='item_id',how='left')\n",
    "sales=sales.merge(shops,on='shop_id',how='left')\n",
    "sales=sales.merge(items_cats,on='item_category_id',how='left')\n",
    "\n"
   ]
  },
  {
   "cell_type": "code",
   "execution_count": 13,
   "id": "55073e9b-8596-4181-9c70-8e27a8fe16b1",
   "metadata": {},
   "outputs": [
    {
     "data": {
      "text/html": [
       "<div>\n",
       "<style scoped>\n",
       "    .dataframe tbody tr th:only-of-type {\n",
       "        vertical-align: middle;\n",
       "    }\n",
       "\n",
       "    .dataframe tbody tr th {\n",
       "        vertical-align: top;\n",
       "    }\n",
       "\n",
       "    .dataframe thead th {\n",
       "        text-align: right;\n",
       "    }\n",
       "</style>\n",
       "<table border=\"1\" class=\"dataframe\">\n",
       "  <thead>\n",
       "    <tr style=\"text-align: right;\">\n",
       "      <th></th>\n",
       "      <th>0</th>\n",
       "      <th>1</th>\n",
       "      <th>2</th>\n",
       "      <th>3</th>\n",
       "      <th>4</th>\n",
       "    </tr>\n",
       "  </thead>\n",
       "  <tbody>\n",
       "    <tr>\n",
       "      <th>date</th>\n",
       "      <td>2013-02-01 00:00:00</td>\n",
       "      <td>2013-03-01 00:00:00</td>\n",
       "      <td>2013-05-01 00:00:00</td>\n",
       "      <td>2013-06-01 00:00:00</td>\n",
       "      <td>2013-01-15 00:00:00</td>\n",
       "    </tr>\n",
       "    <tr>\n",
       "      <th>date_block_num</th>\n",
       "      <td>0</td>\n",
       "      <td>0</td>\n",
       "      <td>0</td>\n",
       "      <td>0</td>\n",
       "      <td>0</td>\n",
       "    </tr>\n",
       "    <tr>\n",
       "      <th>shop_id</th>\n",
       "      <td>59</td>\n",
       "      <td>25</td>\n",
       "      <td>25</td>\n",
       "      <td>25</td>\n",
       "      <td>25</td>\n",
       "    </tr>\n",
       "    <tr>\n",
       "      <th>item_id</th>\n",
       "      <td>22154</td>\n",
       "      <td>2552</td>\n",
       "      <td>2552</td>\n",
       "      <td>2554</td>\n",
       "      <td>2555</td>\n",
       "    </tr>\n",
       "    <tr>\n",
       "      <th>item_price</th>\n",
       "      <td>999.0</td>\n",
       "      <td>899.0</td>\n",
       "      <td>899.0</td>\n",
       "      <td>1709.05</td>\n",
       "      <td>1099.0</td>\n",
       "    </tr>\n",
       "    <tr>\n",
       "      <th>item_cnt_day</th>\n",
       "      <td>1.0</td>\n",
       "      <td>1.0</td>\n",
       "      <td>-1.0</td>\n",
       "      <td>1.0</td>\n",
       "      <td>1.0</td>\n",
       "    </tr>\n",
       "    <tr>\n",
       "      <th>item_name</th>\n",
       "      <td>ЯВЛЕНИЕ 2012 (BD)</td>\n",
       "      <td>DEEP PURPLE  The House Of Blue Light  LP</td>\n",
       "      <td>DEEP PURPLE  The House Of Blue Light  LP</td>\n",
       "      <td>DEEP PURPLE  Who Do You Think We Are  LP</td>\n",
       "      <td>DEEP PURPLE 30 Very Best Of 2CD (Фирм.)</td>\n",
       "    </tr>\n",
       "    <tr>\n",
       "      <th>item_category_id</th>\n",
       "      <td>37</td>\n",
       "      <td>58</td>\n",
       "      <td>58</td>\n",
       "      <td>58</td>\n",
       "      <td>56</td>\n",
       "    </tr>\n",
       "    <tr>\n",
       "      <th>shop_name</th>\n",
       "      <td>Ярославль ТЦ \"Альтаир\"</td>\n",
       "      <td>Москва ТРК \"Атриум\"</td>\n",
       "      <td>Москва ТРК \"Атриум\"</td>\n",
       "      <td>Москва ТРК \"Атриум\"</td>\n",
       "      <td>Москва ТРК \"Атриум\"</td>\n",
       "    </tr>\n",
       "    <tr>\n",
       "      <th>item_category_name</th>\n",
       "      <td>Кино - Blu-Ray</td>\n",
       "      <td>Музыка - Винил</td>\n",
       "      <td>Музыка - Винил</td>\n",
       "      <td>Музыка - Винил</td>\n",
       "      <td>Музыка - CD фирменного производства</td>\n",
       "    </tr>\n",
       "  </tbody>\n",
       "</table>\n",
       "</div>"
      ],
      "text/plain": [
       "                                         0  \\\n",
       "date                   2013-02-01 00:00:00   \n",
       "date_block_num                           0   \n",
       "shop_id                                 59   \n",
       "item_id                              22154   \n",
       "item_price                           999.0   \n",
       "item_cnt_day                           1.0   \n",
       "item_name                ЯВЛЕНИЕ 2012 (BD)   \n",
       "item_category_id                        37   \n",
       "shop_name           Ярославль ТЦ \"Альтаир\"   \n",
       "item_category_name          Кино - Blu-Ray   \n",
       "\n",
       "                                                           1  \\\n",
       "date                                     2013-03-01 00:00:00   \n",
       "date_block_num                                             0   \n",
       "shop_id                                                   25   \n",
       "item_id                                                 2552   \n",
       "item_price                                             899.0   \n",
       "item_cnt_day                                             1.0   \n",
       "item_name           DEEP PURPLE  The House Of Blue Light  LP   \n",
       "item_category_id                                          58   \n",
       "shop_name                                Москва ТРК \"Атриум\"   \n",
       "item_category_name                            Музыка - Винил   \n",
       "\n",
       "                                                           2  \\\n",
       "date                                     2013-05-01 00:00:00   \n",
       "date_block_num                                             0   \n",
       "shop_id                                                   25   \n",
       "item_id                                                 2552   \n",
       "item_price                                             899.0   \n",
       "item_cnt_day                                            -1.0   \n",
       "item_name           DEEP PURPLE  The House Of Blue Light  LP   \n",
       "item_category_id                                          58   \n",
       "shop_name                                Москва ТРК \"Атриум\"   \n",
       "item_category_name                            Музыка - Винил   \n",
       "\n",
       "                                                           3  \\\n",
       "date                                     2013-06-01 00:00:00   \n",
       "date_block_num                                             0   \n",
       "shop_id                                                   25   \n",
       "item_id                                                 2554   \n",
       "item_price                                           1709.05   \n",
       "item_cnt_day                                             1.0   \n",
       "item_name           DEEP PURPLE  Who Do You Think We Are  LP   \n",
       "item_category_id                                          58   \n",
       "shop_name                                Москва ТРК \"Атриум\"   \n",
       "item_category_name                            Музыка - Винил   \n",
       "\n",
       "                                                          4  \n",
       "date                                    2013-01-15 00:00:00  \n",
       "date_block_num                                            0  \n",
       "shop_id                                                  25  \n",
       "item_id                                                2555  \n",
       "item_price                                           1099.0  \n",
       "item_cnt_day                                            1.0  \n",
       "item_name           DEEP PURPLE 30 Very Best Of 2CD (Фирм.)  \n",
       "item_category_id                                         56  \n",
       "shop_name                               Москва ТРК \"Атриум\"  \n",
       "item_category_name      Музыка - CD фирменного производства  "
      ]
     },
     "execution_count": 13,
     "metadata": {},
     "output_type": "execute_result"
    }
   ],
   "source": [
    "sales.head(5).T"
   ]
  },
  {
   "cell_type": "code",
   "execution_count": 14,
   "id": "b5790da5-badc-46f9-b4b5-5c34313011cc",
   "metadata": {},
   "outputs": [
    {
     "name": "stdout",
     "output_type": "stream",
     "text": [
      "2013-01-01 00:00:00 2015-12-10 00:00:00\n"
     ]
    }
   ],
   "source": [
    "# min date and max date\n",
    "min_date=sales['date'].min()\n",
    "max_date=sales['date'].max()\n",
    "print(min_date,max_date)"
   ]
  },
  {
   "cell_type": "code",
   "execution_count": 15,
   "id": "559a92fd-1cba-4e2c-8f90-77d9c99e4d34",
   "metadata": {},
   "outputs": [
    {
     "data": {
      "text/html": [
       "<div>\n",
       "<style scoped>\n",
       "    .dataframe tbody tr th:only-of-type {\n",
       "        vertical-align: middle;\n",
       "    }\n",
       "\n",
       "    .dataframe tbody tr th {\n",
       "        vertical-align: top;\n",
       "    }\n",
       "\n",
       "    .dataframe thead th {\n",
       "        text-align: right;\n",
       "    }\n",
       "</style>\n",
       "<table border=\"1\" class=\"dataframe\">\n",
       "  <thead>\n",
       "    <tr style=\"text-align: right;\">\n",
       "      <th></th>\n",
       "      <th>date_block_num</th>\n",
       "      <th>shop_id</th>\n",
       "      <th>item_id</th>\n",
       "      <th>item_price</th>\n",
       "      <th>item_cnt_day</th>\n",
       "      <th>item_category_id</th>\n",
       "    </tr>\n",
       "  </thead>\n",
       "  <tbody>\n",
       "    <tr>\n",
       "      <th>count</th>\n",
       "      <td>2.935849e+06</td>\n",
       "      <td>2.935849e+06</td>\n",
       "      <td>2.935849e+06</td>\n",
       "      <td>2.935849e+06</td>\n",
       "      <td>2.935849e+06</td>\n",
       "      <td>2.935849e+06</td>\n",
       "    </tr>\n",
       "    <tr>\n",
       "      <th>mean</th>\n",
       "      <td>1.456991e+01</td>\n",
       "      <td>3.300173e+01</td>\n",
       "      <td>1.019723e+04</td>\n",
       "      <td>8.908532e+02</td>\n",
       "      <td>1.242641e+00</td>\n",
       "      <td>4.000138e+01</td>\n",
       "    </tr>\n",
       "    <tr>\n",
       "      <th>std</th>\n",
       "      <td>9.422988e+00</td>\n",
       "      <td>1.622697e+01</td>\n",
       "      <td>6.324297e+03</td>\n",
       "      <td>1.729800e+03</td>\n",
       "      <td>2.618834e+00</td>\n",
       "      <td>1.710076e+01</td>\n",
       "    </tr>\n",
       "    <tr>\n",
       "      <th>min</th>\n",
       "      <td>0.000000e+00</td>\n",
       "      <td>0.000000e+00</td>\n",
       "      <td>0.000000e+00</td>\n",
       "      <td>-1.000000e+00</td>\n",
       "      <td>-2.200000e+01</td>\n",
       "      <td>0.000000e+00</td>\n",
       "    </tr>\n",
       "    <tr>\n",
       "      <th>25%</th>\n",
       "      <td>7.000000e+00</td>\n",
       "      <td>2.200000e+01</td>\n",
       "      <td>4.476000e+03</td>\n",
       "      <td>2.490000e+02</td>\n",
       "      <td>1.000000e+00</td>\n",
       "      <td>2.800000e+01</td>\n",
       "    </tr>\n",
       "    <tr>\n",
       "      <th>50%</th>\n",
       "      <td>1.400000e+01</td>\n",
       "      <td>3.100000e+01</td>\n",
       "      <td>9.343000e+03</td>\n",
       "      <td>3.990000e+02</td>\n",
       "      <td>1.000000e+00</td>\n",
       "      <td>4.000000e+01</td>\n",
       "    </tr>\n",
       "    <tr>\n",
       "      <th>75%</th>\n",
       "      <td>2.300000e+01</td>\n",
       "      <td>4.700000e+01</td>\n",
       "      <td>1.568400e+04</td>\n",
       "      <td>9.990000e+02</td>\n",
       "      <td>1.000000e+00</td>\n",
       "      <td>5.500000e+01</td>\n",
       "    </tr>\n",
       "    <tr>\n",
       "      <th>max</th>\n",
       "      <td>3.300000e+01</td>\n",
       "      <td>5.900000e+01</td>\n",
       "      <td>2.216900e+04</td>\n",
       "      <td>3.079800e+05</td>\n",
       "      <td>2.169000e+03</td>\n",
       "      <td>8.300000e+01</td>\n",
       "    </tr>\n",
       "  </tbody>\n",
       "</table>\n",
       "</div>"
      ],
      "text/plain": [
       "       date_block_num       shop_id       item_id    item_price  item_cnt_day  \\\n",
       "count    2.935849e+06  2.935849e+06  2.935849e+06  2.935849e+06  2.935849e+06   \n",
       "mean     1.456991e+01  3.300173e+01  1.019723e+04  8.908532e+02  1.242641e+00   \n",
       "std      9.422988e+00  1.622697e+01  6.324297e+03  1.729800e+03  2.618834e+00   \n",
       "min      0.000000e+00  0.000000e+00  0.000000e+00 -1.000000e+00 -2.200000e+01   \n",
       "25%      7.000000e+00  2.200000e+01  4.476000e+03  2.490000e+02  1.000000e+00   \n",
       "50%      1.400000e+01  3.100000e+01  9.343000e+03  3.990000e+02  1.000000e+00   \n",
       "75%      2.300000e+01  4.700000e+01  1.568400e+04  9.990000e+02  1.000000e+00   \n",
       "max      3.300000e+01  5.900000e+01  2.216900e+04  3.079800e+05  2.169000e+03   \n",
       "\n",
       "       item_category_id  \n",
       "count      2.935849e+06  \n",
       "mean       4.000138e+01  \n",
       "std        1.710076e+01  \n",
       "min        0.000000e+00  \n",
       "25%        2.800000e+01  \n",
       "50%        4.000000e+01  \n",
       "75%        5.500000e+01  \n",
       "max        8.300000e+01  "
      ]
     },
     "execution_count": 15,
     "metadata": {},
     "output_type": "execute_result"
    }
   ],
   "source": [
    "sales.describe()"
   ]
  },
  {
   "cell_type": "code",
   "execution_count": 16,
   "id": "3584f279-670f-406a-80db-b9f2c2274f9e",
   "metadata": {},
   "outputs": [
    {
     "name": "stdout",
     "output_type": "stream",
     "text": [
      "(60,) (21807,)\n"
     ]
    }
   ],
   "source": [
    "train=sales.copy()\n",
    "train=train[train['item_price']>0]\n",
    "# unique shop name\n",
    "shop_names=train['shop_name'].unique()\n",
    "# unique item name\n",
    "item_names=train['item_name'].unique()\n",
    "print(shop_names.shape,item_names.shape)"
   ]
  },
  {
   "cell_type": "code",
   "execution_count": null,
   "id": "5c4ec05c-1fd9-4482-b759-a04b97d8801c",
   "metadata": {},
   "outputs": [],
   "source": [
    "# select only the useful columns\n",
    "train=train[['date','date_block_num','shop_id','item_id','item_category_id','item_price','item_cnt_day']]\n",
    "train_monthly=train.groupby(['date_block_num','shop_id','item_category_id','item_id'],as_index=False).agg({'item_cnt_day': ['mean','sum'],'item_cnt_day':['mean','sum','count']})\n",
    "train_monthly.columns=['date_block_num','shop_id','item_category_id','item_id','item_price_mean','item_price_mean','item_cnt_day_sum','item_cnt_day_mean','item_cnt_day_count']"
   ]
  },
  {
   "cell_type": "markdown",
   "id": "d0a8dc5f-27b6-432a-818e-2286beb542c0",
   "metadata": {},
   "source": [
    "Credit: \n",
    "https://www.kaggle.com/code/nareshbhat/outlier-the-silent-killer\n",
    "https://www.kaggle.com/code/dimitreoliveira/model-stacking-feature-engineering-and-eda"
   ]
  },
  {
   "cell_type": "code",
   "execution_count": null,
   "id": "6cedad03-43f6-40d7-9790-0fc3b3e3fada",
   "metadata": {},
   "outputs": [],
   "source": []
  }
 ],
 "metadata": {
  "kernelspec": {
   "display_name": "stat:Python",
   "language": "python",
   "name": "conda-env-stat-py"
  },
  "language_info": {
   "codemirror_mode": {
    "name": "ipython",
    "version": 3
   },
   "file_extension": ".py",
   "mimetype": "text/x-python",
   "name": "python",
   "nbconvert_exporter": "python",
   "pygments_lexer": "ipython3",
   "version": "3.9.12"
  }
 },
 "nbformat": 4,
 "nbformat_minor": 5
}
