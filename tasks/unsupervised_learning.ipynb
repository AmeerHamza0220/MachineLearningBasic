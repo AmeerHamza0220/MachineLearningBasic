{
 "cells": [
  {
   "cell_type": "code",
   "execution_count": 1,
   "id": "23378ec5-37f4-4c46-a90a-78afce2db104",
   "metadata": {},
   "outputs": [],
   "source": [
    "import pandas as pd\n",
    "import numpy as np\n",
    "from sklearn.preprocessing import StandardScaler\n",
    "from sklearn.cluster import KMeans\n",
    "from sklearn.decomposition import PCA\n",
    "import seaborn as sns\n",
    "from sklearn.metrics import silhouette_score"
   ]
  },
  {
   "cell_type": "code",
   "execution_count": 2,
   "id": "90bb6746-3df6-4bd6-9a24-6fddbd34e1ae",
   "metadata": {},
   "outputs": [
    {
     "data": {
      "text/html": [
       "<div>\n",
       "<style scoped>\n",
       "    .dataframe tbody tr th:only-of-type {\n",
       "        vertical-align: middle;\n",
       "    }\n",
       "\n",
       "    .dataframe tbody tr th {\n",
       "        vertical-align: top;\n",
       "    }\n",
       "\n",
       "    .dataframe thead th {\n",
       "        text-align: right;\n",
       "    }\n",
       "</style>\n",
       "<table border=\"1\" class=\"dataframe\">\n",
       "  <thead>\n",
       "    <tr style=\"text-align: right;\">\n",
       "      <th></th>\n",
       "      <th>id</th>\n",
       "      <th>f_00</th>\n",
       "      <th>f_01</th>\n",
       "      <th>f_02</th>\n",
       "      <th>f_03</th>\n",
       "      <th>f_04</th>\n",
       "      <th>f_05</th>\n",
       "      <th>f_06</th>\n",
       "      <th>f_07</th>\n",
       "      <th>f_08</th>\n",
       "      <th>...</th>\n",
       "      <th>f_19</th>\n",
       "      <th>f_20</th>\n",
       "      <th>f_21</th>\n",
       "      <th>f_22</th>\n",
       "      <th>f_23</th>\n",
       "      <th>f_24</th>\n",
       "      <th>f_25</th>\n",
       "      <th>f_26</th>\n",
       "      <th>f_27</th>\n",
       "      <th>f_28</th>\n",
       "    </tr>\n",
       "  </thead>\n",
       "  <tbody>\n",
       "    <tr>\n",
       "      <th>0</th>\n",
       "      <td>0</td>\n",
       "      <td>-0.389420</td>\n",
       "      <td>-0.912791</td>\n",
       "      <td>0.648951</td>\n",
       "      <td>0.589045</td>\n",
       "      <td>-0.830817</td>\n",
       "      <td>0.733624</td>\n",
       "      <td>2.258560</td>\n",
       "      <td>2</td>\n",
       "      <td>13</td>\n",
       "      <td>...</td>\n",
       "      <td>-0.478412</td>\n",
       "      <td>-0.757002</td>\n",
       "      <td>-0.763635</td>\n",
       "      <td>-1.090369</td>\n",
       "      <td>1.142641</td>\n",
       "      <td>-0.884274</td>\n",
       "      <td>1.137896</td>\n",
       "      <td>1.309073</td>\n",
       "      <td>1.463002</td>\n",
       "      <td>0.813527</td>\n",
       "    </tr>\n",
       "    <tr>\n",
       "      <th>1</th>\n",
       "      <td>1</td>\n",
       "      <td>-0.689249</td>\n",
       "      <td>-0.453954</td>\n",
       "      <td>0.654175</td>\n",
       "      <td>0.995248</td>\n",
       "      <td>-1.653020</td>\n",
       "      <td>0.863810</td>\n",
       "      <td>-0.090651</td>\n",
       "      <td>2</td>\n",
       "      <td>3</td>\n",
       "      <td>...</td>\n",
       "      <td>-0.428791</td>\n",
       "      <td>-0.089908</td>\n",
       "      <td>-1.784204</td>\n",
       "      <td>-0.839474</td>\n",
       "      <td>0.459685</td>\n",
       "      <td>1.759412</td>\n",
       "      <td>-0.275422</td>\n",
       "      <td>-0.852168</td>\n",
       "      <td>0.562457</td>\n",
       "      <td>-2.680541</td>\n",
       "    </tr>\n",
       "    <tr>\n",
       "      <th>2</th>\n",
       "      <td>2</td>\n",
       "      <td>0.809079</td>\n",
       "      <td>0.324568</td>\n",
       "      <td>-1.170602</td>\n",
       "      <td>-0.624491</td>\n",
       "      <td>0.105448</td>\n",
       "      <td>0.783948</td>\n",
       "      <td>1.988301</td>\n",
       "      <td>5</td>\n",
       "      <td>11</td>\n",
       "      <td>...</td>\n",
       "      <td>-0.413534</td>\n",
       "      <td>-1.602377</td>\n",
       "      <td>1.190984</td>\n",
       "      <td>3.267116</td>\n",
       "      <td>-0.088322</td>\n",
       "      <td>-2.168635</td>\n",
       "      <td>-0.974989</td>\n",
       "      <td>1.335763</td>\n",
       "      <td>-1.110655</td>\n",
       "      <td>-3.630723</td>\n",
       "    </tr>\n",
       "    <tr>\n",
       "      <th>3</th>\n",
       "      <td>3</td>\n",
       "      <td>-0.500923</td>\n",
       "      <td>0.229049</td>\n",
       "      <td>0.264109</td>\n",
       "      <td>0.231520</td>\n",
       "      <td>0.415012</td>\n",
       "      <td>-1.221269</td>\n",
       "      <td>0.138850</td>\n",
       "      <td>6</td>\n",
       "      <td>2</td>\n",
       "      <td>...</td>\n",
       "      <td>0.619283</td>\n",
       "      <td>1.287801</td>\n",
       "      <td>0.532837</td>\n",
       "      <td>1.036631</td>\n",
       "      <td>-2.041828</td>\n",
       "      <td>1.440490</td>\n",
       "      <td>-1.900191</td>\n",
       "      <td>-0.630771</td>\n",
       "      <td>-0.050641</td>\n",
       "      <td>0.238333</td>\n",
       "    </tr>\n",
       "    <tr>\n",
       "      <th>4</th>\n",
       "      <td>4</td>\n",
       "      <td>-0.671268</td>\n",
       "      <td>-1.039533</td>\n",
       "      <td>-0.270155</td>\n",
       "      <td>-1.830264</td>\n",
       "      <td>-0.290108</td>\n",
       "      <td>-1.852809</td>\n",
       "      <td>0.781898</td>\n",
       "      <td>8</td>\n",
       "      <td>7</td>\n",
       "      <td>...</td>\n",
       "      <td>-1.628830</td>\n",
       "      <td>-0.434948</td>\n",
       "      <td>0.322505</td>\n",
       "      <td>0.284326</td>\n",
       "      <td>-2.438365</td>\n",
       "      <td>1.473930</td>\n",
       "      <td>-1.044684</td>\n",
       "      <td>1.602686</td>\n",
       "      <td>-0.405263</td>\n",
       "      <td>-1.987263</td>\n",
       "    </tr>\n",
       "  </tbody>\n",
       "</table>\n",
       "<p>5 rows × 30 columns</p>\n",
       "</div>"
      ],
      "text/plain": [
       "   id      f_00      f_01      f_02      f_03      f_04      f_05      f_06  \\\n",
       "0   0 -0.389420 -0.912791  0.648951  0.589045 -0.830817  0.733624  2.258560   \n",
       "1   1 -0.689249 -0.453954  0.654175  0.995248 -1.653020  0.863810 -0.090651   \n",
       "2   2  0.809079  0.324568 -1.170602 -0.624491  0.105448  0.783948  1.988301   \n",
       "3   3 -0.500923  0.229049  0.264109  0.231520  0.415012 -1.221269  0.138850   \n",
       "4   4 -0.671268 -1.039533 -0.270155 -1.830264 -0.290108 -1.852809  0.781898   \n",
       "\n",
       "   f_07  f_08  ...      f_19      f_20      f_21      f_22      f_23  \\\n",
       "0     2    13  ... -0.478412 -0.757002 -0.763635 -1.090369  1.142641   \n",
       "1     2     3  ... -0.428791 -0.089908 -1.784204 -0.839474  0.459685   \n",
       "2     5    11  ... -0.413534 -1.602377  1.190984  3.267116 -0.088322   \n",
       "3     6     2  ...  0.619283  1.287801  0.532837  1.036631 -2.041828   \n",
       "4     8     7  ... -1.628830 -0.434948  0.322505  0.284326 -2.438365   \n",
       "\n",
       "       f_24      f_25      f_26      f_27      f_28  \n",
       "0 -0.884274  1.137896  1.309073  1.463002  0.813527  \n",
       "1  1.759412 -0.275422 -0.852168  0.562457 -2.680541  \n",
       "2 -2.168635 -0.974989  1.335763 -1.110655 -3.630723  \n",
       "3  1.440490 -1.900191 -0.630771 -0.050641  0.238333  \n",
       "4  1.473930 -1.044684  1.602686 -0.405263 -1.987263  \n",
       "\n",
       "[5 rows x 30 columns]"
      ]
     },
     "execution_count": 2,
     "metadata": {},
     "output_type": "execute_result"
    }
   ],
   "source": [
    "data=pd.read_csv('data/data.csv')\n",
    "submission=pd.read_csv('data/sample_submission.csv')\n",
    "data.head(5)"
   ]
  },
  {
   "cell_type": "code",
   "execution_count": 5,
   "id": "9a62b84f-92e3-4b26-95dd-a868f9a0fe5a",
   "metadata": {},
   "outputs": [
    {
     "data": {
      "text/plain": [
       "id        int64\n",
       "f_00    float64\n",
       "f_01    float64\n",
       "f_02    float64\n",
       "f_03    float64\n",
       "f_04    float64\n",
       "f_05    float64\n",
       "f_06    float64\n",
       "f_07      int64\n",
       "f_08      int64\n",
       "f_09      int64\n",
       "f_10      int64\n",
       "f_11      int64\n",
       "f_12      int64\n",
       "f_13      int64\n",
       "f_14    float64\n",
       "f_15    float64\n",
       "f_16    float64\n",
       "f_17    float64\n",
       "f_18    float64\n",
       "f_19    float64\n",
       "f_20    float64\n",
       "f_21    float64\n",
       "f_22    float64\n",
       "f_23    float64\n",
       "f_24    float64\n",
       "f_25    float64\n",
       "f_26    float64\n",
       "f_27    float64\n",
       "f_28    float64\n",
       "dtype: object"
      ]
     },
     "execution_count": 5,
     "metadata": {},
     "output_type": "execute_result"
    }
   ],
   "source": [
    "data.dtypes"
   ]
  },
  {
   "cell_type": "code",
   "execution_count": 3,
   "id": "5c3ba0d3-2506-4dd7-ac0b-33433325ae09",
   "metadata": {},
   "outputs": [],
   "source": [
    "# normalize\n",
    "scaler=StandardScaler()\n",
    "scaler.fit(data)\n",
    "data_scaled=scaler.transform(data)"
   ]
  },
  {
   "cell_type": "code",
   "execution_count": 5,
   "id": "28596cd7-a4ad-4c22-9726-fc02c0587cdf",
   "metadata": {},
   "outputs": [
    {
     "name": "stdout",
     "output_type": "stream",
     "text": [
      "CPU times: user 7.12 s, sys: 1.44 s, total: 8.56 s\n",
      "Wall time: 2.3 s\n"
     ]
    }
   ],
   "source": [
    "%%time\n",
    "kmeans=KMeans(n_clusters=4)\n",
    "kmeans.fit(data_scaled)\n",
    "# predict\n",
    "pred=kmeans.predict(data_scaled)"
   ]
  },
  {
   "cell_type": "code",
   "execution_count": 6,
   "id": "a25d70b4-1511-4405-ae9f-d58be5e3a432",
   "metadata": {},
   "outputs": [
    {
     "data": {
      "image/png": "[encoded data removed]",
      "text/plain": [
       "<Figure size 432x288 with 1 Axes>"
      ]
     },
     "metadata": {
      "needs_background": "light"
     },
     "output_type": "display_data"
    }
   ],
   "source": [
    "# pca to 2\n",
    "from sklearn.decomposition import PCA\n",
    "pca=PCA(n_components=2)\n",
    "pca.fit(data_scaled)\n",
    "data_pca=pca.transform(data_scaled)\n",
    "# visualize\n",
    "import matplotlib.pyplot as plt\n",
    "sns.scatterplot(x=data_pca[:,0],y=data_pca[:,1],hue=pred)\n",
    "plt.show()\n"
   ]
  },
  {
   "cell_type": "code",
   "execution_count": 7,
   "id": "5fced2a4-13ea-4773-9bc6-219c6e4c524e",
   "metadata": {},
   "outputs": [
    {
     "name": "stderr",
     "output_type": "stream",
     "text": [
      "/home/studio-lab-user/.conda/envs/stat/lib/python3.10/site-packages/seaborn/_decorators.py:36: FutureWarning: Pass the following variables as keyword args: x, y. From version 0.12, the only valid positional argument will be `data`, and passing other arguments without an explicit keyword will result in an error or misinterpretation.\n",
      "  warnings.warn(\n"
     ]
    },
    {
     "data": {
      "text/plain": [
       "<AxesSubplot:>"
      ]
     },
     "execution_count": 7,
     "metadata": {},
     "output_type": "execute_result"
    },
    {
     "data": {
      "image/png": "[encoded data removed]",
      "text/plain": [
       "<Figure size 432x288 with 1 Axes>"
      ]
     },
     "metadata": {
      "needs_background": "light"
     },
     "output_type": "display_data"
    }
   ],
   "source": [
    "# count unique pred\n",
    "pred_count=pd.Series(pred).value_counts()\n",
    "# bar plot\n",
    "sns.barplot(pred_count.index,pred_count.values)"
   ]
  },
  {
   "cell_type": "code",
   "execution_count": 8,
   "id": "050f1d65-7d2b-4cb2-96b9-c4cfc49cf055",
   "metadata": {},
   "outputs": [],
   "source": [
    "submission['Predicted']=pred\n",
    "submission.to_csv('data/submission.csv',index=False)"
   ]
  },
  {
   "cell_type": "markdown",
   "id": "c36ddafd-7686-4e85-957c-cad65c7670d7",
   "metadata": {},
   "source": [
    "With 4 clusters score is 0.22 with 3 it was 0.17. We can find the optimal number of clusters by looking at the graph otherwise silhouette_score approach will takes forever."
   ]
  },
  {
   "cell_type": "code",
   "execution_count": 9,
   "id": "fb66d8c6-ab4f-4adc-91b9-510359e9e0a1",
   "metadata": {},
   "outputs": [],
   "source": [
    "# clusters=[ 3,5,7,9]\n",
    "# scores=[]\n",
    "# for i in clusters:\n",
    "#     print(i)\n",
    "#     kmeans=KMeans(n_clusters=i)\n",
    "#     kmeans.fit(data_scaled)\n",
    "#     scores.append(silhouette_score(data_scaled,kmeans.labels_))\n",
    "# # plot\n",
    "# plt.plot(clusters,scores)\n",
    "# plt.xlabel('Number of Clusters')\n",
    "# plt.ylabel('Silhouette Score')\n",
    "# plt.show()"
   ]
  },
  {
   "cell_type": "code",
   "execution_count": 35,
   "id": "e9466247-837b-4838-8901-a0f38a7e09bf",
   "metadata": {},
   "outputs": [
    {
     "name": "stderr",
     "output_type": "stream",
     "text": [
      "/home/studio-lab-user/.conda/envs/stat/lib/python3.9/site-packages/seaborn/_decorators.py:36: FutureWarning: Pass the following variables as keyword args: x, y. From version 0.12, the only valid positional argument will be `data`, and passing other arguments without an explicit keyword will result in an error or misinterpretation.\n",
      "  warnings.warn(\n"
     ]
    },
    {
     "data": {
      "text/plain": [
       "<AxesSubplot:>"
      ]
     },
     "execution_count": 35,
     "metadata": {},
     "output_type": "execute_result"
    },
    {
     "data": {
      "image/png": "[encoded data removed]",
      "text/plain": [
       "<Figure size 432x288 with 1 Axes>"
      ]
     },
     "metadata": {
      "needs_background": "light"
     },
     "output_type": "display_data"
    }
   ],
   "source": [
    "# # DBSCAN need improvement not finding clusters!\n",
    "# from sklearn.cluster import DBSCAN\n",
    "# dbscan=DBSCAN(eps=0.1, min_samples=20,n_jobs=-1)\n",
    "# dbscan.fit(data)\n",
    "# pred_dbscan=dbscan.labels_\n",
    "# # count unique pred\n",
    "# pred_count_dbscan=pd.Series(pred_dbscan).value_counts()\n",
    "# # bar plot\n",
    "# sns.barplot(pred_count_dbscan.index,pred_count_dbscan.values)"
   ]
  },
  {
   "cell_type": "code",
   "execution_count": null,
   "id": "dc9dad0c-8ab3-4639-a136-7c2e89b75964",
   "metadata": {},
   "outputs": [],
   "source": [
    "# # guassian mixture model\n",
    "# from sklearn.mixture import GaussianMixture\n",
    "# bic_score={}\n",
    "# for covariance in ['spherical', 'tied', 'diag', 'full']:\n",
    "#     for i in range(1,12):\n",
    "#         gmm=GaussianMixture(n_components=i,covariance_type=covariance)\n",
    "#         gmm.fit(data_scaled)\n",
    "#         bic_score[covariance,i]=gmm.bic(data_scaled)\n",
    "\n",
    "    "
   ]
  },
  {
   "cell_type": "code",
   "execution_count": null,
   "id": "9b6e326d-828f-4edb-bf6d-69fdf88c3bea",
   "metadata": {},
   "outputs": [],
   "source": [
    "# n_components=7 and covariance_type='full'\n",
    "from sklearn.mixture import GaussianMixture\n",
    "\n",
    "gmm=GaussianMixture(n_components=7,covariance_type='full')\n",
    "gmm.fit(data_scaled)\n",
    "pred_gmm=gmm.predict(data_scaled)\n",
    "submission['Predicted']=pred_gmm\n",
    "submission.to_csv('data/submission.csv',index=False)"
   ]
  },
  {
   "cell_type": "markdown",
   "id": "a3c8f9fa-ae3c-4a2d-80bf-ce762275967a",
   "metadata": {},
   "source": [
    "The above model gives the scores of 0.50. because the data is guassian so it work best\n"
   ]
  },
  {
   "cell_type": "code",
   "execution_count": 9,
   "id": "bb603ad7",
   "metadata": {},
   "outputs": [],
   "source": [
    "# powertranform\n",
    "from sklearn.preprocessing import PowerTransformer\n",
    "pt=PowerTransformer()\n",
    "pt.fit(data)\n",
    "data_pt=pt.transform(data)\n",
    "data_pt=pd.DataFrame(data_pt,columns=data.columns)"
   ]
  },
  {
   "cell_type": "code",
   "execution_count": null,
   "id": "ea911892",
   "metadata": {},
   "outputs": [],
   "source": [
    "# guassian mixture model\n",
    "from sklearn.mixture import GaussianMixture\n",
    "gmm=GaussianMixture(n_components=7,covariance_type='full')\n",
    "gmm.fit(data_pt)\n",
    "pred_gmm=gmm.predict(data_pt)\n",
    "submission['Predicted']=pred_gmm\n",
    "submission.to_csv('data/submission.csv',index=False)"
   ]
  },
  {
   "cell_type": "markdown",
   "id": "6f4d36b3-260c-4a58-869b-42dc1da5e850",
   "metadata": {},
   "source": [
    "Using PowerTransformer (that make guassian like) improve accuracy by 3 percent. Now try BayesianGaussianMixture and brute force for n components"
   ]
  },
  {
   "cell_type": "code",
   "execution_count": null,
   "id": "bedde51c-df94-4565-b91b-59640eb8b43d",
   "metadata": {},
   "outputs": [],
   "source": [
    "# BayesianGaussianMixture\n",
    "from sklearn.mixture import BayesianGaussianMixture\n",
    "bgmm=BayesianGaussianMixture(n_components=7, n_init = 5)\n",
    "bgmm.fit(data_pt)\n",
    "pred_bgmm=bgmm.predict(data_pt)\n",
    "# pca\n",
    "pca=PCA(n_components=2)\n",
    "pca.fit(data_pt)\n",
    "data_pca=pca.transform(data_pt)\n",
    "# visualize\n",
    "sns.scatterplot(x=data_pca[:,0],y=data_pca[:,1],hue=pred_bgmm)\n",
    "plt.show()\n",
    "submission['Predicted']=pred_bgmm\n",
    "submission.to_csv('data/submission.csv',index=False)"
   ]
  },
  {
   "cell_type": "markdown",
   "id": "9b8b9e83-1579-4391-8ef1-de770386cf35",
   "metadata": {},
   "source": [
    "using the above strategy we can brute force for different value and look at the pca plot to select the best value"
   ]
  },
  {
   "cell_type": "code",
   "execution_count": 6,
   "id": "c276eef1-4962-46b5-82a4-c205b85027e3",
   "metadata": {},
   "outputs": [],
   "source": [
    "submission['Predicted']=pred_bgmm\n",
    "submission.to_csv('data/submission.csv',index=False)"
   ]
  },
  {
   "cell_type": "markdown",
   "id": "3d25293b-ab27-4d5b-898e-aa6061fb1921",
   "metadata": {},
   "source": [
    "It proves the score to 0.59 by upto 6 percent"
   ]
  },
  {
   "cell_type": "markdown",
   "id": "0f8eeaa0-dc82-4e90-8641-d01bb2c4b389",
   "metadata": {},
   "source": [
    "Selecting only important features"
   ]
  },
  {
   "cell_type": "code",
   "execution_count": 10,
   "id": "01216ceb-5327-4a73-b7c0-2b252fe14827",
   "metadata": {},
   "outputs": [],
   "source": [
    "feats= ['f_07', 'f_08', 'f_09', 'f_10', 'f_11', 'f_12', 'f_13', 'f_22', 'f_23', 'f_24', 'f_25', 'f_26', 'f_27', 'f_28']"
   ]
  },
  {
   "cell_type": "code",
   "execution_count": 11,
   "id": "789e1d22-ab17-455f-8e78-29cae33960f5",
   "metadata": {},
   "outputs": [],
   "source": [
    "from sklearn.metrics import silhouette_score, calinski_harabasz_score, davies_bouldin_score\n",
    "def compute_scores(pred,data):\n",
    "    # compute silhouette , calinski harabasz score and davies bouldin score\n",
    "\n",
    "    score={}\n",
    "    score['silhouette']=silhouette_score(data,pred)\n",
    "    score['calinski_harabasz']=calinski_harabasz_score(data,pred)\n",
    "    score['davies_bouldin']=davies_bouldin_score(data,pred)\n",
    "    return score"
   ]
  },
  {
   "cell_type": "code",
   "execution_count": null,
   "id": "5b8b79e8-be52-4411-8ac4-1f1407b4ea33",
   "metadata": {},
   "outputs": [],
   "source": [
    "%%time\n",
    "data_scaled=PowerTransformer().fit_transform(data[feats])\n",
    "# guassian mixture model\n",
    "from sklearn.mixture import BayesianGaussianMixture\n",
    "bgmm=BayesianGaussianMixture(n_components=7, n_init = 5)\n",
    "bgmm.fit(data_scaled)\n",
    "pred_bgmm=bgmm.predict(data_scaled)\n",
    "submission['Predicted']=pred_bgmm\n",
    "submission.to_csv('data/submission.csv',index=False)\n",
    "scores=compute_scores(pred_bgmm,data_scaled)\n",
    "print(scores)"
   ]
  },
  {
   "cell_type": "markdown",
   "id": "79755359-eeb0-4dd8-b149-9ebcb5be03cd",
   "metadata": {},
   "source": [
    "It improves the scores to 0.60"
   ]
  },
  {
   "cell_type": "code",
   "execution_count": 13,
   "id": "4971af62",
   "metadata": {},
   "outputs": [
    {
     "data": {
      "text/plain": [
       "(98000, 14)"
      ]
     },
     "execution_count": 13,
     "metadata": {},
     "output_type": "execute_result"
    }
   ],
   "source": [
    "data_scaled.shape"
   ]
  },
  {
   "cell_type": "code",
   "execution_count": null,
   "id": "bea80f6d",
   "metadata": {},
   "outputs": [
    {
     "name": "stdout",
     "output_type": "stream",
     "text": [
      "{'silhouette': 0.036927060949512445, 'calinski_harabasz': 3829.549565228582, 'davies_bouldin': 3.6671367812082294}\n",
      "247.81039357185364\n"
     ]
    }
   ],
   "source": [
    "# fitting 7 different models\n",
    "import time\n",
    "\n",
    "data_scaled=PowerTransformer().fit_transform(data[feats])\n",
    "data_scaled=pd.DataFrame(data_scaled,columns=feats)\n",
    "predicted_probabilities=pd.DataFrame(np.zeros((data.shape[0],7)),columns=['gmm_0','gmm_1','gmm_2','gmm_3','gmm_4','gmm_5','gmm_6'])\n",
    "for i in range(7):\n",
    "    start=time.time()\n",
    "    bgmm=BayesianGaussianMixture(n_components=7, n_init = 3,\n",
    "    max_iter=300,covariance_type='full',\n",
    "    random_state=i)\n",
    "    sample= data_scaled.sample(45000)\n",
    "    bgmm.fit(data_scaled)\n",
    "    predict_proba=bgmm.predict_proba(data_scaled)\n",
    "    predict_proba=pd.DataFrame(predict_proba,columns=range(1,8))\n",
    "\n",
    "    # ensuring clusters are labeled the same value at each fit\n",
    "    if i==0:\n",
    "        initial_centers=bgmm.means_\n",
    "    new_classes=[]\n",
    "    for mean in bgmm.means_:\n",
    "        new_classes.append(np.argmin(np.linalg.norm(mean-initial_centers,axis=1))+1)\n",
    "    if len(new_classes) != len(set(new_classes)):\n",
    "        print(\"iteration\", i, \"could not determine the cluster label mapping, skipping\")\n",
    "        continue\n",
    "    #apply the mapping by renaming the dataframe columns representing the original labels to the new labels\n",
    "    predict_proba = predict_proba.rename(columns=dict(zip(range(1,8),new_classes)))\n",
    "    predicted_probabilities=predicted_probabilities.add(predict_proba,fill_value=0)\n",
    "    # compute the scores\n",
    "    scores=compute_scores(predicted_probabilities.idxmax(axis=1),data_scaled)\n",
    "    print(scores)\n",
    "    end=time.time()\n",
    "    print(end-start)\n",
    "#normalize the predicted probabilities\n",
    "predicted_probabilities=predicted_probabilities.div(predicted_probabilities.sum(axis=1),axis=0)"
   ]
  },
  {
   "cell_type": "code",
   "execution_count": 32,
   "id": "d5772693",
   "metadata": {},
   "outputs": [],
   "source": [
    "# it took 30 min to we are going to save this file.\n",
    "predicted_probabilities.to_csv('data/predicted_probabilities.csv',index=False)\n",
    "# predicted_probabilities = pd.read_csv('data/predicted_probabilities.csv')"
   ]
  },
  {
   "cell_type": "code",
   "execution_count": 20,
   "id": "52e0ef0a",
   "metadata": {},
   "outputs": [
    {
     "data": {
      "text/html": [
       "<div>\n",
       "<style scoped>\n",
       "    .dataframe tbody tr th:only-of-type {\n",
       "        vertical-align: middle;\n",
       "    }\n",
       "\n",
       "    .dataframe tbody tr th {\n",
       "        vertical-align: top;\n",
       "    }\n",
       "\n",
       "    .dataframe thead th {\n",
       "        text-align: right;\n",
       "    }\n",
       "</style>\n",
       "<table border=\"1\" class=\"dataframe\">\n",
       "  <thead>\n",
       "    <tr style=\"text-align: right;\">\n",
       "      <th></th>\n",
       "      <th>1</th>\n",
       "      <th>2</th>\n",
       "      <th>3</th>\n",
       "      <th>4</th>\n",
       "      <th>5</th>\n",
       "      <th>6</th>\n",
       "      <th>7</th>\n",
       "      <th>gmm_0</th>\n",
       "      <th>gmm_1</th>\n",
       "      <th>gmm_2</th>\n",
       "      <th>gmm_3</th>\n",
       "      <th>gmm_4</th>\n",
       "      <th>gmm_5</th>\n",
       "      <th>gmm_6</th>\n",
       "      <th>highest_prob</th>\n",
       "      <th>best_class</th>\n",
       "      <th>second_highest_prob</th>\n",
       "      <th>second_best_class</th>\n",
       "    </tr>\n",
       "  </thead>\n",
       "  <tbody>\n",
       "    <tr>\n",
       "      <th>0</th>\n",
       "      <td>0.000473</td>\n",
       "      <td>0.012437</td>\n",
       "      <td>0.977658</td>\n",
       "      <td>4.987069e-07</td>\n",
       "      <td>0.003519</td>\n",
       "      <td>0.002511</td>\n",
       "      <td>0.003402</td>\n",
       "      <td>0.0</td>\n",
       "      <td>0.0</td>\n",
       "      <td>0.0</td>\n",
       "      <td>0.0</td>\n",
       "      <td>0.0</td>\n",
       "      <td>0.0</td>\n",
       "      <td>0.0</td>\n",
       "      <td>0.977658</td>\n",
       "      <td>3</td>\n",
       "      <td>0.012437</td>\n",
       "      <td>2</td>\n",
       "    </tr>\n",
       "    <tr>\n",
       "      <th>1</th>\n",
       "      <td>0.003582</td>\n",
       "      <td>0.939477</td>\n",
       "      <td>0.000318</td>\n",
       "      <td>1.331262e-02</td>\n",
       "      <td>0.000012</td>\n",
       "      <td>0.025875</td>\n",
       "      <td>0.017423</td>\n",
       "      <td>0.0</td>\n",
       "      <td>0.0</td>\n",
       "      <td>0.0</td>\n",
       "      <td>0.0</td>\n",
       "      <td>0.0</td>\n",
       "      <td>0.0</td>\n",
       "      <td>0.0</td>\n",
       "      <td>0.939477</td>\n",
       "      <td>2</td>\n",
       "      <td>0.025875</td>\n",
       "      <td>6</td>\n",
       "    </tr>\n",
       "    <tr>\n",
       "      <th>2</th>\n",
       "      <td>0.001483</td>\n",
       "      <td>0.000352</td>\n",
       "      <td>0.810159</td>\n",
       "      <td>1.060528e-08</td>\n",
       "      <td>0.187889</td>\n",
       "      <td>0.000017</td>\n",
       "      <td>0.000100</td>\n",
       "      <td>0.0</td>\n",
       "      <td>0.0</td>\n",
       "      <td>0.0</td>\n",
       "      <td>0.0</td>\n",
       "      <td>0.0</td>\n",
       "      <td>0.0</td>\n",
       "      <td>0.0</td>\n",
       "      <td>0.810159</td>\n",
       "      <td>3</td>\n",
       "      <td>0.187889</td>\n",
       "      <td>5</td>\n",
       "    </tr>\n",
       "    <tr>\n",
       "      <th>3</th>\n",
       "      <td>0.028005</td>\n",
       "      <td>0.015007</td>\n",
       "      <td>0.000017</td>\n",
       "      <td>8.511881e-01</td>\n",
       "      <td>0.095169</td>\n",
       "      <td>0.010566</td>\n",
       "      <td>0.000047</td>\n",
       "      <td>0.0</td>\n",
       "      <td>0.0</td>\n",
       "      <td>0.0</td>\n",
       "      <td>0.0</td>\n",
       "      <td>0.0</td>\n",
       "      <td>0.0</td>\n",
       "      <td>0.0</td>\n",
       "      <td>0.851188</td>\n",
       "      <td>4</td>\n",
       "      <td>0.095169</td>\n",
       "      <td>5</td>\n",
       "    </tr>\n",
       "    <tr>\n",
       "      <th>4</th>\n",
       "      <td>0.980489</td>\n",
       "      <td>0.019319</td>\n",
       "      <td>0.000005</td>\n",
       "      <td>8.708634e-07</td>\n",
       "      <td>0.000011</td>\n",
       "      <td>0.000003</td>\n",
       "      <td>0.000172</td>\n",
       "      <td>0.0</td>\n",
       "      <td>0.0</td>\n",
       "      <td>0.0</td>\n",
       "      <td>0.0</td>\n",
       "      <td>0.0</td>\n",
       "      <td>0.0</td>\n",
       "      <td>0.0</td>\n",
       "      <td>0.980489</td>\n",
       "      <td>1</td>\n",
       "      <td>0.019319</td>\n",
       "      <td>2</td>\n",
       "    </tr>\n",
       "  </tbody>\n",
       "</table>\n",
       "</div>"
      ],
      "text/plain": [
       "          1         2         3             4         5         6         7  \\\n",
       "0  0.000473  0.012437  0.977658  4.987069e-07  0.003519  0.002511  0.003402   \n",
       "1  0.003582  0.939477  0.000318  1.331262e-02  0.000012  0.025875  0.017423   \n",
       "2  0.001483  0.000352  0.810159  1.060528e-08  0.187889  0.000017  0.000100   \n",
       "3  0.028005  0.015007  0.000017  8.511881e-01  0.095169  0.010566  0.000047   \n",
       "4  0.980489  0.019319  0.000005  8.708634e-07  0.000011  0.000003  0.000172   \n",
       "\n",
       "   gmm_0  gmm_1  gmm_2  gmm_3  gmm_4  gmm_5  gmm_6  highest_prob  best_class  \\\n",
       "0    0.0    0.0    0.0    0.0    0.0    0.0    0.0      0.977658           3   \n",
       "1    0.0    0.0    0.0    0.0    0.0    0.0    0.0      0.939477           2   \n",
       "2    0.0    0.0    0.0    0.0    0.0    0.0    0.0      0.810159           3   \n",
       "3    0.0    0.0    0.0    0.0    0.0    0.0    0.0      0.851188           4   \n",
       "4    0.0    0.0    0.0    0.0    0.0    0.0    0.0      0.980489           1   \n",
       "\n",
       "   second_highest_prob  second_best_class  \n",
       "0             0.012437                  2  \n",
       "1             0.025875                  6  \n",
       "2             0.187889                  5  \n",
       "3             0.095169                  5  \n",
       "4             0.019319                  2  "
      ]
     },
     "execution_count": 20,
     "metadata": {},
     "output_type": "execute_result"
    }
   ],
   "source": [
    "def best_class(df):\n",
    "    new_df = df.copy()\n",
    "    new_df[\"highest_prob\"] = df.max(axis=1)\n",
    "    new_df[\"best_class\"] = df.idxmax(axis=1)\n",
    "    new_df[\"second_highest_prob\"] = df.apply(lambda x: x.nlargest(2).values[-1], axis=1)\n",
    "    new_df[\"second_best_class\"] = df.apply(lambda x: np.where(x == x.nlargest(2).values[-1])[0][0]+1, axis=1)\n",
    "    return new_df\n",
    "cluster_class_probs = best_class(predicted_probabilities)\n",
    "cluster_class_probs.head()"
   ]
  },
  {
   "cell_type": "code",
   "execution_count": 21,
   "id": "29ef5c20",
   "metadata": {},
   "outputs": [
    {
     "data": {
      "image/png": "[encoded data removed]",
      "text/plain": [
       "<Figure size 576x432 with 1 Axes>"
      ]
     },
     "metadata": {
      "needs_background": "light"
     },
     "output_type": "display_data"
    }
   ],
   "source": [
    "confidence_s = cluster_class_probs.groupby(\"best_class\")[\"highest_prob\"].mean()\n",
    "f,ax = plt.subplots(figsize=(8,6))\n",
    "sns.barplot(x=confidence_s.index, y = confidence_s.values, palette=sns.color_palette(\"hls\", 7) );\n",
    "ax.set_ylabel(\"Mean probability of point belonging to target class\");\n",
    "ax.set_ylim([0.65,0.95]);"
   ]
  },
  {
   "cell_type": "code",
   "execution_count": 25,
   "id": "89e17efe",
   "metadata": {},
   "outputs": [],
   "source": [
    "confident_predictions = cluster_class_probs.loc[cluster_class_probs[\"highest_prob\"] >= 0.85]\n",
    "confident_predictions_class = confident_predictions[\"best_class\"]\n",
    "data_scaled['class'] = confident_predictions_class\n",
    "train_df = data_scaled.loc[data_scaled[\"class\"] == data_scaled[\"class\"]]\n"
   ]
  },
  {
   "cell_type": "code",
   "execution_count": 35,
   "id": "06bf85b4",
   "metadata": {},
   "outputs": [
    {
     "name": "stderr",
     "output_type": "stream",
     "text": [
      "/home/ubuntu/.local/lib/python3.10/site-packages/lightgbm/sklearn.py:726: UserWarning: 'early_stopping_rounds' argument is deprecated and will be removed in a future release of LightGBM. Pass 'early_stopping()' callback via 'callbacks' argument instead.\n",
      "  _log_warning(\"'early_stopping_rounds' argument is deprecated and will be removed in a future release of LightGBM. \"\n",
      "/home/ubuntu/.local/lib/python3.10/site-packages/lightgbm/sklearn.py:736: UserWarning: 'verbose' argument is deprecated and will be removed in a future release of LightGBM. Pass 'log_evaluation()' callback via 'callbacks' argument instead.\n",
      "  _log_warning(\"'verbose' argument is deprecated and will be removed in a future release of LightGBM. \"\n",
      "/home/ubuntu/.local/lib/python3.10/site-packages/lightgbm/sklearn.py:726: UserWarning: 'early_stopping_rounds' argument is deprecated and will be removed in a future release of LightGBM. Pass 'early_stopping()' callback via 'callbacks' argument instead.\n",
      "  _log_warning(\"'early_stopping_rounds' argument is deprecated and will be removed in a future release of LightGBM. \"\n",
      "/home/ubuntu/.local/lib/python3.10/site-packages/lightgbm/sklearn.py:736: UserWarning: 'verbose' argument is deprecated and will be removed in a future release of LightGBM. Pass 'log_evaluation()' callback via 'callbacks' argument instead.\n",
      "  _log_warning(\"'verbose' argument is deprecated and will be removed in a future release of LightGBM. \"\n",
      "/home/ubuntu/.local/lib/python3.10/site-packages/lightgbm/sklearn.py:726: UserWarning: 'early_stopping_rounds' argument is deprecated and will be removed in a future release of LightGBM. Pass 'early_stopping()' callback via 'callbacks' argument instead.\n",
      "  _log_warning(\"'early_stopping_rounds' argument is deprecated and will be removed in a future release of LightGBM. \"\n",
      "/home/ubuntu/.local/lib/python3.10/site-packages/lightgbm/sklearn.py:736: UserWarning: 'verbose' argument is deprecated and will be removed in a future release of LightGBM. Pass 'log_evaluation()' callback via 'callbacks' argument instead.\n",
      "  _log_warning(\"'verbose' argument is deprecated and will be removed in a future release of LightGBM. \"\n",
      "/home/ubuntu/.local/lib/python3.10/site-packages/lightgbm/sklearn.py:726: UserWarning: 'early_stopping_rounds' argument is deprecated and will be removed in a future release of LightGBM. Pass 'early_stopping()' callback via 'callbacks' argument instead.\n",
      "  _log_warning(\"'early_stopping_rounds' argument is deprecated and will be removed in a future release of LightGBM. \"\n",
      "/home/ubuntu/.local/lib/python3.10/site-packages/lightgbm/sklearn.py:736: UserWarning: 'verbose' argument is deprecated and will be removed in a future release of LightGBM. Pass 'log_evaluation()' callback via 'callbacks' argument instead.\n",
      "  _log_warning(\"'verbose' argument is deprecated and will be removed in a future release of LightGBM. \"\n",
      "/home/ubuntu/.local/lib/python3.10/site-packages/lightgbm/sklearn.py:726: UserWarning: 'early_stopping_rounds' argument is deprecated and will be removed in a future release of LightGBM. Pass 'early_stopping()' callback via 'callbacks' argument instead.\n",
      "  _log_warning(\"'early_stopping_rounds' argument is deprecated and will be removed in a future release of LightGBM. \"\n",
      "/home/ubuntu/.local/lib/python3.10/site-packages/lightgbm/sklearn.py:736: UserWarning: 'verbose' argument is deprecated and will be removed in a future release of LightGBM. Pass 'log_evaluation()' callback via 'callbacks' argument instead.\n",
      "  _log_warning(\"'verbose' argument is deprecated and will be removed in a future release of LightGBM. \"\n"
     ]
    }
   ],
   "source": [
    "from lightgbm import LGBMClassifier\n",
    "from sklearn.model_selection import StratifiedKFold\n",
    "from sklearn.metrics import accuracy_score\n",
    "X=train_df.drop(['class'],axis=1)\n",
    "y=train_df['class']\n",
    "# stratified k fold\n",
    "lgbm=LGBMClassifier(objective='multiclass',\n",
    "                            n_estimators = 5000,\n",
    "                            random_state = 42,\n",
    "                            learning_rate = 0.05,\n",
    "                            num_leaves = 62,\n",
    "                            n_jobs = -1)\n",
    "skf = StratifiedKFold(n_splits=5, shuffle=True, random_state=42)\n",
    "scores = []\n",
    "pred_list = np.zeros((data.shape[0],7))\n",
    "for train_index, test_index in skf.split(X, y):\n",
    "    X_train, X_test = X.iloc[train_index], X.iloc[test_index]\n",
    "    y_train, y_test = y.iloc[train_index], y.iloc[test_index]\n",
    "    lgbm.fit(X_train, y_train, eval_set=[(X_train, y_train), (X_test, y_test)], eval_metric='multi_logloss', verbose=False,early_stopping_rounds=300)\n",
    "    y_pred = lgbm.predict_proba(X_test)\n",
    "    pred = lgbm.predict_proba(data_scaled.drop(['class'],axis=1))\n",
    "    pred_list += pred\n",
    "   # scores.append(accuracy_score(y_test, y_pred))\n",
    "\n",
    "\n"
   ]
  },
  {
   "cell_type": "code",
   "execution_count": 36,
   "id": "a157453b",
   "metadata": {},
   "outputs": [],
   "source": [
    "submission['Predicted']=pred_list.argmax(axis=1)\n",
    "submission.to_csv('data/submission.csv',index=False)"
   ]
  },
  {
   "cell_type": "code",
   "execution_count": null,
   "id": "325f9cf3",
   "metadata": {},
   "outputs": [],
   "source": []
  }
 ],
 "metadata": {
  "kernelspec": {
   "display_name": "stat:Python",
   "language": "python",
   "name": "conda-env-stat-py"
  },
  "language_info": {
   "codemirror_mode": {
    "name": "ipython",
    "version": 3
   },
   "file_extension": ".py",
   "mimetype": "text/x-python",
   "name": "python",
   "nbconvert_exporter": "python",
   "pygments_lexer": "ipython3",
   "version": "3.10.5"
  },
  "vscode": {
   "interpreter": {
    "hash": "916dbcbb3f70747c44a77c7bcd40155683ae19c65e1c03b4aa3499c5328201f1"
   }
  }
 },
 "nbformat": 4,
 "nbformat_minor": 5
}
