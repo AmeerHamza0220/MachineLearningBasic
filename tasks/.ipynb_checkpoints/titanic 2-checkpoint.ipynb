{
 "cells": [
  {
   "cell_type": "code",
   "execution_count": 14,
   "id": "bd118fbf-a498-4ad6-a841-b322622ad5d1",
   "metadata": {},
   "outputs": [],
   "source": [
    "import pandas as pd\n",
    "import numpy as np\n",
    "import matplotlib.pyplot as plt\n",
    "import seaborn as sns\n",
    "from sklearn.metrics import accuracy_score\n",
    "import warnings\n",
    "warnings.filterwarnings('ignore')"
   ]
  },
  {
   "cell_type": "code",
   "execution_count": 33,
   "id": "4f555508-93c6-43e9-9ef6-837c7cbdce83",
   "metadata": {},
   "outputs": [],
   "source": [
    "train_data=pd.read_csv('data/train.csv')\n",
    "test_data=pd.read_csv('data/test.csv')\n"
   ]
  },
  {
   "cell_type": "code",
   "execution_count": 3,
   "id": "f9b1d1a0-75b1-4792-923b-05244157de06",
   "metadata": {},
   "outputs": [
    {
     "data": {
      "text/html": [
       "<div>\n",
       "<style scoped>\n",
       "    .dataframe tbody tr th:only-of-type {\n",
       "        vertical-align: middle;\n",
       "    }\n",
       "\n",
       "    .dataframe tbody tr th {\n",
       "        vertical-align: top;\n",
       "    }\n",
       "\n",
       "    .dataframe thead th {\n",
       "        text-align: right;\n",
       "    }\n",
       "</style>\n",
       "<table border=\"1\" class=\"dataframe\">\n",
       "  <thead>\n",
       "    <tr style=\"text-align: right;\">\n",
       "      <th></th>\n",
       "      <th>PassengerId</th>\n",
       "      <th>Survived</th>\n",
       "      <th>Pclass</th>\n",
       "      <th>Name</th>\n",
       "      <th>Sex</th>\n",
       "      <th>Age</th>\n",
       "      <th>SibSp</th>\n",
       "      <th>Parch</th>\n",
       "      <th>Ticket</th>\n",
       "      <th>Fare</th>\n",
       "      <th>Cabin</th>\n",
       "      <th>Embarked</th>\n",
       "    </tr>\n",
       "  </thead>\n",
       "  <tbody>\n",
       "    <tr>\n",
       "      <th>0</th>\n",
       "      <td>0</td>\n",
       "      <td>1</td>\n",
       "      <td>1</td>\n",
       "      <td>Oconnor, Frankie</td>\n",
       "      <td>male</td>\n",
       "      <td>NaN</td>\n",
       "      <td>2</td>\n",
       "      <td>0</td>\n",
       "      <td>209245</td>\n",
       "      <td>27.14</td>\n",
       "      <td>C12239</td>\n",
       "      <td>S</td>\n",
       "    </tr>\n",
       "    <tr>\n",
       "      <th>1</th>\n",
       "      <td>1</td>\n",
       "      <td>0</td>\n",
       "      <td>3</td>\n",
       "      <td>Bryan, Drew</td>\n",
       "      <td>male</td>\n",
       "      <td>NaN</td>\n",
       "      <td>0</td>\n",
       "      <td>0</td>\n",
       "      <td>27323</td>\n",
       "      <td>13.35</td>\n",
       "      <td>NaN</td>\n",
       "      <td>S</td>\n",
       "    </tr>\n",
       "    <tr>\n",
       "      <th>2</th>\n",
       "      <td>2</td>\n",
       "      <td>0</td>\n",
       "      <td>3</td>\n",
       "      <td>Owens, Kenneth</td>\n",
       "      <td>male</td>\n",
       "      <td>0.33</td>\n",
       "      <td>1</td>\n",
       "      <td>2</td>\n",
       "      <td>CA 457703</td>\n",
       "      <td>71.29</td>\n",
       "      <td>NaN</td>\n",
       "      <td>S</td>\n",
       "    </tr>\n",
       "    <tr>\n",
       "      <th>3</th>\n",
       "      <td>3</td>\n",
       "      <td>0</td>\n",
       "      <td>3</td>\n",
       "      <td>Kramer, James</td>\n",
       "      <td>male</td>\n",
       "      <td>19.00</td>\n",
       "      <td>0</td>\n",
       "      <td>0</td>\n",
       "      <td>A. 10866</td>\n",
       "      <td>13.04</td>\n",
       "      <td>NaN</td>\n",
       "      <td>S</td>\n",
       "    </tr>\n",
       "    <tr>\n",
       "      <th>4</th>\n",
       "      <td>4</td>\n",
       "      <td>1</td>\n",
       "      <td>3</td>\n",
       "      <td>Bond, Michael</td>\n",
       "      <td>male</td>\n",
       "      <td>25.00</td>\n",
       "      <td>0</td>\n",
       "      <td>0</td>\n",
       "      <td>427635</td>\n",
       "      <td>7.76</td>\n",
       "      <td>NaN</td>\n",
       "      <td>S</td>\n",
       "    </tr>\n",
       "  </tbody>\n",
       "</table>\n",
       "</div>"
      ],
      "text/plain": [
       "   PassengerId  Survived  Pclass              Name   Sex    Age  SibSp  Parch  \\\n",
       "0            0         1       1  Oconnor, Frankie  male    NaN      2      0   \n",
       "1            1         0       3       Bryan, Drew  male    NaN      0      0   \n",
       "2            2         0       3    Owens, Kenneth  male   0.33      1      2   \n",
       "3            3         0       3     Kramer, James  male  19.00      0      0   \n",
       "4            4         1       3     Bond, Michael  male  25.00      0      0   \n",
       "\n",
       "      Ticket   Fare   Cabin Embarked  \n",
       "0     209245  27.14  C12239        S  \n",
       "1      27323  13.35     NaN        S  \n",
       "2  CA 457703  71.29     NaN        S  \n",
       "3   A. 10866  13.04     NaN        S  \n",
       "4     427635   7.76     NaN        S  "
      ]
     },
     "execution_count": 3,
     "metadata": {},
     "output_type": "execute_result"
    }
   ],
   "source": [
    "train_data.head(5)"
   ]
  },
  {
   "cell_type": "code",
   "execution_count": 34,
   "id": "c4d47008-9229-4bf5-8dd7-5dfda4bd9165",
   "metadata": {},
   "outputs": [],
   "source": [
    "def create_extra_features(data):\n",
    "    data['Ticket_type'] = data['Ticket'].map(lambda x: str(x)[:3].replace('.', '').replace('/', '') if len(str(x).split()) > 1 else 'X').astype('category')\n",
    "    data['Ticket_number'] = data['Ticket'].map(lambda x: str(x)[-1] if len(str(x).split()) > 1 else -1).astype('float')\n",
    "    data['Cabin_type']=data['Cabin'].map(lambda x: str(x)[0] if not pd.isnull(x) else 'X').astype('category')\n",
    "    data['Cabin_number']=data['Cabin'].map(lambda x: str(x)[1:] if not pd.isnull(x) else -1).astype('float')\n",
    "    data['Family_size']=data['SibSp']+data['Parch']+1\n",
    "    data['Categorical_age']=pd.cut(data['Age'],bins=[0,10,20,30,40,50,60,70,80,90,100],labels=[1,2,3,4,5,6,7,8,9,10])\n",
    "    data['Categorical_fare']=pd.cut(data['Fare'],bins=[0,10,20,30,40,50,60,70,80,90,100,np.inf],labels=[1,2,3,4,5,6,7,8,9,10,11])\n",
    "    return data\n",
    "\n",
    "mean=train_data['Age'].mean()\n",
    "train_data['Age'].fillna(mean, inplace=True)\n",
    "train_data['Embarked'].fillna('S', inplace=True)\n",
    "train_data['Embarked']=train_data['Embarked'].map({'S':0, 'C':1, 'Q':2})\n",
    "train_data['Fare'].fillna(train_data['Fare'].mean(), inplace=True)\n",
    "#test\n",
    "mean=test_data['Age'].mean()\n",
    "test_data['Age'].fillna(mean, inplace=True)\n",
    "test_data['Embarked'].fillna('S', inplace=True)\n",
    "test_data['Embarked']=test_data['Embarked'].map({'S':0, 'C':1, 'Q':2})\n",
    "test_data['Fare'].fillna(test_data['Fare'].mean(), inplace=True)\n",
    "train_data=create_extra_features(train_data)\n",
    "test_data=create_extra_features(test_data)\n",
    "train_data=train_data.drop(['PassengerId','Name','Ticket','Cabin'],axis=1)\n",
    "test_data=test_data.drop(['PassengerId','Name','Ticket','Cabin'],axis=1)"
   ]
  },
  {
   "cell_type": "code",
   "execution_count": 38,
   "id": "f801d5ab-6496-4a94-97de-64e6d2cfad09",
   "metadata": {},
   "outputs": [],
   "source": [
    "from sklearn.model_selection import train_test_split\n",
    "\n",
    "from sklearn.preprocessing import LabelEncoder\n",
    "le=LabelEncoder()\n",
    "# train_data['Embarked']=le.fit_transform(train_data['Embarked'])\n",
    "train_data['Sex']=le.fit_transform(train_data['Sex'])\n",
    "test_data['Sex']=le.fit_transform(test_data['Sex'])\n",
    "\n",
    "# split\n",
    "\n",
    "cat_columns=['Sex','Ticket_type','Ticket_number','Cabin_type','Cabin_number','Categorical_age','Categorical_fare']\n",
    "# cast all categorical type as object\n",
    "\n",
    "for col in cat_columns:\n",
    "    train_data[col]=le.fit_transform(train_data[col])\n",
    "    test_data[col]=le.fit_transform(test_data[col])\n",
    "X=train_data.drop(['Survived'],axis=1)\n",
    "y=train_data['Survived']\n",
    "X_train, X_test, y_train, y_test = train_test_split(X, y, test_size=0.2, random_state=42)\n",
    "\n"
   ]
  },
  {
   "cell_type": "code",
   "execution_count": 39,
   "id": "b9e52db3-a0ab-4378-b4c2-317ab607de8e",
   "metadata": {},
   "outputs": [
    {
     "name": "stdout",
     "output_type": "stream",
     "text": [
      "CPU times: user 2.65 s, sys: 376 ms, total: 3.03 s\n",
      "Wall time: 2.52 s\n"
     ]
    },
    {
     "data": {
      "text/plain": [
       "0.7833"
      ]
     },
     "execution_count": 39,
     "metadata": {},
     "output_type": "execute_result"
    }
   ],
   "source": [
    "%%time\n",
    "from xgboost import XGBClassifier\n",
    "from sklearn.metrics import accuracy_score\n",
    "\n",
    "params={'learning_rate':0.01,\n",
    "        'max_depth':5,\n",
    "        'n_estimators':1000,\n",
    "        'tree_method':'gpu_hist',\n",
    "        'enable_categorical':True,\n",
    "        'random_state':0}\n",
    "xgb=XGBClassifier(**params)\n",
    "xgb.fit(X_train,y_train,eval_set=[(X_test,y_test)],early_stopping_rounds=50,verbose=False)\n",
    "y_pred=xgb.predict(X_test)\n",
    "accuracy_score(y_test,y_pred)"
   ]
  },
  {
   "cell_type": "code",
   "execution_count": 7,
   "id": "a4c96570-f83f-46a6-9b4e-a234e6e30472",
   "metadata": {},
   "outputs": [
    {
     "data": {
      "text/plain": [
       "Survived            0\n",
       "Pclass              0\n",
       "Sex                 0\n",
       "Age                 0\n",
       "SibSp               0\n",
       "Parch               0\n",
       "Fare                0\n",
       "Embarked            0\n",
       "Ticket_type         0\n",
       "Ticket_number       0\n",
       "Cabin_type          0\n",
       "Cabin_number        0\n",
       "Family_size         0\n",
       "Categorical_age     0\n",
       "Categorical_fare    0\n",
       "dtype: int64"
      ]
     },
     "execution_count": 7,
     "metadata": {},
     "output_type": "execute_result"
    }
   ],
   "source": [
    "train_data.isna().sum()"
   ]
  },
  {
   "cell_type": "code",
   "execution_count": 40,
   "id": "f5b62c01-3338-4961-810a-fb3493333fe3",
   "metadata": {},
   "outputs": [
    {
     "name": "stdout",
     "output_type": "stream",
     "text": [
      "CPU times: user 3.34 s, sys: 20.6 ms, total: 3.36 s\n",
      "Wall time: 866 ms\n"
     ]
    },
    {
     "data": {
      "text/plain": [
       "0.78365"
      ]
     },
     "execution_count": 40,
     "metadata": {},
     "output_type": "execute_result"
    }
   ],
   "source": [
    "%%time\n",
    "# lightgbm\n",
    "\n",
    "from lightgbm import LGBMClassifier\n",
    "params={'learning_rate':0.07,\n",
    "\n",
    "        'max_depth':5,\n",
    "        'n_estimators':1000,\n",
    "        'n_jobs':-1,\n",
    "        }\n",
    "lgb=LGBMClassifier(**params)\n",
    "lgb.fit(X_train,y_train,eval_set=[(X_test,y_test)],early_stopping_rounds=50,verbose=False)\n",
    "y_pred=lgb.predict(X_test)\n",
    "accuracy_score(y_test,y_pred)"
   ]
  },
  {
   "cell_type": "code",
   "execution_count": 32,
   "id": "a12484a2-d368-4f27-96c2-bae63df7c2ee",
   "metadata": {},
   "outputs": [],
   "source": [
    "submission=pd.read_csv('data/sample_submission.csv')\n",
    "submission['Survived']=lgb.predict(test_data)\n",
    "submission.to_csv('submission.csv',index=False)"
   ]
  },
  {
   "cell_type": "code",
   "execution_count": null,
   "id": "af1b037d-758d-4c39-b600-cf60028e9b37",
   "metadata": {},
   "outputs": [],
   "source": [
    "# lightgbm get 0.797 and 0.799 with this feature engineering!"
   ]
  },
  {
   "cell_type": "code",
   "execution_count": 41,
   "id": "9d3680ca-6da8-4e90-acf4-862d6195c230",
   "metadata": {},
   "outputs": [
    {
     "name": "stderr",
     "output_type": "stream",
     "text": [
      "\u001b[32m[I 2022-07-13 03:39:45,700]\u001b[0m A new study created in memory with name: no-name-21c35556-2158-4502-9499-608366b7867d\u001b[0m\n",
      "\u001b[32m[I 2022-07-13 03:39:49,087]\u001b[0m Trial 0 finished with value: 0.7836 and parameters: {'learning_rate': 0.011729725838599308, 'max_depth': 13, 'n_estimators': 1009}. Best is trial 0 with value: 0.7836.\u001b[0m\n",
      "\u001b[32m[I 2022-07-13 03:39:57,430]\u001b[0m Trial 1 finished with value: 0.7826 and parameters: {'learning_rate': 0.004681345896645719, 'max_depth': 4, 'n_estimators': 2123}. Best is trial 0 with value: 0.7836.\u001b[0m\n",
      "\u001b[32m[I 2022-07-13 03:39:58,988]\u001b[0m Trial 2 finished with value: 0.7837 and parameters: {'learning_rate': 0.005621302860535888, 'max_depth': 7, 'n_estimators': 257}. Best is trial 2 with value: 0.7837.\u001b[0m\n",
      "\u001b[32m[I 2022-07-13 03:40:00,099]\u001b[0m Trial 3 finished with value: 0.78435 and parameters: {'learning_rate': 0.04149376134265786, 'max_depth': 8, 'n_estimators': 1140}. Best is trial 3 with value: 0.78435.\u001b[0m\n",
      "\u001b[32m[I 2022-07-13 03:40:01,844]\u001b[0m Trial 4 finished with value: 0.779 and parameters: {'learning_rate': 0.003285839265633786, 'max_depth': 7, 'n_estimators': 287}. Best is trial 3 with value: 0.78435.\u001b[0m\n",
      "\u001b[32m[I 2022-07-13 03:40:07,703]\u001b[0m Trial 5 finished with value: 0.7831 and parameters: {'learning_rate': 0.004802818829790185, 'max_depth': 3, 'n_estimators': 1756}. Best is trial 3 with value: 0.78435.\u001b[0m\n",
      "\u001b[32m[I 2022-07-13 03:40:11,489]\u001b[0m Trial 6 finished with value: 0.77395 and parameters: {'learning_rate': 0.001024502381845715, 'max_depth': 11, 'n_estimators': 630}. Best is trial 3 with value: 0.78435.\u001b[0m\n",
      "\u001b[32m[I 2022-07-13 03:40:15,790]\u001b[0m Trial 7 finished with value: 0.7844 and parameters: {'learning_rate': 0.009665538560473726, 'max_depth': 10, 'n_estimators': 2777}. Best is trial 7 with value: 0.7844.\u001b[0m\n",
      "\u001b[32m[I 2022-07-13 03:40:20,207]\u001b[0m Trial 8 finished with value: 0.78215 and parameters: {'learning_rate': 0.0014529652886535694, 'max_depth': 5, 'n_estimators': 799}. Best is trial 7 with value: 0.7844.\u001b[0m\n",
      "\u001b[32m[I 2022-07-13 03:40:26,566]\u001b[0m Trial 9 finished with value: 0.7824 and parameters: {'learning_rate': 0.003001992242033851, 'max_depth': 4, 'n_estimators': 1425}. Best is trial 7 with value: 0.7844.\u001b[0m\n",
      "\u001b[32m[I 2022-07-13 03:40:28,491]\u001b[0m Trial 10 finished with value: 0.7839 and parameters: {'learning_rate': 0.023646146804787906, 'max_depth': 10, 'n_estimators': 2935}. Best is trial 7 with value: 0.7844.\u001b[0m\n",
      "\u001b[32m[I 2022-07-13 03:40:29,399]\u001b[0m Trial 11 finished with value: 0.7838 and parameters: {'learning_rate': 0.059916691674833315, 'max_depth': 9, 'n_estimators': 2572}. Best is trial 7 with value: 0.7844.\u001b[0m\n",
      "\u001b[32m[I 2022-07-13 03:40:30,096]\u001b[0m Trial 12 finished with value: 0.7836 and parameters: {'learning_rate': 0.0797099095525589, 'max_depth': 12, 'n_estimators': 1398}. Best is trial 7 with value: 0.7844.\u001b[0m\n",
      "\u001b[32m[I 2022-07-13 03:40:32,060]\u001b[0m Trial 13 finished with value: 0.78365 and parameters: {'learning_rate': 0.022725802283776086, 'max_depth': 8, 'n_estimators': 2115}. Best is trial 7 with value: 0.7844.\u001b[0m\n",
      "\u001b[32m[I 2022-07-13 03:40:33,637]\u001b[0m Trial 14 finished with value: 0.78465 and parameters: {'learning_rate': 0.029585324563668473, 'max_depth': 10, 'n_estimators': 1141}. Best is trial 14 with value: 0.78465.\u001b[0m\n",
      "\u001b[32m[I 2022-07-13 03:40:36,746]\u001b[0m Trial 15 finished with value: 0.7843 and parameters: {'learning_rate': 0.013398203846939273, 'max_depth': 10, 'n_estimators': 1877}. Best is trial 14 with value: 0.78465.\u001b[0m\n",
      "\u001b[32m[I 2022-07-13 03:40:38,508]\u001b[0m Trial 16 finished with value: 0.7839 and parameters: {'learning_rate': 0.025621596685310086, 'max_depth': 11, 'n_estimators': 2930}. Best is trial 14 with value: 0.78465.\u001b[0m\n",
      "\u001b[32m[I 2022-07-13 03:40:43,051]\u001b[0m Trial 17 finished with value: 0.78405 and parameters: {'learning_rate': 0.008741932293084117, 'max_depth': 13, 'n_estimators': 2407}. Best is trial 14 with value: 0.78465.\u001b[0m\n",
      "\u001b[32m[I 2022-07-13 03:40:44,252]\u001b[0m Trial 18 finished with value: 0.78385 and parameters: {'learning_rate': 0.037186501155391995, 'max_depth': 10, 'n_estimators': 1640}. Best is trial 14 with value: 0.78465.\u001b[0m\n",
      "\u001b[32m[I 2022-07-13 03:40:47,111]\u001b[0m Trial 19 finished with value: 0.784 and parameters: {'learning_rate': 0.014640059928232346, 'max_depth': 9, 'n_estimators': 2552}. Best is trial 14 with value: 0.78465.\u001b[0m\n",
      "\u001b[32m[I 2022-07-13 03:40:53,526]\u001b[0m Trial 20 finished with value: 0.7833 and parameters: {'learning_rate': 0.0069756326745958434, 'max_depth': 6, 'n_estimators': 1158}. Best is trial 14 with value: 0.78465.\u001b[0m\n",
      "\u001b[32m[I 2022-07-13 03:40:54,556]\u001b[0m Trial 21 finished with value: 0.7835 and parameters: {'learning_rate': 0.05196443326723199, 'max_depth': 8, 'n_estimators': 1062}. Best is trial 14 with value: 0.78465.\u001b[0m\n",
      "\u001b[32m[I 2022-07-13 03:40:55,688]\u001b[0m Trial 22 finished with value: 0.7841 and parameters: {'learning_rate': 0.04016596594310456, 'max_depth': 9, 'n_estimators': 523}. Best is trial 14 with value: 0.78465.\u001b[0m\n",
      "\u001b[32m[I 2022-07-13 03:40:57,871]\u001b[0m Trial 23 finished with value: 0.78445 and parameters: {'learning_rate': 0.019117622500610373, 'max_depth': 11, 'n_estimators': 1293}. Best is trial 14 with value: 0.78465.\u001b[0m\n",
      "\u001b[32m[I 2022-07-13 03:41:00,038]\u001b[0m Trial 24 finished with value: 0.78445 and parameters: {'learning_rate': 0.017930100122348202, 'max_depth': 11, 'n_estimators': 791}. Best is trial 14 with value: 0.78465.\u001b[0m\n"
     ]
    }
   ],
   "source": [
    "import optuna\n",
    "from lightgbm import LGBMClassifier\n",
    "\n",
    "# lightgbm\n",
    "def objective(trial):\n",
    "    params={'learning_rate':trial.suggest_loguniform('learning_rate',1e-3,1e-1),\n",
    "        'max_depth':trial.suggest_int('max_depth',3,13),\n",
    "        'n_estimators':trial.suggest_int('n_estimators',100,3000),\n",
    "        'n_jobs':-1,\n",
    "        'random_state':0,\n",
    "        }\n",
    "    lgb=LGBMClassifier(**params)\n",
    "    lgb.fit(X_train,y_train,eval_set=[(X_test,y_test)],early_stopping_rounds=50,verbose=False)\n",
    "    y_pred=lgb.predict(X_test)\n",
    "    return accuracy_score(y_test,y_pred)\n",
    "study = optuna.create_study(direction='maximize')\n",
    "study.optimize(objective, n_trials=25)"
   ]
  },
  {
   "cell_type": "code",
   "execution_count": 24,
   "id": "9d32d25f-d461-45e5-ac44-78fee5caafd8",
   "metadata": {},
   "outputs": [
    {
     "data": {
      "text/plain": [
       "0.7806"
      ]
     },
     "execution_count": 24,
     "metadata": {},
     "output_type": "execute_result"
    }
   ],
   "source": [
    "params = study.best_params\n",
    "params['n_jobs']=-1\n",
    "params['random_state']=0\n",
    "lgb=LGBMClassifier(**params)\n",
    "lgb.fit(X_train,y_train,eval_set=[(X_test,y_test)],early_stopping_rounds=50,verbose=False)\n",
    "y_pred=lgb.predict(X_test)\n",
    "accuracy_score(y_test,y_pred)\n",
    "\n"
   ]
  },
  {
   "cell_type": "code",
   "execution_count": null,
   "id": "0ceff5b8-453b-4b89-994e-b966ae12e8d1",
   "metadata": {},
   "outputs": [],
   "source": []
  },
  {
   "cell_type": "code",
   "execution_count": 21,
   "id": "5b7f1a36-4cc2-4889-8d65-3057e66ebead",
   "metadata": {},
   "outputs": [
    {
     "name": "stdout",
     "output_type": "stream",
     "text": [
      "CPU times: user 18.7 s, sys: 4.66 s, total: 23.3 s\n",
      "Wall time: 15.4 s\n"
     ]
    },
    {
     "data": {
      "text/plain": [
       "0.7804"
      ]
     },
     "execution_count": 21,
     "metadata": {},
     "output_type": "execute_result"
    }
   ],
   "source": [
    "%%time\n",
    "# catboost \n",
    "from catboost import CatBoostClassifier\n",
    "params={\n",
    "      'cat_features':cat_columns,\n",
    "    'task_type': 'GPU',\n",
    "        'random_state':0}\n",
    "cb=CatBoostClassifier(**params)\n",
    "cb.fit(X_train,y_train,eval_set=[(X_test,y_test)],early_stopping_rounds=50,verbose=False)\n",
    "y_pred=cb.predict(X_test)\n",
    "accuracy_score(y_test,y_pred)"
   ]
  },
  {
   "cell_type": "code",
   "execution_count": 107,
   "id": "ec734899-0ebe-4ee5-8c66-e2d084ed33fa",
   "metadata": {},
   "outputs": [],
   "source": [
    "submission=pd.read_csv('data/sample_submission.csv')\n",
    "submission['Survived']=cb.predict(test_data)\n",
    "submission.to_csv('submission.csv',index=False)\n"
   ]
  },
  {
   "cell_type": "code",
   "execution_count": null,
   "id": "c3fcf8f7-17df-45fa-a501-2aa07856174f",
   "metadata": {},
   "outputs": [
    {
     "name": "stderr",
     "output_type": "stream",
     "text": [
      "\u001b[32m[I 2022-07-13 03:41:20,632]\u001b[0m A new study created in memory with name: no-name-fe6c7446-9cbf-43cb-8370-be44dd16e2d4\u001b[0m\n",
      "\u001b[32m[I 2022-07-13 03:41:21,979]\u001b[0m Trial 0 finished with value: 0.78505 and parameters: {'learning_rate': 0.09921111190183465, 'n_estimators': 276, 'max_depth': 5, 'max_bin': 386, 'min_data_in_leaf': 264, 'l2_leaf_reg': 0.22108578233701476}. Best is trial 0 with value: 0.78505.\u001b[0m\n",
      "\u001b[32m[I 2022-07-13 03:41:27,863]\u001b[0m Trial 1 finished with value: 0.78305 and parameters: {'learning_rate': 0.003990814250827218, 'n_estimators': 2111, 'max_depth': 3, 'max_bin': 395, 'min_data_in_leaf': 38, 'l2_leaf_reg': 0.06851789642269748}. Best is trial 0 with value: 0.78505.\u001b[0m\n",
      "\u001b[32m[I 2022-07-13 03:41:34,269]\u001b[0m Trial 2 finished with value: 0.78375 and parameters: {'learning_rate': 0.011172832166959563, 'n_estimators': 2559, 'max_depth': 5, 'max_bin': 311, 'min_data_in_leaf': 63, 'l2_leaf_reg': 0.00250503331006581}. Best is trial 0 with value: 0.78505.\u001b[0m\n",
      "\u001b[32m[I 2022-07-13 03:41:37,363]\u001b[0m Trial 3 finished with value: 0.7786 and parameters: {'learning_rate': 0.002326490986085479, 'n_estimators': 770, 'max_depth': 5, 'max_bin': 327, 'min_data_in_leaf': 142, 'l2_leaf_reg': 0.2415633932508678}. Best is trial 0 with value: 0.78505.\u001b[0m\n",
      "\u001b[32m[I 2022-07-13 03:46:12,150]\u001b[0m Trial 13 finished with value: 0.7835 and parameters: {'learning_rate': 0.051925556353461376, 'n_estimators': 603, 'max_depth': 7, 'max_bin': 355, 'min_data_in_leaf': 214, 'l2_leaf_reg': 0.016921172863580535}. Best is trial 0 with value: 0.78505.\u001b[0m\n",
      "\u001b[32m[I 2022-07-13 03:46:15,526]\u001b[0m Trial 14 finished with value: 0.78395 and parameters: {'learning_rate': 0.019236005027996946, 'n_estimators': 1121, 'max_depth': 3, 'max_bin': 202, 'min_data_in_leaf': 276, 'l2_leaf_reg': 0.8716405758203267}. Best is trial 0 with value: 0.78505.\u001b[0m\n",
      "\u001b[32m[I 2022-07-13 03:46:17,798]\u001b[0m Trial 15 finished with value: 0.7835 and parameters: {'learning_rate': 0.0070019636892154295, 'n_estimators': 132, 'max_depth': 12, 'max_bin': 241, 'min_data_in_leaf': 151, 'l2_leaf_reg': 0.12087540892345208}. Best is trial 0 with value: 0.78505.\u001b[0m\n",
      "\u001b[32m[I 2022-07-13 03:46:20,250]\u001b[0m Trial 16 finished with value: 0.78435 and parameters: {'learning_rate': 0.05686554629341208, 'n_estimators': 1462, 'max_depth': 7, 'max_bin': 297, 'min_data_in_leaf': 91, 'l2_leaf_reg': 0.013545639870104386}. Best is trial 0 with value: 0.78505.\u001b[0m\n",
      "\u001b[32m[I 2022-07-13 03:46:22,512]\u001b[0m Trial 17 finished with value: 0.78435 and parameters: {'learning_rate': 0.061003277675537315, 'n_estimators': 1563, 'max_depth': 6, 'max_bin': 359, 'min_data_in_leaf': 256, 'l2_leaf_reg': 0.018515600365232362}. Best is trial 0 with value: 0.78505.\u001b[0m\n",
      "\u001b[32m[I 2022-07-13 03:46:24,184]\u001b[0m Trial 18 finished with value: 0.78455 and parameters: {'learning_rate': 0.0946994650269311, 'n_estimators': 2216, 'max_depth': 4, 'max_bin': 289, 'min_data_in_leaf': 114, 'l2_leaf_reg': 0.0003980898223186372}. Best is trial 0 with value: 0.78505.\u001b[0m\n",
      "\u001b[32m[I 2022-07-13 03:46:25,569]\u001b[0m Trial 19 finished with value: 0.78505 and parameters: {'learning_rate': 0.0991666921729149, 'n_estimators': 2280, 'max_depth': 4, 'max_bin': 249, 'min_data_in_leaf': 135, 'l2_leaf_reg': 0.00013908796808425317}. Best is trial 0 with value: 0.78505.\u001b[0m\n",
      "\u001b[32m[I 2022-07-13 03:46:32,655]\u001b[0m Trial 20 finished with value: 0.78385 and parameters: {'learning_rate': 0.006766683855129566, 'n_estimators': 2556, 'max_depth': 3, 'max_bin': 239, 'min_data_in_leaf': 157, 'l2_leaf_reg': 0.0007185562106269673}. Best is trial 0 with value: 0.78505.\u001b[0m\n",
      "\u001b[32m[I 2022-07-13 03:46:34,256]\u001b[0m Trial 21 finished with value: 0.78415 and parameters: {'learning_rate': 0.09897582247563823, 'n_estimators': 2086, 'max_depth': 4, 'max_bin': 253, 'min_data_in_leaf': 129, 'l2_leaf_reg': 0.0001354194223660527}. Best is trial 0 with value: 0.78505.\u001b[0m\n",
      "\u001b[32m[I 2022-07-13 03:46:36,231]\u001b[0m Trial 22 finished with value: 0.7845 and parameters: {'learning_rate': 0.052671279681637775, 'n_estimators': 2229, 'max_depth': 4, 'max_bin': 289, 'min_data_in_leaf': 183, 'l2_leaf_reg': 0.0004416827916863934}. Best is trial 0 with value: 0.78505.\u001b[0m\n",
      "\u001b[32m[I 2022-07-13 03:46:37,927]\u001b[0m Trial 23 finished with value: 0.7844 and parameters: {'learning_rate': 0.07234494146607552, 'n_estimators': 2895, 'max_depth': 4, 'max_bin': 277, 'min_data_in_leaf': 221, 'l2_leaf_reg': 0.00035151694568156194}. Best is trial 0 with value: 0.78505.\u001b[0m\n",
      "\u001b[32m[I 2022-07-13 03:46:40,713]\u001b[0m Trial 24 finished with value: 0.7842 and parameters: {'learning_rate': 0.042763733163126344, 'n_estimators': 1876, 'max_depth': 6, 'max_bin': 230, 'min_data_in_leaf': 80, 'l2_leaf_reg': 0.0011873709230158771}. Best is trial 0 with value: 0.78505.\u001b[0m\n"
     ]
    },
    {
     "name": "stdout",
     "output_type": "stream",
     "text": [
      "{'learning_rate': 0.09921111190183465, 'n_estimators': 276, 'max_depth': 5, 'max_bin': 386, 'min_data_in_leaf': 264, 'l2_leaf_reg': 0.22108578233701476}\n"
     ]
    }
   ],
   "source": [
    "import optuna\n",
    "from catboost import CatBoostClassifier\n",
    "from sklearn.metrics import accuracy_score\n",
    "\n",
    "# catboost\n",
    "def objective(trial):\n",
    "    params={'learning_rate':trial.suggest_loguniform('learning_rate',1e-3,1e-1),'n_estimators':trial.suggest_int('n_estimators',100,3500),'max_depth':trial.suggest_int('max_depth',3,13), 'max_bin': trial.suggest_int('max_bin', 200, 400),\n",
    "        'min_data_in_leaf': trial.suggest_int('min_data_in_leaf', 1, 300), 'l2_leaf_reg': trial.suggest_float('l2_leaf_reg', 0.0001, 1.0, log = True),'random_seed': 42,\n",
    "'task_type': 'GPU',\n",
    "        'loss_function': 'Logloss' }\n",
    "    cat=CatBoostClassifier(**params)\n",
    "    cat.fit(X_train,y_train,eval_set=[(X_test,y_test)],early_stopping_rounds=50,verbose=False)\n",
    "    y_pred=cat.predict(X_test)\n",
    "    return accuracy_score(y_test,y_pred)\n",
    "study = optuna.create_study(direction='maximize')\n",
    "study.optimize(objective, n_trials=25)\n",
    "print(study.best_params)"
   ]
  },
  {
   "cell_type": "code",
   "execution_count": 14,
   "id": "9dff0279-f92e-404a-b2ef-a2fc02d2f227",
   "metadata": {},
   "outputs": [
    {
     "name": "stdout",
     "output_type": "stream",
     "text": [
      "{'learning_rate': 0.006993536952992658, 'n_estimators': 2587, 'max_depth': 6, 'max_bin': 327, 'min_data_in_leaf': 235, 'l2_leaf_reg': 0.22612238365483142}\n"
     ]
    }
   ],
   "source": [
    "print(study.best_params)"
   ]
  },
  {
   "cell_type": "code",
   "execution_count": 43,
   "id": "a07c4e17-0ff0-4937-90c5-5f8f40f67bb0",
   "metadata": {},
   "outputs": [
    {
     "data": {
      "text/plain": [
       "0.7846"
      ]
     },
     "execution_count": 43,
     "metadata": {},
     "output_type": "execute_result"
    }
   ],
   "source": [
    "# train on best params\n",
    "params=study.best_params\n",
    "params['task_type']='GPU'\n",
    "params['loss_function']='Logloss'\n",
    "cat=CatBoostClassifier(**params)\n",
    "cat.fit(X_train,y_train,eval_set=[(X_test,y_test)],early_stopping_rounds=50,verbose=False)\n",
    "y_pred=cat.predict(X_test)\n",
    "accuracy_score(y_test,y_pred)"
   ]
  },
  {
   "cell_type": "code",
   "execution_count": 17,
   "id": "a33c1cd9-8854-450c-a853-05888a0ceadb",
   "metadata": {},
   "outputs": [],
   "source": [
    "submission=pd.read_csv('data/sample_submission.csv')\n",
    "submission['Survived']=cat.predict(test_data)\n",
    "submission.to_csv('submission.csv',index=False)"
   ]
  },
  {
   "cell_type": "code",
   "execution_count": null,
   "id": "5c22c7f0-0faf-4959-b7d6-3c1c1348b4c1",
   "metadata": {},
   "outputs": [
    {
     "name": "stderr",
     "output_type": "stream",
     "text": [
      "\u001b[32m[I 2022-07-13 03:47:53,718]\u001b[0m A new study created in memory with name: no-name-5ceae411-775f-4814-a14b-5ea844d09103\u001b[0m\n",
      "\u001b[32m[I 2022-07-13 03:47:54,533]\u001b[0m Trial 0 finished with value: 0.78195 and parameters: {'learning_rate': 0.057330895103874714, 'max_depth': 4, 'n_estimators': 372}. Best is trial 0 with value: 0.78195.\u001b[0m\n",
      "\u001b[32m[I 2022-07-13 03:47:59,766]\u001b[0m Trial 1 finished with value: 0.78195 and parameters: {'learning_rate': 0.008797228625690387, 'max_depth': 9, 'n_estimators': 288}. Best is trial 0 with value: 0.78195.\u001b[0m\n",
      "\u001b[32m[I 2022-07-13 03:48:02,342]\u001b[0m Trial 2 finished with value: 0.7838 and parameters: {'learning_rate': 0.016699646816801694, 'max_depth': 7, 'n_estimators': 806}. Best is trial 2 with value: 0.7838.\u001b[0m\n",
      "\u001b[32m[I 2022-07-13 03:48:05,529]\u001b[0m Trial 3 finished with value: 0.78015 and parameters: {'learning_rate': 0.044956966160650966, 'max_depth': 10, 'n_estimators': 1042}. Best is trial 2 with value: 0.7838.\u001b[0m\n",
      "\u001b[32m[I 2022-07-13 03:48:06,500]\u001b[0m Trial 4 finished with value: 0.78225 and parameters: {'learning_rate': 0.05498282043141742, 'max_depth': 7, 'n_estimators': 2636}. Best is trial 2 with value: 0.7838.\u001b[0m\n",
      "\u001b[32m[I 2022-07-13 03:48:12,262]\u001b[0m Trial 5 finished with value: 0.77735 and parameters: {'learning_rate': 0.03356833024560751, 'max_depth': 11, 'n_estimators': 1867}. Best is trial 2 with value: 0.7838.\u001b[0m\n",
      "\u001b[32m[I 2022-07-13 03:48:18,155]\u001b[0m Trial 6 finished with value: 0.7826 and parameters: {'learning_rate': 0.0011774088563008493, 'max_depth': 8, 'n_estimators': 540}. Best is trial 2 with value: 0.7838.\u001b[0m\n",
      "\u001b[32m[I 2022-07-13 03:52:47,744]\u001b[0m Trial 20 finished with value: 0.78095 and parameters: {'learning_rate': 0.0021805298981014947, 'max_depth': 9, 'n_estimators': 1554}. Best is trial 11 with value: 0.78405.\u001b[0m\n",
      "\u001b[32m[I 2022-07-13 03:52:50,553]\u001b[0m Trial 21 finished with value: 0.7832 and parameters: {'learning_rate': 0.008112337172364145, 'max_depth': 5, 'n_estimators': 1642}. Best is trial 11 with value: 0.78405.\u001b[0m\n",
      "\u001b[32m[I 2022-07-13 03:52:51,021]\u001b[0m Trial 22 finished with value: 0.7813 and parameters: {'learning_rate': 0.09694087655046423, 'max_depth': 4, 'n_estimators': 2201}. Best is trial 11 with value: 0.78405.\u001b[0m\n",
      "\u001b[32m[I 2022-07-13 03:52:53,137]\u001b[0m Trial 23 finished with value: 0.78445 and parameters: {'learning_rate': 0.005293226516453801, 'max_depth': 5, 'n_estimators': 858}. Best is trial 23 with value: 0.78445.\u001b[0m\n",
      "\u001b[32m[I 2022-07-13 03:52:58,530]\u001b[0m Trial 24 finished with value: 0.78245 and parameters: {'learning_rate': 0.004595587814723163, 'max_depth': 7, 'n_estimators': 870}. Best is trial 23 with value: 0.78445.\u001b[0m\n"
     ]
    }
   ],
   "source": [
    "import optuna\n",
    "from xgboost import XGBClassifier\n",
    "def objective(trial):\n",
    "    params={'learning_rate':trial.suggest_loguniform('learning_rate',1e-3,1e-1),\n",
    "        'max_depth':trial.suggest_int('max_depth',3,13),\n",
    "        'n_estimators':trial.suggest_int('n_estimators',100,3000),\n",
    "        'tree_method':'gpu_hist',\n",
    "        'random_state':0,\n",
    "        }\n",
    "    xgb=XGBClassifier(**params)\n",
    "    xgb.fit(X_train,y_train,eval_set=[(X_test,y_test)],early_stopping_rounds=50,verbose=False)\n",
    "    y_pred=xgb.predict(X_test)\n",
    "    return accuracy_score(y_test,y_pred)\n",
    "study = optuna.create_study(direction='maximize')\n",
    "study.optimize(objective, n_trials=25)"
   ]
  },
  {
   "cell_type": "code",
   "execution_count": 14,
   "id": "f46db607-d992-46a5-b52c-08c0e6954696",
   "metadata": {},
   "outputs": [
    {
     "data": {
      "text/plain": [
       "{'learning_rate': 0.03728054777542706, 'max_depth': 3, 'n_estimators': 2814}"
      ]
     },
     "execution_count": 14,
     "metadata": {},
     "output_type": "execute_result"
    }
   ],
   "source": [
    "study.best_params"
   ]
  },
  {
   "cell_type": "code",
   "execution_count": 45,
   "id": "4a04c47c-d5de-4ceb-a522-9b7278815cfb",
   "metadata": {},
   "outputs": [
    {
     "data": {
      "text/plain": [
       "0.78445"
      ]
     },
     "execution_count": 45,
     "metadata": {},
     "output_type": "execute_result"
    }
   ],
   "source": [
    "params=study.best_params\n",
    "params['tree_method']='gpu_hist'\n",
    "params['random_state']=0\n",
    "xgb=XGBClassifier(**params)\n",
    "xgb.fit(X_train,y_train,eval_set=[(X_test,y_test)],early_stopping_rounds=50,verbose=False)\n",
    "y_pred=xgb.predict(X_test)\n",
    "accuracy_score(y_test,y_pred)\n"
   ]
  },
  {
   "cell_type": "code",
   "execution_count": 46,
   "id": "086122dd-e633-490c-97d3-b0074dd72c9e",
   "metadata": {},
   "outputs": [
    {
     "data": {
      "text/plain": [
       "['cat.pkl']"
      ]
     },
     "execution_count": 46,
     "metadata": {},
     "output_type": "execute_result"
    }
   ],
   "source": [
    "import joblib\n",
    "joblib.dump(xgb,'xgb.pkl')\n",
    "joblib.dump(lgb,'lgb.pkl')\n",
    "joblib.dump(cat,'cat.pkl')\n"
   ]
  },
  {
   "cell_type": "code",
   "execution_count": 65,
   "id": "d6456e40-648f-4df9-b4ee-68e04fed1044",
   "metadata": {},
   "outputs": [],
   "source": [
    "# loading models\n",
    "xgb=joblib.load('xgb.pkl')\n",
    "lgb=joblib.load('lgb.pkl')\n",
    "cat=joblib.load('cat.pkl')"
   ]
  },
  {
   "cell_type": "code",
   "execution_count": null,
   "id": "c78cca77-991a-4436-89e4-5016b06527c9",
   "metadata": {},
   "outputs": [],
   "source": [
    "# voting classifier\n",
    "from sklearn.ensemble import VotingClassifier\n",
    "voting=VotingClassifier(estimators=[('xgb',xgb),('lgb',lgb),('cat',cat)],voting='soft',verbose=0)\n",
    "voting.fit(X_train,y_train)\n",
    "y_pred=voting.predict(X_test)\n",
    "accuracy_score(y_test,y_pred)\n"
   ]
  },
  {
   "cell_type": "code",
   "execution_count": 54,
   "id": "fa4321d3-38c8-4a0c-92ce-b79a3b4916d4",
   "metadata": {},
   "outputs": [],
   "source": [
    "submission=pd.read_csv('data/sample_submission.csv')\n",
    "submission['Survived']=voting.predict(test_data)\n",
    "submission.to_csv('submission.csv',index=False)\n"
   ]
  },
  {
   "cell_type": "markdown",
   "id": "69714618-e627-4044-af35-ef0717aebc1c",
   "metadata": {},
   "source": [
    "It improves scores by at least 0.1 or something. scores are 0.79924\n",
    "0.80015"
   ]
  },
  {
   "cell_type": "code",
   "execution_count": null,
   "id": "e6441978-e10c-4c81-b74a-2e046f9d7672",
   "metadata": {},
   "outputs": [],
   "source": [
    "# stacking\n",
    "from sklearn.ensemble import StackingClassifier\n",
    "clf=StackingClassifier(estimators=[('xgb',xgb),('lgb',lgb),('cat',cat)],stack_method='predict')\n",
    "clf.fit(X_train,y_train)\n",
    "y_pred=clf.predict(X_test)\n",
    "accuracy_score(y_test,y_pred)"
   ]
  },
  {
   "cell_type": "code",
   "execution_count": 68,
   "id": "c8516f17-3d4a-4f59-829b-74868c9e5f6c",
   "metadata": {},
   "outputs": [],
   "source": [
    "submission=pd.read_csv('data/sample_submission.csv')\n",
    "submission['Survived']=clf.predict(test_data)\n",
    "submission.to_csv('submission.csv',index=False)"
   ]
  },
  {
   "cell_type": "markdown",
   "id": "5c519d21-56a2-4748-9ca7-59e3893db7b7",
   "metadata": {},
   "source": [
    "Now scores are 0.80107\n",
    "0.80152"
   ]
  },
  {
   "cell_type": "code",
   "execution_count": null,
   "id": "6e40da3a-88c1-427a-94ff-29c1c88e477f",
   "metadata": {},
   "outputs": [],
   "source": []
  }
 ],
 "metadata": {
  "kernelspec": {
   "display_name": "stat:Python",
   "language": "python",
   "name": "conda-env-stat-py"
  },
  "language_info": {
   "codemirror_mode": {
    "name": "ipython",
    "version": 3
   },
   "file_extension": ".py",
   "mimetype": "text/x-python",
   "name": "python",
   "nbconvert_exporter": "python",
   "pygments_lexer": "ipython3",
   "version": "3.10.5"
  }
 },
 "nbformat": 4,
 "nbformat_minor": 5
}
