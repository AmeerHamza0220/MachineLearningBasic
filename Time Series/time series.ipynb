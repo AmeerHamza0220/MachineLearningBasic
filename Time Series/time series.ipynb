{
 "cells": [
  {
   "cell_type": "code",
   "execution_count": 1,
   "id": "1a44a3bd-767f-4777-9c5b-a50401b6b61a",
   "metadata": {},
   "outputs": [],
   "source": [
    "# %pip install kaggle"
   ]
  },
  {
   "cell_type": "code",
   "execution_count": 2,
   "id": "2824e608-4922-4f45-882f-25fcd3fe58fc",
   "metadata": {},
   "outputs": [],
   "source": [
    "# ! mkdir ~/.kaggle\n",
    " \n",
    "# !cp kaggle.json ~/.kaggle/"
   ]
  },
  {
   "cell_type": "code",
   "execution_count": 3,
   "id": "dd26fcef-c3df-4f36-b411-8426eb42765a",
   "metadata": {},
   "outputs": [],
   "source": [
    "# !kaggle competitions download -c store-sales-time-series-forecasting"
   ]
  },
  {
   "cell_type": "markdown",
   "id": "b8fd7a90-fe1a-4b76-98db-e0cf8b815a8f",
   "metadata": {},
   "source": [
    "# !unzip store-sales-time-series-forecasting.zip"
   ]
  },
  {
   "cell_type": "code",
   "execution_count": 5,
   "id": "9b6dc776-3344-42a9-9275-c6deae71e9b7",
   "metadata": {},
   "outputs": [],
   "source": [
    "import matplotlib.pyplot as plt\n",
    "import pandas as pd\n",
    "import seaborn as sns\n",
    "import plotly.express as px\n",
    "import os\n",
    "import numpy as np"
   ]
  },
  {
   "cell_type": "code",
   "execution_count": 6,
   "id": "3d545745-7d6d-4223-bd36-1e7566272f6f",
   "metadata": {},
   "outputs": [],
   "source": [
    "from matplotlib import style\n",
    "\n",
    "style.available\n",
    "# returns:\n",
    "['bmh',\n",
    " 'classic',\n",
    " 'dark_background',\n",
    " 'fast',\n",
    " 'fivethirtyeight',\n",
    " 'ggplot',\n",
    " 'grayscale',\n",
    " 'seaborn-bright',\n",
    " 'seaborn-colorblind',\n",
    " 'seaborn-dark-palette',\n",
    " 'seaborn-dark',\n",
    " 'seaborn-darkgrid',\n",
    " 'seaborn-deep',\n",
    " 'seaborn-muted',\n",
    " 'seaborn-notebook',\n",
    " 'seaborn-paper',\n",
    " 'seaborn-pastel',\n",
    " 'seaborn-poster',\n",
    " 'seaborn-talk',\n",
    " 'seaborn-ticks',\n",
    " 'seaborn-white',\n",
    " 'seaborn-whitegrid',\n",
    " 'seaborn',\n",
    " 'Solarize_Light2',\n",
    " '_classic_test']\n",
    "style.use('seaborn-dark')\n"
   ]
  },
  {
   "cell_type": "code",
   "execution_count": 7,
   "id": "f6fda4b0-8712-480d-9175-a6248b890d0d",
   "metadata": {},
   "outputs": [],
   "source": [
    "df_train=pd.read_csv('data/train.csv')\n",
    "df_test=pd.read_csv('data/test.csv')\n",
    "df_oil=pd.read_csv('data/oil.csv')\n",
    "df_hollidays_events=pd.read_csv('data/holidays_events.csv')\n",
    "df_stores=pd.read_csv('data/stores.csv')\n",
    "df_transactions=pd.read_csv('data/transactions.csv')\n"
   ]
  },
  {
   "cell_type": "code",
   "execution_count": 8,
   "id": "a03d1043-f0e1-4f85-a754-5c0f7f32ef81",
   "metadata": {},
   "outputs": [],
   "source": [
    "#merge all data to df_train on date\n",
    "df_train1=pd.merge(df_train,df_oil,on='date',how='left')\n",
    "df_train1=pd.merge(df_train1,df_hollidays_events,on='date',how='left')\n",
    "df_train1=pd.merge(df_train1,df_stores,on = 'store_nbr',how='left')\n",
    "df_train1=pd.merge(df_train1,df_transactions,on = ['date', 'store_nbr'],how='left')\n",
    "df_train1 = df_train1.rename(columns = {\"type_x\" : \"holiday_type\", \"type_y\" : \"store_type\"})"
   ]
  },
  {
   "cell_type": "code",
   "execution_count": 9,
   "id": "8717ddc7-45e7-4a92-91f7-6d3014ce94ac",
   "metadata": {},
   "outputs": [
    {
     "data": {
      "text/html": [
       "<div>\n",
       "<style scoped>\n",
       "    .dataframe tbody tr th:only-of-type {\n",
       "        vertical-align: middle;\n",
       "    }\n",
       "\n",
       "    .dataframe tbody tr th {\n",
       "        vertical-align: top;\n",
       "    }\n",
       "\n",
       "    .dataframe thead th {\n",
       "        text-align: right;\n",
       "    }\n",
       "</style>\n",
       "<table border=\"1\" class=\"dataframe\">\n",
       "  <thead>\n",
       "    <tr style=\"text-align: right;\">\n",
       "      <th></th>\n",
       "      <th>date</th>\n",
       "      <th>family</th>\n",
       "      <th>id</th>\n",
       "      <th>onpromotion</th>\n",
       "      <th>sales</th>\n",
       "      <th>store_nbr</th>\n",
       "      <th>city</th>\n",
       "      <th>state</th>\n",
       "      <th>store_type</th>\n",
       "      <th>cluster</th>\n",
       "      <th>...</th>\n",
       "      <th>holiday_type</th>\n",
       "      <th>locale</th>\n",
       "      <th>locale_name</th>\n",
       "      <th>description</th>\n",
       "      <th>transferred</th>\n",
       "      <th>year</th>\n",
       "      <th>month</th>\n",
       "      <th>week</th>\n",
       "      <th>quarter</th>\n",
       "      <th>day_of_week</th>\n",
       "    </tr>\n",
       "  </thead>\n",
       "  <tbody>\n",
       "    <tr>\n",
       "      <th>0</th>\n",
       "      <td>2013-01-01</td>\n",
       "      <td>AUTOMOTIVE</td>\n",
       "      <td>0</td>\n",
       "      <td>0</td>\n",
       "      <td>0.0</td>\n",
       "      <td>1</td>\n",
       "      <td>Quito</td>\n",
       "      <td>Pichincha</td>\n",
       "      <td>D</td>\n",
       "      <td>13</td>\n",
       "      <td>...</td>\n",
       "      <td>Holiday</td>\n",
       "      <td>National</td>\n",
       "      <td>Ecuador</td>\n",
       "      <td>Primer dia del ano</td>\n",
       "      <td>False</td>\n",
       "      <td>2013</td>\n",
       "      <td>1</td>\n",
       "      <td>1</td>\n",
       "      <td>1</td>\n",
       "      <td>Tuesday</td>\n",
       "    </tr>\n",
       "    <tr>\n",
       "      <th>1</th>\n",
       "      <td>2013-01-01</td>\n",
       "      <td>BABY CARE</td>\n",
       "      <td>1</td>\n",
       "      <td>0</td>\n",
       "      <td>0.0</td>\n",
       "      <td>1</td>\n",
       "      <td>Quito</td>\n",
       "      <td>Pichincha</td>\n",
       "      <td>D</td>\n",
       "      <td>13</td>\n",
       "      <td>...</td>\n",
       "      <td>Holiday</td>\n",
       "      <td>National</td>\n",
       "      <td>Ecuador</td>\n",
       "      <td>Primer dia del ano</td>\n",
       "      <td>False</td>\n",
       "      <td>2013</td>\n",
       "      <td>1</td>\n",
       "      <td>1</td>\n",
       "      <td>1</td>\n",
       "      <td>Tuesday</td>\n",
       "    </tr>\n",
       "    <tr>\n",
       "      <th>2</th>\n",
       "      <td>2013-01-01</td>\n",
       "      <td>BEAUTY</td>\n",
       "      <td>2</td>\n",
       "      <td>0</td>\n",
       "      <td>0.0</td>\n",
       "      <td>1</td>\n",
       "      <td>Quito</td>\n",
       "      <td>Pichincha</td>\n",
       "      <td>D</td>\n",
       "      <td>13</td>\n",
       "      <td>...</td>\n",
       "      <td>Holiday</td>\n",
       "      <td>National</td>\n",
       "      <td>Ecuador</td>\n",
       "      <td>Primer dia del ano</td>\n",
       "      <td>False</td>\n",
       "      <td>2013</td>\n",
       "      <td>1</td>\n",
       "      <td>1</td>\n",
       "      <td>1</td>\n",
       "      <td>Tuesday</td>\n",
       "    </tr>\n",
       "    <tr>\n",
       "      <th>3</th>\n",
       "      <td>2013-01-01</td>\n",
       "      <td>BEVERAGES</td>\n",
       "      <td>3</td>\n",
       "      <td>0</td>\n",
       "      <td>0.0</td>\n",
       "      <td>1</td>\n",
       "      <td>Quito</td>\n",
       "      <td>Pichincha</td>\n",
       "      <td>D</td>\n",
       "      <td>13</td>\n",
       "      <td>...</td>\n",
       "      <td>Holiday</td>\n",
       "      <td>National</td>\n",
       "      <td>Ecuador</td>\n",
       "      <td>Primer dia del ano</td>\n",
       "      <td>False</td>\n",
       "      <td>2013</td>\n",
       "      <td>1</td>\n",
       "      <td>1</td>\n",
       "      <td>1</td>\n",
       "      <td>Tuesday</td>\n",
       "    </tr>\n",
       "    <tr>\n",
       "      <th>4</th>\n",
       "      <td>2013-01-01</td>\n",
       "      <td>BOOKS</td>\n",
       "      <td>4</td>\n",
       "      <td>0</td>\n",
       "      <td>0.0</td>\n",
       "      <td>1</td>\n",
       "      <td>Quito</td>\n",
       "      <td>Pichincha</td>\n",
       "      <td>D</td>\n",
       "      <td>13</td>\n",
       "      <td>...</td>\n",
       "      <td>Holiday</td>\n",
       "      <td>National</td>\n",
       "      <td>Ecuador</td>\n",
       "      <td>Primer dia del ano</td>\n",
       "      <td>False</td>\n",
       "      <td>2013</td>\n",
       "      <td>1</td>\n",
       "      <td>1</td>\n",
       "      <td>1</td>\n",
       "      <td>Tuesday</td>\n",
       "    </tr>\n",
       "  </tbody>\n",
       "</table>\n",
       "<p>5 rows × 22 columns</p>\n",
       "</div>"
      ],
      "text/plain": [
       "        date      family  id  onpromotion  sales  store_nbr   city      state  \\\n",
       "0 2013-01-01  AUTOMOTIVE   0            0    0.0          1  Quito  Pichincha   \n",
       "1 2013-01-01   BABY CARE   1            0    0.0          1  Quito  Pichincha   \n",
       "2 2013-01-01      BEAUTY   2            0    0.0          1  Quito  Pichincha   \n",
       "3 2013-01-01   BEVERAGES   3            0    0.0          1  Quito  Pichincha   \n",
       "4 2013-01-01       BOOKS   4            0    0.0          1  Quito  Pichincha   \n",
       "\n",
       "  store_type  cluster  ...  holiday_type    locale locale_name  \\\n",
       "0          D       13  ...       Holiday  National     Ecuador   \n",
       "1          D       13  ...       Holiday  National     Ecuador   \n",
       "2          D       13  ...       Holiday  National     Ecuador   \n",
       "3          D       13  ...       Holiday  National     Ecuador   \n",
       "4          D       13  ...       Holiday  National     Ecuador   \n",
       "\n",
       "          description transferred  year month  week  quarter  day_of_week  \n",
       "0  Primer dia del ano       False  2013     1     1        1      Tuesday  \n",
       "1  Primer dia del ano       False  2013     1     1        1      Tuesday  \n",
       "2  Primer dia del ano       False  2013     1     1        1      Tuesday  \n",
       "3  Primer dia del ano       False  2013     1     1        1      Tuesday  \n",
       "4  Primer dia del ano       False  2013     1     1        1      Tuesday  \n",
       "\n",
       "[5 rows x 22 columns]"
      ]
     },
     "execution_count": 9,
     "metadata": {},
     "output_type": "execute_result"
    }
   ],
   "source": [
    "df_data = pd.concat([df_train, df_test], sort=True)\n",
    "\n",
    "df_data = df_data.merge(df_stores, how=\"left\", on='store_nbr')   \n",
    "df_data = df_data.merge(df_oil, how=\"left\", on='date')      \n",
    "df_data = df_data.merge(df_transactions, how=\"left\", on=['date','store_nbr'])  \n",
    "df_data = df_data.merge(df_hollidays_events,on='date',how='left')\n",
    "df_data = df_data.rename(columns={'type_x' : 'store_type','type_y':'holiday_type'})\n",
    "\n",
    "df_data.date = pd.to_datetime(df_data.date)\n",
    "df_data['year'] = df_data['date'].dt.year\n",
    "df_data['month'] = df_data['date'].dt.month\n",
    "df_data['week'] = df_data['date'].dt.isocalendar().week\n",
    "df_data['quarter'] = df_data['date'].dt.quarter\n",
    "df_data['day_of_week'] = df_data['date'].dt.day_name()\n",
    "df_data.head()"
   ]
  },
  {
   "cell_type": "code",
   "execution_count": 10,
   "id": "8a4fda7a-3777-41a7-95c2-b99dae4430d2",
   "metadata": {},
   "outputs": [],
   "source": [
    "df_train[\"date\"] = pd.to_datetime(df_train.date)\n",
    "df_test[\"date\"] = pd.to_datetime(df_test.date)\n",
    "df_transactions[\"date\"] = pd.to_datetime(df_transactions.date)\n",
    "df_oil[\"date\"] = pd.to_datetime(df_oil.date)\n",
    "df_train1[\"date\"] = pd.to_datetime(df_oil.date)\n"
   ]
  },
  {
   "cell_type": "code",
   "execution_count": 11,
   "id": "e6550add-4f7f-4604-85b8-270f2ec941cf",
   "metadata": {},
   "outputs": [
    {
     "name": "stdout",
     "output_type": "stream",
     "text": [
      "CPU times: user 337 ms, sys: 68.3 ms, total: 405 ms\n",
      "Wall time: 405 ms\n"
     ]
    }
   ],
   "source": [
    "%%time\n",
    "df_st_sa=df_train1.groupby('store_type').agg({'sales':'mean'}).reset_index().reset_index().sort_values(by='sales', ascending=True)\n",
    "df_fa_sa = df_train1.groupby('family').agg({\"sales\" : \"mean\"}).reset_index().sort_values(by='sales', ascending=False)[:10]\n",
    "df_cl_sa = df_train1.groupby('cluster').agg({\"sales\" : \"mean\"}).reset_index() \n",
    "df_fa_sa=df_fa_sa.iloc[::-1]\n"
   ]
  },
  {
   "cell_type": "code",
   "execution_count": 12,
   "id": "0360db84-9265-4c19-b27e-f599ada35a65",
   "metadata": {},
   "outputs": [
    {
     "data": {
      "text/html": [
       "<div>\n",
       "<style scoped>\n",
       "    .dataframe tbody tr th:only-of-type {\n",
       "        vertical-align: middle;\n",
       "    }\n",
       "\n",
       "    .dataframe tbody tr th {\n",
       "        vertical-align: top;\n",
       "    }\n",
       "\n",
       "    .dataframe thead th {\n",
       "        text-align: right;\n",
       "    }\n",
       "</style>\n",
       "<table border=\"1\" class=\"dataframe\">\n",
       "  <thead>\n",
       "    <tr style=\"text-align: right;\">\n",
       "      <th></th>\n",
       "      <th>family</th>\n",
       "      <th>sales</th>\n",
       "    </tr>\n",
       "  </thead>\n",
       "  <tbody>\n",
       "    <tr>\n",
       "      <th>9</th>\n",
       "      <td>DELI</td>\n",
       "      <td>265.629746</td>\n",
       "    </tr>\n",
       "    <tr>\n",
       "      <th>25</th>\n",
       "      <td>PERSONAL CARE</td>\n",
       "      <td>271.192381</td>\n",
       "    </tr>\n",
       "    <tr>\n",
       "      <th>24</th>\n",
       "      <td>MEATS</td>\n",
       "      <td>341.965905</td>\n",
       "    </tr>\n",
       "    <tr>\n",
       "      <th>28</th>\n",
       "      <td>POULTRY</td>\n",
       "      <td>351.078816</td>\n",
       "    </tr>\n",
       "    <tr>\n",
       "      <th>5</th>\n",
       "      <td>BREAD/BAKERY</td>\n",
       "      <td>464.150612</td>\n",
       "    </tr>\n",
       "    <tr>\n",
       "      <th>8</th>\n",
       "      <td>DAIRY</td>\n",
       "      <td>711.175991</td>\n",
       "    </tr>\n",
       "    <tr>\n",
       "      <th>7</th>\n",
       "      <td>CLEANING</td>\n",
       "      <td>1074.171518</td>\n",
       "    </tr>\n",
       "    <tr>\n",
       "      <th>30</th>\n",
       "      <td>PRODUCE</td>\n",
       "      <td>1355.373698</td>\n",
       "    </tr>\n",
       "    <tr>\n",
       "      <th>3</th>\n",
       "      <td>BEVERAGES</td>\n",
       "      <td>2394.912701</td>\n",
       "    </tr>\n",
       "    <tr>\n",
       "      <th>12</th>\n",
       "      <td>GROCERY I</td>\n",
       "      <td>3790.432797</td>\n",
       "    </tr>\n",
       "  </tbody>\n",
       "</table>\n",
       "</div>"
      ],
      "text/plain": [
       "           family        sales\n",
       "9            DELI   265.629746\n",
       "25  PERSONAL CARE   271.192381\n",
       "24          MEATS   341.965905\n",
       "28        POULTRY   351.078816\n",
       "5    BREAD/BAKERY   464.150612\n",
       "8           DAIRY   711.175991\n",
       "7        CLEANING  1074.171518\n",
       "30        PRODUCE  1355.373698\n",
       "3       BEVERAGES  2394.912701\n",
       "12      GROCERY I  3790.432797"
      ]
     },
     "execution_count": 12,
     "metadata": {},
     "output_type": "execute_result"
    }
   ],
   "source": [
    "df_fa_sa"
   ]
  },
  {
   "cell_type": "code",
   "execution_count": 13,
   "id": "6fd4c612-941d-4a50-856f-2db1516ff46a",
   "metadata": {},
   "outputs": [
    {
     "data": {
      "image/png": "[encoded data removed]",
      "text/plain": [
       "<Figure size 720x720 with 1 Axes>"
      ]
     },
     "metadata": {},
     "output_type": "display_data"
    }
   ],
   "source": [
    "plt.figure(figsize=(10,10))\n",
    "\n",
    "plt.pie(df_st_sa['sales'],labels=df_st_sa['store_type'],autopct='%1.1f%%',shadow=True)\n",
    "\n",
    "plt.title('Store Type Sales')\n",
    "plt.show()"
   ]
  },
  {
   "cell_type": "code",
   "execution_count": 14,
   "id": "b9959f1f-5dab-4145-bcda-418e0c0c32b6",
   "metadata": {},
   "outputs": [
    {
     "data": {
      "text/plain": [
       "Text(0, 0.5, 'Sales')"
      ]
     },
     "execution_count": 14,
     "metadata": {},
     "output_type": "execute_result"
    },
    {
     "data": {
      "image/png": "[encoded data removed]",
      "text/plain": [
       "<Figure size 720x360 with 1 Axes>"
      ]
     },
     "metadata": {
      "needs_background": "light"
     },
     "output_type": "display_data"
    }
   ],
   "source": [
    "plt.figure(figsize=(10,5))\n",
    "plt.barh(df_fa_sa['family'],df_fa_sa['sales'],color='orange')\n",
    "plt.title('Sales by product type')\n",
    "plt.xlabel('Product type')\n",
    "plt.ylabel('Sales')"
   ]
  },
  {
   "cell_type": "code",
   "execution_count": 15,
   "id": "49df64d6-983f-47c0-840a-a5a9cc83a3ae",
   "metadata": {
    "tags": []
   },
   "outputs": [
    {
     "data": {
      "text/plain": [
       "Text(0, 0.5, 'Sales')"
      ]
     },
     "execution_count": 15,
     "metadata": {},
     "output_type": "execute_result"
    },
    {
     "data": {
      "image/png": "[encoded data removed]",
      "text/plain": [
       "<Figure size 720x360 with 1 Axes>"
      ]
     },
     "metadata": {
      "needs_background": "light"
     },
     "output_type": "display_data"
    }
   ],
   "source": [
    "plt.figure(figsize=(10,5))\n",
    "plt.bar(df_cl_sa['cluster'],df_cl_sa['sales'],color='orange')\n",
    "plt.title('Sales by cluster')\n",
    "plt.xlabel('Cluster')\n",
    "plt.ylabel('Sales')"
   ]
  },
  {
   "cell_type": "code",
   "execution_count": 16,
   "id": "e6f85bf3-6859-4f2b-b327-86a75e37ada6",
   "metadata": {},
   "outputs": [
    {
     "name": "stdout",
     "output_type": "stream",
     "text": [
      "Spearman Correlation between Total Sales and Transactions: 0.8175\n"
     ]
    }
   ],
   "source": [
    "temp = pd.merge(df_train.groupby([\"date\", \"store_nbr\"]).sales.sum().reset_index(), df_transactions, how = \"left\")\n",
    "print(\"Spearman Correlation between Total Sales and Transactions: {:,.4f}\".format(temp.corr(\"spearman\").sales.loc[\"transactions\"]))\n"
   ]
  },
  {
   "cell_type": "code",
   "execution_count": 17,
   "id": "300ab913-65f1-4c6c-a8b7-94a16f623f72",
   "metadata": {},
   "outputs": [
    {
     "data": {
      "text/html": [
       "<div>\n",
       "<style scoped>\n",
       "    .dataframe tbody tr th:only-of-type {\n",
       "        vertical-align: middle;\n",
       "    }\n",
       "\n",
       "    .dataframe tbody tr th {\n",
       "        vertical-align: top;\n",
       "    }\n",
       "\n",
       "    .dataframe thead th {\n",
       "        text-align: right;\n",
       "    }\n",
       "</style>\n",
       "<table border=\"1\" class=\"dataframe\">\n",
       "  <thead>\n",
       "    <tr style=\"text-align: right;\">\n",
       "      <th></th>\n",
       "      <th>date</th>\n",
       "      <th>transactions</th>\n",
       "      <th>year</th>\n",
       "    </tr>\n",
       "  </thead>\n",
       "  <tbody>\n",
       "    <tr>\n",
       "      <th>0</th>\n",
       "      <td>2013-01-31</td>\n",
       "      <td>1657.898624</td>\n",
       "      <td>2013</td>\n",
       "    </tr>\n",
       "    <tr>\n",
       "      <th>1</th>\n",
       "      <td>2013-02-28</td>\n",
       "      <td>1684.483696</td>\n",
       "      <td>2013</td>\n",
       "    </tr>\n",
       "    <tr>\n",
       "      <th>2</th>\n",
       "      <td>2013-03-31</td>\n",
       "      <td>1724.181627</td>\n",
       "      <td>2013</td>\n",
       "    </tr>\n",
       "    <tr>\n",
       "      <th>3</th>\n",
       "      <td>2013-04-30</td>\n",
       "      <td>1699.206522</td>\n",
       "      <td>2013</td>\n",
       "    </tr>\n",
       "    <tr>\n",
       "      <th>4</th>\n",
       "      <td>2013-05-31</td>\n",
       "      <td>1702.874396</td>\n",
       "      <td>2013</td>\n",
       "    </tr>\n",
       "    <tr>\n",
       "      <th>5</th>\n",
       "      <td>2013-06-30</td>\n",
       "      <td>1701.426743</td>\n",
       "      <td>2013</td>\n",
       "    </tr>\n",
       "    <tr>\n",
       "      <th>6</th>\n",
       "      <td>2013-07-31</td>\n",
       "      <td>1675.012552</td>\n",
       "      <td>2013</td>\n",
       "    </tr>\n",
       "    <tr>\n",
       "      <th>7</th>\n",
       "      <td>2013-08-31</td>\n",
       "      <td>1689.182567</td>\n",
       "      <td>2013</td>\n",
       "    </tr>\n",
       "    <tr>\n",
       "      <th>8</th>\n",
       "      <td>2013-09-30</td>\n",
       "      <td>1688.270922</td>\n",
       "      <td>2013</td>\n",
       "    </tr>\n",
       "    <tr>\n",
       "      <th>9</th>\n",
       "      <td>2013-10-31</td>\n",
       "      <td>1653.013040</td>\n",
       "      <td>2013</td>\n",
       "    </tr>\n",
       "    <tr>\n",
       "      <th>10</th>\n",
       "      <td>2013-11-30</td>\n",
       "      <td>1680.756028</td>\n",
       "      <td>2013</td>\n",
       "    </tr>\n",
       "    <tr>\n",
       "      <th>11</th>\n",
       "      <td>2013-12-31</td>\n",
       "      <td>2101.323404</td>\n",
       "      <td>2013</td>\n",
       "    </tr>\n",
       "    <tr>\n",
       "      <th>12</th>\n",
       "      <td>2014-01-31</td>\n",
       "      <td>1696.334515</td>\n",
       "      <td>2014</td>\n",
       "    </tr>\n",
       "    <tr>\n",
       "      <th>13</th>\n",
       "      <td>2014-02-28</td>\n",
       "      <td>1731.129939</td>\n",
       "      <td>2014</td>\n",
       "    </tr>\n",
       "    <tr>\n",
       "      <th>14</th>\n",
       "      <td>2014-03-31</td>\n",
       "      <td>1748.232830</td>\n",
       "      <td>2014</td>\n",
       "    </tr>\n",
       "    <tr>\n",
       "      <th>15</th>\n",
       "      <td>2014-04-30</td>\n",
       "      <td>1762.861450</td>\n",
       "      <td>2014</td>\n",
       "    </tr>\n",
       "    <tr>\n",
       "      <th>16</th>\n",
       "      <td>2014-05-31</td>\n",
       "      <td>1751.757873</td>\n",
       "      <td>2014</td>\n",
       "    </tr>\n",
       "    <tr>\n",
       "      <th>17</th>\n",
       "      <td>2014-06-30</td>\n",
       "      <td>1701.520567</td>\n",
       "      <td>2014</td>\n",
       "    </tr>\n",
       "    <tr>\n",
       "      <th>18</th>\n",
       "      <td>2014-07-31</td>\n",
       "      <td>1667.126962</td>\n",
       "      <td>2014</td>\n",
       "    </tr>\n",
       "    <tr>\n",
       "      <th>19</th>\n",
       "      <td>2014-08-31</td>\n",
       "      <td>1738.063014</td>\n",
       "      <td>2014</td>\n",
       "    </tr>\n",
       "    <tr>\n",
       "      <th>20</th>\n",
       "      <td>2014-09-30</td>\n",
       "      <td>1712.679021</td>\n",
       "      <td>2014</td>\n",
       "    </tr>\n",
       "    <tr>\n",
       "      <th>21</th>\n",
       "      <td>2014-10-31</td>\n",
       "      <td>1682.331989</td>\n",
       "      <td>2014</td>\n",
       "    </tr>\n",
       "    <tr>\n",
       "      <th>22</th>\n",
       "      <td>2014-11-30</td>\n",
       "      <td>1701.595833</td>\n",
       "      <td>2014</td>\n",
       "    </tr>\n",
       "    <tr>\n",
       "      <th>23</th>\n",
       "      <td>2014-12-31</td>\n",
       "      <td>2117.418750</td>\n",
       "      <td>2014</td>\n",
       "    </tr>\n",
       "    <tr>\n",
       "      <th>24</th>\n",
       "      <td>2015-01-31</td>\n",
       "      <td>1727.313671</td>\n",
       "      <td>2015</td>\n",
       "    </tr>\n",
       "    <tr>\n",
       "      <th>25</th>\n",
       "      <td>2015-02-28</td>\n",
       "      <td>1724.988235</td>\n",
       "      <td>2015</td>\n",
       "    </tr>\n",
       "    <tr>\n",
       "      <th>26</th>\n",
       "      <td>2015-03-31</td>\n",
       "      <td>1717.135383</td>\n",
       "      <td>2015</td>\n",
       "    </tr>\n",
       "    <tr>\n",
       "      <th>27</th>\n",
       "      <td>2015-04-30</td>\n",
       "      <td>1723.370748</td>\n",
       "      <td>2015</td>\n",
       "    </tr>\n",
       "    <tr>\n",
       "      <th>28</th>\n",
       "      <td>2015-05-31</td>\n",
       "      <td>1756.840342</td>\n",
       "      <td>2015</td>\n",
       "    </tr>\n",
       "    <tr>\n",
       "      <th>29</th>\n",
       "      <td>2015-06-30</td>\n",
       "      <td>1687.268667</td>\n",
       "      <td>2015</td>\n",
       "    </tr>\n",
       "    <tr>\n",
       "      <th>30</th>\n",
       "      <td>2015-07-31</td>\n",
       "      <td>1672.950546</td>\n",
       "      <td>2015</td>\n",
       "    </tr>\n",
       "    <tr>\n",
       "      <th>31</th>\n",
       "      <td>2015-08-31</td>\n",
       "      <td>1680.312186</td>\n",
       "      <td>2015</td>\n",
       "    </tr>\n",
       "    <tr>\n",
       "      <th>32</th>\n",
       "      <td>2015-09-30</td>\n",
       "      <td>1631.571795</td>\n",
       "      <td>2015</td>\n",
       "    </tr>\n",
       "    <tr>\n",
       "      <th>33</th>\n",
       "      <td>2015-10-31</td>\n",
       "      <td>1596.626300</td>\n",
       "      <td>2015</td>\n",
       "    </tr>\n",
       "    <tr>\n",
       "      <th>34</th>\n",
       "      <td>2015-11-30</td>\n",
       "      <td>1590.058491</td>\n",
       "      <td>2015</td>\n",
       "    </tr>\n",
       "    <tr>\n",
       "      <th>35</th>\n",
       "      <td>2015-12-31</td>\n",
       "      <td>1981.061635</td>\n",
       "      <td>2015</td>\n",
       "    </tr>\n",
       "    <tr>\n",
       "      <th>36</th>\n",
       "      <td>2016-01-31</td>\n",
       "      <td>1601.083727</td>\n",
       "      <td>2016</td>\n",
       "    </tr>\n",
       "    <tr>\n",
       "      <th>37</th>\n",
       "      <td>2016-02-29</td>\n",
       "      <td>1604.292778</td>\n",
       "      <td>2016</td>\n",
       "    </tr>\n",
       "    <tr>\n",
       "      <th>38</th>\n",
       "      <td>2016-03-31</td>\n",
       "      <td>1589.066423</td>\n",
       "      <td>2016</td>\n",
       "    </tr>\n",
       "    <tr>\n",
       "      <th>39</th>\n",
       "      <td>2016-04-30</td>\n",
       "      <td>1655.218239</td>\n",
       "      <td>2016</td>\n",
       "    </tr>\n",
       "    <tr>\n",
       "      <th>40</th>\n",
       "      <td>2016-05-31</td>\n",
       "      <td>1622.737066</td>\n",
       "      <td>2016</td>\n",
       "    </tr>\n",
       "    <tr>\n",
       "      <th>41</th>\n",
       "      <td>2016-06-30</td>\n",
       "      <td>1566.706289</td>\n",
       "      <td>2016</td>\n",
       "    </tr>\n",
       "    <tr>\n",
       "      <th>42</th>\n",
       "      <td>2016-07-31</td>\n",
       "      <td>1578.872185</td>\n",
       "      <td>2016</td>\n",
       "    </tr>\n",
       "    <tr>\n",
       "      <th>43</th>\n",
       "      <td>2016-08-31</td>\n",
       "      <td>1569.375619</td>\n",
       "      <td>2016</td>\n",
       "    </tr>\n",
       "    <tr>\n",
       "      <th>44</th>\n",
       "      <td>2016-09-30</td>\n",
       "      <td>1594.878272</td>\n",
       "      <td>2016</td>\n",
       "    </tr>\n",
       "    <tr>\n",
       "      <th>45</th>\n",
       "      <td>2016-10-31</td>\n",
       "      <td>1592.686003</td>\n",
       "      <td>2016</td>\n",
       "    </tr>\n",
       "    <tr>\n",
       "      <th>46</th>\n",
       "      <td>2016-11-30</td>\n",
       "      <td>1625.652956</td>\n",
       "      <td>2016</td>\n",
       "    </tr>\n",
       "    <tr>\n",
       "      <th>47</th>\n",
       "      <td>2016-12-31</td>\n",
       "      <td>2012.576196</td>\n",
       "      <td>2016</td>\n",
       "    </tr>\n",
       "    <tr>\n",
       "      <th>48</th>\n",
       "      <td>2017-01-31</td>\n",
       "      <td>1642.267756</td>\n",
       "      <td>2017</td>\n",
       "    </tr>\n",
       "    <tr>\n",
       "      <th>49</th>\n",
       "      <td>2017-02-28</td>\n",
       "      <td>1649.845013</td>\n",
       "      <td>2017</td>\n",
       "    </tr>\n",
       "    <tr>\n",
       "      <th>50</th>\n",
       "      <td>2017-03-31</td>\n",
       "      <td>1631.555082</td>\n",
       "      <td>2017</td>\n",
       "    </tr>\n",
       "    <tr>\n",
       "      <th>51</th>\n",
       "      <td>2017-04-30</td>\n",
       "      <td>1666.338538</td>\n",
       "      <td>2017</td>\n",
       "    </tr>\n",
       "    <tr>\n",
       "      <th>52</th>\n",
       "      <td>2017-05-31</td>\n",
       "      <td>1673.765830</td>\n",
       "      <td>2017</td>\n",
       "    </tr>\n",
       "    <tr>\n",
       "      <th>53</th>\n",
       "      <td>2017-06-30</td>\n",
       "      <td>1647.446296</td>\n",
       "      <td>2017</td>\n",
       "    </tr>\n",
       "    <tr>\n",
       "      <th>54</th>\n",
       "      <td>2017-07-31</td>\n",
       "      <td>1663.097969</td>\n",
       "      <td>2017</td>\n",
       "    </tr>\n",
       "    <tr>\n",
       "      <th>55</th>\n",
       "      <td>2017-08-31</td>\n",
       "      <td>1649.002469</td>\n",
       "      <td>2017</td>\n",
       "    </tr>\n",
       "  </tbody>\n",
       "</table>\n",
       "</div>"
      ],
      "text/plain": [
       "         date  transactions  year\n",
       "0  2013-01-31   1657.898624  2013\n",
       "1  2013-02-28   1684.483696  2013\n",
       "2  2013-03-31   1724.181627  2013\n",
       "3  2013-04-30   1699.206522  2013\n",
       "4  2013-05-31   1702.874396  2013\n",
       "5  2013-06-30   1701.426743  2013\n",
       "6  2013-07-31   1675.012552  2013\n",
       "7  2013-08-31   1689.182567  2013\n",
       "8  2013-09-30   1688.270922  2013\n",
       "9  2013-10-31   1653.013040  2013\n",
       "10 2013-11-30   1680.756028  2013\n",
       "11 2013-12-31   2101.323404  2013\n",
       "12 2014-01-31   1696.334515  2014\n",
       "13 2014-02-28   1731.129939  2014\n",
       "14 2014-03-31   1748.232830  2014\n",
       "15 2014-04-30   1762.861450  2014\n",
       "16 2014-05-31   1751.757873  2014\n",
       "17 2014-06-30   1701.520567  2014\n",
       "18 2014-07-31   1667.126962  2014\n",
       "19 2014-08-31   1738.063014  2014\n",
       "20 2014-09-30   1712.679021  2014\n",
       "21 2014-10-31   1682.331989  2014\n",
       "22 2014-11-30   1701.595833  2014\n",
       "23 2014-12-31   2117.418750  2014\n",
       "24 2015-01-31   1727.313671  2015\n",
       "25 2015-02-28   1724.988235  2015\n",
       "26 2015-03-31   1717.135383  2015\n",
       "27 2015-04-30   1723.370748  2015\n",
       "28 2015-05-31   1756.840342  2015\n",
       "29 2015-06-30   1687.268667  2015\n",
       "30 2015-07-31   1672.950546  2015\n",
       "31 2015-08-31   1680.312186  2015\n",
       "32 2015-09-30   1631.571795  2015\n",
       "33 2015-10-31   1596.626300  2015\n",
       "34 2015-11-30   1590.058491  2015\n",
       "35 2015-12-31   1981.061635  2015\n",
       "36 2016-01-31   1601.083727  2016\n",
       "37 2016-02-29   1604.292778  2016\n",
       "38 2016-03-31   1589.066423  2016\n",
       "39 2016-04-30   1655.218239  2016\n",
       "40 2016-05-31   1622.737066  2016\n",
       "41 2016-06-30   1566.706289  2016\n",
       "42 2016-07-31   1578.872185  2016\n",
       "43 2016-08-31   1569.375619  2016\n",
       "44 2016-09-30   1594.878272  2016\n",
       "45 2016-10-31   1592.686003  2016\n",
       "46 2016-11-30   1625.652956  2016\n",
       "47 2016-12-31   2012.576196  2016\n",
       "48 2017-01-31   1642.267756  2017\n",
       "49 2017-02-28   1649.845013  2017\n",
       "50 2017-03-31   1631.555082  2017\n",
       "51 2017-04-30   1666.338538  2017\n",
       "52 2017-05-31   1673.765830  2017\n",
       "53 2017-06-30   1647.446296  2017\n",
       "54 2017-07-31   1663.097969  2017\n",
       "55 2017-08-31   1649.002469  2017"
      ]
     },
     "execution_count": 17,
     "metadata": {},
     "output_type": "execute_result"
    }
   ],
   "source": [
    "\n",
    "a=df_transactions.set_index(\"date\").resample('M').transactions.mean().reset_index()\n",
    "a[\"year\"] = a.date.dt.year\n",
    "a"
   ]
  },
  {
   "cell_type": "code",
   "execution_count": 18,
   "id": "0035d494-2f5e-4419-b603-7a34659704f2",
   "metadata": {},
   "outputs": [
    {
     "data": {
      "image/png": "[encoded data removed]",
      "text/plain": [
       "<Figure size 432x288 with 1 Axes>"
      ]
     },
     "metadata": {
      "needs_background": "light"
     },
     "output_type": "display_data"
    }
   ],
   "source": [
    "a.groupby(\"year\").transactions.plot()\n",
    "plt.legend(a.year.unique())\n",
    "\n",
    "plt.show()"
   ]
  },
  {
   "cell_type": "markdown",
   "id": "1e09ef22-2812-478b-b42d-e4f35b90e6ae",
   "metadata": {},
   "source": [
    "The figure showing strong correlation between transaction and sales"
   ]
  },
  {
   "cell_type": "code",
   "execution_count": 19,
   "id": "1bcf94fc-e84c-4cae-8718-4bac955317b6",
   "metadata": {},
   "outputs": [
    {
     "data": {
      "image/png": "[encoded data removed]",
      "text/plain": [
       "<Figure size 864x432 with 2 Axes>"
      ]
     },
     "metadata": {
      "needs_background": "light"
     },
     "output_type": "display_data"
    }
   ],
   "source": [
    "plt.figure(figsize=(12,6))\n",
    "sns.heatmap(temp.corr(), annot=True)\n",
    "plt.show()"
   ]
  },
  {
   "cell_type": "code",
   "execution_count": 20,
   "id": "5666269a-091f-48ad-8cbd-6eeec7c9f2b1",
   "metadata": {},
   "outputs": [],
   "source": [
    "a = df_transactions.copy()\n",
    "a[\"year\"] = a.date.dt.year\n",
    "a[\"dayofweek\"] = a.date.dt.dayofweek+1\n",
    "a = a.groupby([\"year\", \"dayofweek\"]).transactions.mean().reset_index()"
   ]
  },
  {
   "cell_type": "code",
   "execution_count": 21,
   "id": "57b758b7-695c-4cae-a8a1-9869e8cca389",
   "metadata": {
    "tags": []
   },
   "outputs": [
    {
     "data": {
      "text/plain": [
       "<matplotlib.legend.Legend at 0x7f6d34329400>"
      ]
     },
     "execution_count": 21,
     "metadata": {},
     "output_type": "execute_result"
    },
    {
     "data": {
      "image/png": "[encoded data removed]",
      "text/plain": [
       "<Figure size 432x288 with 1 Axes>"
      ]
     },
     "metadata": {
      "needs_background": "light"
     },
     "output_type": "display_data"
    }
   ],
   "source": [
    "a.groupby(\"year\").transactions.plot()\n",
    "plt.legend(a.year.unique())"
   ]
  },
  {
   "cell_type": "markdown",
   "id": "db1e72fb-aed6-43af-9539-67cb5db3253d",
   "metadata": {},
   "source": [
    "OIL PRICES"
   ]
  },
  {
   "cell_type": "code",
   "execution_count": 22,
   "id": "246b3930-ddca-4840-9537-e5ed027ab800",
   "metadata": {},
   "outputs": [],
   "source": [
    "oil = df_oil.set_index(\"date\").dcoilwtico.resample(\"D\").sum().reset_index()\n",
    "# Interpolate\n",
    "oil[\"dcoilwtico\"] = np.where(oil[\"dcoilwtico\"] == 0, np.nan, oil[\"dcoilwtico\"])\n",
    "oil[\"dcoilwtico_interpolated\"] =oil.dcoilwtico.interpolate()\n",
    "# Plot\n",
    "p = oil.melt(id_vars=['date']+list(oil.keys()[5:]), var_name='Legend')"
   ]
  },
  {
   "cell_type": "code",
   "execution_count": null,
   "id": "a6805323-e0d3-484d-83ef-ae903534ecb8",
   "metadata": {},
   "outputs": [],
   "source": [
    "sns.lineplot(x=\"date\", y=\"value\", data=p)\n",
    "plt.legend(p.Legend.unique())\n",
    "plt.xlabel(\"Date\")\n",
    "plt.ylabel(\"Oil Price\")\n",
    "plt.show()"
   ]
  },
  {
   "cell_type": "code",
   "execution_count": null,
   "id": "35fda472-6b72-43e6-acc9-1e0c17e4ec6d",
   "metadata": {},
   "outputs": [],
   "source": [
    "df_data['dcoilwtico'] = df_data['dcoilwtico'].fillna(method='bfill')\n",
    "df_data.dcoilwtico.isnull().sum()"
   ]
  },
  {
   "cell_type": "code",
   "execution_count": null,
   "id": "71704748-e9a4-4fbf-94db-8f1bd925d58f",
   "metadata": {},
   "outputs": [],
   "source": [
    "df_data.transactions = df_data.transactions.replace(np.nan,0)"
   ]
  },
  {
   "cell_type": "code",
   "execution_count": null,
   "id": "9e0b62c9-2d69-4c96-86de-4dbbe829c64a",
   "metadata": {},
   "outputs": [],
   "source": [
    "temp = pd.merge(temp, oil, how = \"left\")\n",
    "print(\"Correlation with Daily Oil Prices\")\n",
    "print(temp.drop([\"store_nbr\", \"dcoilwtico\"], axis = 1).corr(\"spearman\").dcoilwtico_interpolated.loc[[\"sales\", \"transactions\"]], \"\\n\")\n"
   ]
  },
  {
   "cell_type": "markdown",
   "id": "c22250d8-becd-4865-9277-dad65abc177c",
   "metadata": {},
   "source": [
    "First of all, let's look at the correlations for sales and transactions. The correlation values are not strong but the sign of sales is negative. Maybe, we can catch a clue. Logically, if daily oil price is high, we expect that the Ecuador's economy is bad and it means the price of product increases and sales decreases. There is a negative relationship here."
   ]
  },
  {
   "cell_type": "code",
   "execution_count": null,
   "id": "6ae3de1f-e458-4c62-a81b-7fd872442180",
   "metadata": {},
   "outputs": [],
   "source": [
    "a = df_train[[\"store_nbr\", \"sales\"]]\n",
    "a[\"ind\"] = 1\n",
    "a[\"ind\"] = a.groupby(\"store_nbr\").ind.cumsum().values\n",
    "a = pd.pivot(a, index = \"ind\", columns = \"store_nbr\", values = \"sales\").corr()"
   ]
  },
  {
   "cell_type": "code",
   "execution_count": null,
   "id": "28191b56-7a29-4cdd-bf37-02f2602c5e78",
   "metadata": {},
   "outputs": [],
   "source": [
    "mask = np.triu(a.corr())\n",
    "plt.figure(figsize=(20, 20))\n",
    "sns.heatmap(a,\n",
    "        annot=True,\n",
    "        fmt='.1f',\n",
    "        cmap='coolwarm',\n",
    "        square=True,\n",
    "        mask=mask,\n",
    "        linewidths=1,\n",
    "        cbar=False)\n",
    "plt.title(\"Correlations among stores\",fontsize = 20)\n",
    "plt.show()"
   ]
  },
  {
   "cell_type": "code",
   "execution_count": null,
   "id": "b98fde5a-fbed-47de-91dd-114e5a094c20",
   "metadata": {},
   "outputs": [],
   "source": [
    "df_train['family'] = df_train['family'].astype('category')\n",
    "df_train['family_category'] = df_train['family'].cat.codes\n",
    "family_category = dict( zip( df_train['family'].cat.codes, df_train['family'] ) )\n",
    "data_grouped_family_types = df_train.groupby(['family_category']).mean()[['sales', 'onpromotion']]\n",
    "#find percent  of sales\n",
    "data_grouped_family_types['%_s'] = 100 * data_grouped_family_types['sales'] / data_grouped_family_types['sales'].sum()\n",
    "data_grouped_family_types['%_s'] = data_grouped_family_types['%_s'].round(decimals = 3)\n",
    "data_grouped_family_types"
   ]
  },
  {
   "cell_type": "code",
   "execution_count": null,
   "id": "b65806e0-9289-4bb9-bf8f-13e17707f48c",
   "metadata": {},
   "outputs": [],
   "source": [
    "percent=data_grouped_family_types['%_s']\n",
    "family=data_grouped_family_types.index\n",
    "#find labels from family_category\n",
    "lables_2 = ['{0} - {1:1.2f} %'.format(i,j) for i,j in zip(family_category.values(), percent)]\n",
    "patches, texts=plt.pie(percent, shadow=True, startangle=90,radius=1.5)\n",
    "\n",
    "\n",
    "patches, labels, dummy =  zip(*sorted(zip(patches, lables_2,data_grouped_family_types['%_s']),key=lambda x: x[2],reverse=True))\n",
    "#plot pie chart\n",
    "#plot pie chart\n",
    "plt.legend(patches, labels, loc=\"best\",bbox_to_anchor=(-0.1, 1.), fontsize=8)\n",
    "plt.axis('equal')\n",
    "plt.title('Percentage of Sales by Family Type')\n",
    "plt.show()"
   ]
  },
  {
   "cell_type": "code",
   "execution_count": null,
   "id": "d38bdba9-427f-4813-b30b-a825762949e4",
   "metadata": {},
   "outputs": [],
   "source": [
    "#onpromotion percent\n",
    "data_grouped_family_types['%_p'] = 100 * data_grouped_family_types['onpromotion'] / data_grouped_family_types['onpromotion'].sum()\n",
    "data_grouped_family_types['%_p'] = data_grouped_family_types['%_p'].round(decimals = 3)\n",
    "data_grouped_family_types"
   ]
  },
  {
   "cell_type": "code",
   "execution_count": null,
   "id": "ac4d008d-ec15-46dd-a063-4d81b032c33d",
   "metadata": {},
   "outputs": [],
   "source": [
    "percent=data_grouped_family_types['%_p']\n",
    "family=data_grouped_family_types.index\n",
    "#find labels from family_category\n",
    "lables_2 = ['{0} - {1:1.2f} %'.format(i,j) for i,j in zip(family_category.values(), percent)]\n",
    "patches, texts=plt.pie(percent, shadow=True, startangle=90,radius=1.5)\n",
    "patches, labels, dummy =  zip(*sorted(zip(patches, lables_2,data_grouped_family_types['%_p']),key=lambda x: x[2],reverse=True))\n",
    "#plot pie chart\n",
    "plt.legend(patches, labels, loc=\"best\",bbox_to_anchor=(-0.1, 1.), fontsize=8)\n",
    "plt.axis('equal')\n",
    "plt.title('Percentage of On-Promotion Sales by Family Type')\n",
    "plt.show()"
   ]
  },
  {
   "cell_type": "code",
   "execution_count": null,
   "id": "6bd04b2c-e32c-473b-b89e-a399e9d7684b",
   "metadata": {},
   "outputs": [],
   "source": [
    "df_train['day_of_week']=df_train['date'].dt.dayofweek"
   ]
  },
  {
   "cell_type": "code",
   "execution_count": null,
   "id": "947a41a6-14c7-4181-a7ae-f62a5514674f",
   "metadata": {},
   "outputs": [],
   "source": [
    "weekly_sales=df_train.groupby('day_of_week').mean()['sales']\n",
    "plt.figure(figsize=(10,5))\n",
    "plt.bar(weekly_sales.index+1, weekly_sales.values)\n",
    "plt.title('Weekly Sales')\n",
    "plt.xlabel('Day of Week')\n",
    "plt.show()"
   ]
  },
  {
   "cell_type": "code",
   "execution_count": null,
   "id": "9565c209-c522-4554-b2e5-54adc62a2b28",
   "metadata": {},
   "outputs": [],
   "source": [
    "#monthly sales\n",
    "df_train['month']=df_train['date'].dt.month\n",
    "monthly_sales=df_train.groupby('month').mean()['sales']\n",
    "#plot monthly sales as bar chart\n",
    "monthly_sales.plot(kind='bar')"
   ]
  },
  {
   "cell_type": "code",
   "execution_count": null,
   "id": "d715a011-f52f-4908-8edf-9178643c2346",
   "metadata": {},
   "outputs": [],
   "source": [
    "#yearly sales\n",
    "df_train['year']=df_train['date'].dt.year\n",
    "yearly_sales=df_train.groupby('year').mean()['sales']\n",
    "#plot yearly sales as bar chart\n",
    "yearly_sales.plot(kind='bar')\n"
   ]
  },
  {
   "cell_type": "code",
   "execution_count": null,
   "id": "1447d89b-fd28-4475-af59-cdde47196507",
   "metadata": {},
   "outputs": [],
   "source": [
    "day_type = df_hollidays_events[['date', 'type']]\n",
    "avg_sales = df_train.groupby('date').agg({'sales':'mean'}).reset_index()\n",
    "\n",
    "day_type['date'] = pd.to_datetime(day_type['date'])\n",
    "avg_sales['date'] = pd.to_datetime(avg_sales['date'])\n",
    "\n",
    "#print(day_type.head())\n",
    "#print(avg_sales.head())\n",
    "\n",
    "df = pd.merge_asof(day_type, avg_sales, on = 'date')\n",
    "df.dropna(inplace= True)\n",
    "df.reset_index(drop = True, inplace= True)\n",
    "\n",
    "#print(df.head())\n",
    "\n",
    "df_1 = df.groupby(['type']).mean()['sales']\n",
    "average_holiday_sales = df_1.mean()\n",
    "#print(df_1.head())\n",
    "\n",
    "print(f'average holiday sales is {average_holiday_sales}')\n",
    "\n",
    "df_1.plot(kind='bar', figsize = (12,6)).set_title('average holiday sales')"
   ]
  },
  {
   "cell_type": "code",
   "execution_count": null,
   "id": "ae67b593-8abc-4b0d-ab9f-4e6ace0eb7ec",
   "metadata": {},
   "outputs": [],
   "source": [
    "import psutil\n",
    "# gives a single float value\n",
    "psutil.cpu_percent(interval=1, percpu=True)"
   ]
  },
  {
   "cell_type": "code",
   "execution_count": null,
   "id": "958c816b-b4ed-485e-87db-0e9d1b223490",
   "metadata": {},
   "outputs": [],
   "source": [
    "avg_sales=df_train.groupby('date').agg({'sales':'mean'})\n",
    "avg_sales.reset_index(inplace=True)\n",
    "avg_sales.rename(columns={'sales':'avg_sales'},inplace=True)\n",
    "avg_sales.head()"
   ]
  },
  {
   "cell_type": "code",
   "execution_count": null,
   "id": "d17a7ee6-b96b-4c57-a596-271cef5e7146",
   "metadata": {},
   "outputs": [],
   "source": [
    "avg_sales['lag_1']=avg_sales['avg_sales'].shift(1)\n",
    "avg_sales"
   ]
  },
  {
   "cell_type": "code",
   "execution_count": null,
   "id": "96621514-90a0-46d7-983d-f436deef3cc3",
   "metadata": {},
   "outputs": [],
   "source": [
    "sns.regplot(x='lag_1', y='avg_sales', data=avg_sales,scatter_kws={\"color\": \"black\"}, line_kws={\"color\": \"red\"})"
   ]
  },
  {
   "cell_type": "code",
   "execution_count": null,
   "id": "f1c24885-f4db-4513-b70e-c42d98a0842b",
   "metadata": {},
   "outputs": [],
   "source": [
    "#the above plot show linear relationship\n",
    "#fit linear regression\n",
    "from sklearn.linear_model import LinearRegression\n",
    "avg_sales['lag_1'].fillna(0,inplace=True)\n",
    "\n",
    "X=avg_sales.loc[:, ['lag_1']]\n",
    "y=avg_sales['avg_sales']\n",
    "regressor=LinearRegression()\n",
    "regressor.fit(X,y)\n",
    "y_pred=pd.Series(regressor.predict(X),index=X.index)\n",
    "#plot the regression line\n"
   ]
  },
  {
   "cell_type": "code",
   "execution_count": null,
   "id": "eab28518-ac1f-4f63-8b40-0a7d3a4a0268",
   "metadata": {},
   "outputs": [],
   "source": [
    "fig, ax = plt.subplots()\n",
    "ax.plot(X['lag_1'], y, '.', color='0.25')\n",
    "ax.plot(X['lag_1'], y_pred)\n",
    "ax.set_aspect('equal')\n",
    "ax.set_ylabel('sales')\n",
    "ax.set_xlabel('Lag_1')\n",
    "ax.set_title('Lag Plot of sales');"
   ]
  },
  {
   "cell_type": "code",
   "execution_count": null,
   "id": "954b8df0-24ce-4924-b25f-4d4e6c0e700f",
   "metadata": {},
   "outputs": [],
   "source": [
    "ax = y.plot()\n",
    "ax = y_pred.plot()"
   ]
  },
  {
   "cell_type": "markdown",
   "id": "34f8736b-2808-4d06-9c99-3545096e622c",
   "metadata": {},
   "source": [
    "**Trend**\n",
    "\n",
    "**What is Trend ?**\n",
    "The trend component of a time series represents a persistent, long-term change in the mean of the series. The trend is the slowest-moving part of a series, the part representing the largest time scale of importance. In a time series of product sales, an increasing trend might be the effect of a market expansion as more people become aware of the product year by year.\n",
    "\n",
    "**Moving Average Plot**\n",
    "To see what kind of trend a time series might have, we can use a moving average plot. To compute a moving average of a time series, we compute the average of the values within a sliding window of some defined width. Each point on the graph represents the average of all the values in the series that fall within the window on either side. The idea is to smooth out any short-term fluctuations in the series so that only long-term changes remain."
   ]
  },
  {
   "cell_type": "code",
   "execution_count": null,
   "id": "a50dc037-497e-4377-835f-27f928e9af69",
   "metadata": {},
   "outputs": [],
   "source": [
    "#rolling window\n",
    "avg_sales=df_train.groupby('date').agg({'sales':'mean'}).reset_index()\n",
    "avg_sales=avg_sales.set_index('date').to_period(\"D\")\n",
    "avg_sales.rename(columns={'sales':'avg_sales'},inplace=True)\n",
    "moving_avg=avg_sales['avg_sales'].rolling(\n",
    "    window=365, center=True, \n",
    "    min_periods=187\n",
    "    ).mean()\n",
    "ax = avg_sales.plot(style=\".\", color=\"0.5\")\n",
    "moving_avg.plot(ax=ax)"
   ]
  },
  {
   "cell_type": "markdown",
   "id": "52d5e2ac-9f35-4a48-ae0f-b7f05411d6de",
   "metadata": {},
   "source": [
    "**Interpret:** As we can appreeciate, sales has an constantly increasing trend during recorded years.\n",
    "\n"
   ]
  },
  {
   "cell_type": "code",
   "execution_count": null,
   "id": "520afddc-777a-4a8f-ae8c-a810c839bf6a",
   "metadata": {},
   "outputs": [],
   "source": [
    "from statsmodels.tsa.deterministic import DeterministicProcess\n",
    "dp=DeterministicProcess(\n",
    "    index=avg_sales.index,\n",
    "    constant=True,\n",
    "    order=1,\n",
    "    drop=True\n",
    ")\n",
    "X= dp.in_sample()\n",
    "X.head()"
   ]
  },
  {
   "cell_type": "code",
   "execution_count": null,
   "id": "96631359-9462-4b2b-8dea-2681a190c177",
   "metadata": {},
   "outputs": [],
   "source": [
    "from sklearn.linear_model import LinearRegression\n",
    "y=avg_sales['avg_sales']\n",
    "reg=LinearRegression()\n",
    "reg.fit(X,y)\n",
    "y_pred=pd.Series(reg.predict(X),index=X.index)"
   ]
  },
  {
   "cell_type": "code",
   "execution_count": null,
   "id": "13a78d8f-0a3a-4a4b-bbe4-c215409d825e",
   "metadata": {},
   "outputs": [],
   "source": [
    "ax = avg_sales.plot(style=\".\", color=\"0.5\", title=\"sales - Linear Trend\")\n",
    "_ = y_pred.plot(ax=ax, linewidth=3, label=\"Trend\")"
   ]
  },
  {
   "cell_type": "code",
   "execution_count": null,
   "id": "afe39c1e-0b9f-4e24-9b54-a5831dabb6b1",
   "metadata": {},
   "outputs": [],
   "source": [
    "X = dp.out_of_sample(steps=180)\n",
    "\n",
    "y_fore = pd.Series(reg.predict(X), index=X.index)\n",
    "\n",
    "y_fore.head()"
   ]
  },
  {
   "cell_type": "markdown",
   "id": "1dc47a37-f603-4240-a286-09b247206450",
   "metadata": {},
   "source": [
    "**Seasonality** <br>\n",
    "We say that a time series exhibits seasonality whenever there is a regular, periodic change in the mean of the series. Seasonal changes generally follow the clock and calendar - repetitions over a day, a week, or a year are common. Seasonality is often driven by the cycles of the natural world over days and years or by conventions of social behavior surrounding dates and times."
   ]
  },
  {
   "cell_type": "code",
   "execution_count": null,
   "id": "8759cc0e-82d7-4317-b02a-8fb8876097f6",
   "metadata": {},
   "outputs": [],
   "source": [
    "from statsmodels.tsa.deterministic import CalendarFourier, DeterministicProcess\n",
    "\n",
    "# Set Matplotlib defaults\n",
    "plt.style.use(\"seaborn-whitegrid\")\n",
    "plt.rc(\"figure\", autolayout=True, figsize=(11, 5))\n",
    "plt.rc(\n",
    "    \"axes\",\n",
    "    labelweight=\"bold\",\n",
    "    labelsize=\"large\",\n",
    "    titleweight=\"bold\",\n",
    "    titlesize=16,\n",
    "    titlepad=10,\n",
    ")\n",
    "plot_params = dict(\n",
    "    color=\"0.75\",\n",
    "    style=\".-\",\n",
    "    markeredgecolor=\"0.25\",\n",
    "    markerfacecolor=\"0.25\",\n",
    "    legend=False,\n",
    ")\n",
    "%config InlineBackend.figure_format = 'retina'\n",
    "\n",
    "\n",
    "# annotations: https://stackoverflow.com/a/49238256/5769929\n",
    "def seasonal_plot(X, y, period, freq, ax=None):\n",
    "    if ax is None:\n",
    "        _, ax = plt.subplots()\n",
    "    palette = sns.color_palette(\"husl\", n_colors=X[period].nunique(),)\n",
    "    ax = sns.lineplot(\n",
    "        x=freq,\n",
    "        y=y,\n",
    "        hue=period,\n",
    "        data=X,\n",
    "        ci=False,\n",
    "        ax=ax,\n",
    "        palette=palette,\n",
    "        legend=False,\n",
    "    )\n",
    "    ax.set_title(f\"Seasonal Plot ({period}/{freq})\")\n",
    "    for line, name in zip(ax.lines, X[period].unique()):\n",
    "        y_ = line.get_ydata()[-1]\n",
    "        ax.annotate(\n",
    "            name,\n",
    "            xy=(1, y_),\n",
    "            xytext=(6, 0),\n",
    "            color=line.get_color(),\n",
    "            xycoords=ax.get_yaxis_transform(),\n",
    "            textcoords=\"offset points\",\n",
    "            size=14,\n",
    "            va=\"center\",\n",
    "        )\n",
    "    return ax\n",
    "\n",
    "\n",
    "def plot_periodogram(ts, detrend='linear', ax=None):\n",
    "    from scipy.signal import periodogram\n",
    "    fs = pd.Timedelta(\"1Y\") / pd.Timedelta(\"1D\")\n",
    "    freqencies, spectrum = periodogram(\n",
    "        ts,\n",
    "        fs=fs,\n",
    "        detrend=detrend,\n",
    "        window=\"boxcar\",\n",
    "        scaling='spectrum',\n",
    "    )\n",
    "    if ax is None:\n",
    "        _, ax = plt.subplots()\n",
    "    ax.step(freqencies, spectrum, color=\"purple\")\n",
    "    ax.set_xscale(\"log\")\n",
    "    ax.set_xticks([1, 2, 4, 6, 12, 26, 52, 104])\n",
    "    ax.set_xticklabels(\n",
    "        [\n",
    "            \"Annual (1)\",\n",
    "            \"Semiannual (2)\",\n",
    "            \"Quarterly (4)\",\n",
    "            \"Bimonthly (6)\",\n",
    "            \"Monthly (12)\",\n",
    "            \"Biweekly (26)\",\n",
    "            \"Weekly (52)\",\n",
    "            \"Semiweekly (104)\",\n",
    "        ],\n",
    "        rotation=30,\n",
    "    )\n",
    "    ax.ticklabel_format(axis=\"y\", style=\"sci\", scilimits=(0, 0))\n",
    "    ax.set_ylabel(\"Variance\")\n",
    "    ax.set_title(\"Periodogram\")\n",
    "    return ax\n",
    "\n",
    "# Load the sales dataset\n",
    "avg_sales = df_train.groupby('date').agg({'sales': 'mean'}).reset_index()\n",
    "avg_sales = avg_sales.set_index('date').to_period(\"D\")\n",
    "avg_sales.head()"
   ]
  },
  {
   "cell_type": "code",
   "execution_count": null,
   "id": "57dae7d0-c24c-4d21-826b-fc54415c0b2b",
   "metadata": {},
   "outputs": [],
   "source": [
    "X = avg_sales.copy()\n",
    "\n",
    "# days within a week\n",
    "X['day'] = X.index.dayofweek # the x-axis (freq)\n",
    "X['week'] = X.index.week # the seasonal period (period)\n",
    "\n",
    "# days within a year\n",
    "X['dayofyear'] = X.index.dayofyear\n",
    "X['year'] = X.index.year\n",
    "\n",
    "fig, (ax0, ax1) = plt.subplots(2, 1, figsize=(11, 6))\n",
    "seasonal_plot(X, y=\"sales\", period=\"week\", freq=\"day\", ax=ax0)\n",
    "seasonal_plot(X, y=\"sales\", period=\"year\", freq=\"dayofyear\", ax=ax1);"
   ]
  },
  {
   "cell_type": "code",
   "execution_count": null,
   "id": "869fef9a-4374-4ada-b45a-42083aaed6ca",
   "metadata": {},
   "outputs": [],
   "source": [
    "#plot_periodogram(avg_sales.sales);\n",
    "\n",
    "y_deseason = y - y_pred\n",
    "\n",
    "fig, (ax1, ax2) = plt.subplots(2, 1, sharex=True, sharey=True, figsize=(10, 7))\n",
    "ax1 = plot_periodogram(y, ax=ax1)\n",
    "ax1.set_title(\"Product Sales Frequency Components\")\n",
    "ax2 = plot_periodogram(y_deseason, ax=ax2);\n",
    "ax2.set_title(\"Deseasonalized\");"
   ]
  },
  {
   "cell_type": "markdown",
   "id": "5e4f05a7-2c3a-47b1-8606-df1b33336d8c",
   "metadata": {},
   "source": [
    "**Interpret:** both the seasonal plot and the periodogram suggest a strong weekly seasonality, and a weak annual seasonality. From the periodogram, it appears there may be some monthly and biweekly components as well."
   ]
  },
  {
   "cell_type": "code",
   "execution_count": null,
   "id": "58b9514e-0299-40b5-b750-7857635cab73",
   "metadata": {},
   "outputs": [],
   "source": [
    "from statsmodels.tsa.seasonal import seasonal_decompose\n",
    "decomp = seasonal_decompose(avg_sales['sales'], period=365, model='additive', extrapolate_trend='freq')\n",
    "fig, ax = plt.subplots(ncols=2, nrows=2, sharex=True, figsize=(22,10))\n",
    "ax[0,0].set_title('Observed values for Sales', fontsize=16)\n",
    "decomp.observed.plot(ax = ax[0,0], legend=False, color='dodgerblue')\n",
    "\n",
    "ax[0,1].set_title('Sales Trend', fontsize=16)\n",
    "decomp.trend.plot(ax = ax[0,1],legend=False, color='dodgerblue')\n",
    "\n",
    "ax[1,0].set_title('Sales Seasonality', fontsize=16)\n",
    "decomp.seasonal.plot(ax = ax[1,0],legend=False, color='dodgerblue')\n",
    "\n",
    "ax[1,1].set_title('Noise', fontsize=16)\n",
    "decomp.resid.plot(ax = ax[1,1],legend=False, color='dodgerblue')"
   ]
  },
  {
   "cell_type": "markdown",
   "id": "926edae7-e809-4f74-ba0e-5283c7be48b9",
   "metadata": {},
   "source": [
    "**Stationarity**\n",
    "\n",
    "**What is Stationarity ?**\n",
    "A stationary Time Series is one whose properties do not depend on the time at which the series is observed. Thus, time series with trends, or with seasonality, are not stationary. A time series with cyclic behaviour (but with no trend or seasonality) is stationary.\n",
    "\n",
    "**Strong stationarity:** is a stochastic process whose unconditional joint probability distribution does not change when shifted in time. Consequently, parameters such as mean and variance also do not change over time.\n",
    "Weak stationarity: is a process where mean, variance, autocorrelation are constant throughout the time\n",
    "Stationarity is important as non-stationary series that depend on time have too many parameters to account for when modelling the time series. diff method() can easily convert a non-stationary series to a stationary series.\n",
    "\n",
    "**What is stationarity used for ?**\n",
    "Most statistical forecasting methods are designed to work on a stationary time series. The first step in the forecasting process is typically to do some transformation to convert a non-stationary series to stationary. Forecasting a stationary series is relatively easier and the forecasts are more reliable. We know that linear regression works best if the predictors (X variables) are not correlated against each other. So, stationarizing the series solves this problem since it removes any persistent autocorrelation, thereby making the predictors (lags of the series) in the forecasting models nearly independent.\n",
    "\n",
    "**How to make a Time Series stationary ?**\n",
    "There are several ways to do that:\n",
    "\n",
    "Difference the series once or more times (subtracting the next value by the current value)\n",
    "Take the log of the series (helps to stabilize the variance of a time series.)\n",
    "Take the 𝑛𝑡ℎ root of the series Combinations of the above\n",
    "But first, to test if a time series is stationary we can:\n",
    "\n",
    "Look at the time plot.\n",
    "Split the series into 2 parts and compute descriptive statistics. If they differ, then it is not stationary.\n",
    "Perform statistical tests called Unit Root Tests like Augmented Dickey Fuller test (ADF Test), Kwiatkowski-Phillips-Schmidt-Shin — KPSS test (trend stationary), and Philips Perron test (PP Test).\n",
    "The most commonly used is the **ADF test**, where the null hypothesis is that the time series possesses a unit root (or random walk with drift) and is non-stationary. So, if the P-Value in ADF test is less than the significance level (0.05), you reject the null hypothesis and the series is stationary."
   ]
  },
  {
   "cell_type": "code",
   "execution_count": null,
   "id": "5173a0e5-d3e1-445a-9e6a-9f3110cfe067",
   "metadata": {},
   "outputs": [],
   "source": [
    "# check for stationarity\n",
    "from statsmodels.tsa.stattools import adfuller\n",
    "\n",
    "def adf_test(series, title=''):\n",
    "    \"\"\"\n",
    "    Pass in a time series and an optional title, returns an ADF report\n",
    "    \"\"\"\n",
    "    print('Augmented Dickey-Fuller Test: {}'.format(title))\n",
    "    # .dropna() handles differenced data\n",
    "    result = adfuller(series.dropna(),autolag='AIC') \n",
    "    \n",
    "    labels = ['ADF test statistic','p-value','# lags used','# observations']\n",
    "    out = pd.Series(result[0:4],index=labels)\n",
    "\n",
    "    for key,val in result[4].items():\n",
    "        out['critical value ({})'.format(key)]=val\n",
    "        \n",
    "    # .to_string() removes the line \"dtype: float64\"\n",
    "    print(out.to_string())          \n",
    "    \n",
    "    if result[1] <= 0.05:\n",
    "        print(\"Strong evidence against the null hypothesis\")\n",
    "        print(\"Reject the null hypothesis\")\n",
    "        print(\"Data has no unit root and is stationary\")\n",
    "    else:\n",
    "        print(\"Weak evidence against the null hypothesis\")\n",
    "        print(\"Fail to reject the null hypothesis\")\n",
    "        print(\"Data has a unit root and is non-stationary\")"
   ]
  },
  {
   "cell_type": "code",
   "execution_count": null,
   "id": "0437dd70-f405-49e0-8e09-e2c8c1b224f6",
   "metadata": {},
   "outputs": [],
   "source": [
    "# Aggregating the Time Series to a monthly scaled index\n",
    "y = df_train[['date','sales']].copy()\n",
    "y.set_index('date', inplace=True)\n",
    "y.index = pd.to_datetime(y.index)\n",
    "y = y.resample('1M').mean()\n",
    "        \n",
    "adf_test(y['sales'],title='') "
   ]
  },
  {
   "cell_type": "markdown",
   "id": "36aac637-6365-45a1-9fa3-5603e6526330",
   "metadata": {},
   "source": [
    "If the data is not stationary but we want to use a model such as ARIMA (that requires this characteristic), the data has to be transformed. The two most common methods to transform series into stationarity ones are:\n",
    "\n",
    "Transformation: e.g. log or square root to stabilize non-constant variance\n",
    "Differencing: subtracts the current value from the previous\n",
    "Hereafter, we are going to transform sales trend from non-stationarity to stationarity using diff method:"
   ]
  },
  {
   "cell_type": "code",
   "execution_count": null,
   "id": "88e37a06-b8a7-42e7-8ecc-77f6b20b2c4d",
   "metadata": {},
   "outputs": [],
   "source": [
    "fig = plt.figure(figsize=(22,8))\n",
    "decomp.trend.diff().plot()"
   ]
  },
  {
   "cell_type": "markdown",
   "id": "ce8fc26d-e9aa-46c5-bb36-e44cb0f1fa35",
   "metadata": {},
   "source": [
    "**Autocorrelation Analysis**\n",
    "\n",
    "After a time series has been stationarized by differencing, the next step in fitting an ARIMA model is to determine whether AR or MA terms are needed to correct any autocorrelation that remains in the differenced series. Of course, with software like Statgraphics, you could just try some different combinations of terms and see what works best. But there is a more systematic way to do this. By looking at the autocorrelation function and partial autocorrelation function plots of the differenced series, you can tentatively identify the numbers of AR and/or MA terms that are needed.\n",
    "\n",
    "Autocorrelation Function (ACF): P = Periods to lag for eg: (if P= 3 then we will use the three previous periods of our time series in the autoregressive portion of the calculation) P helps adjust the line that is being fitted to forecast the series. P corresponds with MA parameter\n",
    "Partial Autocorrelation Function (PACF): D = In an ARIMA model we transform a time series into stationary one(series without trend or seasonality) using differencing. D refers to the number of differencing transformations required by the time series to get stationary. D corresponds with AR parameter."
   ]
  },
  {
   "cell_type": "code",
   "execution_count": null,
   "id": "2349069b-9ffb-4a86-a628-6816959556cc",
   "metadata": {},
   "outputs": [],
   "source": [
    "#this take infinite time!\n",
    "# from statsmodels.tsa.stattools import acf\n",
    "# import datetime\n",
    "# def lagplot(x, y=None, lag=1, standardize=False, ax=None, **kwargs):\n",
    "#     from matplotlib.offsetbox import AnchoredText\n",
    "#     x_ = x.shift(lag)\n",
    "#     if standardize:\n",
    "#         x_ = (x_ - x_.mean()) / x_.std()\n",
    "#     if y is not None:\n",
    "#         y_ = (y - y.mean()) / y.std() if standardize else y\n",
    "#     else:\n",
    "#         y_ = x\n",
    "#     corr = y_.corr(x_)\n",
    "#     if ax is None:\n",
    "#         fig, ax = plt.subplots()\n",
    "#     scatter_kws = dict(\n",
    "#         alpha=0.75,\n",
    "#         s=3,\n",
    "#     )\n",
    "#     line_kws = dict(color='C3', )\n",
    "#     ax = sns.regplot(x=x_,\n",
    "#                      y=y_,\n",
    "#                      scatter_kws=scatter_kws,\n",
    "#                      line_kws=line_kws,\n",
    "#                      lowess=True,\n",
    "#                      ax=ax,\n",
    "#                      **kwargs)\n",
    "#     at = AnchoredText(\n",
    "#         f\"{corr:.2f}\",\n",
    "#         prop=dict(size=\"large\"),\n",
    "#         frameon=True,\n",
    "#         loc=\"upper left\",\n",
    "#     )\n",
    "#     at.patch.set_boxstyle(\"square, pad=0.0\")\n",
    "#     ax.add_artist(at)\n",
    "#     ax.set(title=f\"Lag {lag}\", xlabel=x_.name, ylabel=y_.name)\n",
    "#     return ax\n",
    "# def plot_lags(x, y=None, lags=6, nrows=1, lagplot_kwargs={}, **kwargs):\n",
    "#     import math\n",
    "#     kwargs.setdefault('nrows', nrows)\n",
    "#     kwargs.setdefault('ncols', math.ceil(lags / nrows))\n",
    "#     kwargs.setdefault('figsize', (kwargs['ncols'] * 2, nrows * 2 + 0.5))\n",
    "#     fig, axs = plt.subplots(sharex=True, sharey=True, squeeze=False, **kwargs)\n",
    "#     for ax, k in zip(fig.get_axes(), range(kwargs['nrows'] * kwargs['ncols'])):\n",
    "#         if k + 1 <= lags:\n",
    "#             ax = lagplot(x, y, lag=k + 1, ax=ax, **lagplot_kwargs)\n",
    "#             ax.set_title(f\"Lag {k + 1}\", fontdict=dict(fontsize=14))\n",
    "#             ax.set(xlabel=\"\", ylabel=\"\")\n",
    "#         else:\n",
    "#             ax.axis('off')\n",
    "#     plt.setp(axs[-1, :], xlabel=x.name)\n",
    "#     plt.setp(axs[:, 0], ylabel=y.name if y is not None else x.name)\n",
    "#     fig.tight_layout(w_pad=0.1, h_pad=0.1)\n",
    "#     return fig\n",
    "# fig, ax = plt.subplots(nrows=1, ncols=2,figsize=(15, 6))\n",
    "# plot_lags(df_train[df_train.date >= datetime.datetime(2017,1,1)]['sales'], lags=12, nrows=2)\n",
    "# plot_acf(df_train[df_data.date >= datetime.datetime(2017,1,1)]['sales'].tolist(), lags=12, ax=ax[0], fft=False);\n",
    "# plot_pacf(df_train[df_train.date >= datetime.datetime(2017,1,1)]['sales'].tolist(), lags=12, ax=ax[1]);"
   ]
  },
  {
   "cell_type": "markdown",
   "id": "3b406bbc-032c-445d-a7f1-7fa1e9d5af9a",
   "metadata": {},
   "source": [
    "**Interpret:** For autocorrelation, the y-axis is the value for the correlation between a value and its lag. The lag is on the x-axis. The zero-lag has a correlation of 1 because it correlates with itself perfectly."
   ]
  },
  {
   "cell_type": "markdown",
   "id": "25e28f17-6f48-45eb-888a-017fd1dcf6b4",
   "metadata": {},
   "source": [
    "**label encoder** \n",
    "Transferring non numerical feature into numbers\n"
   ]
  },
  {
   "cell_type": "code",
   "execution_count": null,
   "id": "7e067dd4-5280-4668-a588-b6ee82984615",
   "metadata": {},
   "outputs": [],
   "source": [
    "from sklearn.preprocessing import LabelEncoder, OneHotEncoder\n",
    "non_numerical_cols =  [col for col in df_data.columns if df_data[col].dtype == 'object']\n",
    "for feature in non_numerical_cols:        \n",
    "    df_data[feature] = LabelEncoder().fit_transform(df_data[feature])\n"
   ]
  },
  {
   "cell_type": "code",
   "execution_count": null,
   "id": "8cf9eeb9-25bb-46ff-b91a-fde94b0c6b99",
   "metadata": {},
   "outputs": [],
   "source": [
    "df_data.head().style.set_properties(subset=non_numerical_cols, **{'background-color': '#F1C40F'})"
   ]
  },
  {
   "cell_type": "code",
   "execution_count": null,
   "id": "2dc6e380-894a-48e1-be68-5ecfd0a460cb",
   "metadata": {},
   "outputs": [],
   "source": [
    "df_data.dtypes"
   ]
  },
  {
   "cell_type": "markdown",
   "id": "8d423bd1-196b-463f-8f4d-22e23a889874",
   "metadata": {},
   "source": [
    "**one hot encoding**\n",
    "To finish with, we are going to one hot encoded non-ordinal features. All labeled features above are non-ordinal features. Therefore, we are going to one hot encoded those which have a low cardinality."
   ]
  },
  {
   "cell_type": "code",
   "execution_count": null,
   "id": "45de5947-d086-43f3-8f59-b5f587f98013",
   "metadata": {},
   "outputs": [],
   "source": [
    "low_card_cols = [col for col in non_numerical_cols if len(df_data[col].unique()) < 15]"
   ]
  },
  {
   "cell_type": "code",
   "execution_count": null,
   "id": "e6729d46-ec21-4742-aea6-a322eb5fc65d",
   "metadata": {},
   "outputs": [],
   "source": [
    "encoded_features = []\n",
    "\n",
    "for feature in low_card_cols:\n",
    "    encoded_feat = OneHotEncoder().fit_transform(df_data[feature].values.reshape(-1, 1)).toarray()\n",
    "    n = df_data[feature].nunique()\n",
    "    cols = ['{}_{}'.format(feature, n) for n in range(1, n + 1)]\n",
    "    encoded_df = pd.DataFrame(encoded_feat, columns=cols)\n",
    "    encoded_df.index = df_data.index\n",
    "    encoded_features.append(encoded_df)\n",
    "\n",
    "df_data = pd.concat([df_data, *encoded_features[:9]], axis=1)"
   ]
  },
  {
   "cell_type": "code",
   "execution_count": null,
   "id": "3e25c098-a118-40b4-bddf-ff5b5c2cbea4",
   "metadata": {},
   "outputs": [],
   "source": [
    "df_data.head().style.set_properties(subset=low_card_cols, **{'background-color': '#F1C40F'})"
   ]
  },
  {
   "cell_type": "code",
   "execution_count": null,
   "id": "e022ca54-db36-4257-8312-2e51bb7b7388",
   "metadata": {},
   "outputs": [],
   "source": [
    "df_data = df_data.drop(low_card_cols,axis=1)\n"
   ]
  },
  {
   "cell_type": "markdown",
   "id": "88d64463-8531-4dd6-a622-e2b032c9cc77",
   "metadata": {},
   "source": [
    "**Modelling**<br>\n",
    "**Cross Validation**\n",
    "\n",
    "Time series can be either univariate or multivariate:\n",
    "\n",
    "Univariate time series only has a single time-dependent variable.\n",
    "Multivariate time series have a multiple time-dependent variable.\n",
    "But, first of all we are going to see how does cross validation technic works in TimeSeries Analysis.\n"
   ]
  },
  {
   "cell_type": "code",
   "execution_count": null,
   "id": "a85b89b3-3a97-44bb-9423-c286ab7712ae",
   "metadata": {},
   "outputs": [],
   "source": [
    "from sklearn.model_selection import TimeSeriesSplit\n",
    "N_SPLITS = 3\n",
    "\n",
    "X = df_data['date']\n",
    "y = df_data['sales']\n",
    "\n",
    "folds = TimeSeriesSplit(n_splits=N_SPLITS)"
   ]
  },
  {
   "cell_type": "code",
   "execution_count": null,
   "id": "1cb1d503-7daf-47c0-bf53-e8af1198ee90",
   "metadata": {},
   "outputs": [],
   "source": [
    "# f, ax = plt.subplots(nrows=N_SPLITS, ncols=2, figsize=(22, 10))\n",
    "\n",
    "# for i, (train_index, valid_index) in enumerate(folds.split(X)):\n",
    "#     X_train, X_valid = X[train_index], X[valid_index]\n",
    "#     y_train, y_valid = y[train_index], y[valid_index]\n",
    "\n",
    "#     sns.lineplot(\n",
    "#         x=X_train, \n",
    "#         y=y_train, \n",
    "#         ax=ax[i,0], \n",
    "#         color='dodgerblue', \n",
    "#         label='train'\n",
    "#     )\n",
    "#     sns.lineplot(\n",
    "#         x=X_train[len(X_train) - len(X_valid):(len(X_train) - len(X_valid) + len(X_valid))], \n",
    "#         y=y_train[len(X_train) - len(X_valid):(len(X_train) - len(X_valid) + len(X_valid))], \n",
    "#         ax=ax[i,1], \n",
    "#         color='dodgerblue', \n",
    "#         label='train'\n",
    "#     )\n",
    "\n",
    "#     for j in range(2):\n",
    "#         sns.lineplot(x= X_valid, y= y_valid, ax=ax[i, j], color='darkorange', label='validation')\n",
    "#     ax[i, 0].set_title(f\"Rolling Window with Adjusting Training Size (Split {i+1})\", fontsize=16)\n",
    "#     ax[i, 1].set_title(f\"Rolling Window with Constant Training Size (Split {i+1})\", fontsize=16)\n",
    "\n",
    "# plt.tight_layout()\n",
    "# plt.show()"
   ]
  },
  {
   "cell_type": "markdown",
   "id": "c06878a9-03f9-4a6b-b404-c7fc99dc9554",
   "metadata": {},
   "source": [
    "**Univariate Time Series Models**\n",
    "\n",
    "**Prophet**<br>\n",
    "The first model (which also can handle multivariate problems) we are going to try is Facebook Prophet. Prophet, or “Facebook Prophet,” is an open-source library for univariate (one variable) time series forecasting developed by Facebook. Prophet implements what they refer to as an additive time series forecasting model, and the implementation supports trends, seasonality, and holidays. In our case, we are going to use it to show average sales per day (it is an univariate time series)"
   ]
  },
  {
   "cell_type": "code",
   "execution_count": null,
   "id": "7772f39f-724d-4d90-b688-0e40437296d2",
   "metadata": {},
   "outputs": [],
   "source": [
    "from sklearn.metrics import mean_absolute_error, mean_squared_error\n",
    "import math\n",
    "import datetime\n",
    "from fbprophet import Prophet\n",
    "\n",
    "train = df_data[df_data['date']<= datetime.datetime(2017,8,15)][['date','sales']].groupby('date').mean().reset_index('date')\n",
    "train.columns = ['ds', 'y']\n",
    "\n",
    "x_valid=df_test[['id','date']]\n",
    "x_valid=x_valid.set_index('id')\n",
    "x_valid.columns = ['ds']\n",
    "\n",
    "# Train the model\n",
    "model = Prophet()\n",
    "model.fit(train)\n",
    "y_pred = model.predict(x_valid)"
   ]
  },
  {
   "cell_type": "code",
   "execution_count": null,
   "id": "d79e4fa9-0644-43c7-a74e-5b0a9cb5ef22",
   "metadata": {},
   "outputs": [],
   "source": [
    "f, ax = plt.subplots(1)\n",
    "f.set_figheight(10)\n",
    "f.set_figwidth(22)\n",
    "\n",
    "model.plot(y_pred, ax=ax)\n",
    "sns.lineplot(x=train['ds'], y=train['y'], ax=ax, color='darkorange') #navajowhite\n",
    "\n",
    "#ax.set_title(f'Prediction \\n MAE: {score_mae:.2f}, RMSE: {score_rmse:.2f}', fontsize=14)\n",
    "ax.set_xlabel(xlabel='Date', fontsize=14)\n",
    "ax.set_ylabel(ylabel='Sales', fontsize=14)\n",
    "ax.set_title('Average Sales per Day')\n",
    "\n",
    "plt.show()"
   ]
  },
  {
   "cell_type": "code",
   "execution_count": null,
   "id": "2d0fdc8d-d4ff-4915-8a4c-9cf99ac3797a",
   "metadata": {},
   "outputs": [],
   "source": [
    "train_multivariate = df_data[df_data['date']<= datetime.datetime(2017,8,15)][['date','sales','dcoilwtico','onpromotion','transactions','family']].groupby('date').mean().reset_index('date')\n",
    "train_multivariate"
   ]
  },
  {
   "cell_type": "code",
   "execution_count": null,
   "id": "4a3aafaa-958b-42f1-9268-f135e894c610",
   "metadata": {},
   "outputs": [],
   "source": [
    "x_valid = pd.DataFrame(df_data[df_data['date']>= datetime.datetime(2017,8,16)][['date','dcoilwtico','onpromotion','transactions','family']])\n",
    "x_valid"
   ]
  },
  {
   "cell_type": "code",
   "execution_count": null,
   "id": "c19b19fb-1c14-49fa-9041-936d42f27b3f",
   "metadata": {},
   "outputs": [],
   "source": [
    "s1=pd.read_csv('data/sample_submission.csv')\n",
    "s1['sales']=pred.values"
   ]
  },
  {
   "cell_type": "code",
   "execution_count": null,
   "id": "bf521532-dcd7-421f-a0a1-ec2b85da528d",
   "metadata": {},
   "outputs": [],
   "source": []
  },
  {
   "cell_type": "code",
   "execution_count": null,
   "id": "a27f9141-b81a-4678-a28e-6c7ace7a26bd",
   "metadata": {},
   "outputs": [],
   "source": [
    "s1.to_csv('mysub.csv',index=False)"
   ]
  },
  {
   "cell_type": "markdown",
   "id": "3d6016d3-5200-469e-8c3c-d74f32e14294",
   "metadata": {},
   "source": [
    "Multivariate Time Series Models"
   ]
  },
  {
   "cell_type": "code",
   "execution_count": null,
   "id": "7e9b25aa-142c-43fd-ae79-975f7508423e",
   "metadata": {},
   "outputs": [],
   "source": [
    "train_multivariate = df_data[df_data['date']<= datetime.datetime(2017,8,15)][['date','sales','dcoilwtico','onpromotion','transactions','family']].groupby('date').mean().reset_index('date')\n",
    "train_multivariate.columns = ['ds', 'y','dcoilwtico','onpromotion','transactions','family']\n",
    "x_valid = pd.DataFrame(df_data[df_data['date']>= datetime.datetime(2017,8,16)][['date','dcoilwtico','onpromotion','transactions','family']])\n",
    "x_valid.columns = ['ds','dcoilwtico','onpromotion','transactions','family']\n",
    "\n",
    "# Train the model\n",
    "model_multivariate = Prophet()\n",
    "model_multivariate.add_regressor('dcoilwtico')\n",
    "\n",
    "model_multivariate.fit(train_multivariate)\n",
    "y_pred_multivariate = model_multivariate.predict(x_valid)"
   ]
  },
  {
   "cell_type": "code",
   "execution_count": null,
   "id": "a7fdba5d-ad33-4347-afc7-8612172c79a4",
   "metadata": {},
   "outputs": [],
   "source": [
    "f, ax = plt.subplots(1)\n",
    "f.set_figheight(10)\n",
    "f.set_figwidth(22)\n",
    "\n",
    "model.plot(y_pred_multivariate, ax=ax)\n",
    "sns.lineplot(x=train_multivariate['ds'], y=train_multivariate['y'], ax=ax, color='darkorange') #navajowhite\n",
    "\n",
    "#ax.set_title(f'Prediction \\n MAE: {score_mae:.2f}, RMSE: {score_rmse:.2f}', fontsize=14)\n",
    "ax.set_xlabel(xlabel='Date', fontsize=14)\n",
    "ax.set_ylabel(ylabel='Sales', fontsize=14)\n",
    "ax.set_title('Average Sales per Day')\n",
    "\n",
    "plt.show()"
   ]
  },
  {
   "cell_type": "markdown",
   "id": "25c2ed50-c10d-45c2-b68c-ed486a3c81d9",
   "metadata": {},
   "source": [
    "**ARIMA Model:**\n",
    "in autocorrelation, if one value was correlated with the present, the next value is also the present. For this, we need to look at Partial Autocorrelations, because this way we eliminate the effects of past values for the next value."
   ]
  },
  {
   "cell_type": "markdown",
   "id": "c66623ae-0a28-4a6e-8d02-b133e3546c78",
   "metadata": {},
   "source": [
    "We need found a stationary serie because is easy to predict. The statistical properties of the past will be the same as in the future. Time series with trend and seasonality are not stationary, because these characteristics affect the value of the series at different times. For this, we use the Dicked-fuller test: p-value <= 0.05: Reject the null hypothesis (H0), the data does not have a unit root and is station"
   ]
  },
  {
   "cell_type": "code",
   "execution_count": null,
   "id": "ce7f969f-78bd-41cd-bba3-0fe44ff9cece",
   "metadata": {},
   "outputs": [],
   "source": [
    "df_data.index.asfreq('D')"
   ]
  },
  {
   "cell_type": "code",
   "execution_count": null,
   "id": "c75f1370-f87d-421f-ab61-ea4042e9c4c4",
   "metadata": {},
   "outputs": [],
   "source": [
    "fig,ax=plt.subplots(nrows=2,ncols=1)\n",
    "from statsmodels.graphics.tsaplots import plot_acf, plot_pacf\n",
    "ax[0].set_title(\"ACF\")\n",
    "plot_acf(df_data['sales'],lags=30,zero=False,ax=ax[0])\n",
    "ax[1].set_title(\"PACF\")\n",
    "plot_pacf(df_data['sales'],lags=30,zero=False,ax=ax[1],method='ywm')\n",
    "plt.show()"
   ]
  },
  {
   "cell_type": "code",
   "execution_count": null,
   "id": "aadd42c0-c6c0-4332-bcfa-1999674a8f89",
   "metadata": {},
   "outputs": [],
   "source": [
    "import datetime\n",
    "train_data = df_data[df_data['date']<= datetime.datetime(2017,8,15)][['date','sales','dcoilwtico','onpromotion','transactions','family','holiday_type']].groupby('date').mean().reset_index('date')\n",
    "test_data = pd.DataFrame(df_data[df_data['date']>= datetime.datetime(2017,8,16)][['date','dcoilwtico','onpromotion','transactions','family']])\n"
   ]
  },
  {
   "cell_type": "code",
   "execution_count": null,
   "id": "ccbf6a47-a779-4fdf-9c59-5e9179f9ad90",
   "metadata": {},
   "outputs": [],
   "source": [
    "from statsmodels.tsa.stattools import adfuller\n",
    "y = train_data[['date','sales']].copy()\n",
    "y.set_index('date', inplace=True)\n",
    "y.index = pd.to_datetime(y.index)\n",
    "y = y.resample('1M').mean()\n",
    "p_value_adfuller = adfuller(y['sales'])[1]\n",
    "print(p_value_adfuller)"
   ]
  },
  {
   "cell_type": "markdown",
   "id": "9e239d43-a396-4d48-91cf-0221bae2e0af",
   "metadata": {},
   "source": [
    "We can either transform the series to stationary by calculating the differences between consecutive observations or transform the value to logarithmic."
   ]
  },
  {
   "cell_type": "code",
   "execution_count": null,
   "id": "76145f04-b62e-4e1e-b44e-7b3bdc50f4dd",
   "metadata": {},
   "outputs": [],
   "source": [
    "train_data['diff_sales'] = train_data['sales'].diff()\n",
    "y = train_data[['date','diff_sales']].copy()\n",
    "y.set_index('date', inplace=True)\n",
    "y.index = pd.to_datetime(y.index)\n",
    "y = y.resample('1M').mean()\n",
    "p_value_adfuller = adfuller(y['diff_sales'])[1]\n",
    "print(p_value_adfuller)"
   ]
  },
  {
   "cell_type": "code",
   "execution_count": null,
   "id": "e301f2a1-a381-4ac2-9adf-594fe635fddb",
   "metadata": {},
   "outputs": [],
   "source": [
    "train_data['diff_onpromotion'] =train_data['onpromotion'].diff()\n",
    "train_data['diff_dcoilwtico'] =  train_data['dcoilwtico'].diff()"
   ]
  },
  {
   "cell_type": "code",
   "execution_count": null,
   "id": "5eb80059-cef2-4813-8c6f-54900f295627",
   "metadata": {},
   "outputs": [],
   "source": [
    "train_data.corr()"
   ]
  },
  {
   "cell_type": "code",
   "execution_count": null,
   "id": "c305ce7f-0415-4a28-a02f-832d6e6a1f72",
   "metadata": {},
   "outputs": [],
   "source": [
    "train_data"
   ]
  },
  {
   "cell_type": "code",
   "execution_count": null,
   "id": "991de0b3-d214-4a97-9470-ddb5de5d9efb",
   "metadata": {
    "jupyter": {
     "source_hidden": true
    },
    "tags": []
   },
   "outputs": [],
   "source": [
    "import datetime\n",
    "train_data=train_data.fillna(0)\n",
    "train_data.index=train_data['date']\n",
    "train_data=train_data.drop('date',axis=1)"
   ]
  },
  {
   "cell_type": "code",
   "execution_count": null,
   "id": "68bfbd60-f430-4b32-9c87-f683348436e1",
   "metadata": {
    "jupyter": {
     "source_hidden": true
    },
    "tags": []
   },
   "outputs": [],
   "source": [
    "import pmdarima as pm\n",
    "model = pm.auto_arima(train_data['diff_sales'],seasonal=True,maxiter=10, m=7,exog=train_data[['diff_onpromotion','diff_dcoilwtico']])\n",
    "\n",
    "model.aic()\n",
    "\n",
    "model.fit(train_data['diff_sales'])"
   ]
  },
  {
   "cell_type": "code",
   "execution_count": null,
   "id": "be4711ee-772d-4fa7-ab9f-51b7b410c5fa",
   "metadata": {},
   "outputs": [],
   "source": [
    "pred=model.predict(n_periods=28512,exog=test_data[['diff_onpromotion','diff_dcoilwtico']])\n",
    "pred=pd.DataFrame(pred,index=test_data.index)"
   ]
  },
  {
   "cell_type": "code",
   "execution_count": null,
   "id": "2cec6972-4336-4ee2-8ef1-0484bcfc7963",
   "metadata": {},
   "outputs": [],
   "source": [
    "pred[:100].plot()\n"
   ]
  },
  {
   "cell_type": "code",
   "execution_count": null,
   "id": "3f667cb6-d857-45c0-b727-b334004f8fbe",
   "metadata": {},
   "outputs": [],
   "source": [
    "from statsmodels.tsa.arima.model import ARIMA\n",
    "arima_train = train_data.dropna().copy()\n",
    "\n",
    "model_arima =ARIMA(arima_train['diff_sales'], exog=arima_train[['diff_onpromotion','diff_dcoilwtico']], order=(6,0,2))\n",
    "result = model_arima.fit(method_kwargs={\"warn_convergence\": False})\n",
    "\n",
    "print(result.summary())"
   ]
  },
  {
   "cell_type": "code",
   "execution_count": null,
   "id": "80018742-626d-472e-989b-ea79173357b6",
   "metadata": {},
   "outputs": [],
   "source": [
    "test_data['diff_onpromotion'] =test_data['onpromotion'].diff()\n",
    "test_data['diff_dcoilwtico'] =  test_data['dcoilwtico'].diff()\n"
   ]
  },
  {
   "cell_type": "code",
   "execution_count": null,
   "id": "bbcf0f48-f812-4bac-9224-e674f4802b72",
   "metadata": {},
   "outputs": [],
   "source": [
    "test_data.index=test_data['date']\n",
    "test_data=test_data.drop('date',axis=1)"
   ]
  },
  {
   "cell_type": "code",
   "execution_count": null,
   "id": "ae6b4d27-d684-48fd-aadf-4fa13665b75f",
   "metadata": {},
   "outputs": [],
   "source": [
    "test_data"
   ]
  },
  {
   "cell_type": "code",
   "execution_count": null,
   "id": "ded2c35e-1b02-4050-9029-c732df7cc0d1",
   "metadata": {},
   "outputs": [],
   "source": [
    "\n",
    "test=test_data.dropna().copy()\n",
    "from pandas import datetime\n",
    "start_index =1603\n",
    "end_index = 30193\n",
    "pred=result.predict(start=start_index,end=end_index,\n",
    "                   exog=test[['diff_onpromotion','diff_dcoilwtico']])"
   ]
  },
  {
   "cell_type": "code",
   "execution_count": null,
   "id": "d5a80206-aff3-4f04-8499-6031a71e0553",
   "metadata": {},
   "outputs": [],
   "source": [
    "pred.values"
   ]
  },
  {
   "cell_type": "code",
   "execution_count": null,
   "id": "f53dacf5-e6b4-4be8-8f98-1be4f1e7a0c6",
   "metadata": {},
   "outputs": [],
   "source": [
    "test[['diff_onpromotion','diff_dcoilwtico']]"
   ]
  },
  {
   "cell_type": "code",
   "execution_count": null,
   "id": "3efb04e4-df23-4a27-8377-d23b994c10e3",
   "metadata": {},
   "outputs": [],
   "source": [
    "pred.values.shape"
   ]
  },
  {
   "cell_type": "code",
   "execution_count": null,
   "id": "357046d6-2089-4051-8198-16ce843d9576",
   "metadata": {},
   "outputs": [],
   "source": [
    "from statsmodels.tsa.deterministic import CalendarFourier, DeterministicProcess\n",
    "\n",
    "fourier = CalendarFourier(freq=\"A\", order=10)  # 10 sin/cos pairs for \"A\"nnual seasonality\n",
    "\n",
    "dp = DeterministicProcess(\n",
    "    index=avg_sales.index,\n",
    "    constant=True,   # dummy feature for bias (y-intercept)\n",
    "    order=1,         # trend ( order 1 means linear)\n",
    "    seasonal=True,   # weekly seasonality (indicators)\n",
    "    additional_terms=[fourier], # annual seasonality\n",
    "    drop=True,       # drop terms to avoid collinearity\n",
    ")\n",
    "\n",
    "X = dp.in_sample() # creat"
   ]
  },
  {
   "cell_type": "code",
   "execution_count": null,
   "id": "4707fc03-4afa-4ffb-97d4-c63f5518af78",
   "metadata": {},
   "outputs": [],
   "source": []
  },
  {
   "cell_type": "code",
   "execution_count": null,
   "id": "bce5ad4d-eee8-4ccf-9f87-1d880ba41ca0",
   "metadata": {},
   "outputs": [],
   "source": []
  },
  {
   "cell_type": "code",
   "execution_count": null,
   "id": "8ef9b603-a0f7-4860-af86-e27fa0da0861",
   "metadata": {},
   "outputs": [],
   "source": []
  },
  {
   "cell_type": "code",
   "execution_count": null,
   "id": "28c75ed9-0cbe-4890-a29c-0268c4153323",
   "metadata": {},
   "outputs": [],
   "source": []
  },
  {
   "cell_type": "code",
   "execution_count": null,
   "id": "b088f55c-0276-4492-b310-9b634a7e680e",
   "metadata": {},
   "outputs": [],
   "source": [
    "y = avg_sales[\"sales\"]\n",
    "\n",
    "model = LinearRegression(fit_intercept=False)\n",
    "_ = model.fit(X, y)\n",
    "\n",
    "y_pred = pd.Series(model.predict(X), index=y.index)\n",
    "X_fore = dp.out_of_sample(steps=180)\n",
    "y_fore = pd.Series(model.predict(X_fore), index=X_fore.index)\n",
    "\n",
    "ax = y.plot(color='0.25', style='.', title=\"sales - Seasonal Forecast\")\n",
    "ax = y_pred.plot(ax=ax, label=\"Seasonal\")\n",
    "ax = y_fore.plot(ax=ax, label=\"Seasonal Forecast\", color='C3')\n",
    "_ = ax.legend()"
   ]
  },
  {
   "cell_type": "code",
   "execution_count": null,
   "id": "4ba4d574-30dd-470a-a84f-96fe083affba",
   "metadata": {},
   "outputs": [],
   "source": [
    "store_sales = pd.read_csv(\n",
    "    'data/train.csv',\n",
    "    usecols=['store_nbr', 'family', 'date', 'sales'],\n",
    "    dtype={\n",
    "        'store_nbr': 'category',\n",
    "        'family': 'category',\n",
    "        'sales': 'float32',\n",
    "    },\n",
    "    parse_dates=['date'],\n",
    "    infer_datetime_format=True,\n",
    ")\n",
    "store_sales['date'] = store_sales.date.dt.to_period('D')\n",
    "store_sales = store_sales.set_index(['store_nbr', 'family', 'date']).sort_index()\n",
    "\n",
    "y = store_sales.unstack(['store_nbr', 'family']).loc[\"2017\"]\n",
    "\n",
    "# Create training data\n",
    "fourier = CalendarFourier(freq='M', order=4)\n",
    "dp = DeterministicProcess(\n",
    "    index=y.index,\n",
    "    constant=True,\n",
    "    order=1,\n",
    "    seasonal=True,\n",
    "    additional_terms=[fourier],\n",
    "    drop=True,\n",
    ")\n",
    "X = dp.in_sample()\n",
    "X['NewYear'] = (X.index.dayofyear == 1)\n",
    "\n",
    "model = LinearRegression(fit_intercept=False)\n",
    "model.fit(X, y)\n",
    "y_pred = pd.DataFrame(model.predict(X), index=X.index, columns=y.columns)"
   ]
  },
  {
   "cell_type": "code",
   "execution_count": null,
   "id": "6fbf354b-dc6c-4a2d-a53e-96da08d7e1ac",
   "metadata": {},
   "outputs": [],
   "source": [
    "df_test = pd.read_csv(\n",
    "    'data/test.csv',\n",
    "    dtype={\n",
    "        'store_nbr': 'category',\n",
    "        'family': 'category',\n",
    "        'onpromotion': 'uint32',\n",
    "    },\n",
    "    parse_dates=['date'],\n",
    "    infer_datetime_format=True,\n",
    ")\n",
    "df_test['date'] = df_test.date.dt.to_period('D')\n",
    "df_test = df_test.set_index(['store_nbr', 'family', 'date']).sort_index()\n",
    "\n",
    "# Create features for test set\n",
    "X_test = dp.out_of_sample(steps=16)\n",
    "X_test.index.name = 'date'\n",
    "X_test['NewYear'] = (X_test.index.dayofyear == 1)\n"
   ]
  },
  {
   "cell_type": "code",
   "execution_count": null,
   "id": "aa2e1da3-4464-4e52-90f4-d5b37d5075fe",
   "metadata": {
    "tags": []
   },
   "outputs": [],
   "source": [
    "pred.shape"
   ]
  },
  {
   "cell_type": "code",
   "execution_count": null,
   "id": "7d0c6df1-ef9b-4257-b3c2-94a1c35d6272",
   "metadata": {},
   "outputs": [],
   "source": [
    "y_submit = pd.DataFrame(model.predict(X_test), index=X_test.index, columns=y.columns)\n",
    "y_submit = y_submit.stack(['store_nbr', 'family'])\n",
    "y_submit = y_submit.join(df_test.id).reindex(columns=['id', 'sales'])\n",
    "\n",
    "y_submit.to_csv('submission.csv', index=False)"
   ]
  },
  {
   "cell_type": "code",
   "execution_count": null,
   "id": "45b322ff-53a2-431d-9f56-d364dc3dda67",
   "metadata": {},
   "outputs": [],
   "source": [
    "y_submit.to_csv('sub10.csv', index=False)"
   ]
  },
  {
   "cell_type": "code",
   "execution_count": null,
   "id": "9fb0691f-2356-42f1-ac6f-6f10e8b8ccdb",
   "metadata": {},
   "outputs": [],
   "source": [
    "y_submit.head(5)"
   ]
  },
  {
   "cell_type": "code",
   "execution_count": null,
   "id": "e09a46d7-4426-4746-9ab1-293951931bdb",
   "metadata": {},
   "outputs": [],
   "source": [
    "df_test"
   ]
  },
  {
   "cell_type": "code",
   "execution_count": null,
   "id": "23510302-ef46-46ea-bafe-34d7fc582db7",
   "metadata": {},
   "outputs": [],
   "source": [
    "s1=pd.read_csv('submission.csv')"
   ]
  },
  {
   "cell_type": "code",
   "execution_count": null,
   "id": "40aabff4-43d2-4786-8969-83d0b1133afe",
   "metadata": {},
   "outputs": [],
   "source": [
    "s2=pd.read_csv('submission (6).csv')"
   ]
  },
  {
   "cell_type": "markdown",
   "id": "eb0a31fb-ce2b-4f10-9020-c98d56fe739b",
   "metadata": {},
   "source": [
    "Time series as feature"
   ]
  },
  {
   "cell_type": "code",
   "execution_count": null,
   "id": "69472989-421c-4676-8c0e-e117adaf379c",
   "metadata": {},
   "outputs": [],
   "source": [
    "store_sales = pd.read_csv(\n",
    "    'data/train.csv',\n",
    "    usecols=['store_nbr', 'family', 'date', 'sales', 'onpromotion'],\n",
    "    dtype={\n",
    "        'store_nbr': 'category',\n",
    "        'family': 'category',\n",
    "        'sales': 'float32',\n",
    "        'onpromotion': 'uint32',\n",
    "    },\n",
    "    parse_dates=['date'],\n",
    "    infer_datetime_format=True,\n",
    ")\n",
    "store_sales['date'] = store_sales.date.dt.to_period('D')\n",
    "store_sales = store_sales.set_index(['store_nbr', 'family', 'date']).sort_index()\n",
    "\n",
    "family_sales = (\n",
    "    store_sales\n",
    "    .groupby(['family', 'date'])\n",
    "    .mean() \n",
    "    .unstack('family')\n",
    "    .loc['2017', ['sales', 'onpromotion']]\n",
    ")\n",
    "\n",
    "mag_sales = family_sales.loc(axis=1)[:, 'MAGAZINES']\n",
    "\n",
    "store_sales.head()"
   ]
  },
  {
   "cell_type": "code",
   "execution_count": null,
   "id": "8e0eb5b9-46a6-4a30-a670-44df80130e50",
   "metadata": {},
   "outputs": [],
   "source": [
    "y = mag_sales.loc[:, 'sales'].squeeze()\n",
    "fourier = CalendarFourier(freq='M', order=4)\n",
    "dp = DeterministicProcess(\n",
    "    constant=True,\n",
    "    index=y.index,\n",
    "    order=1,\n",
    "    seasonal=True,\n",
    "    drop=True,\n",
    "    additional_terms=[fourier],\n",
    ")\n",
    "X_time = dp.in_sample()\n",
    "X_time['NewYearsDay'] = (X_time.index.dayofyear == 1)\n",
    "\n",
    "model = LinearRegression(fit_intercept=False)\n",
    "model.fit(X_time, y)\n",
    "y_deseason = y - model.predict(X_time)\n",
    "y_deseason.name = 'sales_deseasoned'\n",
    "\n",
    "ax = y_deseason.plot()\n",
    "ax.set_title(\"Magazine Sales (deseasonalized)\");\n"
   ]
  },
  {
   "cell_type": "code",
   "execution_count": null,
   "id": "d7631a88-a785-4d09-9376-75d691192bf2",
   "metadata": {},
   "outputs": [],
   "source": [
    "y_ma = y.rolling(7, center=True).mean()\n",
    "\n",
    "\n",
    "# Plot\n",
    "ax = y_ma.plot()\n",
    "ax.set_title(\"Seven-Day Moving Average\");"
   ]
  },
  {
   "cell_type": "code",
   "execution_count": null,
   "id": "7ada6e75-7eb7-4a91-97e0-5f864f61541c",
   "metadata": {},
   "outputs": [],
   "source": [
    "onpromotion = mag_sales.loc[:, 'onpromotion'].squeeze().rename('onpromotion')\n",
    "\n",
    "# Drop the New Year outlier\n",
    "plot_lags(x=onpromotion.iloc[1:], y=y_deseason.iloc[1:], lags=3, leads=3, nrows=1);"
   ]
  },
  {
   "cell_type": "markdown",
   "id": "f9057614-f56a-442e-82c8-dce3f692f688",
   "metadata": {},
   "source": [
    "Tried neural network but did not work good"
   ]
  },
  {
   "cell_type": "code",
   "execution_count": null,
   "id": "78aaee7b-a952-4110-8440-ef00147b18cc",
   "metadata": {},
   "outputs": [],
   "source": [
    "df_train_data=df_data.drop(columns=['id','date'])\n",
    "df_train_data=df_train_data.dropna()\n",
    "\n",
    "X=df_train_data.drop(columns=['sales']).values\n",
    "y=df_train_data.sales.values\n",
    "X = np.asarray(X).astype('float32')\n",
    "y= np.asarray(y).astype('float32')\n"
   ]
  },
  {
   "cell_type": "code",
   "execution_count": null,
   "id": "79b01a59-cbb9-431d-8677-16f62f4c64a3",
   "metadata": {},
   "outputs": [],
   "source": [
    "import tensorflow as tf\n",
    "#simple dnn (input has 19 features)\n",
    "model=tf.keras.Sequential()\n",
    "model.add(tf.keras.layers.Dense(units=100,input_shape=[19]))\n",
    "model.add(tf.keras.layers.Dense(units=1))\n",
    "model.compile(optimizer='adam',loss='mse')\n",
    "model.fit(X,y,epochs=10,batch_size=4,verbose=2)"
   ]
  }
 ],
 "metadata": {
  "kernelspec": {
   "display_name": "stat:Python",
   "language": "python",
   "name": "conda-env-stat-py"
  },
  "language_info": {
   "codemirror_mode": {
    "name": "ipython",
    "version": 3
   },
   "file_extension": ".py",
   "mimetype": "text/x-python",
   "name": "python",
   "nbconvert_exporter": "python",
   "pygments_lexer": "ipython3",
   "version": "3.10.5"
  }
 },
 "nbformat": 4,
 "nbformat_minor": 5
}
