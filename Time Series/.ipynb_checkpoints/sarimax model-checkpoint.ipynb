{
 "cells": [
  {
   "cell_type": "code",
   "execution_count": 1,
   "id": "fc5053a7-f24d-48e8-a4fd-aff620ae031d",
   "metadata": {},
   "outputs": [],
   "source": [
    "import matplotlib.pyplot as plt\n",
    "import pandas as pd\n",
    "import seaborn as sns\n",
    "import plotly.express as px\n",
    "import os\n",
    "import numpy as np"
   ]
  },
  {
   "cell_type": "code",
   "execution_count": 2,
   "id": "44f34bc2-079a-4dba-9139-a92e49996cd8",
   "metadata": {},
   "outputs": [],
   "source": [
    "df_train=pd.read_csv('data/train.csv')\n",
    "df_test=pd.read_csv('data/test.csv')\n",
    "df_oil=pd.read_csv('data/oil.csv')\n",
    "df_hollidays_events=pd.read_csv('data/holidays_events.csv')\n",
    "df_stores=pd.read_csv('data/stores.csv')\n",
    "df_transactions=pd.read_csv('data/transactions.csv')\n"
   ]
  },
  {
   "cell_type": "code",
   "execution_count": 3,
   "id": "62c0fc44-1089-4515-9eb1-32864977a823",
   "metadata": {},
   "outputs": [],
   "source": [
    "#merge all data to df_train on date\n",
    "df_train1=pd.merge(df_train,df_oil,on='date',how='left')\n",
    "df_train1=pd.merge(df_train1,df_hollidays_events,on='date',how='left')\n",
    "df_train1=pd.merge(df_train1,df_stores,on = 'store_nbr',how='left')\n",
    "df_train1=pd.merge(df_train1,df_transactions,on = ['date', 'store_nbr'],how='left')\n",
    "df_train1 = df_train1.rename(columns = {\"type_x\" : \"holiday_type\", \"type_y\" : \"store_type\"})"
   ]
  },
  {
   "cell_type": "code",
   "execution_count": 4,
   "id": "76c21073-bad3-47ce-bd98-c4dd468b0096",
   "metadata": {},
   "outputs": [
    {
     "data": {
      "text/html": [
       "<div>\n",
       "<style scoped>\n",
       "    .dataframe tbody tr th:only-of-type {\n",
       "        vertical-align: middle;\n",
       "    }\n",
       "\n",
       "    .dataframe tbody tr th {\n",
       "        vertical-align: top;\n",
       "    }\n",
       "\n",
       "    .dataframe thead th {\n",
       "        text-align: right;\n",
       "    }\n",
       "</style>\n",
       "<table border=\"1\" class=\"dataframe\">\n",
       "  <thead>\n",
       "    <tr style=\"text-align: right;\">\n",
       "      <th></th>\n",
       "      <th>date</th>\n",
       "      <th>family</th>\n",
       "      <th>id</th>\n",
       "      <th>onpromotion</th>\n",
       "      <th>sales</th>\n",
       "      <th>store_nbr</th>\n",
       "      <th>city</th>\n",
       "      <th>state</th>\n",
       "      <th>store_type</th>\n",
       "      <th>cluster</th>\n",
       "      <th>...</th>\n",
       "      <th>holiday_type</th>\n",
       "      <th>locale</th>\n",
       "      <th>locale_name</th>\n",
       "      <th>description</th>\n",
       "      <th>transferred</th>\n",
       "      <th>year</th>\n",
       "      <th>month</th>\n",
       "      <th>week</th>\n",
       "      <th>quarter</th>\n",
       "      <th>day_of_week</th>\n",
       "    </tr>\n",
       "  </thead>\n",
       "  <tbody>\n",
       "    <tr>\n",
       "      <th>0</th>\n",
       "      <td>2013-01-01</td>\n",
       "      <td>AUTOMOTIVE</td>\n",
       "      <td>0</td>\n",
       "      <td>0</td>\n",
       "      <td>0.0</td>\n",
       "      <td>1</td>\n",
       "      <td>Quito</td>\n",
       "      <td>Pichincha</td>\n",
       "      <td>D</td>\n",
       "      <td>13</td>\n",
       "      <td>...</td>\n",
       "      <td>Holiday</td>\n",
       "      <td>National</td>\n",
       "      <td>Ecuador</td>\n",
       "      <td>Primer dia del ano</td>\n",
       "      <td>False</td>\n",
       "      <td>2013</td>\n",
       "      <td>1</td>\n",
       "      <td>1</td>\n",
       "      <td>1</td>\n",
       "      <td>Tuesday</td>\n",
       "    </tr>\n",
       "    <tr>\n",
       "      <th>1</th>\n",
       "      <td>2013-01-01</td>\n",
       "      <td>BABY CARE</td>\n",
       "      <td>1</td>\n",
       "      <td>0</td>\n",
       "      <td>0.0</td>\n",
       "      <td>1</td>\n",
       "      <td>Quito</td>\n",
       "      <td>Pichincha</td>\n",
       "      <td>D</td>\n",
       "      <td>13</td>\n",
       "      <td>...</td>\n",
       "      <td>Holiday</td>\n",
       "      <td>National</td>\n",
       "      <td>Ecuador</td>\n",
       "      <td>Primer dia del ano</td>\n",
       "      <td>False</td>\n",
       "      <td>2013</td>\n",
       "      <td>1</td>\n",
       "      <td>1</td>\n",
       "      <td>1</td>\n",
       "      <td>Tuesday</td>\n",
       "    </tr>\n",
       "    <tr>\n",
       "      <th>2</th>\n",
       "      <td>2013-01-01</td>\n",
       "      <td>BEAUTY</td>\n",
       "      <td>2</td>\n",
       "      <td>0</td>\n",
       "      <td>0.0</td>\n",
       "      <td>1</td>\n",
       "      <td>Quito</td>\n",
       "      <td>Pichincha</td>\n",
       "      <td>D</td>\n",
       "      <td>13</td>\n",
       "      <td>...</td>\n",
       "      <td>Holiday</td>\n",
       "      <td>National</td>\n",
       "      <td>Ecuador</td>\n",
       "      <td>Primer dia del ano</td>\n",
       "      <td>False</td>\n",
       "      <td>2013</td>\n",
       "      <td>1</td>\n",
       "      <td>1</td>\n",
       "      <td>1</td>\n",
       "      <td>Tuesday</td>\n",
       "    </tr>\n",
       "    <tr>\n",
       "      <th>3</th>\n",
       "      <td>2013-01-01</td>\n",
       "      <td>BEVERAGES</td>\n",
       "      <td>3</td>\n",
       "      <td>0</td>\n",
       "      <td>0.0</td>\n",
       "      <td>1</td>\n",
       "      <td>Quito</td>\n",
       "      <td>Pichincha</td>\n",
       "      <td>D</td>\n",
       "      <td>13</td>\n",
       "      <td>...</td>\n",
       "      <td>Holiday</td>\n",
       "      <td>National</td>\n",
       "      <td>Ecuador</td>\n",
       "      <td>Primer dia del ano</td>\n",
       "      <td>False</td>\n",
       "      <td>2013</td>\n",
       "      <td>1</td>\n",
       "      <td>1</td>\n",
       "      <td>1</td>\n",
       "      <td>Tuesday</td>\n",
       "    </tr>\n",
       "    <tr>\n",
       "      <th>4</th>\n",
       "      <td>2013-01-01</td>\n",
       "      <td>BOOKS</td>\n",
       "      <td>4</td>\n",
       "      <td>0</td>\n",
       "      <td>0.0</td>\n",
       "      <td>1</td>\n",
       "      <td>Quito</td>\n",
       "      <td>Pichincha</td>\n",
       "      <td>D</td>\n",
       "      <td>13</td>\n",
       "      <td>...</td>\n",
       "      <td>Holiday</td>\n",
       "      <td>National</td>\n",
       "      <td>Ecuador</td>\n",
       "      <td>Primer dia del ano</td>\n",
       "      <td>False</td>\n",
       "      <td>2013</td>\n",
       "      <td>1</td>\n",
       "      <td>1</td>\n",
       "      <td>1</td>\n",
       "      <td>Tuesday</td>\n",
       "    </tr>\n",
       "  </tbody>\n",
       "</table>\n",
       "<p>5 rows × 22 columns</p>\n",
       "</div>"
      ],
      "text/plain": [
       "        date      family  id  onpromotion  sales  store_nbr   city      state  \\\n",
       "0 2013-01-01  AUTOMOTIVE   0            0    0.0          1  Quito  Pichincha   \n",
       "1 2013-01-01   BABY CARE   1            0    0.0          1  Quito  Pichincha   \n",
       "2 2013-01-01      BEAUTY   2            0    0.0          1  Quito  Pichincha   \n",
       "3 2013-01-01   BEVERAGES   3            0    0.0          1  Quito  Pichincha   \n",
       "4 2013-01-01       BOOKS   4            0    0.0          1  Quito  Pichincha   \n",
       "\n",
       "  store_type  cluster  ...  holiday_type    locale locale_name  \\\n",
       "0          D       13  ...       Holiday  National     Ecuador   \n",
       "1          D       13  ...       Holiday  National     Ecuador   \n",
       "2          D       13  ...       Holiday  National     Ecuador   \n",
       "3          D       13  ...       Holiday  National     Ecuador   \n",
       "4          D       13  ...       Holiday  National     Ecuador   \n",
       "\n",
       "          description transferred  year month  week  quarter  day_of_week  \n",
       "0  Primer dia del ano       False  2013     1     1        1      Tuesday  \n",
       "1  Primer dia del ano       False  2013     1     1        1      Tuesday  \n",
       "2  Primer dia del ano       False  2013     1     1        1      Tuesday  \n",
       "3  Primer dia del ano       False  2013     1     1        1      Tuesday  \n",
       "4  Primer dia del ano       False  2013     1     1        1      Tuesday  \n",
       "\n",
       "[5 rows x 22 columns]"
      ]
     },
     "execution_count": 4,
     "metadata": {},
     "output_type": "execute_result"
    }
   ],
   "source": [
    "df_data = pd.concat([df_train, df_test], sort=True)\n",
    "\n",
    "df_data = df_data.merge(df_stores, how=\"left\", on='store_nbr')   \n",
    "df_data = df_data.merge(df_oil, how=\"left\", on='date')      \n",
    "df_data = df_data.merge(df_transactions, how=\"left\", on=['date','store_nbr'])  \n",
    "df_data = df_data.merge(df_hollidays_events,on='date',how='left')\n",
    "df_data = df_data.rename(columns={'type_x' : 'store_type','type_y':'holiday_type'})\n",
    "\n",
    "df_data.date = pd.to_datetime(df_data.date)\n",
    "df_data['year'] = df_data['date'].dt.year\n",
    "df_data['month'] = df_data['date'].dt.month\n",
    "df_data['week'] = df_data['date'].dt.isocalendar().week\n",
    "df_data['quarter'] = df_data['date'].dt.quarter\n",
    "df_data['day_of_week'] = df_data['date'].dt.day_name()\n",
    "df_data.head()"
   ]
  },
  {
   "cell_type": "code",
   "execution_count": 5,
   "id": "c1d6d20b-7037-4034-ac2d-eff5cf6a9b55",
   "metadata": {},
   "outputs": [],
   "source": [
    "df_data['dcoilwtico'] = df_data['dcoilwtico'].fillna(method='bfill')\n",
    "df_data.dcoilwtico.isnull().sum()\n",
    "df_data.transactions = df_data.transactions.replace(np.nan,0)"
   ]
  },
  {
   "cell_type": "code",
   "execution_count": 6,
   "id": "ca861f1d-8ab0-45e3-bc92-32a5767fdb39",
   "metadata": {},
   "outputs": [],
   "source": [
    "df_train[\"date\"] = pd.to_datetime(df_train.date)\n",
    "df_test[\"date\"] = pd.to_datetime(df_test.date)\n",
    "df_transactions[\"date\"] = pd.to_datetime(df_transactions.date)\n",
    "df_oil[\"date\"] = pd.to_datetime(df_oil.date)\n",
    "df_train1[\"date\"] = pd.to_datetime(df_oil.date)\n"
   ]
  },
  {
   "cell_type": "code",
   "execution_count": 7,
   "id": "3f55281a-7b77-4e8c-a579-25374325c2ac",
   "metadata": {},
   "outputs": [],
   "source": [
    "from sklearn.preprocessing import LabelEncoder, OneHotEncoder\n",
    "non_numerical_cols =  [col for col in df_data.columns if df_data[col].dtype == 'object']\n",
    "for feature in non_numerical_cols:        \n",
    "    df_data[feature] = LabelEncoder().fit_transform(df_data[feature])\n"
   ]
  },
  {
   "cell_type": "code",
   "execution_count": 8,
   "id": "0d942787-ecf9-4d79-b04c-43a0e2de103d",
   "metadata": {},
   "outputs": [
    {
     "data": {
      "text/html": [
       "<style type=\"text/css\">\n",
       "#T_15897_row0_col1, #T_15897_row0_col6, #T_15897_row0_col7, #T_15897_row0_col8, #T_15897_row0_col12, #T_15897_row0_col13, #T_15897_row0_col14, #T_15897_row0_col15, #T_15897_row0_col16, #T_15897_row0_col21, #T_15897_row1_col1, #T_15897_row1_col6, #T_15897_row1_col7, #T_15897_row1_col8, #T_15897_row1_col12, #T_15897_row1_col13, #T_15897_row1_col14, #T_15897_row1_col15, #T_15897_row1_col16, #T_15897_row1_col21, #T_15897_row2_col1, #T_15897_row2_col6, #T_15897_row2_col7, #T_15897_row2_col8, #T_15897_row2_col12, #T_15897_row2_col13, #T_15897_row2_col14, #T_15897_row2_col15, #T_15897_row2_col16, #T_15897_row2_col21, #T_15897_row3_col1, #T_15897_row3_col6, #T_15897_row3_col7, #T_15897_row3_col8, #T_15897_row3_col12, #T_15897_row3_col13, #T_15897_row3_col14, #T_15897_row3_col15, #T_15897_row3_col16, #T_15897_row3_col21, #T_15897_row4_col1, #T_15897_row4_col6, #T_15897_row4_col7, #T_15897_row4_col8, #T_15897_row4_col12, #T_15897_row4_col13, #T_15897_row4_col14, #T_15897_row4_col15, #T_15897_row4_col16, #T_15897_row4_col21 {\n",
       "  background-color: #F1C40F;\n",
       "}\n",
       "</style>\n",
       "<table id=\"T_15897\">\n",
       "  <thead>\n",
       "    <tr>\n",
       "      <th class=\"blank level0\" >&nbsp;</th>\n",
       "      <th id=\"T_15897_level0_col0\" class=\"col_heading level0 col0\" >date</th>\n",
       "      <th id=\"T_15897_level0_col1\" class=\"col_heading level0 col1\" >family</th>\n",
       "      <th id=\"T_15897_level0_col2\" class=\"col_heading level0 col2\" >id</th>\n",
       "      <th id=\"T_15897_level0_col3\" class=\"col_heading level0 col3\" >onpromotion</th>\n",
       "      <th id=\"T_15897_level0_col4\" class=\"col_heading level0 col4\" >sales</th>\n",
       "      <th id=\"T_15897_level0_col5\" class=\"col_heading level0 col5\" >store_nbr</th>\n",
       "      <th id=\"T_15897_level0_col6\" class=\"col_heading level0 col6\" >city</th>\n",
       "      <th id=\"T_15897_level0_col7\" class=\"col_heading level0 col7\" >state</th>\n",
       "      <th id=\"T_15897_level0_col8\" class=\"col_heading level0 col8\" >store_type</th>\n",
       "      <th id=\"T_15897_level0_col9\" class=\"col_heading level0 col9\" >cluster</th>\n",
       "      <th id=\"T_15897_level0_col10\" class=\"col_heading level0 col10\" >dcoilwtico</th>\n",
       "      <th id=\"T_15897_level0_col11\" class=\"col_heading level0 col11\" >transactions</th>\n",
       "      <th id=\"T_15897_level0_col12\" class=\"col_heading level0 col12\" >holiday_type</th>\n",
       "      <th id=\"T_15897_level0_col13\" class=\"col_heading level0 col13\" >locale</th>\n",
       "      <th id=\"T_15897_level0_col14\" class=\"col_heading level0 col14\" >locale_name</th>\n",
       "      <th id=\"T_15897_level0_col15\" class=\"col_heading level0 col15\" >description</th>\n",
       "      <th id=\"T_15897_level0_col16\" class=\"col_heading level0 col16\" >transferred</th>\n",
       "      <th id=\"T_15897_level0_col17\" class=\"col_heading level0 col17\" >year</th>\n",
       "      <th id=\"T_15897_level0_col18\" class=\"col_heading level0 col18\" >month</th>\n",
       "      <th id=\"T_15897_level0_col19\" class=\"col_heading level0 col19\" >week</th>\n",
       "      <th id=\"T_15897_level0_col20\" class=\"col_heading level0 col20\" >quarter</th>\n",
       "      <th id=\"T_15897_level0_col21\" class=\"col_heading level0 col21\" >day_of_week</th>\n",
       "    </tr>\n",
       "  </thead>\n",
       "  <tbody>\n",
       "    <tr>\n",
       "      <th id=\"T_15897_level0_row0\" class=\"row_heading level0 row0\" >0</th>\n",
       "      <td id=\"T_15897_row0_col0\" class=\"data row0 col0\" >2013-01-01 00:00:00</td>\n",
       "      <td id=\"T_15897_row0_col1\" class=\"data row0 col1\" >0</td>\n",
       "      <td id=\"T_15897_row0_col2\" class=\"data row0 col2\" >0</td>\n",
       "      <td id=\"T_15897_row0_col3\" class=\"data row0 col3\" >0</td>\n",
       "      <td id=\"T_15897_row0_col4\" class=\"data row0 col4\" >0.000000</td>\n",
       "      <td id=\"T_15897_row0_col5\" class=\"data row0 col5\" >1</td>\n",
       "      <td id=\"T_15897_row0_col6\" class=\"data row0 col6\" >18</td>\n",
       "      <td id=\"T_15897_row0_col7\" class=\"data row0 col7\" >12</td>\n",
       "      <td id=\"T_15897_row0_col8\" class=\"data row0 col8\" >3</td>\n",
       "      <td id=\"T_15897_row0_col9\" class=\"data row0 col9\" >13</td>\n",
       "      <td id=\"T_15897_row0_col10\" class=\"data row0 col10\" >93.140000</td>\n",
       "      <td id=\"T_15897_row0_col11\" class=\"data row0 col11\" >0.000000</td>\n",
       "      <td id=\"T_15897_row0_col12\" class=\"data row0 col12\" >3</td>\n",
       "      <td id=\"T_15897_row0_col13\" class=\"data row0 col13\" >1</td>\n",
       "      <td id=\"T_15897_row0_col14\" class=\"data row0 col14\" >4</td>\n",
       "      <td id=\"T_15897_row0_col15\" class=\"data row0 col15\" >50</td>\n",
       "      <td id=\"T_15897_row0_col16\" class=\"data row0 col16\" >0</td>\n",
       "      <td id=\"T_15897_row0_col17\" class=\"data row0 col17\" >2013</td>\n",
       "      <td id=\"T_15897_row0_col18\" class=\"data row0 col18\" >1</td>\n",
       "      <td id=\"T_15897_row0_col19\" class=\"data row0 col19\" >1</td>\n",
       "      <td id=\"T_15897_row0_col20\" class=\"data row0 col20\" >1</td>\n",
       "      <td id=\"T_15897_row0_col21\" class=\"data row0 col21\" >5</td>\n",
       "    </tr>\n",
       "    <tr>\n",
       "      <th id=\"T_15897_level0_row1\" class=\"row_heading level0 row1\" >1</th>\n",
       "      <td id=\"T_15897_row1_col0\" class=\"data row1 col0\" >2013-01-01 00:00:00</td>\n",
       "      <td id=\"T_15897_row1_col1\" class=\"data row1 col1\" >1</td>\n",
       "      <td id=\"T_15897_row1_col2\" class=\"data row1 col2\" >1</td>\n",
       "      <td id=\"T_15897_row1_col3\" class=\"data row1 col3\" >0</td>\n",
       "      <td id=\"T_15897_row1_col4\" class=\"data row1 col4\" >0.000000</td>\n",
       "      <td id=\"T_15897_row1_col5\" class=\"data row1 col5\" >1</td>\n",
       "      <td id=\"T_15897_row1_col6\" class=\"data row1 col6\" >18</td>\n",
       "      <td id=\"T_15897_row1_col7\" class=\"data row1 col7\" >12</td>\n",
       "      <td id=\"T_15897_row1_col8\" class=\"data row1 col8\" >3</td>\n",
       "      <td id=\"T_15897_row1_col9\" class=\"data row1 col9\" >13</td>\n",
       "      <td id=\"T_15897_row1_col10\" class=\"data row1 col10\" >93.140000</td>\n",
       "      <td id=\"T_15897_row1_col11\" class=\"data row1 col11\" >0.000000</td>\n",
       "      <td id=\"T_15897_row1_col12\" class=\"data row1 col12\" >3</td>\n",
       "      <td id=\"T_15897_row1_col13\" class=\"data row1 col13\" >1</td>\n",
       "      <td id=\"T_15897_row1_col14\" class=\"data row1 col14\" >4</td>\n",
       "      <td id=\"T_15897_row1_col15\" class=\"data row1 col15\" >50</td>\n",
       "      <td id=\"T_15897_row1_col16\" class=\"data row1 col16\" >0</td>\n",
       "      <td id=\"T_15897_row1_col17\" class=\"data row1 col17\" >2013</td>\n",
       "      <td id=\"T_15897_row1_col18\" class=\"data row1 col18\" >1</td>\n",
       "      <td id=\"T_15897_row1_col19\" class=\"data row1 col19\" >1</td>\n",
       "      <td id=\"T_15897_row1_col20\" class=\"data row1 col20\" >1</td>\n",
       "      <td id=\"T_15897_row1_col21\" class=\"data row1 col21\" >5</td>\n",
       "    </tr>\n",
       "    <tr>\n",
       "      <th id=\"T_15897_level0_row2\" class=\"row_heading level0 row2\" >2</th>\n",
       "      <td id=\"T_15897_row2_col0\" class=\"data row2 col0\" >2013-01-01 00:00:00</td>\n",
       "      <td id=\"T_15897_row2_col1\" class=\"data row2 col1\" >2</td>\n",
       "      <td id=\"T_15897_row2_col2\" class=\"data row2 col2\" >2</td>\n",
       "      <td id=\"T_15897_row2_col3\" class=\"data row2 col3\" >0</td>\n",
       "      <td id=\"T_15897_row2_col4\" class=\"data row2 col4\" >0.000000</td>\n",
       "      <td id=\"T_15897_row2_col5\" class=\"data row2 col5\" >1</td>\n",
       "      <td id=\"T_15897_row2_col6\" class=\"data row2 col6\" >18</td>\n",
       "      <td id=\"T_15897_row2_col7\" class=\"data row2 col7\" >12</td>\n",
       "      <td id=\"T_15897_row2_col8\" class=\"data row2 col8\" >3</td>\n",
       "      <td id=\"T_15897_row2_col9\" class=\"data row2 col9\" >13</td>\n",
       "      <td id=\"T_15897_row2_col10\" class=\"data row2 col10\" >93.140000</td>\n",
       "      <td id=\"T_15897_row2_col11\" class=\"data row2 col11\" >0.000000</td>\n",
       "      <td id=\"T_15897_row2_col12\" class=\"data row2 col12\" >3</td>\n",
       "      <td id=\"T_15897_row2_col13\" class=\"data row2 col13\" >1</td>\n",
       "      <td id=\"T_15897_row2_col14\" class=\"data row2 col14\" >4</td>\n",
       "      <td id=\"T_15897_row2_col15\" class=\"data row2 col15\" >50</td>\n",
       "      <td id=\"T_15897_row2_col16\" class=\"data row2 col16\" >0</td>\n",
       "      <td id=\"T_15897_row2_col17\" class=\"data row2 col17\" >2013</td>\n",
       "      <td id=\"T_15897_row2_col18\" class=\"data row2 col18\" >1</td>\n",
       "      <td id=\"T_15897_row2_col19\" class=\"data row2 col19\" >1</td>\n",
       "      <td id=\"T_15897_row2_col20\" class=\"data row2 col20\" >1</td>\n",
       "      <td id=\"T_15897_row2_col21\" class=\"data row2 col21\" >5</td>\n",
       "    </tr>\n",
       "    <tr>\n",
       "      <th id=\"T_15897_level0_row3\" class=\"row_heading level0 row3\" >3</th>\n",
       "      <td id=\"T_15897_row3_col0\" class=\"data row3 col0\" >2013-01-01 00:00:00</td>\n",
       "      <td id=\"T_15897_row3_col1\" class=\"data row3 col1\" >3</td>\n",
       "      <td id=\"T_15897_row3_col2\" class=\"data row3 col2\" >3</td>\n",
       "      <td id=\"T_15897_row3_col3\" class=\"data row3 col3\" >0</td>\n",
       "      <td id=\"T_15897_row3_col4\" class=\"data row3 col4\" >0.000000</td>\n",
       "      <td id=\"T_15897_row3_col5\" class=\"data row3 col5\" >1</td>\n",
       "      <td id=\"T_15897_row3_col6\" class=\"data row3 col6\" >18</td>\n",
       "      <td id=\"T_15897_row3_col7\" class=\"data row3 col7\" >12</td>\n",
       "      <td id=\"T_15897_row3_col8\" class=\"data row3 col8\" >3</td>\n",
       "      <td id=\"T_15897_row3_col9\" class=\"data row3 col9\" >13</td>\n",
       "      <td id=\"T_15897_row3_col10\" class=\"data row3 col10\" >93.140000</td>\n",
       "      <td id=\"T_15897_row3_col11\" class=\"data row3 col11\" >0.000000</td>\n",
       "      <td id=\"T_15897_row3_col12\" class=\"data row3 col12\" >3</td>\n",
       "      <td id=\"T_15897_row3_col13\" class=\"data row3 col13\" >1</td>\n",
       "      <td id=\"T_15897_row3_col14\" class=\"data row3 col14\" >4</td>\n",
       "      <td id=\"T_15897_row3_col15\" class=\"data row3 col15\" >50</td>\n",
       "      <td id=\"T_15897_row3_col16\" class=\"data row3 col16\" >0</td>\n",
       "      <td id=\"T_15897_row3_col17\" class=\"data row3 col17\" >2013</td>\n",
       "      <td id=\"T_15897_row3_col18\" class=\"data row3 col18\" >1</td>\n",
       "      <td id=\"T_15897_row3_col19\" class=\"data row3 col19\" >1</td>\n",
       "      <td id=\"T_15897_row3_col20\" class=\"data row3 col20\" >1</td>\n",
       "      <td id=\"T_15897_row3_col21\" class=\"data row3 col21\" >5</td>\n",
       "    </tr>\n",
       "    <tr>\n",
       "      <th id=\"T_15897_level0_row4\" class=\"row_heading level0 row4\" >4</th>\n",
       "      <td id=\"T_15897_row4_col0\" class=\"data row4 col0\" >2013-01-01 00:00:00</td>\n",
       "      <td id=\"T_15897_row4_col1\" class=\"data row4 col1\" >4</td>\n",
       "      <td id=\"T_15897_row4_col2\" class=\"data row4 col2\" >4</td>\n",
       "      <td id=\"T_15897_row4_col3\" class=\"data row4 col3\" >0</td>\n",
       "      <td id=\"T_15897_row4_col4\" class=\"data row4 col4\" >0.000000</td>\n",
       "      <td id=\"T_15897_row4_col5\" class=\"data row4 col5\" >1</td>\n",
       "      <td id=\"T_15897_row4_col6\" class=\"data row4 col6\" >18</td>\n",
       "      <td id=\"T_15897_row4_col7\" class=\"data row4 col7\" >12</td>\n",
       "      <td id=\"T_15897_row4_col8\" class=\"data row4 col8\" >3</td>\n",
       "      <td id=\"T_15897_row4_col9\" class=\"data row4 col9\" >13</td>\n",
       "      <td id=\"T_15897_row4_col10\" class=\"data row4 col10\" >93.140000</td>\n",
       "      <td id=\"T_15897_row4_col11\" class=\"data row4 col11\" >0.000000</td>\n",
       "      <td id=\"T_15897_row4_col12\" class=\"data row4 col12\" >3</td>\n",
       "      <td id=\"T_15897_row4_col13\" class=\"data row4 col13\" >1</td>\n",
       "      <td id=\"T_15897_row4_col14\" class=\"data row4 col14\" >4</td>\n",
       "      <td id=\"T_15897_row4_col15\" class=\"data row4 col15\" >50</td>\n",
       "      <td id=\"T_15897_row4_col16\" class=\"data row4 col16\" >0</td>\n",
       "      <td id=\"T_15897_row4_col17\" class=\"data row4 col17\" >2013</td>\n",
       "      <td id=\"T_15897_row4_col18\" class=\"data row4 col18\" >1</td>\n",
       "      <td id=\"T_15897_row4_col19\" class=\"data row4 col19\" >1</td>\n",
       "      <td id=\"T_15897_row4_col20\" class=\"data row4 col20\" >1</td>\n",
       "      <td id=\"T_15897_row4_col21\" class=\"data row4 col21\" >5</td>\n",
       "    </tr>\n",
       "  </tbody>\n",
       "</table>\n"
      ],
      "text/plain": [
       "<pandas.io.formats.style.Styler at 0x7f0e09e5a910>"
      ]
     },
     "execution_count": 8,
     "metadata": {},
     "output_type": "execute_result"
    }
   ],
   "source": [
    "df_data.head().style.set_properties(subset=non_numerical_cols, **{'background-color': '#F1C40F'})"
   ]
  },
  {
   "cell_type": "code",
   "execution_count": 21,
   "id": "ee52706c-b015-4395-9a99-a7b724258b61",
   "metadata": {},
   "outputs": [],
   "source": [
    "df=df_train.set_index(['id']).sort_index()"
   ]
  },
  {
   "cell_type": "code",
   "execution_count": 22,
   "id": "89090fcb-435f-45ec-8a76-d5d595158ece",
   "metadata": {},
   "outputs": [
    {
     "data": {
      "text/html": [
       "<div>\n",
       "<style scoped>\n",
       "    .dataframe tbody tr th:only-of-type {\n",
       "        vertical-align: middle;\n",
       "    }\n",
       "\n",
       "    .dataframe tbody tr th {\n",
       "        vertical-align: top;\n",
       "    }\n",
       "\n",
       "    .dataframe thead th {\n",
       "        text-align: right;\n",
       "    }\n",
       "</style>\n",
       "<table border=\"1\" class=\"dataframe\">\n",
       "  <thead>\n",
       "    <tr style=\"text-align: right;\">\n",
       "      <th></th>\n",
       "      <th>date</th>\n",
       "      <th>store_nbr</th>\n",
       "      <th>family</th>\n",
       "      <th>sales</th>\n",
       "      <th>onpromotion</th>\n",
       "    </tr>\n",
       "    <tr>\n",
       "      <th>id</th>\n",
       "      <th></th>\n",
       "      <th></th>\n",
       "      <th></th>\n",
       "      <th></th>\n",
       "      <th></th>\n",
       "    </tr>\n",
       "  </thead>\n",
       "  <tbody>\n",
       "    <tr>\n",
       "      <th>0</th>\n",
       "      <td>2013-01-01</td>\n",
       "      <td>1</td>\n",
       "      <td>AUTOMOTIVE</td>\n",
       "      <td>0.0</td>\n",
       "      <td>0</td>\n",
       "    </tr>\n",
       "    <tr>\n",
       "      <th>1</th>\n",
       "      <td>2013-01-01</td>\n",
       "      <td>1</td>\n",
       "      <td>BABY CARE</td>\n",
       "      <td>0.0</td>\n",
       "      <td>0</td>\n",
       "    </tr>\n",
       "    <tr>\n",
       "      <th>2</th>\n",
       "      <td>2013-01-01</td>\n",
       "      <td>1</td>\n",
       "      <td>BEAUTY</td>\n",
       "      <td>0.0</td>\n",
       "      <td>0</td>\n",
       "    </tr>\n",
       "    <tr>\n",
       "      <th>3</th>\n",
       "      <td>2013-01-01</td>\n",
       "      <td>1</td>\n",
       "      <td>BEVERAGES</td>\n",
       "      <td>0.0</td>\n",
       "      <td>0</td>\n",
       "    </tr>\n",
       "    <tr>\n",
       "      <th>4</th>\n",
       "      <td>2013-01-01</td>\n",
       "      <td>1</td>\n",
       "      <td>BOOKS</td>\n",
       "      <td>0.0</td>\n",
       "      <td>0</td>\n",
       "    </tr>\n",
       "  </tbody>\n",
       "</table>\n",
       "</div>"
      ],
      "text/plain": [
       "         date  store_nbr      family  sales  onpromotion\n",
       "id                                                      \n",
       "0  2013-01-01          1  AUTOMOTIVE    0.0            0\n",
       "1  2013-01-01          1   BABY CARE    0.0            0\n",
       "2  2013-01-01          1      BEAUTY    0.0            0\n",
       "3  2013-01-01          1   BEVERAGES    0.0            0\n",
       "4  2013-01-01          1       BOOKS    0.0            0"
      ]
     },
     "execution_count": 22,
     "metadata": {},
     "output_type": "execute_result"
    }
   ],
   "source": [
    "df.head(5)"
   ]
  },
  {
   "cell_type": "code",
   "execution_count": 11,
   "id": "73b5d578-3542-4bfc-881d-84c2b20c5ade",
   "metadata": {},
   "outputs": [
    {
     "data": {
      "text/plain": [
       "<AxesSubplot:xlabel='date'>"
      ]
     },
     "execution_count": 11,
     "metadata": {},
     "output_type": "execute_result"
    },
    {
     "data": {
      "image/png": "[encoded data removed]",
      "text/plain": [
       "<Figure size 432x288 with 1 Axes>"
      ]
     },
     "metadata": {
      "needs_background": "light"
     },
     "output_type": "display_data"
    }
   ],
   "source": [
    "df1=df_train.groupby(df_train.date).mean()[['sales']]\n",
    "df1[:100].plot()"
   ]
  },
  {
   "cell_type": "code",
   "execution_count": 12,
   "id": "7aa23f8b-12ec-49cc-98ec-e7b0f5ce9ccc",
   "metadata": {},
   "outputs": [
    {
     "data": {
      "text/html": [
       "<div>\n",
       "<style scoped>\n",
       "    .dataframe tbody tr th:only-of-type {\n",
       "        vertical-align: middle;\n",
       "    }\n",
       "\n",
       "    .dataframe tbody tr th {\n",
       "        vertical-align: top;\n",
       "    }\n",
       "\n",
       "    .dataframe thead th {\n",
       "        text-align: right;\n",
       "    }\n",
       "</style>\n",
       "<table border=\"1\" class=\"dataframe\">\n",
       "  <thead>\n",
       "    <tr style=\"text-align: right;\">\n",
       "      <th></th>\n",
       "      <th>sales</th>\n",
       "    </tr>\n",
       "    <tr>\n",
       "      <th>date</th>\n",
       "      <th></th>\n",
       "    </tr>\n",
       "  </thead>\n",
       "  <tbody>\n",
       "    <tr>\n",
       "      <th>2013-01-01</th>\n",
       "      <td>1.409438</td>\n",
       "    </tr>\n",
       "    <tr>\n",
       "      <th>2013-01-02</th>\n",
       "      <td>278.390807</td>\n",
       "    </tr>\n",
       "    <tr>\n",
       "      <th>2013-01-03</th>\n",
       "      <td>202.840197</td>\n",
       "    </tr>\n",
       "    <tr>\n",
       "      <th>2013-01-04</th>\n",
       "      <td>198.911154</td>\n",
       "    </tr>\n",
       "    <tr>\n",
       "      <th>2013-01-05</th>\n",
       "      <td>267.873244</td>\n",
       "    </tr>\n",
       "  </tbody>\n",
       "</table>\n",
       "</div>"
      ],
      "text/plain": [
       "                 sales\n",
       "date                  \n",
       "2013-01-01    1.409438\n",
       "2013-01-02  278.390807\n",
       "2013-01-03  202.840197\n",
       "2013-01-04  198.911154\n",
       "2013-01-05  267.873244"
      ]
     },
     "execution_count": 12,
     "metadata": {},
     "output_type": "execute_result"
    }
   ],
   "source": [
    "df1.head(5)"
   ]
  },
  {
   "cell_type": "code",
   "execution_count": 13,
   "id": "a00346d6-66ad-4ee4-b915-19461b87068b",
   "metadata": {},
   "outputs": [
    {
     "data": {
      "image/png": "[encoded data removed]",
      "text/plain": [
       "<Figure size 432x288 with 2 Axes>"
      ]
     },
     "metadata": {
      "needs_background": "light"
     },
     "output_type": "display_data"
    },
    {
     "name": "stdout",
     "output_type": "stream",
     "text": [
      "CPU times: user 449 ms, sys: 175 ms, total: 624 ms\n",
      "Wall time: 349 ms\n"
     ]
    }
   ],
   "source": [
    "%%time\n",
    "from statsmodels.graphics.tsaplots import plot_acf, plot_pacf\n",
    "\n",
    "fig,ax=plt.subplots(nrows=2,ncols=1)\n",
    "\n",
    "ax[0].set_title(\"ACF\")\n",
    "plot_acf(df1['sales'].dropna(),lags=30,zero=False,ax=ax[0])\n",
    "ax[1].set_title(\"PACF\")\n",
    "plot_pacf(df1['sales'].dropna(),lags=30,zero=False,ax=ax[1],method='ywm')\n",
    "plt.show()"
   ]
  },
  {
   "cell_type": "code",
   "execution_count": 14,
   "id": "2bc4bc8d-2216-43ff-b39f-abc768a15e53",
   "metadata": {},
   "outputs": [
    {
     "name": "stderr",
     "output_type": "stream",
     "text": [
      "/home/studio-lab-user/.conda/envs/stat/lib/python3.9/site-packages/statsmodels/tsa/base/tsa_model.py:471: ValueWarning: A date index has been provided, but it has no associated frequency information and so will be ignored when e.g. forecasting.\n",
      "  self._init_dates(dates, freq)\n",
      "/home/studio-lab-user/.conda/envs/stat/lib/python3.9/site-packages/statsmodels/tsa/base/tsa_model.py:471: ValueWarning: A date index has been provided, but it has no associated frequency information and so will be ignored when e.g. forecasting.\n",
      "  self._init_dates(dates, freq)\n"
     ]
    }
   ],
   "source": [
    "#sarimax model\n",
    "from statsmodels.tsa.statespace.sarimax import SARIMAX\n",
    "model_sarimax = SARIMAX(df1['sales'], order=(1,1,2), seasonal_order=(0,1,1,6))\n",
    "result_sarimax = model_sarimax.fit(disp=False)\n"
   ]
  },
  {
   "cell_type": "code",
   "execution_count": 15,
   "id": "ac37530a-18e7-4ec8-9b14-36f094e07581",
   "metadata": {},
   "outputs": [
    {
     "data": {
      "text/plain": [
       "5634.030663490024"
      ]
     },
     "execution_count": 15,
     "metadata": {},
     "output_type": "execute_result"
    }
   ],
   "source": [
    "#mean squared error\n",
    "from sklearn.metrics import mean_squared_error\n",
    "predictions_sarimax = result_sarimax.predict(start=0, end=len(df1['sales'])-1, dynamic=False)\n",
    "mean_squared_error(df1['sales'], predictions_sarimax)"
   ]
  },
  {
   "cell_type": "code",
   "execution_count": 16,
   "id": "8d4112bf-1d76-4ea3-b13e-5a267ec76df2",
   "metadata": {},
   "outputs": [
    {
     "data": {
      "text/plain": [
       "<matplotlib.legend.Legend at 0x7f0dee17dd60>"
      ]
     },
     "execution_count": 16,
     "metadata": {},
     "output_type": "execute_result"
    },
    {
     "data": {
      "image/png": "[encoded data removed]",
      "text/plain": [
       "<Figure size 432x288 with 1 Axes>"
      ]
     },
     "metadata": {
      "needs_background": "light"
     },
     "output_type": "display_data"
    }
   ],
   "source": [
    "#plot predictions with actual values\n",
    "plt.plot(df1['sales'][:100], label='Actual')\n",
    "plt.plot(predictions_sarimax[:100], label='Predicted')\n",
    "plt.legend()"
   ]
  },
  {
   "cell_type": "code",
   "execution_count": 18,
   "id": "5da9bd38-c07d-48f3-8e61-013defda0e7d",
   "metadata": {},
   "outputs": [],
   "source": [
    "df=df.drop(columns=['id'])"
   ]
  },
  {
   "cell_type": "code",
   "execution_count": null,
   "id": "7f181bce-d7f1-4db5-a4ef-34c0b2049539",
   "metadata": {},
   "outputs": [],
   "source": [
    "#sarimax model\n",
    "from statsmodels.tsa.statespace.sarimax import SARIMAX\n",
    "model_sarimax = SARIMAX(df['sales'], order=(1,1,2), seasonal_order=(0,1,1,6),exog=df['onpromotion'])\n",
    "result_sarimax = model_sarimax.fit(disp=False)\n"
   ]
  },
  {
   "cell_type": "code",
   "execution_count": null,
   "id": "f4e9cd83-44b0-4bf0-ab2a-f87f54bb0e8d",
   "metadata": {},
   "outputs": [],
   "source": []
  }
 ],
 "metadata": {
  "kernelspec": {
   "display_name": "stat:Python",
   "language": "python",
   "name": "conda-env-stat-py"
  },
  "language_info": {
   "codemirror_mode": {
    "name": "ipython",
    "version": 3
   },
   "file_extension": ".py",
   "mimetype": "text/x-python",
   "name": "python",
   "nbconvert_exporter": "python",
   "pygments_lexer": "ipython3",
   "version": "3.9.12"
  }
 },
 "nbformat": 4,
 "nbformat_minor": 5
}
