{
  "nbformat": 4,
  "nbformat_minor": 0,
  "metadata": {
    "colab": {
      "name": "Untitled20.ipynb",
      "private_outputs": true,
      "provenance": [],
      "authorship_tag": "ABX9TyOPkLvbQmRTkEOFwJp6jjRJ",
      "include_colab_link": true
    },
    "kernelspec": {
      "name": "ir",
      "display_name": "R"
    },
    "language_info": {
      "name": "R"
    }
  },
  "cells": [
    {
      "cell_type": "markdown",
      "metadata": {
        "id": "view-in-github",
        "colab_type": "text"
      },
      "source": [
        "<a href=\"https://colab.research.google.com/github/AmeerHamza0220/MachineLearningBasic/blob/main/RegressionR.ipynb\" target=\"_parent\"><img src=\"https://colab.research.google.com/assets/colab-badge.svg\" alt=\"Open In Colab\"/></a>"
      ]
    },
    {
      "cell_type": "markdown",
      "source": [
        "**Some notes**"
      ],
      "metadata": {
        "id": "qn8PmZ1WwbD-"
      }
    },
    {
      "cell_type": "markdown",
      "source": [
        "He we have some concepts to \n",
        "remember before lab\n"
      ],
      "metadata": {
        "id": "1ifdSr_ywfLG"
      }
    },
    {
      "cell_type": "code",
      "execution_count": null,
      "metadata": {
        "id": "WVBkTNlhrRpG"
      },
      "outputs": [],
      "source": [
        "library (MASS)"
      ]
    },
    {
      "cell_type": "code",
      "source": [
        "install.packages('ISLR')\n",
        "library (ISLR)"
      ],
      "metadata": {
        "id": "tPMZOrNjrW1I"
      },
      "execution_count": null,
      "outputs": []
    },
    {
      "cell_type": "code",
      "source": [
        "names(Boston)"
      ],
      "metadata": {
        "id": "UEs-5EdarjL4"
      },
      "execution_count": null,
      "outputs": []
    },
    {
      "cell_type": "code",
      "source": [
        "attach (Boston)\n",
        "lm.fit =lm(medv ~ lstat)"
      ],
      "metadata": {
        "id": "RQ2HhplgsqsQ"
      },
      "execution_count": null,
      "outputs": []
    },
    {
      "cell_type": "code",
      "source": [
        "lm.fit"
      ],
      "metadata": {
        "id": "6hCoavfot_Rj"
      },
      "execution_count": null,
      "outputs": []
    },
    {
      "cell_type": "code",
      "source": [
        "summary(lm.fit)"
      ],
      "metadata": {
        "id": "s-4VyrRKuF7r"
      },
      "execution_count": null,
      "outputs": []
    },
    {
      "cell_type": "code",
      "source": [
        "names(lm.fit )"
      ],
      "metadata": {
        "id": "Z7OT1x1GuPf3"
      },
      "execution_count": null,
      "outputs": []
    },
    {
      "cell_type": "code",
      "source": [
        "confint(lm.fit)"
      ],
      "metadata": {
        "id": "u_DJWqI2uZea"
      },
      "execution_count": null,
      "outputs": []
    },
    {
      "cell_type": "code",
      "source": [
        "predict(lm.fit,data.frame(lstat=c(5,10,15)),interval='confidence')"
      ],
      "metadata": {
        "id": "BKZgtxJsu2Na"
      },
      "execution_count": null,
      "outputs": []
    },
    {
      "cell_type": "code",
      "source": [
        "predict(lm.fit,data.frame(lstat=c(5,10,15)),interval='prediction')"
      ],
      "metadata": {
        "id": "Rxc4aC_RvQOJ"
      },
      "execution_count": null,
      "outputs": []
    },
    {
      "cell_type": "code",
      "source": [
        "plot(lstat,medv)\n",
        "abline(lm.fit,col='red',lwd=3)"
      ],
      "metadata": {
        "id": "LOO9PSaIvbxL"
      },
      "execution_count": null,
      "outputs": []
    },
    {
      "cell_type": "code",
      "source": [
        "plot(lm.fit)"
      ],
      "metadata": {
        "id": "EYny-VpPwD6B"
      },
      "execution_count": null,
      "outputs": []
    }
  ]
}