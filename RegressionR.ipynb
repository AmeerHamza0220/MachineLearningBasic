{
  "nbformat": 4,
  "nbformat_minor": 0,
  "metadata": {
    "colab": {
      "name": "Untitled20.ipynb",
      "private_outputs": true,
      "provenance": [],
      "authorship_tag": "ABX9TyNuisHPXiTK7U9Zaz/OD4ZV",
      "include_colab_link": true
    },
    "kernelspec": {
      "name": "ir",
      "display_name": "R"
    },
    "language_info": {
      "name": "R"
    }
  },
  "cells": [
    {
      "cell_type": "markdown",
      "metadata": {
        "id": "view-in-github",
        "colab_type": "text"
      },
      "source": [
        "<a href=\"https://colab.research.google.com/github/AmeerHamza0220/MachineLearningBasic/blob/main/RegressionR.ipynb\" target=\"_parent\"><img src=\"https://colab.research.google.com/assets/colab-badge.svg\" alt=\"Open In Colab\"/></a>"
      ]
    },
    {
      "cell_type": "markdown",
      "source": [
        "**Some notes**"
      ],
      "metadata": {
        "id": "qn8PmZ1WwbD-"
      }
    },
    {
      "cell_type": "markdown",
      "source": [
        "**Some latex that will be helpful through notes** \n",
        "\n",
        "\n",
        "$2^2+2^2=8$\n",
        "\n",
        "$ \\cos^2 \\theta +\\sin^2\\theta=1$\n",
        "\n",
        "$2 \\times 2=4$\n",
        "\n",
        "$\\sqrt[4]{333}$\n",
        "\n",
        "**fractions**\n",
        "\n",
        "$\\frac{2}{3}$\n",
        "\n",
        "$\\frac{\\sqrt{x+3}}{x+2}$\n",
        "\n",
        "**Brackets**\n",
        "\n",
        "$ \\bigg[ \\Big\\{ \\big(3+2\\big) / 5 \\Big\\} \\times 6 \\bigg] $\n",
        "\n",
        "**Summations**\n",
        "\n",
        "$\\sum_{i=0}^{b}g(i)=0$\n",
        "\n",
        "**Integration**\n",
        "\n",
        "$\\int_{0}^{\\infty} f(x)$\n",
        "\n",
        "**limit**\n",
        "\n",
        "$\\lim_{x \\to c} f(x)$"
      ],
      "metadata": {
        "id": "YRu0HP3qykuU"
      }
    },
    {
      "cell_type": "markdown",
      "source": [
        "He we have some concepts to \n",
        "remember before lab\n"
      ],
      "metadata": {
        "id": "1ifdSr_ywfLG"
      }
    },
    {
      "cell_type": "markdown",
      "source": [
        "**Assessing the Accuracy of the Coefficient Estimates**\n",
        "\n",
        "If we use the bias sample mean ˆμ to estimate μ, this estimate is unbiased, in the sense that unbiased\n",
        "on average, we expect ˆμ to equal μ.\n",
        "\n",
        "How far off will that single estimate of ˆμ be? In general, we answer this question by computing the standard error of ˆμ, written as SE(ˆμ). We have\n",
        "the well-known formula\n",
        "\n",
        "**Var(ˆμ)= SE(ˆμ)2 = $\\frac{σ^2}{n}$\n",
        "\n",
        "Roughly speaking, the standard error tells us the average amount that this estimate ˆμ differs from the actual value of μ"
      ],
      "metadata": {
        "id": "QB7rt4YsxnAk"
      }
    },
    {
      "cell_type": "markdown",
      "source": [
        "In a similar vein, we can wonder how close\n",
        "βˆ0\n",
        "and ˆβ1 are to the true values β0 and β1. To compute the standard errors associated with ˆβ0 and ˆβ1, we use the following formulas\n",
        "\n",
        "$SE(β_0) =σ^2 \\bigg[ \\frac{1}{n} + \\frac{\\bar{x}^2}{\\sum_{i=1}^{n} (x_i-\\bar{x})} \\bigg]$\n",
        "\n",
        "> Indented block\n",
        "\n"
      ],
      "metadata": {
        "id": "GL0VMe32x03o"
      }
    },
    {
      "cell_type": "code",
      "execution_count": null,
      "metadata": {
        "id": "WVBkTNlhrRpG"
      },
      "outputs": [],
      "source": [
        "library (MASS)"
      ]
    },
    {
      "cell_type": "code",
      "source": [
        "install.packages('ISLR')\n",
        "library (ISLR)"
      ],
      "metadata": {
        "id": "tPMZOrNjrW1I"
      },
      "execution_count": null,
      "outputs": []
    },
    {
      "cell_type": "code",
      "source": [
        "names(Boston)"
      ],
      "metadata": {
        "id": "UEs-5EdarjL4"
      },
      "execution_count": null,
      "outputs": []
    },
    {
      "cell_type": "code",
      "source": [
        "attach (Boston)\n",
        "lm.fit =lm(medv ~ lstat)"
      ],
      "metadata": {
        "id": "RQ2HhplgsqsQ"
      },
      "execution_count": null,
      "outputs": []
    },
    {
      "cell_type": "code",
      "source": [
        "lm.fit"
      ],
      "metadata": {
        "id": "6hCoavfot_Rj"
      },
      "execution_count": null,
      "outputs": []
    },
    {
      "cell_type": "code",
      "source": [
        "summary(lm.fit)"
      ],
      "metadata": {
        "id": "s-4VyrRKuF7r"
      },
      "execution_count": null,
      "outputs": []
    },
    {
      "cell_type": "code",
      "source": [
        "names(lm.fit )"
      ],
      "metadata": {
        "id": "Z7OT1x1GuPf3"
      },
      "execution_count": null,
      "outputs": []
    },
    {
      "cell_type": "code",
      "source": [
        "confint(lm.fit)"
      ],
      "metadata": {
        "id": "u_DJWqI2uZea"
      },
      "execution_count": null,
      "outputs": []
    },
    {
      "cell_type": "code",
      "source": [
        "predict(lm.fit,data.frame(lstat=c(5,10,15)),interval='confidence')"
      ],
      "metadata": {
        "id": "BKZgtxJsu2Na"
      },
      "execution_count": null,
      "outputs": []
    },
    {
      "cell_type": "code",
      "source": [
        "predict(lm.fit,data.frame(lstat=c(5,10,15)),interval='prediction')"
      ],
      "metadata": {
        "id": "Rxc4aC_RvQOJ"
      },
      "execution_count": null,
      "outputs": []
    },
    {
      "cell_type": "code",
      "source": [
        "plot(lstat,medv)\n",
        "abline(lm.fit,col='red',lwd=3)"
      ],
      "metadata": {
        "id": "LOO9PSaIvbxL"
      },
      "execution_count": null,
      "outputs": []
    },
    {
      "cell_type": "code",
      "source": [
        "plot(lm.fit)"
      ],
      "metadata": {
        "id": "EYny-VpPwD6B"
      },
      "execution_count": null,
      "outputs": []
    }
  ]
}