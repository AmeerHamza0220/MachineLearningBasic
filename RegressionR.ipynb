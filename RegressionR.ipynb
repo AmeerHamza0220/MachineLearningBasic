{
  "nbformat": 4,
  "nbformat_minor": 0,
  "metadata": {
    "colab": {
      "name": "Untitled20.ipynb",
      "private_outputs": true,
      "provenance": [],
      "authorship_tag": "ABX9TyPX8wgBzy3fBnSr1HlJq4y6",
      "include_colab_link": true
    },
    "kernelspec": {
      "name": "ir",
      "display_name": "R"
    },
    "language_info": {
      "name": "R"
    }
  },
  "cells": [
    {
      "cell_type": "markdown",
      "metadata": {
        "id": "view-in-github",
        "colab_type": "text"
      },
      "source": [
        "<a href=\"https://colab.research.google.com/github/AmeerHamza0220/MachineLearningBasic/blob/main/RegressionR.ipynb\" target=\"_parent\"><img src=\"https://colab.research.google.com/assets/colab-badge.svg\" alt=\"Open In Colab\"/></a>"
      ]
    },
    {
      "cell_type": "markdown",
      "source": [
        "**Some notes**"
      ],
      "metadata": {
        "id": "qn8PmZ1WwbD-"
      }
    },
    {
      "cell_type": "markdown",
      "source": [
        "**Some latex that will be helpful through notes** \n",
        "\n",
        "\n",
        "$2^2+2^2=8$\n",
        "\n",
        "$ \\cos^2 \\theta +\\sin^2\\theta=1$\n",
        "\n",
        "$2 \\times 2=4$\n",
        "\n",
        "$\\sqrt[4]{333}$\n",
        "\n",
        "**fractions**\n",
        "\n",
        "$\\frac{2}{3}$\n",
        "\n",
        "$\\frac{\\sqrt{x+3}}{x+2}$\n",
        "\n",
        "**Brackets**\n",
        "\n",
        "$ \\bigg[ \\Big\\{ \\big(3+2\\big) / 5 \\Big\\} \\times 6 \\bigg] $\n",
        "\n",
        "**Summations**\n",
        "\n",
        "$\\sum_{i=0}^{b}g(i)=0$\n",
        "\n",
        "**Integration**\n",
        "\n",
        "$\\int_{0}^{\\infty} f(x)$\n",
        "\n",
        "**limit**\n",
        "\n",
        "$\\lim_{x \\to c} f(x)$"
      ],
      "metadata": {
        "id": "YRu0HP3qykuU"
      }
    },
    {
      "cell_type": "markdown",
      "source": [
        "He we have some concepts to \n",
        "remember before lab\n"
      ],
      "metadata": {
        "id": "1ifdSr_ywfLG"
      }
    },
    {
      "cell_type": "markdown",
      "source": [
        "**Assessing the Accuracy of the Coefficient Estimates**\n",
        "\n",
        "If we use the bias sample mean ˆμ to estimate μ, this estimate is unbiased, in the sense that unbiased\n",
        "on average, we expect ˆμ to equal μ.\n",
        "\n",
        "How far off will that single estimate of ˆμ be? In general, we answer this question by computing the standard error of ˆμ, written as SE(ˆμ). We have\n",
        "the well-known formula\n",
        "\n",
        "**Var(ˆμ)= SE(ˆμ)2 = $\\frac{σ^2}{n}$\n",
        "\n",
        "Roughly speaking, the standard error tells us the average amount that this estimate ˆμ differs from the actual value of μ"
      ],
      "metadata": {
        "id": "QB7rt4YsxnAk"
      }
    },
    {
      "cell_type": "markdown",
      "source": [
        "In a similar vein, we can wonder how close\n",
        "βˆ0\n",
        "and ˆβ1 are to the true values β0 and β1. To compute the standard errors associated with ˆβ0 and ˆβ1, we use the following formulas\n",
        "\n",
        "$SE(β_0)^2 =σ^2 \\bigg[ \\frac{1}{n} + \\frac{\\bar{x}^2}{\\sum_{i=1}^{n} (x_i-\\bar{x})} \\bigg]$ \n",
        " $SE(β_1)^2 =\\frac{σ^2}{\\sum_{i=1}^{n} (x_i-\\bar{x})}  $\n",
        "\n",
        "> Where $σ^2 =var(ϵ)$\n",
        "\n",
        "**Confidence Interval**\n",
        "\n",
        "Standard errors can be used to compute confidence intervals.\n",
        "A 95%\n",
        "confidence interval is defined as a range of values such that with 95% probability, the range will contain the true unknown value of the parameter\n",
        "\n",
        "**hypothesis testing**\n",
        "\n",
        "Standard errors can also be used to perform hypothesis tests on the\n",
        "coefficients\n",
        "\n",
        "To test the null hypothesis, we need to determine whether\n",
        "$\\bar{β_1}$, our estimate for $β_1$, is sufficiently far from zero that we can\n",
        "be confident that $β_1$ is non-zero.How far is far enough. This depend on standard error\n",
        "\n",
        "In practice, we compute a t-statistic, t-statistic given by\n",
        "\n",
        "$t=\\frac{\\bar{β_1-0}}{SE(\\bar{β_1})}$\n",
        "\n",
        "which measures the number of standard deviations that ˆβ1 is away from 0. If there really is no relationship between X and Y, then we expect that (3.14) will have a t-distribution with n−2 degrees of freedom\n",
        "\n",
        "it is a simple matter to compute the probability of observing any number equal to |t| or larger in absolute value, assuming β1 = 0. We call this probability the p-value. Roughly speaking, we interpret the p-value as follows: a small\n",
        "p-value indicates that it is unlikely to observe such a substantial association between the predictor and the response due to chance, in the absence of any real association between the predictor and the response. Hence, if we\n",
        "see a small p-value, then we can infer that there is an association between the predictor and the response. We reject the null hypothesis—that is, we declare a relationship to exist between X and Y"
      ],
      "metadata": {
        "id": "GL0VMe32x03o"
      }
    },
    {
      "cell_type": "markdown",
      "source": [
        "**Assessing the Accuracy of the Model**\n",
        "\n",
        "The quality of a linear regression fit is typically assessed using two related quantities: the residual standard error (RSE) and the R2\n",
        "\n",
        "The RSE is an estimate of the standard deviation of ϵ. Roughly speaking, it is the average amount that the response will deviate from the true regression line. It is computed using the formula\n",
        "RSE=$\\sqrt{\\frac{1}{n-2}RSS}$\n",
        "The RSE is considered a measure of the lack of fit of the model  to\n",
        "the data. If the predictions obtained using the model are very close to the true outcome values\n",
        "\n",
        "**$R^2$ statistics**\n",
        "The RSE provides an absolute measure of lack of fit of the model (3.5) to the data. But since it is measured in the units of Y, it is not always clear what constitutes a good RSE. The R2 statistic provides an alternative measure of fit. It takes the form of a proportion—the proportion of variance\n",
        "\n",
        "so it always takes on a value between 0 and 1, and is independent of the scale of Y.\n",
        "\n",
        "$R^2=\\frac{TSS-RSS}{TSS}$\n",
        "\n",
        "TSS measures the total variance in the response Y, and can be thought of as the amount of variability inherent in the response before the regression is performed. In contrast, RSS measures the amount of variability that is left unexplained after performing the regression. Hence, TSS−RSS measures the amount of variability in the response that is explained (or removed) by performing the regression, and R2 measures the proportion of variability in Y that can be explained using X. An R2 statistic that is close to 1 indicates that a large proportion of the variability in the response is explained by the regression. A number near 0 indicates that the regression does not explain much of the variability in the response"
      ],
      "metadata": {
        "id": "iWcmdOwtfv6e"
      }
    },
    {
      "cell_type": "code",
      "execution_count": null,
      "metadata": {
        "id": "WVBkTNlhrRpG"
      },
      "outputs": [],
      "source": [
        "library (MASS)"
      ]
    },
    {
      "cell_type": "code",
      "source": [
        "install.packages('ISLR')\n",
        "library (ISLR)"
      ],
      "metadata": {
        "id": "tPMZOrNjrW1I"
      },
      "execution_count": null,
      "outputs": []
    },
    {
      "cell_type": "code",
      "source": [
        "names(Boston)"
      ],
      "metadata": {
        "id": "UEs-5EdarjL4"
      },
      "execution_count": null,
      "outputs": []
    },
    {
      "cell_type": "code",
      "source": [
        "attach (Boston)\n",
        "lm.fit =lm(medv ~ lstat)"
      ],
      "metadata": {
        "id": "RQ2HhplgsqsQ"
      },
      "execution_count": null,
      "outputs": []
    },
    {
      "cell_type": "code",
      "source": [
        "lm.fit"
      ],
      "metadata": {
        "id": "6hCoavfot_Rj"
      },
      "execution_count": null,
      "outputs": []
    },
    {
      "cell_type": "code",
      "source": [
        "summary(lm.fit)"
      ],
      "metadata": {
        "id": "s-4VyrRKuF7r"
      },
      "execution_count": null,
      "outputs": []
    },
    {
      "cell_type": "code",
      "source": [
        "names(lm.fit )"
      ],
      "metadata": {
        "id": "Z7OT1x1GuPf3"
      },
      "execution_count": null,
      "outputs": []
    },
    {
      "cell_type": "code",
      "source": [
        "confint(lm.fit)"
      ],
      "metadata": {
        "id": "u_DJWqI2uZea"
      },
      "execution_count": null,
      "outputs": []
    },
    {
      "cell_type": "code",
      "source": [
        "predict(lm.fit,data.frame(lstat=c(5,10,15)),interval='confidence')"
      ],
      "metadata": {
        "id": "BKZgtxJsu2Na"
      },
      "execution_count": null,
      "outputs": []
    },
    {
      "cell_type": "code",
      "source": [
        "predict(lm.fit,data.frame(lstat=c(5,10,15)),interval='prediction')"
      ],
      "metadata": {
        "id": "Rxc4aC_RvQOJ"
      },
      "execution_count": null,
      "outputs": []
    },
    {
      "cell_type": "code",
      "source": [
        "plot(lstat,medv)\n",
        "abline(lm.fit,col='red',lwd=3)"
      ],
      "metadata": {
        "id": "LOO9PSaIvbxL"
      },
      "execution_count": null,
      "outputs": []
    },
    {
      "cell_type": "code",
      "source": [
        "plot(lm.fit)"
      ],
      "metadata": {
        "id": "EYny-VpPwD6B"
      },
      "execution_count": null,
      "outputs": []
    },
    {
      "cell_type": "code",
      "source": [
        "system(\"wget https://raw.githubusercontent.com/AmeerHamza0220/covid19/main/analysis/dailyStats.csv\")"
      ],
      "metadata": {
        "id": "BD2Uk7Hei5Cx"
      },
      "execution_count": null,
      "outputs": []
    },
    {
      "cell_type": "code",
      "source": [
        "print(getwd())\n",
        "data=read.csv(\"dailyStats.csv\")\n",
        "data"
      ],
      "metadata": {
        "id": "G-J5z89BkenH"
      },
      "execution_count": null,
      "outputs": []
    },
    {
      "cell_type": "code",
      "source": [
        "names(data)"
      ],
      "metadata": {
        "id": "glZ3nFu7k_Uu"
      },
      "execution_count": null,
      "outputs": []
    },
    {
      "cell_type": "code",
      "source": [
        "datetime"
      ],
      "metadata": {
        "id": "FiDqj-R5l-fv"
      },
      "execution_count": null,
      "outputs": []
    },
    {
      "cell_type": "code",
      "source": [
        "data['datetime']=as.numeric(as.POSIXct(datetime))"
      ],
      "metadata": {
        "id": "AwLBcENQly5o"
      },
      "execution_count": null,
      "outputs": []
    },
    {
      "cell_type": "code",
      "source": [
        "attach (data)\n",
        "fit =lm(new_cases~datetime )"
      ],
      "metadata": {
        "id": "jjXjQubwlFmu"
      },
      "execution_count": null,
      "outputs": []
    },
    {
      "cell_type": "code",
      "source": [
        "summary(fit)"
      ],
      "metadata": {
        "id": "6MlQ9-XOmalX"
      },
      "execution_count": null,
      "outputs": []
    },
    {
      "cell_type": "code",
      "source": [
        "plot(datetime,new_cases)\n",
        "abline(fit)"
      ],
      "metadata": {
        "id": "867F78VpmM6b"
      },
      "execution_count": null,
      "outputs": []
    }
  ]
}