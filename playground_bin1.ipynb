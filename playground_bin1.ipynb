{
 "cells": [
  {
   "cell_type": "code",
   "execution_count": null,
   "id": "7b9c899c-e551-4310-98df-1a91bbe79d36",
   "metadata": {},
   "outputs": [],
   "source": [
    "# !kaggle competitions download -c tabular-playground-series-mar-2021"
   ]
  },
  {
   "cell_type": "code",
   "execution_count": 1,
   "id": "7499a66b-526f-486e-bbb2-bfdfadb96e86",
   "metadata": {},
   "outputs": [],
   "source": [
    "import pandas as pd \n",
    "import numpy as np\n",
    "import matplotlib.pyplot as plt\n",
    "from sklearn.preprocessing import LabelEncoder"
   ]
  },
  {
   "cell_type": "code",
   "execution_count": 4,
   "id": "f56ae230-bc83-4d46-97b2-f8d53416cf00",
   "metadata": {},
   "outputs": [
    {
     "data": {
      "text/html": [
       "<div>\n",
       "<style scoped>\n",
       "    .dataframe tbody tr th:only-of-type {\n",
       "        vertical-align: middle;\n",
       "    }\n",
       "\n",
       "    .dataframe tbody tr th {\n",
       "        vertical-align: top;\n",
       "    }\n",
       "\n",
       "    .dataframe thead th {\n",
       "        text-align: right;\n",
       "    }\n",
       "</style>\n",
       "<table border=\"1\" class=\"dataframe\">\n",
       "  <thead>\n",
       "    <tr style=\"text-align: right;\">\n",
       "      <th></th>\n",
       "      <th>id</th>\n",
       "      <th>cat0</th>\n",
       "      <th>cat1</th>\n",
       "      <th>cat2</th>\n",
       "      <th>cat3</th>\n",
       "      <th>cat4</th>\n",
       "      <th>cat5</th>\n",
       "      <th>cat6</th>\n",
       "      <th>cat7</th>\n",
       "      <th>cat8</th>\n",
       "      <th>...</th>\n",
       "      <th>cont2</th>\n",
       "      <th>cont3</th>\n",
       "      <th>cont4</th>\n",
       "      <th>cont5</th>\n",
       "      <th>cont6</th>\n",
       "      <th>cont7</th>\n",
       "      <th>cont8</th>\n",
       "      <th>cont9</th>\n",
       "      <th>cont10</th>\n",
       "      <th>target</th>\n",
       "    </tr>\n",
       "  </thead>\n",
       "  <tbody>\n",
       "    <tr>\n",
       "      <th>0</th>\n",
       "      <td>0</td>\n",
       "      <td>A</td>\n",
       "      <td>I</td>\n",
       "      <td>A</td>\n",
       "      <td>B</td>\n",
       "      <td>B</td>\n",
       "      <td>BI</td>\n",
       "      <td>A</td>\n",
       "      <td>S</td>\n",
       "      <td>Q</td>\n",
       "      <td>...</td>\n",
       "      <td>0.759439</td>\n",
       "      <td>0.795549</td>\n",
       "      <td>0.681917</td>\n",
       "      <td>0.621672</td>\n",
       "      <td>0.592184</td>\n",
       "      <td>0.791921</td>\n",
       "      <td>0.815254</td>\n",
       "      <td>0.965006</td>\n",
       "      <td>0.665915</td>\n",
       "      <td>0</td>\n",
       "    </tr>\n",
       "    <tr>\n",
       "      <th>1</th>\n",
       "      <td>1</td>\n",
       "      <td>A</td>\n",
       "      <td>I</td>\n",
       "      <td>A</td>\n",
       "      <td>A</td>\n",
       "      <td>E</td>\n",
       "      <td>BI</td>\n",
       "      <td>K</td>\n",
       "      <td>W</td>\n",
       "      <td>AD</td>\n",
       "      <td>...</td>\n",
       "      <td>0.386385</td>\n",
       "      <td>0.541366</td>\n",
       "      <td>0.388982</td>\n",
       "      <td>0.357778</td>\n",
       "      <td>0.600044</td>\n",
       "      <td>0.408701</td>\n",
       "      <td>0.399353</td>\n",
       "      <td>0.927406</td>\n",
       "      <td>0.493729</td>\n",
       "      <td>0</td>\n",
       "    </tr>\n",
       "    <tr>\n",
       "      <th>2</th>\n",
       "      <td>2</td>\n",
       "      <td>A</td>\n",
       "      <td>K</td>\n",
       "      <td>A</td>\n",
       "      <td>A</td>\n",
       "      <td>E</td>\n",
       "      <td>BI</td>\n",
       "      <td>A</td>\n",
       "      <td>E</td>\n",
       "      <td>BM</td>\n",
       "      <td>...</td>\n",
       "      <td>0.343255</td>\n",
       "      <td>0.616352</td>\n",
       "      <td>0.793687</td>\n",
       "      <td>0.552877</td>\n",
       "      <td>0.352113</td>\n",
       "      <td>0.388835</td>\n",
       "      <td>0.412303</td>\n",
       "      <td>0.292696</td>\n",
       "      <td>0.549452</td>\n",
       "      <td>0</td>\n",
       "    </tr>\n",
       "    <tr>\n",
       "      <th>3</th>\n",
       "      <td>3</td>\n",
       "      <td>A</td>\n",
       "      <td>K</td>\n",
       "      <td>A</td>\n",
       "      <td>C</td>\n",
       "      <td>E</td>\n",
       "      <td>BI</td>\n",
       "      <td>A</td>\n",
       "      <td>Y</td>\n",
       "      <td>AD</td>\n",
       "      <td>...</td>\n",
       "      <td>0.831147</td>\n",
       "      <td>0.807807</td>\n",
       "      <td>0.800032</td>\n",
       "      <td>0.619147</td>\n",
       "      <td>0.221789</td>\n",
       "      <td>0.897617</td>\n",
       "      <td>0.633669</td>\n",
       "      <td>0.760318</td>\n",
       "      <td>0.934242</td>\n",
       "      <td>0</td>\n",
       "    </tr>\n",
       "    <tr>\n",
       "      <th>4</th>\n",
       "      <td>4</td>\n",
       "      <td>A</td>\n",
       "      <td>I</td>\n",
       "      <td>G</td>\n",
       "      <td>B</td>\n",
       "      <td>E</td>\n",
       "      <td>BI</td>\n",
       "      <td>C</td>\n",
       "      <td>G</td>\n",
       "      <td>Q</td>\n",
       "      <td>...</td>\n",
       "      <td>0.338818</td>\n",
       "      <td>0.277308</td>\n",
       "      <td>0.610578</td>\n",
       "      <td>0.128291</td>\n",
       "      <td>0.578764</td>\n",
       "      <td>0.279167</td>\n",
       "      <td>0.351103</td>\n",
       "      <td>0.357084</td>\n",
       "      <td>0.328960</td>\n",
       "      <td>1</td>\n",
       "    </tr>\n",
       "  </tbody>\n",
       "</table>\n",
       "<p>5 rows × 32 columns</p>\n",
       "</div>"
      ],
      "text/plain": [
       "   id cat0 cat1 cat2 cat3 cat4 cat5 cat6 cat7 cat8  ...     cont2     cont3  \\\n",
       "0   0    A    I    A    B    B   BI    A    S    Q  ...  0.759439  0.795549   \n",
       "1   1    A    I    A    A    E   BI    K    W   AD  ...  0.386385  0.541366   \n",
       "2   2    A    K    A    A    E   BI    A    E   BM  ...  0.343255  0.616352   \n",
       "3   3    A    K    A    C    E   BI    A    Y   AD  ...  0.831147  0.807807   \n",
       "4   4    A    I    G    B    E   BI    C    G    Q  ...  0.338818  0.277308   \n",
       "\n",
       "      cont4     cont5     cont6     cont7     cont8     cont9    cont10 target  \n",
       "0  0.681917  0.621672  0.592184  0.791921  0.815254  0.965006  0.665915      0  \n",
       "1  0.388982  0.357778  0.600044  0.408701  0.399353  0.927406  0.493729      0  \n",
       "2  0.793687  0.552877  0.352113  0.388835  0.412303  0.292696  0.549452      0  \n",
       "3  0.800032  0.619147  0.221789  0.897617  0.633669  0.760318  0.934242      0  \n",
       "4  0.610578  0.128291  0.578764  0.279167  0.351103  0.357084  0.328960      1  \n",
       "\n",
       "[5 rows x 32 columns]"
      ]
     },
     "execution_count": 4,
     "metadata": {},
     "output_type": "execute_result"
    }
   ],
   "source": [
    "data=pd.read_csv('data/train.csv')\n",
    "data.head()"
   ]
  },
  {
   "cell_type": "code",
   "execution_count": 3,
   "id": "d988964a-7f99-4a49-8a03-3c5b76ebb3f5",
   "metadata": {},
   "outputs": [
    {
     "data": {
      "text/plain": [
       "id          int64\n",
       "cat0       object\n",
       "cat1       object\n",
       "cat2       object\n",
       "cat3       object\n",
       "cat4       object\n",
       "cat5       object\n",
       "cat6       object\n",
       "cat7       object\n",
       "cat8       object\n",
       "cat9       object\n",
       "cat10      object\n",
       "cat11      object\n",
       "cat12      object\n",
       "cat13      object\n",
       "cat14      object\n",
       "cat15      object\n",
       "cat16      object\n",
       "cat17      object\n",
       "cat18      object\n",
       "cont0     float64\n",
       "cont1     float64\n",
       "cont2     float64\n",
       "cont3     float64\n",
       "cont4     float64\n",
       "cont5     float64\n",
       "cont6     float64\n",
       "cont7     float64\n",
       "cont8     float64\n",
       "cont9     float64\n",
       "cont10    float64\n",
       "target      int64\n",
       "dtype: object"
      ]
     },
     "execution_count": 3,
     "metadata": {},
     "output_type": "execute_result"
    }
   ],
   "source": [
    "data.dtypes"
   ]
  },
  {
   "cell_type": "code",
   "execution_count": 3,
   "id": "4f32771e-e877-4a27-a310-08d6f2e4b045",
   "metadata": {},
   "outputs": [
    {
     "data": {
      "text/html": [
       "<div>\n",
       "<style scoped>\n",
       "    .dataframe tbody tr th:only-of-type {\n",
       "        vertical-align: middle;\n",
       "    }\n",
       "\n",
       "    .dataframe tbody tr th {\n",
       "        vertical-align: top;\n",
       "    }\n",
       "\n",
       "    .dataframe thead th {\n",
       "        text-align: right;\n",
       "    }\n",
       "</style>\n",
       "<table border=\"1\" class=\"dataframe\">\n",
       "  <thead>\n",
       "    <tr style=\"text-align: right;\">\n",
       "      <th></th>\n",
       "      <th>cat0</th>\n",
       "      <th>cat1</th>\n",
       "      <th>cat2</th>\n",
       "      <th>cat3</th>\n",
       "      <th>cat4</th>\n",
       "      <th>cat5</th>\n",
       "      <th>cat6</th>\n",
       "      <th>cat7</th>\n",
       "      <th>cat8</th>\n",
       "      <th>cat9</th>\n",
       "      <th>...</th>\n",
       "      <th>cont2</th>\n",
       "      <th>cont3</th>\n",
       "      <th>cont4</th>\n",
       "      <th>cont5</th>\n",
       "      <th>cont6</th>\n",
       "      <th>cont7</th>\n",
       "      <th>cont8</th>\n",
       "      <th>cont9</th>\n",
       "      <th>cont10</th>\n",
       "      <th>target</th>\n",
       "    </tr>\n",
       "  </thead>\n",
       "  <tbody>\n",
       "    <tr>\n",
       "      <th>0</th>\n",
       "      <td>0</td>\n",
       "      <td>8</td>\n",
       "      <td>0</td>\n",
       "      <td>1</td>\n",
       "      <td>1</td>\n",
       "      <td>33</td>\n",
       "      <td>0</td>\n",
       "      <td>44</td>\n",
       "      <td>54</td>\n",
       "      <td>0</td>\n",
       "      <td>...</td>\n",
       "      <td>0.759439</td>\n",
       "      <td>0.795549</td>\n",
       "      <td>0.681917</td>\n",
       "      <td>0.621672</td>\n",
       "      <td>0.592184</td>\n",
       "      <td>0.791921</td>\n",
       "      <td>0.815254</td>\n",
       "      <td>0.965006</td>\n",
       "      <td>0.665915</td>\n",
       "      <td>0</td>\n",
       "    </tr>\n",
       "    <tr>\n",
       "      <th>1</th>\n",
       "      <td>0</td>\n",
       "      <td>8</td>\n",
       "      <td>0</td>\n",
       "      <td>0</td>\n",
       "      <td>4</td>\n",
       "      <td>33</td>\n",
       "      <td>8</td>\n",
       "      <td>48</td>\n",
       "      <td>3</td>\n",
       "      <td>5</td>\n",
       "      <td>...</td>\n",
       "      <td>0.386385</td>\n",
       "      <td>0.541366</td>\n",
       "      <td>0.388982</td>\n",
       "      <td>0.357778</td>\n",
       "      <td>0.600044</td>\n",
       "      <td>0.408701</td>\n",
       "      <td>0.399353</td>\n",
       "      <td>0.927406</td>\n",
       "      <td>0.493729</td>\n",
       "      <td>0</td>\n",
       "    </tr>\n",
       "    <tr>\n",
       "      <th>2</th>\n",
       "      <td>0</td>\n",
       "      <td>10</td>\n",
       "      <td>0</td>\n",
       "      <td>0</td>\n",
       "      <td>4</td>\n",
       "      <td>33</td>\n",
       "      <td>0</td>\n",
       "      <td>30</td>\n",
       "      <td>38</td>\n",
       "      <td>9</td>\n",
       "      <td>...</td>\n",
       "      <td>0.343255</td>\n",
       "      <td>0.616352</td>\n",
       "      <td>0.793687</td>\n",
       "      <td>0.552877</td>\n",
       "      <td>0.352113</td>\n",
       "      <td>0.388835</td>\n",
       "      <td>0.412303</td>\n",
       "      <td>0.292696</td>\n",
       "      <td>0.549452</td>\n",
       "      <td>0</td>\n",
       "    </tr>\n",
       "    <tr>\n",
       "      <th>3</th>\n",
       "      <td>0</td>\n",
       "      <td>10</td>\n",
       "      <td>0</td>\n",
       "      <td>2</td>\n",
       "      <td>4</td>\n",
       "      <td>33</td>\n",
       "      <td>0</td>\n",
       "      <td>50</td>\n",
       "      <td>3</td>\n",
       "      <td>5</td>\n",
       "      <td>...</td>\n",
       "      <td>0.831147</td>\n",
       "      <td>0.807807</td>\n",
       "      <td>0.800032</td>\n",
       "      <td>0.619147</td>\n",
       "      <td>0.221789</td>\n",
       "      <td>0.897617</td>\n",
       "      <td>0.633669</td>\n",
       "      <td>0.760318</td>\n",
       "      <td>0.934242</td>\n",
       "      <td>0</td>\n",
       "    </tr>\n",
       "    <tr>\n",
       "      <th>4</th>\n",
       "      <td>0</td>\n",
       "      <td>8</td>\n",
       "      <td>6</td>\n",
       "      <td>1</td>\n",
       "      <td>4</td>\n",
       "      <td>33</td>\n",
       "      <td>2</td>\n",
       "      <td>32</td>\n",
       "      <td>54</td>\n",
       "      <td>0</td>\n",
       "      <td>...</td>\n",
       "      <td>0.338818</td>\n",
       "      <td>0.277308</td>\n",
       "      <td>0.610578</td>\n",
       "      <td>0.128291</td>\n",
       "      <td>0.578764</td>\n",
       "      <td>0.279167</td>\n",
       "      <td>0.351103</td>\n",
       "      <td>0.357084</td>\n",
       "      <td>0.328960</td>\n",
       "      <td>1</td>\n",
       "    </tr>\n",
       "  </tbody>\n",
       "</table>\n",
       "<p>5 rows × 31 columns</p>\n",
       "</div>"
      ],
      "text/plain": [
       "   cat0  cat1  cat2  cat3  cat4  cat5  cat6  cat7  cat8  cat9  ...     cont2  \\\n",
       "0     0     8     0     1     1    33     0    44    54     0  ...  0.759439   \n",
       "1     0     8     0     0     4    33     8    48     3     5  ...  0.386385   \n",
       "2     0    10     0     0     4    33     0    30    38     9  ...  0.343255   \n",
       "3     0    10     0     2     4    33     0    50     3     5  ...  0.831147   \n",
       "4     0     8     6     1     4    33     2    32    54     0  ...  0.338818   \n",
       "\n",
       "      cont3     cont4     cont5     cont6     cont7     cont8     cont9  \\\n",
       "0  0.795549  0.681917  0.621672  0.592184  0.791921  0.815254  0.965006   \n",
       "1  0.541366  0.388982  0.357778  0.600044  0.408701  0.399353  0.927406   \n",
       "2  0.616352  0.793687  0.552877  0.352113  0.388835  0.412303  0.292696   \n",
       "3  0.807807  0.800032  0.619147  0.221789  0.897617  0.633669  0.760318   \n",
       "4  0.277308  0.610578  0.128291  0.578764  0.279167  0.351103  0.357084   \n",
       "\n",
       "     cont10  target  \n",
       "0  0.665915       0  \n",
       "1  0.493729       0  \n",
       "2  0.549452       0  \n",
       "3  0.934242       0  \n",
       "4  0.328960       1  \n",
       "\n",
       "[5 rows x 31 columns]"
      ]
     },
     "execution_count": 3,
     "metadata": {},
     "output_type": "execute_result"
    }
   ],
   "source": [
    "le=LabelEncoder()\n",
    "from sklearn.preprocessing import OrdinalEncoder \n",
    "for col in data.columns:\n",
    "    if data[col].dtype=='object':\n",
    "        le=LabelEncoder()\n",
    "        le.fit(data[col])\n",
    "        data[col]=le.transform(data[col])\n",
    "        \n",
    "test=pd.read_csv('data/test.csv')\n",
    "test_submisstion=test.drop('id',axis=1)\n",
    "data=data.drop('id',axis=1)\n",
    "\n",
    "le=LabelEncoder()\n",
    "for col in test_submisstion.columns:\n",
    "    if test_submisstion[col].dtype=='object':\n",
    "        test_submisstion[col]=le.fit_transform(test_submisstion[col])\n",
    "        \n",
    "# standardize the data\n",
    "from sklearn.preprocessing import StandardScaler\n",
    "scaler=StandardScaler()\n",
    "from sklearn.preprocessing import StandardScaler\n",
    "scaler=StandardScaler()\n",
    "features=data.drop('target',axis=1)\n",
    "labels=data['target']\n",
    "features_scaled=scaler.fit_transform(features)\n",
    "features_scaled=pd.DataFrame(features_scaled,columns=features.columns)\n",
    "test_scaled=scaler.transform(test_submisstion)\n",
    "\n",
    "data.head()"
   ]
  },
  {
   "cell_type": "code",
   "execution_count": 4,
   "id": "2fc919b2-c1b4-45cc-ba29-ab3cabcedce4",
   "metadata": {},
   "outputs": [
    {
     "data": {
      "text/plain": [
       "array([0, 1])"
      ]
     },
     "execution_count": 4,
     "metadata": {},
     "output_type": "execute_result"
    }
   ],
   "source": [
    "data['target'].unique()"
   ]
  },
  {
   "cell_type": "code",
   "execution_count": 5,
   "id": "98db44b1-1392-4ccd-a51e-515c1bffe1c7",
   "metadata": {
    "tags": []
   },
   "outputs": [
    {
     "data": {
      "text/plain": [
       "0.8674203442248626"
      ]
     },
     "execution_count": 5,
     "metadata": {},
     "output_type": "execute_result"
    }
   ],
   "source": [
    "# logistic regression\n",
    "from sklearn.linear_model import LogisticRegression\n",
    "from sklearn.model_selection import train_test_split\n",
    "\n",
    "X_train,X_test,y_train,y_test=train_test_split(features_scaled,labels,test_size=0.2,random_state=12)\n",
    "logreg=LogisticRegression()\n",
    "logreg.fit(X_train,y_train)\n",
    "y_pred=logreg.predict_proba(X_test)[:,-1]\n",
    "# roc_auc score\n",
    "from sklearn.metrics import roc_auc_score\n",
    "roc_auc_score(y_test,y_pred)\n"
   ]
  },
  {
   "cell_type": "code",
   "execution_count": 22,
   "id": "bca8b0f0-fe1b-42fe-9f9c-bf5aadd6985e",
   "metadata": {},
   "outputs": [
    {
     "name": "stderr",
     "output_type": "stream",
     "text": [
      "/home/studio-lab-user/.conda/envs/stat/lib/python3.9/site-packages/xgboost/sklearn.py:793: UserWarning: `early_stopping_rounds` in `fit` method is deprecated for better compatibility with scikit-learn, use `early_stopping_rounds` in constructor or`set_params` instead.\n",
      "  warnings.warn(\n"
     ]
    },
    {
     "data": {
      "text/plain": [
       "0.8942635282603721"
      ]
     },
     "execution_count": 22,
     "metadata": {},
     "output_type": "execute_result"
    }
   ],
   "source": [
    "from xgboost import XGBClassifier\n",
    "params={'learning_rate':0.08,'n_estimators':1000,'max_depth':10,'min_child_weight': 103,'gamma':0.0001,'colsample_bytree':0.8,'objective':'binary:logistic','eval_metric':'auc','seed':0,'tree_method':'gpu_hist'}\n",
    "xgb=XGBClassifier(**params)\n",
    "xgb.fit(X_train,y_train,early_stopping_rounds=50,eval_set=[(X_test,y_test)],verbose=False)\n",
    "y_pred=xgb.predict_proba(X_test)[:,-1]\n",
    "from sklearn.metrics import roc_auc_score\n",
    "roc_auc_score(y_test,y_pred)"
   ]
  },
  {
   "cell_type": "code",
   "execution_count": 25,
   "id": "3719bf5c-4b8f-41c8-a947-74e1b4bbc0da",
   "metadata": {},
   "outputs": [],
   "source": [
    "pred=xgb.predict_proba(test_scaled)[:,-1]\n",
    "sample_submission=pd.read_csv('data/sample_submission.csv')\n",
    "sample_submission['target']=pred\n",
    "sample_submission.to_csv('submission.csv',index=False)"
   ]
  },
  {
   "cell_type": "code",
   "execution_count": 26,
   "id": "2b2b6451-3b04-4ba5-a39c-88b145a04cdc",
   "metadata": {},
   "outputs": [
    {
     "name": "stdout",
     "output_type": "stream",
     "text": [
      "Epoch 1/100\n",
      "234/234 - 2s - loss: 0.3884 - auc: 0.8620 - val_loss: 0.3736 - val_auc: 0.8736 - lr: 0.0010 - 2s/epoch - 11ms/step\n",
      "Epoch 2/100\n",
      "234/234 - 1s - loss: 0.3718 - auc: 0.8745 - val_loss: 0.3708 - val_auc: 0.8756 - lr: 0.0010 - 810ms/epoch - 3ms/step\n",
      "Epoch 3/100\n",
      "234/234 - 1s - loss: 0.3694 - auc: 0.8763 - val_loss: 0.3693 - val_auc: 0.8769 - lr: 0.0010 - 809ms/epoch - 3ms/step\n",
      "Epoch 4/100\n",
      "234/234 - 1s - loss: 0.3679 - auc: 0.8775 - val_loss: 0.3684 - val_auc: 0.8776 - lr: 0.0010 - 806ms/epoch - 3ms/step\n",
      "Epoch 5/100\n",
      "234/234 - 1s - loss: 0.3663 - auc: 0.8786 - val_loss: 0.3675 - val_auc: 0.8783 - lr: 0.0010 - 817ms/epoch - 3ms/step\n",
      "Epoch 6/100\n",
      "234/234 - 1s - loss: 0.3654 - auc: 0.8793 - val_loss: 0.3662 - val_auc: 0.8790 - lr: 0.0010 - 809ms/epoch - 3ms/step\n",
      "Epoch 7/100\n",
      "234/234 - 1s - loss: 0.3645 - auc: 0.8798 - val_loss: 0.3666 - val_auc: 0.8794 - lr: 0.0010 - 808ms/epoch - 3ms/step\n",
      "Epoch 8/100\n",
      "234/234 - 1s - loss: 0.3639 - auc: 0.8803 - val_loss: 0.3649 - val_auc: 0.8800 - lr: 0.0010 - 807ms/epoch - 3ms/step\n",
      "Epoch 9/100\n",
      "234/234 - 1s - loss: 0.3631 - auc: 0.8809 - val_loss: 0.3650 - val_auc: 0.8801 - lr: 0.0010 - 806ms/epoch - 3ms/step\n",
      "Epoch 10/100\n",
      "234/234 - 1s - loss: 0.3625 - auc: 0.8812 - val_loss: 0.3648 - val_auc: 0.8802 - lr: 0.0010 - 805ms/epoch - 3ms/step\n",
      "Epoch 11/100\n",
      "234/234 - 1s - loss: 0.3619 - auc: 0.8817 - val_loss: 0.3647 - val_auc: 0.8803 - lr: 0.0010 - 808ms/epoch - 3ms/step\n",
      "Epoch 12/100\n",
      "234/234 - 1s - loss: 0.3612 - auc: 0.8822 - val_loss: 0.3641 - val_auc: 0.8805 - lr: 0.0010 - 809ms/epoch - 3ms/step\n",
      "Epoch 13/100\n",
      "234/234 - 1s - loss: 0.3609 - auc: 0.8825 - val_loss: 0.3640 - val_auc: 0.8808 - lr: 0.0010 - 808ms/epoch - 3ms/step\n",
      "Epoch 14/100\n",
      "234/234 - 1s - loss: 0.3602 - auc: 0.8829 - val_loss: 0.3634 - val_auc: 0.8813 - lr: 0.0010 - 806ms/epoch - 3ms/step\n",
      "Epoch 15/100\n",
      "234/234 - 1s - loss: 0.3597 - auc: 0.8833 - val_loss: 0.3637 - val_auc: 0.8812 - lr: 0.0010 - 805ms/epoch - 3ms/step\n",
      "Epoch 16/100\n",
      "234/234 - 1s - loss: 0.3590 - auc: 0.8838 - val_loss: 0.3628 - val_auc: 0.8816 - lr: 0.0010 - 806ms/epoch - 3ms/step\n",
      "Epoch 17/100\n",
      "234/234 - 1s - loss: 0.3585 - auc: 0.8841 - val_loss: 0.3640 - val_auc: 0.8811 - lr: 0.0010 - 814ms/epoch - 3ms/step\n",
      "Epoch 18/100\n",
      "234/234 - 1s - loss: 0.3580 - auc: 0.8845 - val_loss: 0.3632 - val_auc: 0.8815 - lr: 0.0010 - 811ms/epoch - 3ms/step\n",
      "Epoch 19/100\n",
      "234/234 - 1s - loss: 0.3575 - auc: 0.8848 - val_loss: 0.3633 - val_auc: 0.8812 - lr: 0.0010 - 807ms/epoch - 3ms/step\n",
      "Epoch 20/100\n",
      "234/234 - 1s - loss: 0.3555 - auc: 0.8863 - val_loss: 0.3619 - val_auc: 0.8821 - lr: 1.0000e-04 - 863ms/epoch - 4ms/step\n",
      "Epoch 21/100\n",
      "234/234 - 1s - loss: 0.3553 - auc: 0.8864 - val_loss: 0.3621 - val_auc: 0.8821 - lr: 1.0000e-04 - 805ms/epoch - 3ms/step\n",
      "Epoch 22/100\n",
      "234/234 - 1s - loss: 0.3552 - auc: 0.8865 - val_loss: 0.3620 - val_auc: 0.8821 - lr: 1.0000e-04 - 801ms/epoch - 3ms/step\n",
      "Epoch 23/100\n",
      "234/234 - 1s - loss: 0.3551 - auc: 0.8866 - val_loss: 0.3620 - val_auc: 0.8822 - lr: 1.0000e-04 - 810ms/epoch - 3ms/step\n",
      "Epoch 24/100\n",
      "234/234 - 1s - loss: 0.3548 - auc: 0.8867 - val_loss: 0.3619 - val_auc: 0.8822 - lr: 1.0000e-05 - 812ms/epoch - 3ms/step\n",
      "Epoch 25/100\n",
      "234/234 - 1s - loss: 0.3548 - auc: 0.8867 - val_loss: 0.3619 - val_auc: 0.8822 - lr: 1.0000e-05 - 804ms/epoch - 3ms/step\n",
      "Epoch 26/100\n",
      "234/234 - 1s - loss: 0.3548 - auc: 0.8868 - val_loss: 0.3619 - val_auc: 0.8822 - lr: 1.0000e-05 - 804ms/epoch - 3ms/step\n",
      "Epoch 27/100\n",
      "234/234 - 1s - loss: 0.3547 - auc: 0.8868 - val_loss: 0.3619 - val_auc: 0.8822 - lr: 1.0000e-06 - 810ms/epoch - 3ms/step\n",
      "Epoch 28/100\n",
      "234/234 - 1s - loss: 0.3547 - auc: 0.8868 - val_loss: 0.3619 - val_auc: 0.8822 - lr: 1.0000e-06 - 805ms/epoch - 3ms/step\n",
      "Epoch 29/100\n",
      "234/234 - 1s - loss: 0.3547 - auc: 0.8868 - val_loss: 0.3619 - val_auc: 0.8822 - lr: 1.0000e-06 - 817ms/epoch - 3ms/step\n",
      "Epoch 30/100\n",
      "234/234 - 1s - loss: 0.3547 - auc: 0.8868 - val_loss: 0.3619 - val_auc: 0.8822 - lr: 1.0000e-07 - 812ms/epoch - 3ms/step\n"
     ]
    },
    {
     "data": {
      "text/plain": [
       "<keras.callbacks.History at 0x7f283454beb0>"
      ]
     },
     "execution_count": 26,
     "metadata": {},
     "output_type": "execute_result"
    }
   ],
   "source": [
    "import tensorflow as tf \n",
    "def create_model():\n",
    "    model=tf.keras.models.Sequential()\n",
    "    model.add(tf.keras.layers.Dense(100,activation='swish',input_shape=(X_train.shape[1],)))\n",
    "    model.add(tf.keras.layers.Dense(100,activation='swish'))\n",
    "    model.add(tf.keras.layers.Dense(1,activation='sigmoid'))\n",
    "    # roc auc score\n",
    "    metrics=[tf.keras.metrics.AUC(name='auc')]\n",
    "    model.compile(optimizer='adam',loss='binary_crossentropy',\n",
    "                    metrics=metrics)\n",
    "    \n",
    "    return model\n",
    "\n",
    "early_stop=tf.keras.callbacks.EarlyStopping(monitor='val_loss',patience=5)\n",
    "reduce_lr=tf.keras.callbacks.ReduceLROnPlateau(monitor='val_loss',factor=0.1,patience=3)\n",
    "callbacks=[early_stop,reduce_lr]\n",
    "\n",
    "model=create_model()\n",
    "model.fit(X_train,y_train,epochs=100,validation_data=(X_test,y_test),callbacks=callbacks,batch_size=1028,verbose=2)"
   ]
  },
  {
   "cell_type": "markdown",
   "id": "17d48b7c-67be-4e20-a719-6dd016c1bbd1",
   "metadata": {},
   "source": [
    "Unable to get validation accuracy greater then 0.84 by both xgboost and ANN. Test accuracy stand close to 0.77. The reason was i was calculating accuracy score but for this competition we need roc_auc so predict probability. Now after fixing everything XGBoost get scores of 0.88 and it is almost equalent to val score\n"
   ]
  },
  {
   "cell_type": "code",
   "execution_count": 11,
   "id": "e6ccfe47-cdd7-4890-9f76-2a62168b2b34",
   "metadata": {},
   "outputs": [
    {
     "data": {
      "text/plain": [
       "0.8833654599910128"
      ]
     },
     "execution_count": 11,
     "metadata": {},
     "output_type": "execute_result"
    }
   ],
   "source": [
    "# lightbgm\n",
    "from lightgbm import LGBMClassifier\n",
    "params={'metric': 'auc', 'reg_alpha': 6.010538011450937, 'reg_lambda': 0.031702113663443346, 'colsample_bytree': 0.27,\n",
    "   'subsample': 0.6, 'learning_rate': 0.05, 'max_depth': 100, 'num_leaves': 100, 'min_child_samples': 216,\n",
    "   'cat_smooth': 87, 'random_state': 48,'n_estimators': 20000}\n",
    "lgbm=LGBMClassifier(**params)\n",
    "lgbm.fit(X_train,y_train)\n",
    "y_pred=lgbm.predict_proba(X_test)[:,-1]\n",
    "roc_auc_score(y_test,y_pred)"
   ]
  },
  {
   "cell_type": "markdown",
   "id": "19bd81f0-9720-483e-b1b9-5869c4e019ea",
   "metadata": {},
   "source": [
    "# hyperparameter using optuna"
   ]
  },
  {
   "cell_type": "code",
   "execution_count": 6,
   "id": "3738f8ba-6951-4f73-8c7e-ee06790758ed",
   "metadata": {},
   "outputs": [],
   "source": [
    "import warnings\n",
    "warnings.filterwarnings('ignore')"
   ]
  },
  {
   "cell_type": "code",
   "execution_count": null,
   "id": "8501de59-00a9-468f-addd-411dba46493c",
   "metadata": {},
   "outputs": [
    {
     "name": "stderr",
     "output_type": "stream",
     "text": [
      "\u001b[32m[I 2022-07-06 02:44:47,027]\u001b[0m A new study created in memory with name: no-name-08e28f68-464a-4603-93d1-50b591216a0d\u001b[0m\n",
      "\u001b[32m[I 2022-07-06 02:44:53,050]\u001b[0m Trial 0 finished with value: 0.8848663740737355 and parameters: {'learning_rate': 0.00857350982709802, 'n_estimators': 234, 'max_depth': 10, 'min_child_weight': 60, 'gamma': 0.05645112040911722, 'colsample_bytree': 0.570769229200571}. Best is trial 0 with value: 0.8848663740737355.\u001b[0m\n",
      "\u001b[32m[I 2022-07-06 02:45:00,578]\u001b[0m Trial 1 finished with value: 0.872010967853678 and parameters: {'learning_rate': 0.001183486495162326, 'n_estimators': 1482, 'max_depth': 5, 'min_child_weight': 60, 'gamma': 0.0624524695125179, 'colsample_bytree': 0.7954948919716707}. Best is trial 0 with value: 0.8848663740737355.\u001b[0m\n",
      "\u001b[32m[I 2022-07-06 02:45:49,527]\u001b[0m Trial 2 finished with value: 0.8888437526572079 and parameters: {'learning_rate': 0.0020891428940476597, 'n_estimators': 2936, 'max_depth': 12, 'min_child_weight': 143, 'gamma': 0.08140632032175193, 'colsample_bytree': 0.519478984279797}. Best is trial 2 with value: 0.8888437526572079.\u001b[0m\n",
      "\u001b[32m[I 2022-07-06 02:46:41,599]\u001b[0m Trial 3 finished with value: 0.8882711613882022 and parameters: {'learning_rate': 0.0024414787081155397, 'n_estimators': 2607, 'max_depth': 12, 'min_child_weight': 133, 'gamma': 0.07706958749967224, 'colsample_bytree': 0.8256741297256003}. Best is trial 2 with value: 0.8888437526572079.\u001b[0m\n",
      "\u001b[32m[I 2022-07-06 02:48:19,846]\u001b[0m Trial 4 finished with value: 0.887881195109672 and parameters: {'learning_rate': 0.0013331722615545685, 'n_estimators': 2957, 'max_depth': 13, 'min_child_weight': 69, 'gamma': 0.025982392286809743, 'colsample_bytree': 0.6837734003366116}. Best is trial 2 with value: 0.8888437526572079.\u001b[0m\n",
      "\u001b[32m[I 2022-07-06 02:48:33,675]\u001b[0m Trial 5 finished with value: 0.8774249090828533 and parameters: {'learning_rate': 0.0017733767569886258, 'n_estimators': 1356, 'max_depth': 7, 'min_child_weight': 126, 'gamma': 0.031885589962322526, 'colsample_bytree': 0.9054693534817204}. Best is trial 2 with value: 0.8888437526572079.\u001b[0m\n",
      "\u001b[32m[I 2022-07-06 02:49:05,880]\u001b[0m Trial 6 finished with value: 0.892377457618259 and parameters: {'learning_rate': 0.007489402237529854, 'n_estimators': 2952, 'max_depth': 10, 'min_child_weight': 117, 'gamma': 0.06868150319311465, 'colsample_bytree': 0.6983006636839901}. Best is trial 6 with value: 0.892377457618259.\u001b[0m\n",
      "\u001b[32m[I 2022-07-06 02:49:08,134]\u001b[0m Trial 7 finished with value: 0.8824773376300875 and parameters: {'learning_rate': 0.01737212010112636, 'n_estimators': 232, 'max_depth': 7, 'min_child_weight': 147, 'gamma': 0.06332856300794172, 'colsample_bytree': 0.6602486782040278}. Best is trial 6 with value: 0.892377457618259.\u001b[0m\n",
      "\u001b[32m[I 2022-07-06 02:49:11,019]\u001b[0m Trial 8 finished with value: 0.8822811152325734 and parameters: {'learning_rate': 0.014983345523212774, 'n_estimators': 108, 'max_depth': 9, 'min_child_weight': 34, 'gamma': 0.02028324571414818, 'colsample_bytree': 0.7211680415806412}. Best is trial 6 with value: 0.892377457618259.\u001b[0m\n",
      "\u001b[32m[I 2022-07-06 02:49:38,158]\u001b[0m Trial 9 finished with value: 0.8920069247266047 and parameters: {'learning_rate': 0.012810336534184806, 'n_estimators': 2351, 'max_depth': 10, 'min_child_weight': 100, 'gamma': 0.0883154397898005, 'colsample_bytree': 0.9498807406918155}. Best is trial 6 with value: 0.892377457618259.\u001b[0m\n"
     ]
    }
   ],
   "source": [
    "%%time\n",
    "# xgboost\n",
    "import optuna\n",
    "from xgboost import XGBClassifier\n",
    "\n",
    "# roc auc score\n",
    "from sklearn.metrics import roc_auc_score\n",
    "def objective(trial):\n",
    "    params={'learning_rate':trial.suggest_loguniform('learning_rate',1e-3,1e-1),'n_estimators':trial.suggest_int('n_estimators',100,3000),'max_depth':trial.suggest_int('max_depth',3,13),'min_child_weight': trial.suggest_int('min_child_weight',30,150),'gamma':trial.suggest_uniform('gamma',0,0.1),'colsample_bytree':trial.suggest_uniform('colsample_bytree',0.5,1),'eval_metric':'auc','seed':0,'tree_method':'gpu_hist','booster': 'gbtree',}\n",
    "    xgb=XGBClassifier(**params)\n",
    "    xgb.fit(X_train,y_train,early_stopping_rounds=100,eval_set=[(X_test,y_test)],verbose = False)\n",
    "    y_pred=xgb.predict_proba(X_test)[:,-1]\n",
    "    return roc_auc_score(y_test,y_pred)\n",
    "\n",
    "trial=optuna.create_study(direction='maximize')\n",
    "trial.optimize(objective,n_trials=15)\n"
   ]
  },
  {
   "cell_type": "code",
   "execution_count": null,
   "id": "f45e717d-7ea0-4d23-a820-8ed2836cf874",
   "metadata": {},
   "outputs": [],
   "source": []
  },
  {
   "cell_type": "code",
   "execution_count": 10,
   "id": "cc110166-8b50-4e44-bc0e-d56dcb32c096",
   "metadata": {},
   "outputs": [
    {
     "name": "stderr",
     "output_type": "stream",
     "text": [
      "\u001b[32m[I 2022-07-05 03:34:23,196]\u001b[0m A new study created in memory with name: no-name-c4df4482-0f9b-4cfb-bf75-fd92da75953a\u001b[0m\n"
     ]
    },
    {
     "name": "stdout",
     "output_type": "stream",
     "text": [
      "1875/1875 [==============================] - 2s 1ms/step\n"
     ]
    },
    {
     "name": "stderr",
     "output_type": "stream",
     "text": [
      "\u001b[32m[I 2022-07-05 03:34:40,729]\u001b[0m Trial 0 finished with value: 0.8762173342984739 and parameters: {'units': 180, 'activation': 'relu', 'optimizer': 'rmsprop'}. Best is trial 0 with value: 0.8762173342984739.\u001b[0m\n"
     ]
    },
    {
     "name": "stdout",
     "output_type": "stream",
     "text": [
      "1875/1875 [==============================] - 2s 1ms/step\n"
     ]
    },
    {
     "name": "stderr",
     "output_type": "stream",
     "text": [
      "\u001b[32m[I 2022-07-05 03:34:52,871]\u001b[0m Trial 1 finished with value: 0.8772186224968367 and parameters: {'units': 162, 'activation': 'relu', 'optimizer': 'adam'}. Best is trial 1 with value: 0.8772186224968367.\u001b[0m\n"
     ]
    },
    {
     "name": "stdout",
     "output_type": "stream",
     "text": [
      "1875/1875 [==============================] - 2s 1ms/step\n"
     ]
    },
    {
     "name": "stderr",
     "output_type": "stream",
     "text": [
      "\u001b[32m[I 2022-07-05 03:35:16,459]\u001b[0m Trial 2 finished with value: 0.8773636466947167 and parameters: {'units': 115, 'activation': 'swish', 'optimizer': 'rmsprop'}. Best is trial 2 with value: 0.8773636466947167.\u001b[0m\n"
     ]
    },
    {
     "name": "stdout",
     "output_type": "stream",
     "text": [
      "1875/1875 [==============================] - 2s 1ms/step\n"
     ]
    },
    {
     "name": "stderr",
     "output_type": "stream",
     "text": [
      "\u001b[32m[I 2022-07-05 03:35:31,925]\u001b[0m Trial 3 finished with value: 0.876571625938369 and parameters: {'units': 158, 'activation': 'swish', 'optimizer': 'rmsprop'}. Best is trial 2 with value: 0.8773636466947167.\u001b[0m\n"
     ]
    },
    {
     "name": "stdout",
     "output_type": "stream",
     "text": [
      "1875/1875 [==============================] - 2s 1ms/step\n"
     ]
    },
    {
     "name": "stderr",
     "output_type": "stream",
     "text": [
      "\u001b[32m[I 2022-07-05 03:35:45,059]\u001b[0m Trial 4 finished with value: 0.8756494662054463 and parameters: {'units': 157, 'activation': 'relu', 'optimizer': 'rmsprop'}. Best is trial 2 with value: 0.8773636466947167.\u001b[0m\n"
     ]
    },
    {
     "name": "stdout",
     "output_type": "stream",
     "text": [
      "1875/1875 [==============================] - 2s 1ms/step\n"
     ]
    },
    {
     "name": "stderr",
     "output_type": "stream",
     "text": [
      "\u001b[32m[I 2022-07-05 03:36:29,041]\u001b[0m Trial 5 finished with value: 0.877067401645959 and parameters: {'units': 82, 'activation': 'swish', 'optimizer': 'adam'}. Best is trial 2 with value: 0.8773636466947167.\u001b[0m\n"
     ]
    },
    {
     "name": "stdout",
     "output_type": "stream",
     "text": [
      "1875/1875 [==============================] - 2s 997us/step\n"
     ]
    },
    {
     "name": "stderr",
     "output_type": "stream",
     "text": [
      "\u001b[32m[I 2022-07-05 03:36:52,556]\u001b[0m Trial 6 finished with value: 0.8773918323447474 and parameters: {'units': 114, 'activation': 'swish', 'optimizer': 'rmsprop'}. Best is trial 6 with value: 0.8773918323447474.\u001b[0m\n"
     ]
    },
    {
     "name": "stdout",
     "output_type": "stream",
     "text": [
      "1875/1875 [==============================] - 2s 997us/step\n"
     ]
    },
    {
     "name": "stderr",
     "output_type": "stream",
     "text": [
      "\u001b[32m[I 2022-07-05 03:37:09,956]\u001b[0m Trial 7 finished with value: 0.8754654036637506 and parameters: {'units': 133, 'activation': 'tanh', 'optimizer': 'rmsprop'}. Best is trial 6 with value: 0.8773918323447474.\u001b[0m\n"
     ]
    },
    {
     "name": "stdout",
     "output_type": "stream",
     "text": [
      "1875/1875 [==============================] - 2s 999us/step\n"
     ]
    },
    {
     "name": "stderr",
     "output_type": "stream",
     "text": [
      "\u001b[32m[I 2022-07-05 03:37:33,264]\u001b[0m Trial 8 finished with value: 0.8766566232669747 and parameters: {'units': 71, 'activation': 'tanh', 'optimizer': 'adam'}. Best is trial 6 with value: 0.8773918323447474.\u001b[0m\n"
     ]
    },
    {
     "name": "stdout",
     "output_type": "stream",
     "text": [
      "1875/1875 [==============================] - 2s 989us/step\n"
     ]
    },
    {
     "name": "stderr",
     "output_type": "stream",
     "text": [
      "\u001b[32m[I 2022-07-05 03:37:47,710]\u001b[0m Trial 9 finished with value: 0.8762709991946617 and parameters: {'units': 168, 'activation': 'relu', 'optimizer': 'adam'}. Best is trial 6 with value: 0.8773918323447474.\u001b[0m\n"
     ]
    }
   ],
   "source": [
    "# keras with optuna\n",
    "import tensorflow as tf\n",
    "import optuna\n",
    "def objective(trial):\n",
    "    model=tf.keras.models.Sequential()\n",
    "    model.add(tf.keras.layers.Dense(units=trial.suggest_int('units',50,200),activation=trial.suggest_categorical('activation',['relu','swish','tanh']),input_shape=(X_train.shape[1],)))\n",
    "    model.add(tf.keras.layers.Dense(units=trial.suggest_int('units',50,200),activation=trial.suggest_categorical('activation',['relu','swish','tanh'])))\n",
    "    model.add(tf.keras.layers.Dense(units=1,activation='sigmoid'))\n",
    "    # roc auc score\n",
    "    metrics=[tf.keras.metrics.AUC(name='auc')]\n",
    "    callbacks=[tf.keras.callbacks.EarlyStopping(monitor='val_loss',patience=5)]\n",
    "    # optimizer=tf.keras.optimizers.Adam(learning_rate=trial.suggest_loguniform('learning_rate',1e-5,1e-1))\n",
    "    model.compile(optimizer=trial.suggest_categorical('optimizer',['adam','rmsprop']),loss='binary_crossentropy',metrics=metrics)\n",
    "    model.fit(X_train,y_train,epochs=100,batch_size=1028,verbose=0,callbacks=callbacks,validation_data=(X_test,y_test))\n",
    "    # predict probabilities\n",
    "    y_pred=model.predict(X_test)[:,-1]\n",
    "    return roc_auc_score(y_test,y_pred)\n",
    "\n",
    "trial=optuna.create_study(direction='maximize')\n",
    "trial.optimize(objective,n_trials=10)"
   ]
  },
  {
   "cell_type": "code",
   "execution_count": null,
   "id": "5d7f0266-0a0c-4f0d-ba64-91a712588bd9",
   "metadata": {},
   "outputs": [
    {
     "name": "stderr",
     "output_type": "stream",
     "text": [
      "\u001b[32m[I 2022-07-06 02:10:49,062]\u001b[0m A new study created in memory with name: no-name-dea51e0a-c986-426f-bd3b-bf3bc13767fa\u001b[0m\n",
      "Default metric period is 5 because AUC is/are not implemented for GPU\n",
      "\u001b[32m[I 2022-07-06 02:11:02,889]\u001b[0m Trial 0 finished with value: 0.8873943884844422 and parameters: {'learning_rate': 0.01620649592963992, 'n_estimators': 1809, 'max_depth': 6, 'max_bin': 246, 'min_data_in_leaf': 147, 'l2_leaf_reg': 0.036088379500195826}. Best is trial 0 with value: 0.8873943884844422.\u001b[0m\n",
      "Default metric period is 5 because AUC is/are not implemented for GPU\n",
      "\u001b[32m[I 2022-07-06 02:11:09,253]\u001b[0m Trial 1 finished with value: 0.8740964005807701 and parameters: {'learning_rate': 0.00513955522168365, 'n_estimators': 141, 'max_depth': 11, 'max_bin': 370, 'min_data_in_leaf': 238, 'l2_leaf_reg': 0.12081090816492218}. Best is trial 0 with value: 0.8873943884844422.\u001b[0m\n",
      "Default metric period is 5 because AUC is/are not implemented for GPU\n",
      "\u001b[32m[I 2022-07-06 02:11:22,943]\u001b[0m Trial 2 finished with value: 0.8825532813351126 and parameters: {'learning_rate': 0.0691078635877177, 'n_estimators': 2766, 'max_depth': 12, 'max_bin': 287, 'min_data_in_leaf': 6, 'l2_leaf_reg': 0.03034564977090993}. Best is trial 0 with value: 0.8873943884844422.\u001b[0m\n",
      "Default metric period is 5 because AUC is/are not implemented for GPU\n",
      "\u001b[32m[I 2022-07-06 02:11:44,063]\u001b[0m Trial 3 finished with value: 0.8883289049298282 and parameters: {'learning_rate': 0.012537793674301101, 'n_estimators': 2977, 'max_depth': 6, 'max_bin': 362, 'min_data_in_leaf': 86, 'l2_leaf_reg': 0.01973307072780574}. Best is trial 3 with value: 0.8883289049298282.\u001b[0m\n",
      "Default metric period is 5 because AUC is/are not implemented for GPU\n",
      "\u001b[32m[I 2022-07-06 02:12:10,357]\u001b[0m Trial 4 finished with value: 0.8851936305479915 and parameters: {'learning_rate': 0.034691468724115014, 'n_estimators': 2797, 'max_depth': 12, 'max_bin': 205, 'min_data_in_leaf': 181, 'l2_leaf_reg': 0.044565310393788096}. Best is trial 3 with value: 0.8883289049298282.\u001b[0m\n",
      "Default metric period is 5 because AUC is/are not implemented for GPU\n",
      "\u001b[32m[I 2022-07-06 02:12:29,277]\u001b[0m Trial 5 finished with value: 0.8844324526434127 and parameters: {'learning_rate': 0.005158357391438044, 'n_estimators': 2248, 'max_depth': 7, 'max_bin': 347, 'min_data_in_leaf': 134, 'l2_leaf_reg': 0.05050602748633444}. Best is trial 3 with value: 0.8883289049298282.\u001b[0m\n",
      "Default metric period is 5 because AUC is/are not implemented for GPU\n",
      "\u001b[32m[I 2022-07-06 02:12:41,248]\u001b[0m Trial 6 finished with value: 0.8823616680837189 and parameters: {'learning_rate': 0.05013597745759312, 'n_estimators': 165, 'max_depth': 12, 'max_bin': 379, 'min_data_in_leaf': 92, 'l2_leaf_reg': 0.0004728562219991357}. Best is trial 3 with value: 0.8883289049298282.\u001b[0m\n",
      "Default metric period is 5 because AUC is/are not implemented for GPU\n",
      "\u001b[32m[I 2022-07-06 02:14:27,128]\u001b[0m Trial 7 finished with value: 0.8873315373954985 and parameters: {'learning_rate': 0.0035103610246718215, 'n_estimators': 2985, 'max_depth': 11, 'max_bin': 262, 'min_data_in_leaf': 7, 'l2_leaf_reg': 0.013657497343724737}. Best is trial 3 with value: 0.8883289049298282.\u001b[0m\n",
      "Default metric period is 5 because AUC is/are not implemented for GPU\n",
      "\u001b[32m[I 2022-07-06 02:14:39,249]\u001b[0m Trial 8 finished with value: 0.8835209790887344 and parameters: {'learning_rate': 0.010564319791059321, 'n_estimators': 2322, 'max_depth': 4, 'max_bin': 299, 'min_data_in_leaf': 74, 'l2_leaf_reg': 0.005288124815139426}. Best is trial 3 with value: 0.8883289049298282.\u001b[0m\n",
      "Default metric period is 5 because AUC is/are not implemented for GPU\n",
      "\u001b[32m[I 2022-07-06 02:15:54,747]\u001b[0m Trial 12 finished with value: 0.8894050667116463 and parameters: {'learning_rate': 0.02080236419829387, 'n_estimators': 1758, 'max_depth': 9, 'max_bin': 224, 'min_data_in_leaf': 69, 'l2_leaf_reg': 0.0024624443620458757}. Best is trial 12 with value: 0.8894050667116463.\u001b[0m\n",
      "Default metric period is 5 because AUC is/are not implemented for GPU\n",
      "\u001b[32m[I 2022-07-06 02:16:09,626]\u001b[0m Trial 13 finished with value: 0.8880110740599914 and parameters: {'learning_rate': 0.022726998743735963, 'n_estimators': 945, 'max_depth': 9, 'max_bin': 397, 'min_data_in_leaf': 54, 'l2_leaf_reg': 0.0015717712616893623}. Best is trial 12 with value: 0.8894050667116463.\u001b[0m\n",
      "Default metric period is 5 because AUC is/are not implemented for GPU\n",
      "\u001b[32m[I 2022-07-06 02:16:44,891]\u001b[0m Trial 14 finished with value: 0.8886244540002453 and parameters: {'learning_rate': 0.008052113807638163, 'n_estimators': 2314, 'max_depth': 9, 'max_bin': 326, 'min_data_in_leaf': 51, 'l2_leaf_reg': 0.25677098251507535}. Best is trial 12 with value: 0.8894050667116463.\u001b[0m\n"
     ]
    },
    {
     "name": "stdout",
     "output_type": "stream",
     "text": [
      "CPU times: user 7min 23s, sys: 4min 21s, total: 11min 44s\n",
      "Wall time: 5min 55s\n"
     ]
    }
   ],
   "source": [
    "%%time\n",
    "# catboost\n",
    "from catboost import CatBoostClassifier\n",
    "import optuna\n",
    "def objective(trial):\n",
    "    params={'learning_rate':trial.suggest_loguniform('learning_rate',1e-3,1e-1),'n_estimators':trial.suggest_int('n_estimators',100,3000),'max_depth':trial.suggest_int('max_depth',3,13), 'max_bin': trial.suggest_int('max_bin', 200, 400),\n",
    "        'min_data_in_leaf': trial.suggest_int('min_data_in_leaf', 1, 300), 'l2_leaf_reg': trial.suggest_float('l2_leaf_reg', 0.0001, 1.0, log = True),'random_seed': 42,\n",
    "'task_type': 'GPU',\n",
    "        'loss_function': 'Logloss',\n",
    "        'eval_metric': 'AUC',\n",
    "        'bootstrap_type': 'Poisson'}\n",
    "    cat=CatBoostClassifier(**params)\n",
    "    cat.fit(X_train,y_train,early_stopping_rounds=100,eval_set=[(X_test,y_test)],verbose = False)\n",
    "    y_pred=cat.predict_proba(X_test)[:,-1]\n",
    "    return roc_auc_score(y_test,y_pred)\n",
    "\n",
    "\n",
    "study=optuna.create_study(direction='maximize')\n",
    "study.optimize(objective,n_trials=15)"
   ]
  },
  {
   "cell_type": "code",
   "execution_count": null,
   "id": "40cfd3e4-d18a-4f3f-8cf8-bf1f61052b3b",
   "metadata": {},
   "outputs": [],
   "source": [
    "optuna.visualization.plot_optimization_history(study)"
   ]
  },
  {
   "cell_type": "code",
   "execution_count": 12,
   "id": "61ea69cb-3681-4f3c-b580-5b76d3403c08",
   "metadata": {},
   "outputs": [],
   "source": [
    "best_params=study.best_params\n",
    "best_params['task_type']='GPU'\n",
    "best_params['loss_function']='Logloss'\n",
    "best_params['eval_metric']='AUC'\n",
    "best_params['random_seed']=42\n",
    "best_params['bootstrap_type']='Poisson'\n"
   ]
  },
  {
   "cell_type": "code",
   "execution_count": 13,
   "id": "507d1bc9-4a5c-4c42-8077-cba178732ff4",
   "metadata": {},
   "outputs": [
    {
     "name": "stderr",
     "output_type": "stream",
     "text": [
      "Default metric period is 5 because AUC is/are not implemented for GPU\n"
     ]
    },
    {
     "data": {
      "text/plain": [
       "0.8893850838055012"
      ]
     },
     "execution_count": 13,
     "metadata": {},
     "output_type": "execute_result"
    }
   ],
   "source": [
    "# train catboost on best params\n",
    "cat=CatBoostClassifier(**best_params)\n",
    "cat.fit(X_train,y_train,early_stopping_rounds=200,eval_set=[(X_test,y_test)],verbose = False)\n",
    "y_pred=cat.predict_proba(X_test)[:,-1]\n",
    "roc_auc_score(y_test,y_pred)\n"
   ]
  },
  {
   "cell_type": "code",
   "execution_count": 15,
   "id": "e810f4e2-8eab-4254-b7a6-aa927c3819c0",
   "metadata": {},
   "outputs": [],
   "source": [
    "pred=cat.predict_proba(test_scaled)[:,-1]\n",
    "sample_submission=pd.read_csv('data/sample_submission.csv')\n",
    "sample_submission['target']=pred\n",
    "sample_submission.to_csv('submission.csv',index=False)"
   ]
  },
  {
   "cell_type": "code",
   "execution_count": null,
   "id": "3e02244e-658c-4a56-ab0e-d3226f746738",
   "metadata": {},
   "outputs": [],
   "source": [
    "print(\"wait\")"
   ]
  },
  {
   "cell_type": "code",
   "execution_count": null,
   "id": "59bc4a42-ff34-4b38-9ef1-1baf37345b13",
   "metadata": {},
   "outputs": [
    {
     "name": "stderr",
     "output_type": "stream",
     "text": [
      "Default metric period is 5 because AUC is/are not implemented for GPU\n",
      "Default metric period is 5 because AUC is/are not implemented for GPU\n",
      "Default metric period is 5 because AUC is/are not implemented for GPU\n",
      "Default metric period is 5 because AUC is/are not implemented for GPU\n",
      "Default metric period is 5 because AUC is/are not implemented for GPU\n",
      "Default metric period is 5 because AUC is/are not implemented for GPU\n",
      "Default metric period is 5 because AUC is/are not implemented for GPU\n"
     ]
    }
   ],
   "source": [
    "# kfold \n",
    "from sklearn.model_selection import KFold\n",
    "kf = KFold(n_splits=10, shuffle=True, random_state=42)\n",
    "X=features_scaled.values\n",
    "y=labels.values\n",
    "prediction=np.zeros(len(test_scaled))\n",
    "for train_index, test_index in kf.split(X):\n",
    "    X_train, X_test = X[train_index], X[test_index]\n",
    "    y_train, y_test = y[train_index], y[test_index]\n",
    "    cat=CatBoostClassifier(**best_params)\n",
    "    cat.fit(X_train,y_train,early_stopping_rounds=200,eval_set=[(X_test,y_test)],verbose = False)\n",
    "    y_pred=cat.predict_proba(X_test)[:,-1]\n",
    "    roc_auc_score(y_test,y_pred)\n",
    "    prediction+=cat.predict_proba(test_scaled)[:,-1]/10\n"
   ]
  },
  {
   "cell_type": "markdown",
   "id": "fd717ae0-5ee1-4cbe-8695-78917853b7a1",
   "metadata": {},
   "source": [
    "Using 10 folds cross validation improves scores by 0.2. Now we are going to try ensembling. Using weighted ensemble improves the scores by 0.1 and public score by 0.2 percent\n"
   ]
  },
  {
   "cell_type": "code",
   "execution_count": 20,
   "id": "9fd7bff8-b7cc-492e-aa03-c1d9a05202a0",
   "metadata": {},
   "outputs": [],
   "source": [
    "sample_submission=pd.read_csv('data/sample_submission.csv')\n",
    "sample_submission['target']=prediction\n",
    "sample_submission.to_csv('submission.csv',index=False)"
   ]
  },
  {
   "cell_type": "code",
   "execution_count": 6,
   "id": "5363c381-79a4-4c38-9d17-5f0f7729428e",
   "metadata": {},
   "outputs": [
    {
     "name": "stderr",
     "output_type": "stream",
     "text": [
      "/home/studio-lab-user/.conda/envs/stat/lib/python3.10/site-packages/xgboost/sklearn.py:793: UserWarning: `early_stopping_rounds` in `fit` method is deprecated for better compatibility with scikit-learn, use `early_stopping_rounds` in constructor or`set_params` instead.\n",
      "  warnings.warn(\n"
     ]
    },
    {
     "data": {
      "text/plain": [
       "0.8918118773347639"
      ]
     },
     "execution_count": 6,
     "metadata": {},
     "output_type": "execute_result"
    }
   ],
   "source": [
    "from xgboost import XGBClassifier\n",
    "params={'learning_rate':0.08,'n_estimators':1000,'max_depth':10,'min_child_weight': 103,'gamma':0.0001,'colsample_bytree':0.8,'objective':'binary:logistic','eval_metric':'auc','seed':0,'tree_method':'gpu_hist'}\n",
    "xgb=XGBClassifier(**params)\n",
    "xgb.fit(X_train,y_train,early_stopping_rounds=50,eval_set=[(X_test,y_test)],verbose=False)\n",
    "y_pred=xgb.predict_proba(X_test)[:,-1]\n",
    "from sklearn.metrics import roc_auc_score\n",
    "roc_auc_score(y_test,y_pred)"
   ]
  },
  {
   "cell_type": "code",
   "execution_count": 8,
   "id": "2b77ecfb-9264-4f94-815d-48c1957e29a9",
   "metadata": {},
   "outputs": [
    {
     "name": "stderr",
     "output_type": "stream",
     "text": [
      "Default metric period is 5 because AUC is/are not implemented for GPU\n"
     ]
    },
    {
     "data": {
      "text/plain": [
       "0.8894878282894676"
      ]
     },
     "execution_count": 8,
     "metadata": {},
     "output_type": "execute_result"
    }
   ],
   "source": [
    "best_params={'learning_rate': 0.02080236419829387, 'n_estimators': 1758, 'max_depth': 9, 'max_bin': 224, 'min_data_in_leaf': 69, 'l2_leaf_reg': 0.0024624443620458757}\n",
    "best_params['task_type']='GPU'\n",
    "best_params['loss_function']='Logloss'\n",
    "best_params['eval_metric']='AUC'\n",
    "best_params['random_seed']=42\n",
    "best_params['bootstrap_type']='Poisson'\n",
    "from catboost import CatBoostClassifier\n",
    "\n",
    "# train catboost on best params\n",
    "cat=CatBoostClassifier(**best_params)\n",
    "cat.fit(X_train,y_train,early_stopping_rounds=200,eval_set=[(X_test,y_test)],verbose = False)\n",
    "y_pred=cat.predict_proba(X_test)[:,-1]\n",
    "roc_auc_score(y_test,y_pred)\n",
    "\n"
   ]
  },
  {
   "cell_type": "code",
   "execution_count": null,
   "id": "c08228b2-b81e-4e99-8210-38e3b05676de",
   "metadata": {},
   "outputs": [],
   "source": [
    "# lightbgm\n",
    "from lightgbm import LGBMClassifier\n",
    "params={'metric': 'auc', 'reg_alpha': 6.010538011450937, 'reg_lambda': 0.031702113663443346, 'colsample_bytree': 0.27,\n",
    "   'subsample': 0.6, 'learning_rate': 0.05, 'max_depth': 100, 'num_leaves': 100, 'min_child_samples': 216,\n",
    "   'cat_smooth': 87, 'random_state': 48,'n_estimators': 20000}\n",
    "lgbm=LGBMClassifier(**params)\n",
    "lgbm.fit(X_train,y_train)\n",
    "y_pred=lgbm.predict_proba(X_test)[:,-1]\n",
    "roc_auc_score(y_test,y_pred)"
   ]
  },
  {
   "cell_type": "code",
   "execution_count": 11,
   "id": "ce1adccc-c06f-4ed9-a6f9-668a7e8187b9",
   "metadata": {},
   "outputs": [
    {
     "data": {
      "text/plain": [
       "0.892910810797521"
      ]
     },
     "execution_count": 11,
     "metadata": {},
     "output_type": "execute_result"
    }
   ],
   "source": [
    "# ensembling xgboost, catboost, lightgbm\n",
    "prediction=(xgb.predict_proba(X_test)[:,-1]+cat.predict_proba(X_test)[:,-1]+lgbm.predict_proba(X_test)[:,-1])/3\n",
    "roc_auc_score(y_test,prediction)\n"
   ]
  },
  {
   "cell_type": "code",
   "execution_count": 19,
   "id": "a46c0023-6de5-4006-856a-b51e9d138e94",
   "metadata": {},
   "outputs": [
    {
     "data": {
      "text/plain": [
       "0.8930056845184117"
      ]
     },
     "execution_count": 19,
     "metadata": {},
     "output_type": "execute_result"
    }
   ],
   "source": [
    "# weighted average\n",
    "weights=[0.40,0.27,0.27]\n",
    "prediction=(xgb.predict_proba(X_test)[:,-1]*weights[0]+cat.predict_proba(X_test)[:,-1]*weights[1]+lgbm.predict_proba(X_test)[:,-1]*weights[2])/sum(weights)\n",
    "roc_auc_score(y_test,prediction)"
   ]
  },
  {
   "cell_type": "code",
   "execution_count": 20,
   "id": "a3eec400-7a40-4578-8ccd-8ebcb094c37c",
   "metadata": {},
   "outputs": [],
   "source": [
    "prediction=(xgb.predict_proba(test_scaled)[:,-1]*weights[0]+cat.predict_proba(test_scaled)[:,-1]*weights[1]+lgbm.predict_proba(test_scaled)[:,-1]*weights[2])/sum(weights)\n",
    "sample_submission=pd.read_csv('data/sample_submission.csv')\n",
    "sample_submission['target']=prediction\n",
    "sample_submission.to_csv('submission.csv',index=False)"
   ]
  },
  {
   "cell_type": "code",
   "execution_count": 21,
   "id": "07dc0dc3-c766-425f-b9b3-ff084dc57312",
   "metadata": {},
   "outputs": [
    {
     "data": {
      "text/plain": [
       "['lgbm.pkl']"
      ]
     },
     "execution_count": 21,
     "metadata": {},
     "output_type": "execute_result"
    }
   ],
   "source": [
    "# import joblib\n",
    "# joblib.dump(xgb, 'xgb.pkl')\n",
    "# joblib.dump(cat, 'cat.pkl')\n",
    "# joblib.dump(lgbm, 'lgbm.pkl')\n"
   ]
  },
  {
   "cell_type": "code",
   "execution_count": 6,
   "id": "e3afd2d9-0265-4b65-9ec4-74aa503bafd5",
   "metadata": {},
   "outputs": [],
   "source": [
    "import joblib\n",
    "\n",
    "xgb=joblib.load('xgb.pkl')\n",
    "\n",
    "cat=joblib.load('cat.pkl')\n",
    "lgbm=joblib.load('lgbm.pkl')"
   ]
  },
  {
   "cell_type": "code",
   "execution_count": null,
   "id": "3a705881-f6a5-43ab-813d-56fc063483ef",
   "metadata": {},
   "outputs": [],
   "source": [
    "# stacking classifier\n",
    "from sklearn.ensemble import StackingClassifier\n",
    "clf=StackingClassifier(estimators=[('xgb',xgb),('lgbm',lgbm),('cat',cat)],stack_method='predict_proba',verbose=False,n_jobs=-1)\n",
    "clf.fit(X_train,y_train)\n",
    "y_pred=clf.predict_proba(X_test)[:,-1]\n",
    "roc_auc_score(y_test,y_pred)\n"
   ]
  },
  {
   "cell_type": "code",
   "execution_count": null,
   "id": "5a71f0f4-b6d5-47d6-b4f8-26824b5369dd",
   "metadata": {},
   "outputs": [],
   "source": [
    "y_pred=clf.predict_proba(X_test)[:,-1]\n",
    "roc_auc_score(y_test,y_pred)"
   ]
  },
  {
   "cell_type": "markdown",
   "id": "6a7125cb",
   "metadata": {},
   "source": [
    "Now try some EDA and feature engineering"
   ]
  },
  {
   "cell_type": "code",
   "execution_count": 5,
   "id": "5d85e5b6-5504-40f9-a96e-51cabcc0ab28",
   "metadata": {},
   "outputs": [
    {
     "data": {
      "text/html": [
       "<div>\n",
       "<style scoped>\n",
       "    .dataframe tbody tr th:only-of-type {\n",
       "        vertical-align: middle;\n",
       "    }\n",
       "\n",
       "    .dataframe tbody tr th {\n",
       "        vertical-align: top;\n",
       "    }\n",
       "\n",
       "    .dataframe thead th {\n",
       "        text-align: right;\n",
       "    }\n",
       "</style>\n",
       "<table border=\"1\" class=\"dataframe\">\n",
       "  <thead>\n",
       "    <tr style=\"text-align: right;\">\n",
       "      <th></th>\n",
       "      <th>cont0</th>\n",
       "      <th>cont1</th>\n",
       "      <th>cont2</th>\n",
       "      <th>cont3</th>\n",
       "      <th>cont4</th>\n",
       "      <th>cont5</th>\n",
       "      <th>cont6</th>\n",
       "      <th>cont7</th>\n",
       "      <th>cont8</th>\n",
       "      <th>cont9</th>\n",
       "      <th>cont10</th>\n",
       "    </tr>\n",
       "  </thead>\n",
       "  <tbody>\n",
       "    <tr>\n",
       "      <th>count</th>\n",
       "      <td>300000.000000</td>\n",
       "      <td>300000.000000</td>\n",
       "      <td>300000.000000</td>\n",
       "      <td>300000.000000</td>\n",
       "      <td>300000.000000</td>\n",
       "      <td>300000.000000</td>\n",
       "      <td>300000.000000</td>\n",
       "      <td>300000.000000</td>\n",
       "      <td>300000.000000</td>\n",
       "      <td>300000.000000</td>\n",
       "      <td>300000.000000</td>\n",
       "    </tr>\n",
       "    <tr>\n",
       "      <th>mean</th>\n",
       "      <td>0.504749</td>\n",
       "      <td>0.494073</td>\n",
       "      <td>0.516632</td>\n",
       "      <td>0.474235</td>\n",
       "      <td>0.504848</td>\n",
       "      <td>0.502257</td>\n",
       "      <td>0.488229</td>\n",
       "      <td>0.501739</td>\n",
       "      <td>0.488074</td>\n",
       "      <td>0.469496</td>\n",
       "      <td>0.508230</td>\n",
       "    </tr>\n",
       "    <tr>\n",
       "      <th>std</th>\n",
       "      <td>0.206788</td>\n",
       "      <td>0.213037</td>\n",
       "      <td>0.214851</td>\n",
       "      <td>0.216636</td>\n",
       "      <td>0.227474</td>\n",
       "      <td>0.241243</td>\n",
       "      <td>0.211335</td>\n",
       "      <td>0.203496</td>\n",
       "      <td>0.179048</td>\n",
       "      <td>0.194516</td>\n",
       "      <td>0.203393</td>\n",
       "    </tr>\n",
       "    <tr>\n",
       "      <th>min</th>\n",
       "      <td>-0.049562</td>\n",
       "      <td>0.084480</td>\n",
       "      <td>0.094493</td>\n",
       "      <td>-0.045316</td>\n",
       "      <td>0.168071</td>\n",
       "      <td>-0.036379</td>\n",
       "      <td>0.005199</td>\n",
       "      <td>0.090901</td>\n",
       "      <td>0.024139</td>\n",
       "      <td>0.214866</td>\n",
       "      <td>0.097789</td>\n",
       "    </tr>\n",
       "    <tr>\n",
       "      <th>25%</th>\n",
       "      <td>0.344985</td>\n",
       "      <td>0.317363</td>\n",
       "      <td>0.326047</td>\n",
       "      <td>0.292249</td>\n",
       "      <td>0.279303</td>\n",
       "      <td>0.276442</td>\n",
       "      <td>0.323914</td>\n",
       "      <td>0.353054</td>\n",
       "      <td>0.358915</td>\n",
       "      <td>0.309934</td>\n",
       "      <td>0.368312</td>\n",
       "    </tr>\n",
       "    <tr>\n",
       "      <th>50%</th>\n",
       "      <td>0.479650</td>\n",
       "      <td>0.463170</td>\n",
       "      <td>0.471247</td>\n",
       "      <td>0.387564</td>\n",
       "      <td>0.479858</td>\n",
       "      <td>0.554768</td>\n",
       "      <td>0.518089</td>\n",
       "      <td>0.435404</td>\n",
       "      <td>0.410908</td>\n",
       "      <td>0.407477</td>\n",
       "      <td>0.446576</td>\n",
       "    </tr>\n",
       "    <tr>\n",
       "      <th>75%</th>\n",
       "      <td>0.637657</td>\n",
       "      <td>0.693992</td>\n",
       "      <td>0.704625</td>\n",
       "      <td>0.644950</td>\n",
       "      <td>0.725779</td>\n",
       "      <td>0.735225</td>\n",
       "      <td>0.608537</td>\n",
       "      <td>0.642023</td>\n",
       "      <td>0.612725</td>\n",
       "      <td>0.586793</td>\n",
       "      <td>0.581957</td>\n",
       "    </tr>\n",
       "    <tr>\n",
       "      <th>max</th>\n",
       "      <td>1.004559</td>\n",
       "      <td>1.009958</td>\n",
       "      <td>1.016600</td>\n",
       "      <td>0.952187</td>\n",
       "      <td>0.858578</td>\n",
       "      <td>0.853022</td>\n",
       "      <td>0.966553</td>\n",
       "      <td>1.035818</td>\n",
       "      <td>1.055885</td>\n",
       "      <td>1.005652</td>\n",
       "      <td>1.011331</td>\n",
       "    </tr>\n",
       "  </tbody>\n",
       "</table>\n",
       "</div>"
      ],
      "text/plain": [
       "               cont0          cont1          cont2          cont3  \\\n",
       "count  300000.000000  300000.000000  300000.000000  300000.000000   \n",
       "mean        0.504749       0.494073       0.516632       0.474235   \n",
       "std         0.206788       0.213037       0.214851       0.216636   \n",
       "min        -0.049562       0.084480       0.094493      -0.045316   \n",
       "25%         0.344985       0.317363       0.326047       0.292249   \n",
       "50%         0.479650       0.463170       0.471247       0.387564   \n",
       "75%         0.637657       0.693992       0.704625       0.644950   \n",
       "max         1.004559       1.009958       1.016600       0.952187   \n",
       "\n",
       "               cont4          cont5          cont6          cont7  \\\n",
       "count  300000.000000  300000.000000  300000.000000  300000.000000   \n",
       "mean        0.504848       0.502257       0.488229       0.501739   \n",
       "std         0.227474       0.241243       0.211335       0.203496   \n",
       "min         0.168071      -0.036379       0.005199       0.090901   \n",
       "25%         0.279303       0.276442       0.323914       0.353054   \n",
       "50%         0.479858       0.554768       0.518089       0.435404   \n",
       "75%         0.725779       0.735225       0.608537       0.642023   \n",
       "max         0.858578       0.853022       0.966553       1.035818   \n",
       "\n",
       "               cont8          cont9         cont10  \n",
       "count  300000.000000  300000.000000  300000.000000  \n",
       "mean        0.488074       0.469496       0.508230  \n",
       "std         0.179048       0.194516       0.203393  \n",
       "min         0.024139       0.214866       0.097789  \n",
       "25%         0.358915       0.309934       0.368312  \n",
       "50%         0.410908       0.407477       0.446576  \n",
       "75%         0.612725       0.586793       0.581957  \n",
       "max         1.055885       1.005652       1.011331  "
      ]
     },
     "execution_count": 5,
     "metadata": {},
     "output_type": "execute_result"
    }
   ],
   "source": [
    "df= data.copy()\n",
    "num_columns=df.select_dtypes(include=['float64']).columns\n",
    "cat_columns=df.select_dtypes(include=['object']).columns\n",
    "df[num_columns].describe()"
   ]
  },
  {
   "cell_type": "markdown",
   "id": "55fec12f",
   "metadata": {},
   "source": [
    "All numerical values are already normalized!"
   ]
  },
  {
   "cell_type": "code",
   "execution_count": 6,
   "id": "bb9e306b",
   "metadata": {},
   "outputs": [
    {
     "data": {
      "text/plain": [
       "<AxesSubplot:>"
      ]
     },
     "execution_count": 6,
     "metadata": {},
     "output_type": "execute_result"
    },
    {
     "data": {
      "image/png": "[encoded data removed]",
      "text/plain": [
       "<Figure size 432x288 with 2 Axes>"
      ]
     },
     "metadata": {
      "needs_background": "light"
     },
     "output_type": "display_data"
    }
   ],
   "source": [
    "#plot correlation as lower triangle\n",
    "import seaborn as sns\n",
    "sns.heatmap(df[num_columns].corr(),annot=True,cmap='RdYlGn',linewidths=0.2)\n"
   ]
  },
  {
   "cell_type": "markdown",
   "id": "ba97eea9",
   "metadata": {},
   "source": [
    "cont (0,10) (0,7) (1,2) (3,7) (3,10) are correlated"
   ]
  },
  {
   "cell_type": "code",
   "execution_count": null,
   "id": "74432cbd",
   "metadata": {},
   "outputs": [],
   "source": [
    "# removing correlated features\n",
    "df.drop(['cont2','cont10'],axis=1,inplace=True)\n",
    "test.drop(['cont2','cont10'],axis=1,inplace=True)\n",
    "num_columns=df.select_dtypes(include=['float64']).columns\n",
    "cat_columns=df.select_dtypes(include=['object']).columns"
   ]
  },
  {
   "cell_type": "code",
   "execution_count": 6,
   "id": "f5a9f9a1-1cf5-465b-8637-85470a910c6a",
   "metadata": {},
   "outputs": [
    {
     "name": "stderr",
     "output_type": "stream",
     "text": [
      "/tmp/ipykernel_112/3730083286.py:5: FutureWarning: Automatic reindexing on DataFrame vs Series comparisons is deprecated and will raise ValueError in a future version. Do `left, right = left.align(right, axis=1, copy=False)` before e.g. `left == right`\n",
      "  ((df<q1-1.5*iqr) | (df>q3+1.5*iqr)).agg([sum, 'mean', 'count'])\n"
     ]
    },
    {
     "data": {
      "text/html": [
       "<div>\n",
       "<style scoped>\n",
       "    .dataframe tbody tr th:only-of-type {\n",
       "        vertical-align: middle;\n",
       "    }\n",
       "\n",
       "    .dataframe tbody tr th {\n",
       "        vertical-align: top;\n",
       "    }\n",
       "\n",
       "    .dataframe thead th {\n",
       "        text-align: right;\n",
       "    }\n",
       "</style>\n",
       "<table border=\"1\" class=\"dataframe\">\n",
       "  <thead>\n",
       "    <tr style=\"text-align: right;\">\n",
       "      <th></th>\n",
       "      <th>cat0</th>\n",
       "      <th>cat1</th>\n",
       "      <th>cat10</th>\n",
       "      <th>cat11</th>\n",
       "      <th>cat12</th>\n",
       "      <th>cat13</th>\n",
       "      <th>cat14</th>\n",
       "      <th>cat15</th>\n",
       "      <th>cat16</th>\n",
       "      <th>cat17</th>\n",
       "      <th>...</th>\n",
       "      <th>cont2</th>\n",
       "      <th>cont3</th>\n",
       "      <th>cont4</th>\n",
       "      <th>cont5</th>\n",
       "      <th>cont6</th>\n",
       "      <th>cont7</th>\n",
       "      <th>cont8</th>\n",
       "      <th>cont9</th>\n",
       "      <th>id</th>\n",
       "      <th>target</th>\n",
       "    </tr>\n",
       "  </thead>\n",
       "  <tbody>\n",
       "    <tr>\n",
       "      <th>sum</th>\n",
       "      <td>0.0</td>\n",
       "      <td>0.0</td>\n",
       "      <td>0.0</td>\n",
       "      <td>0.0</td>\n",
       "      <td>0.0</td>\n",
       "      <td>0.0</td>\n",
       "      <td>0.0</td>\n",
       "      <td>0.0</td>\n",
       "      <td>0.0</td>\n",
       "      <td>0.0</td>\n",
       "      <td>...</td>\n",
       "      <td>0.0</td>\n",
       "      <td>0.0</td>\n",
       "      <td>0.0</td>\n",
       "      <td>0.0</td>\n",
       "      <td>0.0</td>\n",
       "      <td>0.0</td>\n",
       "      <td>1915.000000</td>\n",
       "      <td>9.00000</td>\n",
       "      <td>0.0</td>\n",
       "      <td>0.0</td>\n",
       "    </tr>\n",
       "    <tr>\n",
       "      <th>mean</th>\n",
       "      <td>0.0</td>\n",
       "      <td>0.0</td>\n",
       "      <td>0.0</td>\n",
       "      <td>0.0</td>\n",
       "      <td>0.0</td>\n",
       "      <td>0.0</td>\n",
       "      <td>0.0</td>\n",
       "      <td>0.0</td>\n",
       "      <td>0.0</td>\n",
       "      <td>0.0</td>\n",
       "      <td>...</td>\n",
       "      <td>0.0</td>\n",
       "      <td>0.0</td>\n",
       "      <td>0.0</td>\n",
       "      <td>0.0</td>\n",
       "      <td>0.0</td>\n",
       "      <td>0.0</td>\n",
       "      <td>0.006383</td>\n",
       "      <td>0.00003</td>\n",
       "      <td>0.0</td>\n",
       "      <td>0.0</td>\n",
       "    </tr>\n",
       "    <tr>\n",
       "      <th>count</th>\n",
       "      <td>300000.0</td>\n",
       "      <td>300000.0</td>\n",
       "      <td>300000.0</td>\n",
       "      <td>300000.0</td>\n",
       "      <td>300000.0</td>\n",
       "      <td>300000.0</td>\n",
       "      <td>300000.0</td>\n",
       "      <td>300000.0</td>\n",
       "      <td>300000.0</td>\n",
       "      <td>300000.0</td>\n",
       "      <td>...</td>\n",
       "      <td>300000.0</td>\n",
       "      <td>300000.0</td>\n",
       "      <td>300000.0</td>\n",
       "      <td>300000.0</td>\n",
       "      <td>300000.0</td>\n",
       "      <td>300000.0</td>\n",
       "      <td>300000.000000</td>\n",
       "      <td>300000.00000</td>\n",
       "      <td>300000.0</td>\n",
       "      <td>300000.0</td>\n",
       "    </tr>\n",
       "  </tbody>\n",
       "</table>\n",
       "<p>3 rows × 32 columns</p>\n",
       "</div>"
      ],
      "text/plain": [
       "           cat0      cat1     cat10     cat11     cat12     cat13     cat14  \\\n",
       "sum         0.0       0.0       0.0       0.0       0.0       0.0       0.0   \n",
       "mean        0.0       0.0       0.0       0.0       0.0       0.0       0.0   \n",
       "count  300000.0  300000.0  300000.0  300000.0  300000.0  300000.0  300000.0   \n",
       "\n",
       "          cat15     cat16     cat17  ...     cont2     cont3     cont4  \\\n",
       "sum         0.0       0.0       0.0  ...       0.0       0.0       0.0   \n",
       "mean        0.0       0.0       0.0  ...       0.0       0.0       0.0   \n",
       "count  300000.0  300000.0  300000.0  ...  300000.0  300000.0  300000.0   \n",
       "\n",
       "          cont5     cont6     cont7          cont8         cont9        id  \\\n",
       "sum         0.0       0.0       0.0    1915.000000       9.00000       0.0   \n",
       "mean        0.0       0.0       0.0       0.006383       0.00003       0.0   \n",
       "count  300000.0  300000.0  300000.0  300000.000000  300000.00000  300000.0   \n",
       "\n",
       "         target  \n",
       "sum         0.0  \n",
       "mean        0.0  \n",
       "count  300000.0  \n",
       "\n",
       "[3 rows x 32 columns]"
      ]
     },
     "execution_count": 6,
     "metadata": {},
     "output_type": "execute_result"
    }
   ],
   "source": [
    "# outlier detection\n",
    "q1=df.quantile(0.25)\n",
    "q3=df.quantile(0.75)\n",
    "iqr=q3-q1\n",
    "((df<q1-1.5*iqr) | (df>q3+1.5*iqr)).agg([sum, 'mean', 'count'])"
   ]
  },
  {
   "cell_type": "code",
   "execution_count": 7,
   "id": "c1954ab6-cb97-4f48-bcd8-3c6de23523f0",
   "metadata": {},
   "outputs": [
    {
     "name": "stderr",
     "output_type": "stream",
     "text": [
      "/tmp/ipykernel_112/2856534840.py:5: FutureWarning: Automatic reindexing on DataFrame vs Series comparisons is deprecated and will raise ValueError in a future version. Do `left, right = left.align(right, axis=1, copy=False)` before e.g. `left == right`\n",
      "  ((df<q1-3*iqr) | (df>q3+3*iqr)).agg([sum, 'mean', 'count'])\n"
     ]
    },
    {
     "data": {
      "text/html": [
       "<div>\n",
       "<style scoped>\n",
       "    .dataframe tbody tr th:only-of-type {\n",
       "        vertical-align: middle;\n",
       "    }\n",
       "\n",
       "    .dataframe tbody tr th {\n",
       "        vertical-align: top;\n",
       "    }\n",
       "\n",
       "    .dataframe thead th {\n",
       "        text-align: right;\n",
       "    }\n",
       "</style>\n",
       "<table border=\"1\" class=\"dataframe\">\n",
       "  <thead>\n",
       "    <tr style=\"text-align: right;\">\n",
       "      <th></th>\n",
       "      <th>cat0</th>\n",
       "      <th>cat1</th>\n",
       "      <th>cat10</th>\n",
       "      <th>cat11</th>\n",
       "      <th>cat12</th>\n",
       "      <th>cat13</th>\n",
       "      <th>cat14</th>\n",
       "      <th>cat15</th>\n",
       "      <th>cat16</th>\n",
       "      <th>cat17</th>\n",
       "      <th>...</th>\n",
       "      <th>cont2</th>\n",
       "      <th>cont3</th>\n",
       "      <th>cont4</th>\n",
       "      <th>cont5</th>\n",
       "      <th>cont6</th>\n",
       "      <th>cont7</th>\n",
       "      <th>cont8</th>\n",
       "      <th>cont9</th>\n",
       "      <th>id</th>\n",
       "      <th>target</th>\n",
       "    </tr>\n",
       "  </thead>\n",
       "  <tbody>\n",
       "    <tr>\n",
       "      <th>sum</th>\n",
       "      <td>0.0</td>\n",
       "      <td>0.0</td>\n",
       "      <td>0.0</td>\n",
       "      <td>0.0</td>\n",
       "      <td>0.0</td>\n",
       "      <td>0.0</td>\n",
       "      <td>0.0</td>\n",
       "      <td>0.0</td>\n",
       "      <td>0.0</td>\n",
       "      <td>0.0</td>\n",
       "      <td>...</td>\n",
       "      <td>0.0</td>\n",
       "      <td>0.0</td>\n",
       "      <td>0.0</td>\n",
       "      <td>0.0</td>\n",
       "      <td>0.0</td>\n",
       "      <td>0.0</td>\n",
       "      <td>0.0</td>\n",
       "      <td>0.0</td>\n",
       "      <td>0.0</td>\n",
       "      <td>0.0</td>\n",
       "    </tr>\n",
       "    <tr>\n",
       "      <th>mean</th>\n",
       "      <td>0.0</td>\n",
       "      <td>0.0</td>\n",
       "      <td>0.0</td>\n",
       "      <td>0.0</td>\n",
       "      <td>0.0</td>\n",
       "      <td>0.0</td>\n",
       "      <td>0.0</td>\n",
       "      <td>0.0</td>\n",
       "      <td>0.0</td>\n",
       "      <td>0.0</td>\n",
       "      <td>...</td>\n",
       "      <td>0.0</td>\n",
       "      <td>0.0</td>\n",
       "      <td>0.0</td>\n",
       "      <td>0.0</td>\n",
       "      <td>0.0</td>\n",
       "      <td>0.0</td>\n",
       "      <td>0.0</td>\n",
       "      <td>0.0</td>\n",
       "      <td>0.0</td>\n",
       "      <td>0.0</td>\n",
       "    </tr>\n",
       "    <tr>\n",
       "      <th>count</th>\n",
       "      <td>300000.0</td>\n",
       "      <td>300000.0</td>\n",
       "      <td>300000.0</td>\n",
       "      <td>300000.0</td>\n",
       "      <td>300000.0</td>\n",
       "      <td>300000.0</td>\n",
       "      <td>300000.0</td>\n",
       "      <td>300000.0</td>\n",
       "      <td>300000.0</td>\n",
       "      <td>300000.0</td>\n",
       "      <td>...</td>\n",
       "      <td>300000.0</td>\n",
       "      <td>300000.0</td>\n",
       "      <td>300000.0</td>\n",
       "      <td>300000.0</td>\n",
       "      <td>300000.0</td>\n",
       "      <td>300000.0</td>\n",
       "      <td>300000.0</td>\n",
       "      <td>300000.0</td>\n",
       "      <td>300000.0</td>\n",
       "      <td>300000.0</td>\n",
       "    </tr>\n",
       "  </tbody>\n",
       "</table>\n",
       "<p>3 rows × 32 columns</p>\n",
       "</div>"
      ],
      "text/plain": [
       "           cat0      cat1     cat10     cat11     cat12     cat13     cat14  \\\n",
       "sum         0.0       0.0       0.0       0.0       0.0       0.0       0.0   \n",
       "mean        0.0       0.0       0.0       0.0       0.0       0.0       0.0   \n",
       "count  300000.0  300000.0  300000.0  300000.0  300000.0  300000.0  300000.0   \n",
       "\n",
       "          cat15     cat16     cat17  ...     cont2     cont3     cont4  \\\n",
       "sum         0.0       0.0       0.0  ...       0.0       0.0       0.0   \n",
       "mean        0.0       0.0       0.0  ...       0.0       0.0       0.0   \n",
       "count  300000.0  300000.0  300000.0  ...  300000.0  300000.0  300000.0   \n",
       "\n",
       "          cont5     cont6     cont7     cont8     cont9        id    target  \n",
       "sum         0.0       0.0       0.0       0.0       0.0       0.0       0.0  \n",
       "mean        0.0       0.0       0.0       0.0       0.0       0.0       0.0  \n",
       "count  300000.0  300000.0  300000.0  300000.0  300000.0  300000.0  300000.0  \n",
       "\n",
       "[3 rows x 32 columns]"
      ]
     },
     "execution_count": 7,
     "metadata": {},
     "output_type": "execute_result"
    }
   ],
   "source": [
    "# extreme outliers\n",
    "q1=df.quantile(0.25)\n",
    "q3=df.quantile(0.75)\n",
    "iqr=q3-q1\n",
    "((df<q1-3*iqr) | (df>q3+3*iqr)).agg([sum, 'mean', 'count']) "
   ]
  },
  {
   "cell_type": "code",
   "execution_count": 8,
   "id": "1728de54-9d9f-46ac-87a0-1dccb41db579",
   "metadata": {},
   "outputs": [
    {
     "name": "stderr",
     "output_type": "stream",
     "text": [
      "/tmp/ipykernel_112/1117491452.py:6: SettingWithCopyWarning: \n",
      "A value is trying to be set on a copy of a slice from a DataFrame\n",
      "\n",
      "See the caveats in the documentation: https://pandas.pydata.org/pandas-docs/stable/user_guide/indexing.html#returning-a-view-versus-a-copy\n",
      "  df[column].loc[(df[column]<q1-1.5*iqr) | (df[column]>q3+1.5*iqr)]=df[column].median()\n",
      "/tmp/ipykernel_112/1117491452.py:6: SettingWithCopyWarning: \n",
      "A value is trying to be set on a copy of a slice from a DataFrame\n",
      "\n",
      "See the caveats in the documentation: https://pandas.pydata.org/pandas-docs/stable/user_guide/indexing.html#returning-a-view-versus-a-copy\n",
      "  df[column].loc[(df[column]<q1-1.5*iqr) | (df[column]>q3+1.5*iqr)]=df[column].median()\n",
      "/tmp/ipykernel_112/1117491452.py:6: SettingWithCopyWarning: \n",
      "A value is trying to be set on a copy of a slice from a DataFrame\n",
      "\n",
      "See the caveats in the documentation: https://pandas.pydata.org/pandas-docs/stable/user_guide/indexing.html#returning-a-view-versus-a-copy\n",
      "  df[column].loc[(df[column]<q1-1.5*iqr) | (df[column]>q3+1.5*iqr)]=df[column].median()\n",
      "/tmp/ipykernel_112/1117491452.py:6: SettingWithCopyWarning: \n",
      "A value is trying to be set on a copy of a slice from a DataFrame\n",
      "\n",
      "See the caveats in the documentation: https://pandas.pydata.org/pandas-docs/stable/user_guide/indexing.html#returning-a-view-versus-a-copy\n",
      "  df[column].loc[(df[column]<q1-1.5*iqr) | (df[column]>q3+1.5*iqr)]=df[column].median()\n",
      "/tmp/ipykernel_112/1117491452.py:6: SettingWithCopyWarning: \n",
      "A value is trying to be set on a copy of a slice from a DataFrame\n",
      "\n",
      "See the caveats in the documentation: https://pandas.pydata.org/pandas-docs/stable/user_guide/indexing.html#returning-a-view-versus-a-copy\n",
      "  df[column].loc[(df[column]<q1-1.5*iqr) | (df[column]>q3+1.5*iqr)]=df[column].median()\n",
      "/tmp/ipykernel_112/1117491452.py:6: SettingWithCopyWarning: \n",
      "A value is trying to be set on a copy of a slice from a DataFrame\n",
      "\n",
      "See the caveats in the documentation: https://pandas.pydata.org/pandas-docs/stable/user_guide/indexing.html#returning-a-view-versus-a-copy\n",
      "  df[column].loc[(df[column]<q1-1.5*iqr) | (df[column]>q3+1.5*iqr)]=df[column].median()\n",
      "/tmp/ipykernel_112/1117491452.py:6: SettingWithCopyWarning: \n",
      "A value is trying to be set on a copy of a slice from a DataFrame\n",
      "\n",
      "See the caveats in the documentation: https://pandas.pydata.org/pandas-docs/stable/user_guide/indexing.html#returning-a-view-versus-a-copy\n",
      "  df[column].loc[(df[column]<q1-1.5*iqr) | (df[column]>q3+1.5*iqr)]=df[column].median()\n",
      "/tmp/ipykernel_112/1117491452.py:6: SettingWithCopyWarning: \n",
      "A value is trying to be set on a copy of a slice from a DataFrame\n",
      "\n",
      "See the caveats in the documentation: https://pandas.pydata.org/pandas-docs/stable/user_guide/indexing.html#returning-a-view-versus-a-copy\n",
      "  df[column].loc[(df[column]<q1-1.5*iqr) | (df[column]>q3+1.5*iqr)]=df[column].median()\n",
      "/tmp/ipykernel_112/1117491452.py:6: SettingWithCopyWarning: \n",
      "A value is trying to be set on a copy of a slice from a DataFrame\n",
      "\n",
      "See the caveats in the documentation: https://pandas.pydata.org/pandas-docs/stable/user_guide/indexing.html#returning-a-view-versus-a-copy\n",
      "  df[column].loc[(df[column]<q1-1.5*iqr) | (df[column]>q3+1.5*iqr)]=df[column].median()\n",
      "/tmp/ipykernel_112/1117491452.py:6: SettingWithCopyWarning: \n",
      "A value is trying to be set on a copy of a slice from a DataFrame\n",
      "\n",
      "See the caveats in the documentation: https://pandas.pydata.org/pandas-docs/stable/user_guide/indexing.html#returning-a-view-versus-a-copy\n",
      "  df[column].loc[(df[column]<q1-1.5*iqr) | (df[column]>q3+1.5*iqr)]=df[column].median()\n",
      "/tmp/ipykernel_112/1117491452.py:6: SettingWithCopyWarning: \n",
      "A value is trying to be set on a copy of a slice from a DataFrame\n",
      "\n",
      "See the caveats in the documentation: https://pandas.pydata.org/pandas-docs/stable/user_guide/indexing.html#returning-a-view-versus-a-copy\n",
      "  df[column].loc[(df[column]<q1-1.5*iqr) | (df[column]>q3+1.5*iqr)]=df[column].median()\n"
     ]
    }
   ],
   "source": [
    "# replace outlier with median\n",
    "def replace_outlier(df,column):\n",
    "    q1=df[column].quantile(0.25)\n",
    "    q3=df[column].quantile(0.75)\n",
    "    iqr=q3-q1\n",
    "    df[column].loc[(df[column]<q1-1.5*iqr) | (df[column]>q3+1.5*iqr)]=df[column].median()\n",
    "    return df[column]\n",
    "for column in num_columns:\n",
    "    df[column]=replace_outlier(df,column)"
   ]
  },
  {
   "cell_type": "code",
   "execution_count": 9,
   "id": "e07195a3-402a-4802-98aa-cde97551aafa",
   "metadata": {},
   "outputs": [
    {
     "data": {
      "text/plain": [
       "<AxesSubplot:>"
      ]
     },
     "execution_count": 9,
     "metadata": {},
     "output_type": "execute_result"
    },
    {
     "data": {
      "image/png": "[encoded data removed]",
      "text/plain": [
       "<Figure size 432x288 with 1 Axes>"
      ]
     },
     "metadata": {
      "needs_background": "light"
     },
     "output_type": "display_data"
    }
   ],
   "source": [
    "# target distribution bar chart\n",
    "df['target'].value_counts().plot(kind='bar')"
   ]
  },
  {
   "cell_type": "code",
   "execution_count": 10,
   "id": "e32dd032-37a9-42bd-bc0b-4c2bae6f8298",
   "metadata": {},
   "outputs": [
    {
     "data": {
      "image/png": "[encoded data removed]",
      "text/plain": [
       "<Figure size 432x288 with 1 Axes>"
      ]
     },
     "metadata": {
      "needs_background": "light"
     },
     "output_type": "display_data"
    },
    {
     "data": {
      "image/png": "[encoded data removed]",
      "text/plain": [
       "<Figure size 432x288 with 1 Axes>"
      ]
     },
     "metadata": {
      "needs_background": "light"
     },
     "output_type": "display_data"
    },
    {
     "data": {
      "image/png": "[encoded data removed]",
      "text/plain": [
       "<Figure size 432x288 with 1 Axes>"
      ]
     },
     "metadata": {
      "needs_background": "light"
     },
     "output_type": "display_data"
    },
    {
     "data": {
      "image/png": "[encoded data removed]",
      "text/plain": [
       "<Figure size 432x288 with 1 Axes>"
      ]
     },
     "metadata": {
      "needs_background": "light"
     },
     "output_type": "display_data"
    },
    {
     "data": {
      "image/png": "[encoded data removed]",
      "text/plain": [
       "<Figure size 432x288 with 1 Axes>"
      ]
     },
     "metadata": {
      "needs_background": "light"
     },
     "output_type": "display_data"
    },
    {
     "data": {
      "image/png": "[encoded data removed]",
      "text/plain": [
       "<Figure size 432x288 with 1 Axes>"
      ]
     },
     "metadata": {
      "needs_background": "light"
     },
     "output_type": "display_data"
    },
    {
     "data": {
      "image/png": "[encoded data removed]",
      "text/plain": [
       "<Figure size 432x288 with 1 Axes>"
      ]
     },
     "metadata": {
      "needs_background": "light"
     },
     "output_type": "display_data"
    },
    {
     "data": {
      "image/png": "[encoded data removed]",
      "text/plain": [
       "<Figure size 432x288 with 1 Axes>"
      ]
     },
     "metadata": {
      "needs_background": "light"
     },
     "output_type": "display_data"
    },
    {
     "data": {
      "image/png": "[encoded data removed]",
      "text/plain": [
       "<Figure size 432x288 with 1 Axes>"
      ]
     },
     "metadata": {
      "needs_background": "light"
     },
     "output_type": "display_data"
    },
    {
     "data": {
      "image/png": "[encoded data removed]",
      "text/plain": [
       "<Figure size 432x288 with 1 Axes>"
      ]
     },
     "metadata": {
      "needs_background": "light"
     },
     "output_type": "display_data"
    },
    {
     "data": {
      "image/png": "[encoded data removed]",
      "text/plain": [
       "<Figure size 432x288 with 1 Axes>"
      ]
     },
     "metadata": {
      "needs_background": "light"
     },
     "output_type": "display_data"
    },
    {
     "data": {
      "image/png": "[encoded data removed]",
      "text/plain": [
       "<Figure size 432x288 with 1 Axes>"
      ]
     },
     "metadata": {
      "needs_background": "light"
     },
     "output_type": "display_data"
    },
    {
     "data": {
      "image/png": "[encoded data removed]",
      "text/plain": [
       "<Figure size 432x288 with 1 Axes>"
      ]
     },
     "metadata": {
      "needs_background": "light"
     },
     "output_type": "display_data"
    },
    {
     "data": {
      "image/png": "[encoded data removed]",
      "text/plain": [
       "<Figure size 432x288 with 1 Axes>"
      ]
     },
     "metadata": {
      "needs_background": "light"
     },
     "output_type": "display_data"
    },
    {
     "data": {
      "image/png": "[encoded data removed]",
      "text/plain": [
       "<Figure size 432x288 with 1 Axes>"
      ]
     },
     "metadata": {
      "needs_background": "light"
     },
     "output_type": "display_data"
    },
    {
     "data": {
      "image/png": "[encoded data removed]",
      "text/plain": [
       "<Figure size 432x288 with 1 Axes>"
      ]
     },
     "metadata": {
      "needs_background": "light"
     },
     "output_type": "display_data"
    },
    {
     "data": {
      "image/png": "[encoded data removed]",
      "text/plain": [
       "<Figure size 432x288 with 1 Axes>"
      ]
     },
     "metadata": {
      "needs_background": "light"
     },
     "output_type": "display_data"
    },
    {
     "data": {
      "image/png": "[encoded data removed]",
      "text/plain": [
       "<Figure size 432x288 with 1 Axes>"
      ]
     },
     "metadata": {
      "needs_background": "light"
     },
     "output_type": "display_data"
    },
    {
     "data": {
      "image/png": "[encoded data removed]",
      "text/plain": [
       "<Figure size 432x288 with 1 Axes>"
      ]
     },
     "metadata": {
      "needs_background": "light"
     },
     "output_type": "display_data"
    }
   ],
   "source": [
    "for column in cat_columns:\n",
    "    df[column].value_counts().plot(kind='bar')\n",
    "    plt.title(column)\n",
    "    plt.show()"
   ]
  },
  {
   "cell_type": "code",
   "execution_count": 11,
   "id": "b2aedefa-5a46-4dbd-9c6c-7f9bc8c38525",
   "metadata": {},
   "outputs": [
    {
     "name": "stderr",
     "output_type": "stream",
     "text": [
      "/home/studio-lab-user/.conda/envs/stat/lib/python3.10/site-packages/seaborn/distributions.py:2619: FutureWarning: `distplot` is a deprecated function and will be removed in a future version. Please adapt your code to use either `displot` (a figure-level function with similar flexibility) or `histplot` (an axes-level function for histograms).\n",
      "  warnings.warn(msg, FutureWarning)\n"
     ]
    },
    {
     "data": {
      "image/png": "[encoded data removed]",
      "text/plain": [
       "<Figure size 432x288 with 1 Axes>"
      ]
     },
     "metadata": {
      "needs_background": "light"
     },
     "output_type": "display_data"
    },
    {
     "name": "stderr",
     "output_type": "stream",
     "text": [
      "/home/studio-lab-user/.conda/envs/stat/lib/python3.10/site-packages/seaborn/distributions.py:2619: FutureWarning: `distplot` is a deprecated function and will be removed in a future version. Please adapt your code to use either `displot` (a figure-level function with similar flexibility) or `histplot` (an axes-level function for histograms).\n",
      "  warnings.warn(msg, FutureWarning)\n"
     ]
    },
    {
     "data": {
      "image/png": "[encoded data removed]",
      "text/plain": [
       "<Figure size 432x288 with 1 Axes>"
      ]
     },
     "metadata": {
      "needs_background": "light"
     },
     "output_type": "display_data"
    },
    {
     "name": "stderr",
     "output_type": "stream",
     "text": [
      "/home/studio-lab-user/.conda/envs/stat/lib/python3.10/site-packages/seaborn/distributions.py:2619: FutureWarning: `distplot` is a deprecated function and will be removed in a future version. Please adapt your code to use either `displot` (a figure-level function with similar flexibility) or `histplot` (an axes-level function for histograms).\n",
      "  warnings.warn(msg, FutureWarning)\n"
     ]
    },
    {
     "data": {
      "image/png": "[encoded data removed]",
      "text/plain": [
       "<Figure size 432x288 with 1 Axes>"
      ]
     },
     "metadata": {
      "needs_background": "light"
     },
     "output_type": "display_data"
    },
    {
     "name": "stderr",
     "output_type": "stream",
     "text": [
      "/home/studio-lab-user/.conda/envs/stat/lib/python3.10/site-packages/seaborn/distributions.py:2619: FutureWarning: `distplot` is a deprecated function and will be removed in a future version. Please adapt your code to use either `displot` (a figure-level function with similar flexibility) or `histplot` (an axes-level function for histograms).\n",
      "  warnings.warn(msg, FutureWarning)\n"
     ]
    },
    {
     "data": {
      "image/png": "[encoded data removed]",
      "text/plain": [
       "<Figure size 432x288 with 1 Axes>"
      ]
     },
     "metadata": {
      "needs_background": "light"
     },
     "output_type": "display_data"
    },
    {
     "name": "stderr",
     "output_type": "stream",
     "text": [
      "/home/studio-lab-user/.conda/envs/stat/lib/python3.10/site-packages/seaborn/distributions.py:2619: FutureWarning: `distplot` is a deprecated function and will be removed in a future version. Please adapt your code to use either `displot` (a figure-level function with similar flexibility) or `histplot` (an axes-level function for histograms).\n",
      "  warnings.warn(msg, FutureWarning)\n"
     ]
    },
    {
     "data": {
      "image/png": "[encoded data removed]",
      "text/plain": [
       "<Figure size 432x288 with 1 Axes>"
      ]
     },
     "metadata": {
      "needs_background": "light"
     },
     "output_type": "display_data"
    },
    {
     "name": "stderr",
     "output_type": "stream",
     "text": [
      "/home/studio-lab-user/.conda/envs/stat/lib/python3.10/site-packages/seaborn/distributions.py:2619: FutureWarning: `distplot` is a deprecated function and will be removed in a future version. Please adapt your code to use either `displot` (a figure-level function with similar flexibility) or `histplot` (an axes-level function for histograms).\n",
      "  warnings.warn(msg, FutureWarning)\n"
     ]
    },
    {
     "data": {
      "image/png": "[encoded data removed]",
      "text/plain": [
       "<Figure size 432x288 with 1 Axes>"
      ]
     },
     "metadata": {
      "needs_background": "light"
     },
     "output_type": "display_data"
    },
    {
     "name": "stderr",
     "output_type": "stream",
     "text": [
      "/home/studio-lab-user/.conda/envs/stat/lib/python3.10/site-packages/seaborn/distributions.py:2619: FutureWarning: `distplot` is a deprecated function and will be removed in a future version. Please adapt your code to use either `displot` (a figure-level function with similar flexibility) or `histplot` (an axes-level function for histograms).\n",
      "  warnings.warn(msg, FutureWarning)\n"
     ]
    },
    {
     "data": {
      "image/png": "[encoded data removed]",
      "text/plain": [
       "<Figure size 432x288 with 1 Axes>"
      ]
     },
     "metadata": {
      "needs_background": "light"
     },
     "output_type": "display_data"
    },
    {
     "name": "stderr",
     "output_type": "stream",
     "text": [
      "/home/studio-lab-user/.conda/envs/stat/lib/python3.10/site-packages/seaborn/distributions.py:2619: FutureWarning: `distplot` is a deprecated function and will be removed in a future version. Please adapt your code to use either `displot` (a figure-level function with similar flexibility) or `histplot` (an axes-level function for histograms).\n",
      "  warnings.warn(msg, FutureWarning)\n"
     ]
    },
    {
     "data": {
      "image/png": "[encoded data removed]",
      "text/plain": [
       "<Figure size 432x288 with 1 Axes>"
      ]
     },
     "metadata": {
      "needs_background": "light"
     },
     "output_type": "display_data"
    },
    {
     "name": "stderr",
     "output_type": "stream",
     "text": [
      "/home/studio-lab-user/.conda/envs/stat/lib/python3.10/site-packages/seaborn/distributions.py:2619: FutureWarning: `distplot` is a deprecated function and will be removed in a future version. Please adapt your code to use either `displot` (a figure-level function with similar flexibility) or `histplot` (an axes-level function for histograms).\n",
      "  warnings.warn(msg, FutureWarning)\n"
     ]
    },
    {
     "data": {
      "image/png": "[encoded data removed]",
      "text/plain": [
       "<Figure size 432x288 with 1 Axes>"
      ]
     },
     "metadata": {
      "needs_background": "light"
     },
     "output_type": "display_data"
    },
    {
     "name": "stderr",
     "output_type": "stream",
     "text": [
      "/home/studio-lab-user/.conda/envs/stat/lib/python3.10/site-packages/seaborn/distributions.py:2619: FutureWarning: `distplot` is a deprecated function and will be removed in a future version. Please adapt your code to use either `displot` (a figure-level function with similar flexibility) or `histplot` (an axes-level function for histograms).\n",
      "  warnings.warn(msg, FutureWarning)\n"
     ]
    },
    {
     "data": {
      "image/png": "[encoded data removed]",
      "text/plain": [
       "<Figure size 432x288 with 1 Axes>"
      ]
     },
     "metadata": {
      "needs_background": "light"
     },
     "output_type": "display_data"
    },
    {
     "name": "stderr",
     "output_type": "stream",
     "text": [
      "/home/studio-lab-user/.conda/envs/stat/lib/python3.10/site-packages/seaborn/distributions.py:2619: FutureWarning: `distplot` is a deprecated function and will be removed in a future version. Please adapt your code to use either `displot` (a figure-level function with similar flexibility) or `histplot` (an axes-level function for histograms).\n",
      "  warnings.warn(msg, FutureWarning)\n"
     ]
    },
    {
     "data": {
      "image/png": "[encoded data removed]",
      "text/plain": [
       "<Figure size 432x288 with 1 Axes>"
      ]
     },
     "metadata": {
      "needs_background": "light"
     },
     "output_type": "display_data"
    }
   ],
   "source": [
    "# Checking the distribution of continuous features\n",
    "# kde plot\n",
    "import seaborn as sns\n",
    "for column in num_columns:\n",
    "    sns.distplot(df[column])\n",
    "    plt.title(column)\n",
    "    plt.show()\n",
    "\n",
    "\n"
   ]
  },
  {
   "cell_type": "code",
   "execution_count": 12,
   "id": "76deb1e8-32e2-46fa-a4ba-05672ef122fa",
   "metadata": {},
   "outputs": [],
   "source": [
    "# label encoding\n",
    "from sklearn.preprocessing import LabelEncoder\n",
    "for column in cat_columns:\n",
    "    le=LabelEncoder()\n",
    "    df[column]=le.fit_transform(df[column])\n",
    "df=df.drop(['id'],axis=1)\n",
    "# train test split\n",
    "from sklearn.model_selection import train_test_split\n",
    "X_train,X_test,y_train,y_test=train_test_split(df.drop('target',axis=1),df['target'],test_size=0.2,random_state=43)"
   ]
  },
  {
   "cell_type": "code",
   "execution_count": 15,
   "id": "a89274da-8bc5-4921-817c-a3557268163a",
   "metadata": {},
   "outputs": [
    {
     "name": "stderr",
     "output_type": "stream",
     "text": [
      "/home/studio-lab-user/.conda/envs/stat/lib/python3.10/site-packages/sklearn/linear_model/_logistic.py:444: ConvergenceWarning: lbfgs failed to converge (status=1):\n",
      "STOP: TOTAL NO. of ITERATIONS REACHED LIMIT.\n",
      "\n",
      "Increase the number of iterations (max_iter) or scale the data as shown in:\n",
      "    https://scikit-learn.org/stable/modules/preprocessing.html\n",
      "Please also refer to the documentation for alternative solver options:\n",
      "    https://scikit-learn.org/stable/modules/linear_model.html#logistic-regression\n",
      "  n_iter_i = _check_optimize_result(\n"
     ]
    },
    {
     "data": {
      "text/plain": [
       "0.8549096102023672"
      ]
     },
     "execution_count": 15,
     "metadata": {},
     "output_type": "execute_result"
    }
   ],
   "source": [
    "\n",
    "# trying logistic regression\n",
    "from sklearn.linear_model import LogisticRegression\n",
    "# import roc_auc_score\n",
    "from sklearn.metrics import roc_auc_score\n",
    "logreg=LogisticRegression()\n",
    "logreg.fit(X_train,y_train)\n",
    "y_pred=logreg.predict_proba(X_test)[:,-1]\n",
    "roc_auc_score(y_test,y_pred)"
   ]
  },
  {
   "cell_type": "code",
   "execution_count": null,
   "id": "17b2071a-241d-4f55-89a1-3bc301847d82",
   "metadata": {},
   "outputs": [],
   "source": [
    "# # Splitting and labelencoding the multimodal continuous variables\n",
    "# for column in  num_columns:\n",
    "#     df[column]=pd.qcut(df[column],10)\n",
    "#     # label encode\n",
    "#     le=LabelEncoder()\n",
    "#     df[column]=le.fit_transform(df[column])\n",
    "    \n"
   ]
  }
 ],
 "metadata": {
  "interpreter": {
   "hash": "5f9bd715b3ef0f405011d47e64ed91fdeadae1e6d28e05173e3827100370a66e"
  },
  "kernelspec": {
   "display_name": "stat:Python",
   "language": "python",
   "name": "conda-env-stat-py"
  },
  "language_info": {
   "codemirror_mode": {
    "name": "ipython",
    "version": 3
   },
   "file_extension": ".py",
   "mimetype": "text/x-python",
   "name": "python",
   "nbconvert_exporter": "python",
   "pygments_lexer": "ipython3",
   "version": "3.10.5"
  }
 },
 "nbformat": 4,
 "nbformat_minor": 5
}
