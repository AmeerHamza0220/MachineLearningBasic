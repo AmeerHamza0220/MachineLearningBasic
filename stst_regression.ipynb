{
  "nbformat": 4,
  "nbformat_minor": 0,
  "metadata": {
    "colab": {
      "name": "Untitled19.ipynb",
      "private_outputs": true,
      "provenance": [],
      "authorship_tag": "ABX9TyMvw8vF19koD0yMQr8TlDrb",
      "include_colab_link": true
    },
    "kernelspec": {
      "name": "python3",
      "display_name": "Python 3"
    },
    "language_info": {
      "name": "python"
    }
  },
  "cells": [
    {
      "cell_type": "markdown",
      "metadata": {
        "id": "view-in-github",
        "colab_type": "text"
      },
      "source": [
        "<a href=\"https://colab.research.google.com/github/AmeerHamza0220/MachineLearningBasic/blob/main/stst_regression.ipynb\" target=\"_parent\"><img src=\"https://colab.research.google.com/assets/colab-badge.svg\" alt=\"Open In Colab\"/></a>"
      ]
    },
    {
      "cell_type": "code",
      "execution_count": null,
      "metadata": {
        "id": "2qU6cfX5ooDo"
      },
      "outputs": [],
      "source": [
        "from sklearn.datasets import load_boston\n",
        "boston = load_boston()\n",
        "import pandas as pd\n",
        "data=pd.DataFrame(data=boston.data,columns=boston.feature_names)\n",
        "data[\"MEDV\"]=boston.target\n",
        "data\n",
        "#ok"
      ]
    },
    {
      "cell_type": "code",
      "source": [
        "X,y=data['MEDV'],data['LSTAT']"
      ],
      "metadata": {
        "id": "APOrgBrKscRH"
      },
      "execution_count": null,
      "outputs": []
    },
    {
      "cell_type": "code",
      "source": [
        "from sklearn.model_selection import train_test_split\n",
        "X_train,X_test,y_train,y_test=train_test_split(X,y,test_size=0.20)\n",
        "from sklearn.linear_model import LinearRegression\n",
        "regression=LinearRegression()\n",
        "regression.fit(X_train[:,np.newaxis],y_train)\n",
        "y_pred=regression.predict(X_test[:,np.newaxis])\n"
      ],
      "metadata": {
        "id": "7BczlogaqDUK"
      },
      "execution_count": null,
      "outputs": []
    },
    {
      "cell_type": "code",
      "source": [
        "#if we use whole data as traning and testing then we\n",
        "#get same result as book\n",
        "from sklearn.metrics import r2_score,mean_squared_error\n",
        "rSq=r2_score(y_test,y_pred)\n",
        "print(\"R square score = {0}\".format(rSq))\n",
        "rmse=np.sqrt(mean_squared_error(y_test,y_pred))\n",
        "print(\"mean square error = {0}\".format(rmse))\n"
      ],
      "metadata": {
        "id": "WMN6bdTCuLE2"
      },
      "execution_count": null,
      "outputs": []
    },
    {
      "cell_type": "code",
      "source": [
        ""
      ],
      "metadata": {
        "id": "9U-2acn7vEvz"
      },
      "execution_count": null,
      "outputs": []
    },
    {
      "cell_type": "code",
      "source": [
        "import statsmodels.api as sm\n",
        "mod = sm.OLS(X, y)\n",
        "res = mod.fit()\n",
        "print(res.summary())"
      ],
      "metadata": {
        "id": "3xsiB5FJo8Dm"
      },
      "execution_count": null,
      "outputs": []
    },
    {
      "cell_type": "code",
      "source": [
        "import matplotlib.pyplot as plt\n",
        "#plot as predicted by sklearn\n",
        "plt.scatter(X_train,y_train)\n",
        "plt.plot(X_test,y_pred,color='r')"
      ],
      "metadata": {
        "id": "AFYy9HRtw5g8"
      },
      "execution_count": null,
      "outputs": []
    }
  ]
}