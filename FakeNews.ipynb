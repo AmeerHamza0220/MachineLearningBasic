{
  "nbformat": 4,
  "nbformat_minor": 0,
  "metadata": {
    "colab": {
      "name": "Untitled28.ipynb",
      "private_outputs": true,
      "provenance": [],
      "collapsed_sections": [],
      "authorship_tag": "ABX9TyO6alMpMT0BdTVxRRKTCwRD",
      "include_colab_link": true
    },
    "kernelspec": {
      "name": "python3",
      "display_name": "Python 3"
    },
    "language_info": {
      "name": "python"
    },
    "accelerator": "GPU"
  },
  "cells": [
    {
      "cell_type": "markdown",
      "metadata": {
        "id": "view-in-github",
        "colab_type": "text"
      },
      "source": [
        "<a href=\"https://colab.research.google.com/github/AmeerHamza0220/MachineLearningBasic/blob/main/FakeNews.ipynb\" target=\"_parent\"><img src=\"https://colab.research.google.com/assets/colab-badge.svg\" alt=\"Open In Colab\"/></a>"
      ]
    },
    {
      "cell_type": "code",
      "execution_count": null,
      "metadata": {
        "id": "heGSBGAUVou0"
      },
      "outputs": [],
      "source": [
        "! pip install -q kaggle\n"
      ]
    },
    {
      "cell_type": "code",
      "source": [
        "from google.colab import files\n",
        "files.upload()"
      ],
      "metadata": {
        "id": "9TSSZG23Wm9g"
      },
      "execution_count": null,
      "outputs": []
    },
    {
      "cell_type": "code",
      "source": [
        "! mkdir ~/.kaggle\n",
        "\n",
        "! cp kaggle.json ~/.kaggle/"
      ],
      "metadata": {
        "id": "gOxeWJlIWvX1"
      },
      "execution_count": null,
      "outputs": []
    },
    {
      "cell_type": "code",
      "source": [
        "! chmod 600 ~/.kaggle/kaggle.json\n"
      ],
      "metadata": {
        "id": "d9f_W57GWxc9"
      },
      "execution_count": null,
      "outputs": []
    },
    {
      "cell_type": "code",
      "source": [
        "!pip install --upgrade --force-reinstall --no-deps kaggle\n"
      ],
      "metadata": {
        "id": "YbUZGJWtW0Zo"
      },
      "execution_count": null,
      "outputs": []
    },
    {
      "cell_type": "code",
      "source": [
        "!kaggle competitions download -c fake-news\n"
      ],
      "metadata": {
        "id": "ydCjR6DxW3CJ"
      },
      "execution_count": null,
      "outputs": []
    },
    {
      "cell_type": "code",
      "source": [
        "!unzip fake-news"
      ],
      "metadata": {
        "id": "GNNFbMCYW_48"
      },
      "execution_count": null,
      "outputs": []
    },
    {
      "cell_type": "code",
      "source": [
        "import pandas as pd\n",
        "import numpy as np\n",
        "from sklearn.model_selection import train_test_split\n",
        "from sklearn.feature_extraction.text import TfidfVectorizer"
      ],
      "metadata": {
        "id": "yAsgxCFrXMFh"
      },
      "execution_count": null,
      "outputs": []
    },
    {
      "cell_type": "code",
      "source": [
        "train=pd.read_csv(\"train.csv\")\n",
        "test=pd.read_csv(\"test.csv\")\n",
        "train"
      ],
      "metadata": {
        "id": "9mKAvpLGXUey"
      },
      "execution_count": null,
      "outputs": []
    },
    {
      "cell_type": "code",
      "source": [
        "train.dropna(inplace=True)"
      ],
      "metadata": {
        "id": "h0XQ7V4VbE9d"
      },
      "execution_count": null,
      "outputs": []
    },
    {
      "cell_type": "code",
      "source": [
        "from sklearn.feature_extraction.text import TfidfVectorizer, CountVectorizer \n",
        "bow_vectorizer = CountVectorizer(max_features=10000)\n",
        "bow = bow_vectorizer.fit_transform(train['text'])"
      ],
      "metadata": {
        "id": "iKAxtcFVX3b1"
      },
      "execution_count": null,
      "outputs": []
    },
    {
      "cell_type": "code",
      "source": [
        "from sklearn.model_selection import train_test_split\n",
        "x_train, x_test, y_train, y_test = train_test_split(bow, train['label'], test_size=0.2, random_state=1)"
      ],
      "metadata": {
        "id": "ZNbGyu9TZoVl"
      },
      "execution_count": null,
      "outputs": []
    },
    {
      "cell_type": "code",
      "source": [
        "from sklearn.linear_model import LogisticRegression\n",
        "log_reg = LogisticRegression(solver='lbfgs') \n",
        "log_reg.fit(x_train,y_train)\n",
        "log_reg.score(x_test,y_test)"
      ],
      "metadata": {
        "id": "72FWSAzDbTng"
      },
      "execution_count": null,
      "outputs": []
    },
    {
      "cell_type": "code",
      "source": [
        "from sklearn.metrics import confusion_matrix\n",
        "ytest_pred=log_reg.predict(x_test)\n",
        "confusion_matrix(y_test, ytest_pred)\n"
      ],
      "metadata": {
        "id": "KweMK8B5dKS9"
      },
      "execution_count": null,
      "outputs": []
    },
    {
      "cell_type": "code",
      "source": [
        "test.dropna(inplace=True)\n",
        "test_bow = bow_vectorizer.fit_transform(test['text'])"
      ],
      "metadata": {
        "id": "WI2T8zB2b6t2"
      },
      "execution_count": null,
      "outputs": []
    },
    {
      "cell_type": "code",
      "source": [
        "from keras.preprocessing.sequence import pad_sequences\n",
        "from keras.preprocessing.text import one_hot\n",
        "from tqdm import tqdm\n",
        "tqdm.pandas(desc=\"progress-bar\")\n",
        "maxlen=1000\n",
        "vocab_length=5000\n",
        "def preprocess(data):\n",
        "    encoded=one_hot(data,vocab_length)\n",
        "    return encoded\n",
        "encoded=train['text'].progress_map(preprocess)\n"
      ],
      "metadata": {
        "id": "Wu-jrCHecFpR"
      },
      "execution_count": null,
      "outputs": []
    },
    {
      "cell_type": "code",
      "source": [
        ""
      ],
      "metadata": {
        "id": "JqoF3nxzHg0d"
      },
      "execution_count": null,
      "outputs": []
    },
    {
      "cell_type": "code",
      "source": [
        "padded=pad_sequences(encoded.to_numpy(),maxlen=maxlen)\n",
        "X=np.array(padded)"
      ],
      "metadata": {
        "id": "VwQNU1u6cMTE"
      },
      "execution_count": null,
      "outputs": []
    },
    {
      "cell_type": "code",
      "source": [
        "x_train, x_test, y_train, y_test = train_test_split(X, train['label'], test_size=0.2, random_state=1)"
      ],
      "metadata": {
        "id": "QYKk3xYwhNeR"
      },
      "execution_count": null,
      "outputs": []
    },
    {
      "cell_type": "code",
      "source": [
        "from tensorflow.keras.layers import Dense, Embedding, LSTM\n",
        "from tensorflow.keras.models import Sequential\n",
        "model = Sequential()\n",
        "model.add(Embedding(vocab_length, 100, input_length=maxlen))\n",
        "model.add(LSTM(10))\n",
        "model.add(Dense(1, activation='sigmoid'))\n",
        "model.compile(loss='binary_crossentropy', metrics='accuracy', optimizer='adam')"
      ],
      "metadata": {
        "id": "KsMud4cCgw69"
      },
      "execution_count": null,
      "outputs": []
    },
    {
      "cell_type": "code",
      "source": [
        "model.fit(x_train, y_train, validation_data=(x_test, y_test), epochs=2, batch_size=64)"
      ],
      "metadata": {
        "id": "MJdJfraEhU5d"
      },
      "execution_count": null,
      "outputs": []
    },
    {
      "cell_type": "code",
      "source": [
        "ypred=model.predict(x_test)\n",
        "ypred"
      ],
      "metadata": {
        "id": "HMNSXpBNIivE"
      },
      "execution_count": null,
      "outputs": []
    }
  ]
}